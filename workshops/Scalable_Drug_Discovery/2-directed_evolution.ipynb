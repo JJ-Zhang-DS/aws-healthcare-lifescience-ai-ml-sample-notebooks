{
 "cells": [
  {
   "cell_type": "markdown",
   "id": "a185306d-af9b-482d-9af6-0bfe83df0d00",
   "metadata": {},
   "source": [
    "# II. Building Scalable Drug Discovery Applications: Directed Evolution\n",
    "\n",
    "Note: This notebook was last tested on and Amazon SageMaker Studio JupyterLab space on a ml.g4dn.xlarge instance.\n",
    "\n",
    "In notebook one, we started by randomly generating 10s of thousands of mutants and then filtered that list down using active learning. In this notebook, we'll try a different approach. This time, we'll still randomly generate sequenve variants. However, once we've collected the first round of lab data, we'll use the best-performing mutants as the starting point for an additional round of mutation. In this way, we hope that the sequence distribution will shift towards our desired state."
   ]
  },
  {
   "cell_type": "markdown",
   "id": "ee4416b4-ced1-4d1e-874d-cdaa4c1a7c3c",
   "metadata": {},
   "source": [
    "---\n",
    "## 1. Setup"
   ]
  },
  {
   "cell_type": "code",
   "execution_count": null,
   "id": "0271bc47-6681-4ee6-a59c-1dc13c0c6a20",
   "metadata": {
    "scrolled": true
   },
   "outputs": [],
   "source": [
    "%pip install -U -r requirements.txt\n",
    "%pip install evo-prot-grad --no-deps"
   ]
  },
  {
   "cell_type": "code",
   "execution_count": null,
   "id": "a8e04303-0640-45a5-a02c-fd8785d09fa8",
   "metadata": {
    "scrolled": true
   },
   "outputs": [],
   "source": [
    "\n",
    "import helpers\n",
    "import pandas as pd\n",
    "import random\n",
    "import warnings\n",
    "\n",
    "warnings.simplefilter(action=\"ignore\", category=FutureWarning)\n",
    "\n",
    "SEQ_GENERATION_SIZE = 5000\n",
    "LAB_SUBMISSION_SIZE = 1000\n",
    "\n",
    "caplacizumab_seq = \"EVQLVESGGGLVQPGGSLRLSCAASGRTFSYNPMGWFRQAPGKGRELVAAISRTGGSTYYPDSVEGRFTISRDNAKRMVYLQMNSLRAEDTAVYYCAAAGVRAEDGRVRTLPSEYTFWGQGTQVTVSS\"\n",
    "cdrs = list(range(25, 32)) + list(range(51, 57)) + list(range(98, 117))\n",
    "preserved_regions = [(0, 25), (32, 51), (57, 98), (117, 128)]"
   ]
  },
  {
   "cell_type": "markdown",
   "id": "58d48644-f8c7-4f36-b073-4bbc94b3589d",
   "metadata": {},
   "source": [
    "---\n",
    "## 2. Generate Sequence Variants\n",
    "\n",
    "As in notebook one, we start by randomly generating some mutations of the caplacizumab CDR sequences. However, in this case, we'll create a much smaller number."
   ]
  },
  {
   "cell_type": "code",
   "execution_count": null,
   "id": "14174916-db2b-4d77-bfcc-3c493e268b0c",
   "metadata": {},
   "outputs": [],
   "source": [
    "generated_seqs = helpers.random_mutation(\n",
    "    wt_protein=str(caplacizumab_seq),\n",
    "    n_output_seqs=SEQ_GENERATION_SIZE,\n",
    "    preserved_regions=preserved_regions,\n",
    "    max_mutations=10,\n",
    "    annotate_hist=False,\n",
    ")"
   ]
  },
  {
   "cell_type": "markdown",
   "id": "daf871a2-9272-4304-a90a-85a902fd092e",
   "metadata": {},
   "source": [
    "---\n",
    "## 3. Score Mutants with Protein Language Model\n",
    "\n",
    "Once again, we calculate the pseudo-log likelihood score for all mutants and remove those with less evolutionary likelihood than caplacizumab. "
   ]
  },
  {
   "cell_type": "code",
   "execution_count": null,
   "id": "3e6f105a-da2f-4052-b53f-1e6d3ce145e8",
   "metadata": {},
   "outputs": [],
   "source": [
    "wt_seq = str(caplacizumab_seq)\n",
    "pllrs = helpers.compute_pseudo_log_likelihood_ratio(wt_seq, generated_seqs[\"seq\"])\n",
    "print(f\"Records before filtering: {len(generated_seqs)}\")\n",
    "generated_seqs[\"pplr\"] = pllrs\n",
    "generated_seqs = generated_seqs[generated_seqs[\"pplr\"] > 1]\n",
    "print(f\"Records after filtering: {len(generated_seqs)}\")"
   ]
  },
  {
   "cell_type": "markdown",
   "id": "d4f7eb2d-b6af-45cc-847a-2c56b7d9d830",
   "metadata": {},
   "source": [
    "---\n",
    "## 4. Select Samples\n",
    "\n",
    "Let's select a few samples and use them to train our model. We don't know much about these mutants yet, so we'll start by picking a few at random."
   ]
  },
  {
   "cell_type": "code",
   "execution_count": null,
   "id": "32cecb03-806d-460e-b988-7948ebc1c0fd",
   "metadata": {},
   "outputs": [],
   "source": [
    "no_lab_data = generated_seqs[generated_seqs[\"lab_result\"].isnull()]\n",
    "selected_seqs = no_lab_data.sample(n=LAB_SUBMISSION_SIZE)\n",
    "selected_seqs"
   ]
  },
  {
   "cell_type": "markdown",
   "id": "98b3386d-6402-4e15-8626-a6e939412f4c",
   "metadata": {},
   "source": [
    "---\n",
    "## 5. Submit to Lab\n",
    "\n",
    "Next we'll submit them to the lab to test for \"Factor X\"."
   ]
  },
  {
   "cell_type": "code",
   "execution_count": null,
   "id": "0a5ffd7a-442d-4191-93f0-7ecb31a626eb",
   "metadata": {},
   "outputs": [],
   "source": [
    "lab_results = helpers.submit_seqs_to_lab(selected_seqs[\"seq\"])\n",
    "\n",
    "for result in lab_results.itertuples():\n",
    "    generated_seqs.loc[[result.Index], [\"lab_result\"]] = result.result\n",
    "\n",
    "display(lab_results.sort_values(by=\"result\", ascending=False))"
   ]
  },
  {
   "cell_type": "markdown",
   "id": "d13195cf-e65c-4504-ab57-fe0840f3bace",
   "metadata": {},
   "source": [
    "---\n",
    "## 6. Fine-Tune Property Prediction Model\n",
    "\n",
    "Once again, we fine-tune our protein language model on the lab data."
   ]
  },
  {
   "cell_type": "code",
   "execution_count": null,
   "id": "e9f50d1d-9b4f-47fa-8f8b-0172709f23ba",
   "metadata": {
    "scrolled": true
   },
   "outputs": [],
   "source": [
    "scoring_model = helpers.train_scoring_model(\n",
    "    lab_results,\n",
    "    sequence_column=\"seq\",\n",
    "    results_column=\"result\",\n",
    "    epochs=1,\n",
    "    model_name_or_path=\"facebook/esm2_t12_35M_UR50D\",\n",
    ")"
   ]
  },
  {
   "cell_type": "markdown",
   "id": "f057cecc-0f48-45e7-8c21-93f48e491f1c",
   "metadata": {},
   "source": [
    "---\n",
    "## 7. Generate New Mutations Based on Top-Scoring Sequences from Round 1"
   ]
  },
  {
   "cell_type": "code",
   "execution_count": null,
   "id": "bb5cf4ff-6ff0-4ff6-806c-83ebca38a032",
   "metadata": {},
   "outputs": [],
   "source": [
    "top_5 = lab_results.sort_values(by=\"result\", ascending=False)[:5]\n",
    "print(\"Parents:\")\n",
    "for parent in top_5[\"seq\"]:\n",
    "    print(helpers.format_cdrs(parent, cdrs))\n",
    "\n",
    "print(\"Children:\")\n",
    "generated_seqs = helpers.uniform_crossover(top_5[\"seq\"], 384)\n",
    "for seq in random.sample(generated_seqs, 10):\n",
    "    print(helpers.format_cdrs(seq, cdrs))"
   ]
  },
  {
   "cell_type": "markdown",
   "id": "9235eccc-e4e8-4db1-98b1-78a5968903bc",
   "metadata": {},
   "source": [
    "---\n",
    "## 8. Score Samples with Property Prediction Model\n",
    "\n",
    "Finally, we use our newly-trained model to predict the value of \"Factor X\" for all of our samples. This will give us a better idea of our mutants and help us pick another batch for lab testing."
   ]
  },
  {
   "cell_type": "code",
   "execution_count": null,
   "id": "ae5a8369-eb20-4a7c-94a3-5e39860504f2",
   "metadata": {},
   "outputs": [],
   "source": [
    "generated_seqs = pd.DataFrame.from_dict({\"seq\": generated_seqs})\n",
    "predictions = helpers.run_scoring_model(generated_seqs, batch_size=1024)\n",
    "generated_seqs[\"last_prediction\"] = predictions\n",
    "display(generated_seqs.sort_values(by=\"last_prediction\", ascending=False)[:5])"
   ]
  },
  {
   "cell_type": "markdown",
   "id": "1228763e-4475-4f89-9713-65f0c889e579",
   "metadata": {},
   "source": [
    "---\n",
    "## 9. Put it all together!\n",
    "\n",
    "Now let's try a few cycles. Feel free to modify the parameters below as you see fit. Remember that our goal is to find the mutant with the largest value of \"Factor X\", not necessarily to end up with the most accurate model."
   ]
  },
  {
   "cell_type": "code",
   "execution_count": null,
   "id": "0fd37a8b-5e37-4847-b57f-1c116956f946",
   "metadata": {},
   "outputs": [],
   "source": [
    "SEQ_GENERATION_SIZE = 50000\n",
    "MAX_MUTATIONS = 10\n",
    "N_REPS = 3\n",
    "LAB_SUBMISSION_SIZE = 384\n",
    "MODEL_ID = \"facebook/esm2_t12_35M_UR50D\""
   ]
  },
  {
   "cell_type": "code",
   "execution_count": null,
   "id": "3b92671b-121f-4290-bffd-b628c221153b",
   "metadata": {},
   "outputs": [],
   "source": [
    "#################################\n",
    "# Generate\n",
    "#################################\n",
    "# print(f\"Generating {SEQ_GENERATION_SIZE} random variants\")\n",
    "# generated_seqs = helpers.random_mutation(\n",
    "#     wt_protein=str(caplacizumab_seq),\n",
    "#     n_output_seqs=SEQ_GENERATION_SIZE,\n",
    "#     preserved_regions=preserved_regions,\n",
    "#     max_mutations=MAX_MUTATIONS,\n",
    "# )\n",
    "\n",
    "#################################\n",
    "# Filter by pseudo-log likelihood ratio\n",
    "#################################\n",
    "# print(\"Filtering by pseudo-log likelihood ratio\")\n",
    "# generated_seqs['pplr'] = helpers.compute_pseudo_log_likelihood_ratio(str(caplacizumab_seq), generated_seqs['seq'])\n",
    "# generated_seqs = generated_seqs[generated_seqs['pplr'] > 1]\n",
    "\n",
    "for rep in range(N_REPS):\n",
    "\n",
    "    #################################\n",
    "    # Select Samples for Lab Analysis\n",
    "    ################################\n",
    "\n",
    "    print(\"#\" * 79 + \"\\n\" + f\"Starting rep {rep+1} of {N_REPS}\" + \"\\n\" + \"#\" * 79)\n",
    "    no_lab_data = generated_seqs[generated_seqs[\"lab_result\"].isnull()]\n",
    "    print(\n",
    "        f\"{rep+1}: Selecting batch of the highest-scoring {LAB_SUBMISSION_SIZE} samples without lab data\"\n",
    "    )\n",
    "    no_lab_data = no_lab_data.sort_values(by=\"last_prediction\", ascending=False)\n",
    "    selected_seqs = no_lab_data.sample(n=LAB_SUBMISSION_SIZE)\n",
    "\n",
    "    #################################\n",
    "    # Submit to Lab\n",
    "    #################################\n",
    "\n",
    "    print(f\"{rep+1}: Submitting samples for lab analysis\")\n",
    "    lab_results = helpers.submit_seqs_to_lab(\n",
    "        selected_seqs[\"seq\"], delay=0.01, intro=True\n",
    "    )\n",
    "\n",
    "    for result in lab_results.itertuples():\n",
    "        generated_seqs.loc[[result.Index], [\"lab_result\"]] = result.result\n",
    "\n",
    "    # Skip the fine-tuning and scoring during the last round\n",
    "    if rep + 1 < N_REPS:\n",
    "\n",
    "        #################################\n",
    "        # Fine-Tune on Lab Results\n",
    "        #################################\n",
    "\n",
    "        print(f\"\\n{rep+1}: Training scoring model on lab results\")\n",
    "        scoring_model = helpers.train_scoring_model(\n",
    "            lab_results,\n",
    "            sequence_column=\"seq\",\n",
    "            results_column=\"result\",\n",
    "            epochs=1,\n",
    "            # model_name_or_path=MODEL_ID if rep == 0 else \"output\",\n",
    "            model_name_or_path=\"output\",\n",
    "        )\n",
    "\n",
    "        #################################\n",
    "        # Score all Generated Samples\n",
    "        #################################\n",
    "\n",
    "        print(f\"\\n{rep+1}: Using model to score all {SEQ_GENERATION_SIZE} sequences\")\n",
    "        predictions = helpers.run_scoring_model(generated_seqs, batch_size=1024)\n",
    "        generated_seqs[\"last_prediction\"] = predictions\n",
    "\n",
    "    print(f\"\\n{rep+1}: Top-5 candidates so far\")\n",
    "    top_5 = generated_seqs.sort_values(by=\"lab_result\", ascending=False)[:5]\n",
    "    display(top_5)"
   ]
  },
  {
   "cell_type": "code",
   "execution_count": null,
   "id": "c960a3d9-f11a-4f20-a2ad-6f070b3947dd",
   "metadata": {},
   "outputs": [],
   "source": [
    "print(\n",
    "    str(0.39971).rjust(5)\n",
    "    + \"\\t\"\n",
    "    + helpers.format_cdrs(str(caplacizumab_seq), cdrs, mask=False)\n",
    ")\n",
    "for i in top_5.itertuples():\n",
    "    print(\n",
    "        str(round(i.lab_result, 5)).rjust(5)\n",
    "        + \"\\t\"\n",
    "        + helpers.format_cdrs(i.seq, i.mutation, mask=True)\n",
    "    )"
   ]
  },
  {
   "cell_type": "markdown",
   "id": "6c8b97be-f805-46cb-a39c-7e36ff88b4da",
   "metadata": {},
   "source": [
    "## 10. Your turn\n",
    "\n",
    "Feel free to keep experimenting. Some things to try:\n",
    "\n",
    "- Fine-tune one of the  the larger pre-trained models, like `esm2_t30_150M_UR50D` or `esm2_t33_650M_UR50D`\n",
    "- Randomly generate more or fewer sequences\n",
    "- Increase the number of possible mutations (as high as 30)\n",
    "- Try generating a batch of variants, identifying the highest-scoring ones, then generating more variants from those! This method, called \"directed evolution\", can be a powerful technique for rapidly producing sequences with a desired property.\n"
   ]
  },
  {
   "cell_type": "code",
   "execution_count": null,
   "id": "17c82691-1ea0-4a92-a1b7-7931e134f649",
   "metadata": {},
   "outputs": [],
   "source": []
  }
 ],
 "metadata": {
  "kernelspec": {
   "display_name": "Python 3 (ipykernel)",
   "language": "python",
   "name": "python3"
  },
  "language_info": {
   "codemirror_mode": {
    "name": "ipython",
    "version": 3
   },
   "file_extension": ".py",
   "mimetype": "text/x-python",
   "name": "python",
   "nbconvert_exporter": "python",
   "pygments_lexer": "ipython3",
   "version": "3.11.10"
  }
 },
 "nbformat": 4,
 "nbformat_minor": 5
}
