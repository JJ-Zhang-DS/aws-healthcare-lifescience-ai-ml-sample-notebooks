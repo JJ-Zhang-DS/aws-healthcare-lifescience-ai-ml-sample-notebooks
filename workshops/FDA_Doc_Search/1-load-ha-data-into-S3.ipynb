{
 "cells": [
  {
   "cell_type": "markdown",
   "metadata": {},
   "source": [
    "# Load Health Authority Data into Amazon S3"
   ]
  },
  {
   "cell_type": "markdown",
   "metadata": {},
   "source": [
    "---\n",
    "## 1. Setup"
   ]
  },
  {
   "cell_type": "code",
   "execution_count": null,
   "metadata": {},
   "outputs": [],
   "source": [
    "%pip install -U -r requirements.txt"
   ]
  },
  {
   "cell_type": "code",
   "execution_count": null,
   "metadata": {},
   "outputs": [],
   "source": [
    "from src import helpers\n",
    "import os\n",
    "\n",
    "s3_bucket = os.environ.get(\"S3_BUCKET_NAME\")\n",
    "s3_document_folder = \"drugs-at-fda\""
   ]
  },
  {
   "cell_type": "markdown",
   "metadata": {},
   "source": [
    "---\n",
    "## 2. Download Drugs@FDA metadata file"
   ]
  },
  {
   "cell_type": "code",
   "execution_count": null,
   "metadata": {},
   "outputs": [],
   "source": [
    "from urllib.request import urlretrieve\n",
    "import json\n",
    "import zipfile\n",
    "import tempfile\n",
    "\n",
    "with tempfile.NamedTemporaryFile() as fp:\n",
    "    url = \"https://download.open.fda.gov/drug/drugsfda/drug-drugsfda-0001-of-0001.json.zip\"\n",
    "    urlretrieve(url, fp.name)\n",
    "    with zipfile.ZipFile(fp, \"r\") as z:\n",
    "        for filename in z.namelist():\n",
    "            print(filename)\n",
    "            with z.open(filename) as f:\n",
    "                data = f.read()\n",
    "                results = json.loads(data).get('results')"
   ]
  },
  {
   "cell_type": "markdown",
   "metadata": {},
   "source": [
    "---\n",
    "## 3. Download pdfs and generate Kendra metadata files"
   ]
  },
  {
   "cell_type": "markdown",
   "metadata": {},
   "source": [
    "Specify which drugs to include"
   ]
  },
  {
   "cell_type": "code",
   "execution_count": null,
   "metadata": {
    "scrolled": true
   },
   "outputs": [],
   "source": [
    "drugs_to_include = [\n",
    "    \"DARZALEX\",\n",
    "    \"DUPIXENT\",\n",
    "    \"ELIQUIS\",\n",
    "    \"EYLEA\",\n",
    "    \"HUMIRA\",\n",
    "    \"KEYTRUDA\",\n",
    "    \"MOUNJARO\",\n",
    "    \"OPDIVO\",\n",
    "    \"OZEMPIC\",\n",
    "    \"SKYRIZI\",\n",
    "    \"STELARA\",\n",
    "    \"TRULICITY\",\n",
    "    \"ZEPBOUND\",\n",
    "]"
   ]
  },
  {
   "cell_type": "markdown",
   "metadata": {},
   "source": [
    "Load pdf and metadata files into S3"
   ]
  },
  {
   "cell_type": "code",
   "execution_count": null,
   "metadata": {
    "scrolled": true
   },
   "outputs": [],
   "source": [
    "import os\n",
    "import re\n",
    "from tqdm import tqdm\n",
    "\n",
    "\n",
    "result_count = 0\n",
    "drug_count = 0\n",
    "doc_count = 0\n",
    "\n",
    "doc_urls = {}\n",
    "for result in results:\n",
    "    result_count += 1\n",
    "    doc_info = {}\n",
    "    if not \"openfda\" in result:\n",
    "        continue\n",
    "    elif not \"brand_name\" in result.get(\"openfda\"):\n",
    "        continue\n",
    "\n",
    "    else:\n",
    "        result_count += 1\n",
    "\n",
    "    drug_name = (\n",
    "        result.get(\"openfda\").get(\"brand_name\")[0]\n",
    "        or result.get(\"openfda\").get(\"generic_name\")[0]\n",
    "        or \"OTHER\"\n",
    "    )\n",
    "    if not drug_name in drugs_to_include:\n",
    "        continue\n",
    "\n",
    "    doc_info[\"drug_name\"] = drug_name\n",
    "    doc_urls[drug_name] = []\n",
    "    drug_count += 1\n",
    "    for submission in result.get(\"submissions\"):\n",
    "        if not \"application_docs\" in submission:\n",
    "            continue\n",
    "        submission_id = (\n",
    "            submission.get(\"submission_type\")\n",
    "            + \"-\"\n",
    "            + submission.get(\"submission_number\")\n",
    "        )\n",
    "        for doc in tqdm(\n",
    "            submission.get(\"application_docs\"), desc=drug_name + \" \" + submission_id\n",
    "        ):\n",
    "            try:\n",
    "                doc_info = helpers.parse_fda_doc_info(doc)\n",
    "\n",
    "                if doc_info.get(\"extension\") == \".cfm\":\n",
    "                    child_docs = helpers.parse_cfm(doc_info.get(\"url\"))\n",
    "                    for child_doc in child_docs:\n",
    "                        try:\n",
    "                            # Copy document to S3\n",
    "                            child_doc_info = helpers.parse_fda_doc_info(child_doc)\n",
    "                            document_prefix = os.path.join(\n",
    "                                s3_document_folder,\n",
    "                                drug_name,\n",
    "                                submission_id,\n",
    "                                child_doc_info.get(\"name\"),\n",
    "                            )\n",
    "\n",
    "                            helpers.copy_url_to_s3(\n",
    "                                child_doc_info.get(\"url\"),\n",
    "                                s3_bucket,\n",
    "                                document_prefix,\n",
    "                            )\n",
    "\n",
    "                            # Copy metadata to S3\n",
    "                            metadata = helpers.create_doc_metadata(\n",
    "                                result,\n",
    "                                submission,\n",
    "                                child_doc_info,\n",
    "                                s3_bucket,\n",
    "                                document_prefix,\n",
    "                                doc_info,\n",
    "                            )\n",
    "\n",
    "                            helpers.write_string_to_s3(\n",
    "                                metadata,\n",
    "                                s3_bucket,\n",
    "                                document_prefix + \".metadata.json\",\n",
    "                            )\n",
    "                            doc_urls[drug_name].append(doc.get(\"url\"))\n",
    "                            doc_count += 1\n",
    "                        except Exception as e:\n",
    "                            print(e)\n",
    "                            continue\n",
    "                elif re.search(\"[#&?]\", doc_info.get(\"extension\")):\n",
    "                    continue\n",
    "                else:\n",
    "                    document_prefix = os.path.join(\n",
    "                        s3_document_folder,\n",
    "                        drug_name,\n",
    "                        submission_id,\n",
    "                        doc_info.get(\"name\"),\n",
    "                    )\n",
    "                    metadata = helpers.create_doc_metadata(\n",
    "                        result, submission, doc_info, s3_bucket, document_prefix\n",
    "                    )\n",
    "                    helpers.copy_url_to_s3(doc.get(\"url\"), s3_bucket, document_prefix)\n",
    "                    helpers.write_string_to_s3(\n",
    "                        metadata,\n",
    "                        s3_bucket,\n",
    "                        document_prefix + \".metadata.json\",\n",
    "                    )\n",
    "                    doc_urls[drug_name].append(doc.get(\"url\"))\n",
    "                    doc_count += 1\n",
    "\n",
    "            except Exception as e:\n",
    "                print(e)\n",
    "                continue\n",
    "\n",
    "print(f\"{result_count} Drugs@FDA records processed\")\n",
    "print(f\"{drug_count} drugs examined\")\n",
    "print(f\"{doc_count} documents added\")"
   ]
  },
  {
   "cell_type": "markdown",
   "metadata": {},
   "source": [
    "(Optional) Capture list of pdf urls "
   ]
  },
  {
   "cell_type": "code",
   "execution_count": null,
   "metadata": {},
   "outputs": [],
   "source": [
    "import json\n",
    "\n",
    "for drug in doc_urls.keys():\n",
    "    doc_urls[drug] = list(set(doc_urls[drug]))\n",
    "\n",
    "with open(\"urls.json\", \"w\") as f:\n",
    "    json.dump(doc_urls, f)"
   ]
  }
 ],
 "metadata": {
  "kernelspec": {
   "display_name": "Python 3 (ipykernel)",
   "language": "python",
   "name": "python3"
  },
  "language_info": {
   "codemirror_mode": {
    "name": "ipython",
    "version": 3
   },
   "file_extension": ".py",
   "mimetype": "text/x-python",
   "name": "python",
   "nbconvert_exporter": "python",
   "pygments_lexer": "ipython3",
   "version": "3.11.9"
  }
 },
 "nbformat": 4,
 "nbformat_minor": 4
}
