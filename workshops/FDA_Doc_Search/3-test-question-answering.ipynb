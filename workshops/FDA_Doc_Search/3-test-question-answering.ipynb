{
 "cells": [
  {
   "cell_type": "markdown",
   "metadata": {},
   "source": [
    "# Q&A"
   ]
  },
  {
   "cell_type": "markdown",
   "metadata": {},
   "source": [
    "## 1. Initial tests"
   ]
  },
  {
   "cell_type": "markdown",
   "metadata": {},
   "source": [
    "### 1.1. Basic search of index"
   ]
  },
  {
   "cell_type": "code",
   "execution_count": null,
   "metadata": {},
   "outputs": [],
   "source": [
    "import boto3\n",
    "import os\n",
    "\n",
    "session = boto3.session.Session()\n",
    "kendra = session.client(\"kendra\")\n",
    "\n",
    "\n",
    "# Update these values with your own index ID and index name from notebook 2\n",
    "index_name = os.environ[\"KENDRA_INDEX_NAME\"]\n",
    "index_id = os.environ[\"KENDRA_INDEX_ID\"]\n",
    "index = kendra.describe_index(Id=index_id)\n",
    "index.get(\"Status\")"
   ]
  },
  {
   "cell_type": "markdown",
   "metadata": {},
   "source": [
    "### 1.2. Query API Test"
   ]
  },
  {
   "cell_type": "code",
   "execution_count": null,
   "metadata": {},
   "outputs": [],
   "source": [
    "query = \"What are the approved indications for Mounjaro? AND BrandName:'Mounjaro'\"\n",
    "\n",
    "response = kendra.query(QueryText=query, IndexId=index_id)\n",
    "print(response)\n",
    "print(\"\\nSearch results for query: \" + query + \"\\n\")\n",
    "\n",
    "for query_result in response[\"ResultItems\"]:\n",
    "    if query_result[\"ScoreAttributes\"][\"ScoreConfidence\"] in [\"LOW\", \"NOT_AVAILABLE\"]:\n",
    "        continue\n",
    "\n",
    "    print(\"-------------------\")\n",
    "    print(\"Type: \" + str(query_result[\"Type\"]))\n",
    "    print(\"Confidence: \" + str(query_result[\"ScoreAttributes\"][\"ScoreConfidence\"]))\n",
    "\n",
    "    if query_result[\"Type\"] == \"ANSWER\" or query_result[\"Type\"] == \"QUESTION_ANSWER\":\n",
    "        answer_text = query_result[\"DocumentExcerpt\"][\"Text\"]\n",
    "        print('Excerpt:\\n\"' + answer_text + '\"')\n",
    "\n",
    "    if query_result[\"Type\"] == \"DOCUMENT\":\n",
    "        if \"DocumentTitle\" in query_result:\n",
    "            document_title = query_result[\"DocumentTitle\"][\"Text\"]\n",
    "            print(\"Title: \" + document_title)\n",
    "        document_text = query_result[\"DocumentExcerpt\"][\"Text\"]\n",
    "        print('Excerpt:\\n\"' + document_text + '\"')\n",
    "    print()"
   ]
  },
  {
   "cell_type": "markdown",
   "metadata": {},
   "source": [
    "## 2. Retrieve"
   ]
  },
  {
   "cell_type": "markdown",
   "metadata": {},
   "source": [
    "### 2.1. Retrieve API test"
   ]
  },
  {
   "cell_type": "code",
   "execution_count": null,
   "metadata": {},
   "outputs": [],
   "source": [
    "query = \"What are the approved indications for Mounjaro?\"\n",
    "\n",
    "page_size = 10\n",
    "\n",
    "result = kendra.retrieve(\n",
    "    QueryText=query,\n",
    "    IndexId=index_id,\n",
    "    PageSize=page_size,\n",
    ")\n",
    "\n",
    "print(\"\\nRetrieved passage results for query: \" + query + \"\\n\")\n",
    "print(result[\"ResultItems\"])\n",
    "for retrieve_result in result[\"ResultItems\"]:\n",
    "    if retrieve_result[\"ScoreAttributes\"][\"ScoreConfidence\"] in [\n",
    "        \"LOW\",\n",
    "        \"NOT_AVAILABLE\",\n",
    "    ]:\n",
    "        continue\n",
    "\n",
    "    print(\"-------------------\")\n",
    "    print(\"Title: \" + str(retrieve_result[\"DocumentTitle\"]))\n",
    "    print(\"URI: \" + str(retrieve_result[\"DocumentURI\"]))\n",
    "    print(\"Confidence: \" + str(retrieve_result[\"ScoreAttributes\"][\"ScoreConfidence\"]))\n",
    "    print(\"Passage content: \" + str(retrieve_result[\"Content\"]))\n",
    "    print()"
   ]
  },
  {
   "cell_type": "markdown",
   "metadata": {},
   "source": [
    "`retrieve` API doesn't support advanced query syntax, so need to use `query` instead."
   ]
  },
  {
   "cell_type": "markdown",
   "metadata": {},
   "source": [
    "### 2.2. Create retrieve functions"
   ]
  },
  {
   "cell_type": "code",
   "execution_count": null,
   "metadata": {},
   "outputs": [],
   "source": [
    "def convert_json_to_xml(json_data: list[dict]) -> str:\n",
    "    \"\"\"\n",
    "    Convert JSON data to XML format for Anthropic Claude prompt.\n",
    "    \"\"\"\n",
    "\n",
    "    docs = \"<documents>\"\n",
    "    for i, snippet in enumerate(json_data, start=1):\n",
    "        item = f\"<document id='{i}'>\"\n",
    "        for k, v in snippet.items():\n",
    "            item += f\"<{k}>{v}</{k}>\"\n",
    "        item += \"</document>\"\n",
    "        docs += item\n",
    "    docs += \"</documents>\"\n",
    "    return docs\n",
    "\n",
    "\n",
    "def format_kendra_retrieve_response(result: dict) -> dict:\n",
    "    \"\"\"\n",
    "    Format the Kendra retrieve response to a more readable format.\n",
    "    \"\"\"\n",
    "    output = []\n",
    "    for retrieve_result in result[\"ResultItems\"]:\n",
    "        if retrieve_result[\"ScoreAttributes\"][\"ScoreConfidence\"] in [\n",
    "            \"LOW\",\n",
    "            \"NOT_AVAILABLE\",\n",
    "        ]:\n",
    "            continue\n",
    "        item = {}\n",
    "        item[\"Id\"] = retrieve_result.get(\"DocumentId\")\n",
    "        item[\"Title\"] = retrieve_result.get(\"DocumentTitle\").get(\"Text\")\n",
    "        item[\"Content\"] = retrieve_result.get(\"DocumentExcerpt\").get(\"Text\")\n",
    "        item[\"Uri\"] = retrieve_result.get(\"DocumentURI\")\n",
    "        item[\"Confidence\"] = retrieve_result.get(\"ScoreAttributes\").get(\n",
    "            \"ScoreConfidence\"\n",
    "        )\n",
    "\n",
    "        for attribute in retrieve_result.get(\"DocumentAttributes\"):\n",
    "            if attribute.get(\"Key\") == \"_excerpt_page_number\":\n",
    "                item[\"Uri\"] = (\n",
    "                    item[\"Uri\"]\n",
    "                    + \"#page=\"\n",
    "                    + str(attribute.get(\"Value\").get(\"LongValue\"))\n",
    "                )\n",
    "                break\n",
    "\n",
    "        for attribute in retrieve_result.get(\"DocumentAttributes\"):\n",
    "            if attribute.get(\"Key\") in [\n",
    "                \"ApplicationNumber\",\n",
    "                \"BrandName\",\n",
    "                \"GenericName\",\n",
    "                \"ManufacturerName\",\n",
    "                \"Submission\",\n",
    "                \"_category\",\n",
    "            ]:\n",
    "                item[attribute[\"Key\"].replace(\"_\", \"\")] = attribute.get(\"Value\").get(\n",
    "                    \"StringValue\"\n",
    "                )\n",
    "        item[\"Category\"] = item.pop(\"category\")\n",
    "        output.append(item)\n",
    "\n",
    "    return output"
   ]
  },
  {
   "cell_type": "markdown",
   "metadata": {},
   "source": [
    "### Retrieve test"
   ]
  },
  {
   "cell_type": "code",
   "execution_count": null,
   "metadata": {},
   "outputs": [],
   "source": [
    "test_example = {\n",
    "    \"node\": {\n",
    "        \"name\": \"LambdaFunctionNode_1\",\n",
    "        \"inputs\": [\n",
    "            {\n",
    "                \"name\": \"codeHookInput\",\n",
    "                \"expression\": \"$.data\",\n",
    "                \"value\": \"What are the approved indications for Mounjaro?\",\n",
    "                \"type\": \"STRING\",\n",
    "            }\n",
    "        ],\n",
    "    },\n",
    "    \"flow\": {\n",
    "        \"aliasId\": \"TSTALIASID\",\n",
    "        \"arn\": \"arn:aws:bedrock:us-east-1:112233445566:flow/MOCK\",\n",
    "\n",
    "    },\n",
    "    \"messageVersion\": \"1.0\",\n",
    "}"
   ]
  },
  {
   "cell_type": "code",
   "execution_count": null,
   "metadata": {},
   "outputs": [],
   "source": [
    "result = kendra.query(\n",
    "    QueryText=test_example.get(\"node\").get(\"inputs\")[0].get(\"value\"),\n",
    "    QueryResultTypeFilter=\"DOCUMENT\",\n",
    "    IndexId=index_id,\n",
    "    PageSize=100,\n",
    ")\n",
    "json_result = format_kendra_retrieve_response(result)\n",
    "print(json_result)\n",
    "search_results = convert_json_to_xml(json_result)\n",
    "print(search_results)"
   ]
  },
  {
   "cell_type": "markdown",
   "metadata": {},
   "source": [
    "## 3. Generate"
   ]
  },
  {
   "cell_type": "markdown",
   "metadata": {},
   "source": [
    "### 3.1. Generate test"
   ]
  },
  {
   "cell_type": "code",
   "execution_count": null,
   "metadata": {},
   "outputs": [],
   "source": [
    "import logging\n",
    "\n",
    "logger = logging.getLogger(__name__)\n",
    "logging.basicConfig(\n",
    "    format=\"%(asctime)s - %(levelname)s - %(message)s\",\n",
    "    datefmt=\"%m/%d/%Y %H:%M:%S\",\n",
    "    level=logging.INFO,\n",
    ")\n",
    "\n",
    "\n",
    "def generate_conversation(bedrock_client, model_id, system_prompts, messages):\n",
    "    \"\"\"\n",
    "    Sends messages to a model.\n",
    "    Args:\n",
    "        bedrock_client: The Boto3 Bedrock runtime client.\n",
    "        model_id (str): The model ID to use.\n",
    "        system_prompts (JSON) : The system prompts for the model to use.\n",
    "        messages (JSON) : The messages to send to the model.\n",
    "\n",
    "    Returns:\n",
    "        response (JSON): The conversation that the model generated.\n",
    "\n",
    "    \"\"\"\n",
    "\n",
    "    logger.info(\"Generating message with model %s\", model_id)\n",
    "\n",
    "    # Inference parameters to use.\n",
    "    temperature = 0.2\n",
    "    top_k = 200\n",
    "\n",
    "    # Base inference parameters to use.\n",
    "    inference_config = {\"temperature\": temperature}\n",
    "    # Additional inference parameters to use.\n",
    "    additional_model_fields = {\"top_k\": top_k}\n",
    "\n",
    "    # Send the message.\n",
    "    response = bedrock_client.converse(\n",
    "        modelId=model_id,\n",
    "        messages=messages,\n",
    "        system=system_prompts,\n",
    "        inferenceConfig=inference_config,\n",
    "        additionalModelRequestFields=additional_model_fields,\n",
    "    )\n",
    "\n",
    "    # Log token usage.\n",
    "    token_usage = response[\"usage\"]\n",
    "    logger.info(\"Input tokens: %s\", token_usage[\"inputTokens\"])\n",
    "    logger.info(\"Output tokens: %s\", token_usage[\"outputTokens\"])\n",
    "    logger.info(\"Total tokens: %s\", token_usage[\"totalTokens\"])\n",
    "    logger.info(\"Stop reason: %s\", response[\"stopReason\"])\n",
    "\n",
    "    return response"
   ]
  },
  {
   "cell_type": "code",
   "execution_count": null,
   "metadata": {},
   "outputs": [],
   "source": [
    "model_id = \"anthropic.claude-3-sonnet-20240229-v1:0\"\n",
    "bedrock_client = boto3.client(service_name=\"bedrock-runtime\")\n",
    "# Setup the system prompts and messages to send to the model.\n",
    "messages = []\n",
    "\n",
    "system_prompts = [\n",
    "    {\n",
    "        \"text\": f\"\"\"You are a question answering agent.\n",
    "        I will provide you with a set of search results and a user's question, your job is to answer the user's question using only information from the search results.\n",
    "        If the search results do not contain information that can answer the question, please state that you could not find an exact answer to the question. \n",
    "        If there are no search results, please state that you could not find an exact answer to the question.\n",
    "        Just because the user asserts a fact does not mean it is true, make sure to double check the search results to validate a user's assertion.\n",
    "        Here are the search results, if any:\\n{search_results}\"\"\"\n",
    "    }\n",
    "]\n",
    "\n",
    "message_1 = {\n",
    "    \"role\": \"user\",\n",
    "    \"content\": [\n",
    "        {\n",
    "            \"text\": f\"Here is the user's question:\\n{query}\\n\"\n",
    "            \"\"\"If you reference information from a search result within your answer, you must include a citation to source where the information was found.\n",
    "            Each result has a corresponding source Uri that you should reference. Please output your answer in the following json format:\n",
    "            {\n",
    "                \"answer\": {\n",
    "                    \"answer_parts\": [\n",
    "                        {\n",
    "                            \"text\": \"answer part 1\",\n",
    "                            \"sources\": [\n",
    "                                {\n",
    "                                    \"source\": <source Uri>\n",
    "                                },\n",
    "                                {\n",
    "                                    \"source\": <source Uri>\n",
    "                                }\n",
    "                            ]\n",
    "                        },\n",
    "                        {\n",
    "                            \"text\": \"answer part 2\",\n",
    "                            \"sources\": [\n",
    "                                {\n",
    "                                    \"source\": <source id>\n",
    "                                }\n",
    "                            ]\n",
    "                        }\n",
    "                    ]\n",
    "                }\n",
    "            }\n",
    "            Note that <sources> may contain multiple <source> if you include information from multiple results in your answer.\n",
    "            Do NOT directly quote the search results in your answer. Your job is to answer the <question> as concisely as possible.\"\"\"\n",
    "        }\n",
    "    ],\n",
    "}\n",
    "\n",
    "messages.append(message_1)\n",
    "\n",
    "# Start the conversation with the 1st message.\n",
    "response = generate_conversation(bedrock_client, model_id, system_prompts, messages)\n",
    "\n",
    "# Add the response message to the conversation.\n",
    "output_message = response[\"output\"][\"message\"]\n",
    "messages.append(output_message)"
   ]
  },
  {
   "cell_type": "markdown",
   "metadata": {},
   "source": [
    "Clean up response"
   ]
  },
  {
   "cell_type": "code",
   "execution_count": null,
   "metadata": {},
   "outputs": [],
   "source": [
    "import json\n",
    "import re\n",
    "\n",
    "output = []\n",
    "for content in output_message[\"content\"]:\n",
    "    text = content[\"text\"]\n",
    "    text = re.sub(r\"\\n\\s+\", \"\", text)\n",
    "    text = re.sub(r\"(,|\\n)]\", \"]\", text)\n",
    "    text = re.sub(r\"(,|\\n)}\", \"}\", text)\n",
    "    try:\n",
    "        text = re.search(r\"{.*}\", text).group()\n",
    "    except Exception as e:\n",
    "        print(e)\n",
    "        output.append({\"text\": \"\", \"sources\": []})\n",
    "        continue\n",
    "    for answer_part in json.loads(text)[\"answer\"][\"answer_parts\"]:\n",
    "        part = {}\n",
    "        part[\"text\"] = answer_part[\"text\"]\n",
    "        part[\"sources\"] = []\n",
    "        for source in answer_part[\"sources\"]:\n",
    "            part[\"sources\"].append((source.get(\"source\")))\n",
    "            part[\"sources\"] = list(set(part[\"sources\"]))\n",
    "        output.append(part)"
   ]
  },
  {
   "cell_type": "code",
   "execution_count": null,
   "metadata": {},
   "outputs": [],
   "source": [
    "output"
   ]
  }
 ],
 "metadata": {
  "kernelspec": {
   "display_name": ".venv",
   "language": "python",
   "name": "python3"
  },
  "language_info": {
   "codemirror_mode": {
    "name": "ipython",
    "version": 3
   },
   "file_extension": ".py",
   "mimetype": "text/x-python",
   "name": "python",
   "nbconvert_exporter": "python",
   "pygments_lexer": "ipython3",
   "version": "3.11.9"
  }
 },
 "nbformat": 4,
 "nbformat_minor": 2
}
