{
 "cells": [
  {
   "cell_type": "markdown",
   "metadata": {},
   "source": [
    "# Notebook 3. Track Model Quality with SageMaker MLOps"
   ]
  },
  {
   "cell_type": "markdown",
   "metadata": {},
   "source": [
    "## Learning Objectives\n",
    "- Automate Machine Learning Operations (MLOps) with SageMaker Pipelines.\n",
    "- Track model versions with the SageMaker Model Registry.\n",
    "- Validate model performance using SageMaker Model Monitoring and Model Lineage."
   ]
  },
  {
   "cell_type": "markdown",
   "metadata": {},
   "source": [
    "## Environment Notes:\n",
    "This notebook was created and tested on an `ml.t3.medium (2 vCPU + 4 GiB)` notebook instance running the `Python 3 (Data Science)` kernel in SageMaker Studio."
   ]
  },
  {
   "cell_type": "markdown",
   "metadata": {},
   "source": [
    "## Table of Contents\n",
    "1. [Background](#1.-Background)  \n",
    "    1.1. [Amazon SageMaker Model Building Pipelines](#1.A.-Amazon-SageMaker-Model-Building-Pipelines)  \n",
    "    1.2 [Amazon SageMaker Model Registry](#1.B.-Amazon-SageMaker-Model-Registry)  \n",
    "    1.3 [Amazon SageMaker Model Lineage](#1.D.-Amazon-SageMaker-Model-Lineage)  \n",
    "2. [Create SageMaker MLOps Project](#2.-Create-SageMaker-MLOps-Project)  \n",
    "    2.1. [Create a New Project Using the Build, Traing, and Deploy Template](#2.A.-Create-a-New-Project-Using-the-Build,-Traing,-and-Deploy-Template)  \n",
    "    2.2. [Clone the New Git Repositories](#2.B.-Clone-the-New-Git-Repositories)  \n",
    "    2.3. [Update the Build Repository](#2.C.-Update-the-Build-Repository)  \n",
    "    2.4. [Approve the New Model Version](#2.D.-Approve-the-New-Model-Version)  \n",
    "3. [Test the Model Inference Endpoint](#3.-Test-the-Model-Inference-Endpoint)  \n",
    "    3.1. [Import Libraries and Create Clients](#3.A.-Import-Libraries-and-Create-Clients)  \n",
    "    3.2. [Examine Model Training Reports](#3.B.-Examine-Model-Training-Reports)  \n",
    "    3.3. [Invoke the Staging Model Endpoint](#3.C.-Invoke-the-Staging-Model-Endpoint)  \n",
    "4. [Explore the Model Lineage](#4.-Explore-the-Model-Lineage)  \n",
    "    4.1. [Visualize Lineage Entities as a Table](#4.A.-Visualize-Lineage-Entities-as-a-Table)  \n",
    "    4.2. [Visualize Lineage Entities as a Graph](#4.B.-Visualize-Lineage-Entities-as-a-Graph)  \n",
    "5. [Approve the Model Version for Release](#5.-Approve-the-Model-Version-for-Release)  \n",
    "6. [Clean Up](#6.-Clean-Up)  "
   ]
  },
  {
   "cell_type": "markdown",
   "metadata": {},
   "source": [
    "-----\n",
    "## 1. Background\n",
    "\n",
    "In Notebook 2 of this series, we demonstrated how SageMaker Processing, Training, and Hyperparameter Optimization (HPO) jobs can make the development of new machine learning (ML) models faster and more cost efficient. In this notebook, we'll look at some best practices for deploying and managing your models into production. Many of these practices fall into the category of \"Machine Learning Operations\", or \"MLOps\" and are increasingly a part of many [regulatory and quality requirements](https://www.fda.gov/files/medical%20devices/published/US-FDA-Artificial-Intelligence-and-Machine-Learning-Discussion-Paper.pdf).\n",
    "\n",
    "MLOps plays a key role in the **Model Deployment** and **Model Monitoring/Maintenance** phases of the Machine Learning Lifecycle. For more information, please refer to the [Machine Learning Best Practices in Healthcare and Life Sciences Whitepaper](https://d1.awsstatic.com/whitepapers/ML-best-practices-health-science.pdf?did=wp_card&trk=wp_card).\n",
    "\n",
    "![Machine Learning Life Cycle - Part 1](img/MLLC2.png \"ML Life Cycle - Part 1\")"
   ]
  },
  {
   "cell_type": "markdown",
   "metadata": {},
   "source": [
    "### 1.1. Amazon SageMaker Model Building Pipelines\n",
    "\n",
    "[Amazon SageMaker Model Building Pipelines](https://docs.aws.amazon.com/sagemaker/latest/dg/pipelines.html) is a tool for building machine learning pipelines that take advantage of direct SageMaker integration. Because of this integration, you can create a pipeline and set up SageMaker Projects for orchestration using a tool that handles much of the step creation and management for you. You can manage these pipelines in the SageMaker Studio UI and automatically capture data and model lineage.\n",
    "\n",
    "One of the challenges with deploying ML solutions is that their effectiveness can change over time.  For example, perhaps the distribution of your data shifts from year-to-year? Or the boundaries of a classification category? In these cases, you want to be able to quickly retrain and deploy new versions of your model, either on a schedule or in response to some event.\n",
    "\n",
    "Amazon SageMaker Pipelines allows us to define reproducible ML processes that we can trigger at will. In this example, we'll use the processing, training, and registration artifacts from above to create a pipeline and demonstrate how to execute it."
   ]
  },
  {
   "cell_type": "markdown",
   "metadata": {},
   "source": [
    "### 1.2. Amazon SageMaker Model Registry\n",
    "\n",
    "The [Amazon SageMaker Model Registry](https://docs.aws.amazon.com/sagemaker/latest/dg/model-registry.html) is a managed service that allows you to track model metadata, approve releases, and deploy new versions to production. It involves two concepts:\n",
    "\n",
    "- A **Model Package Group** is a group of models that share a common business goal. For example, you might create a model package group to track models for segmenting a specific kind of medical image.\n",
    "- A **Model Package** or **Model Version** is a member of a Model Package Group. It refers to the a specific implementation of a model with its own training artifact and/or inference container."
   ]
  },
  {
   "cell_type": "markdown",
   "metadata": {},
   "source": [
    "### 1.3. Amazon SageMaker Model Lineage\n",
    "\n",
    "[Amazon SageMaker Model Lineage](https://docs.aws.amazon.com/sagemaker/latest/dg/lineage-tracking.html) creates and stores information about the steps of a machine learning (ML) workflow from data preparation to model deployment. With the tracking information, you can reproduce the workflow steps, track model and dataset lineage, and establish model governance and audit standards."
   ]
  },
  {
   "cell_type": "markdown",
   "metadata": {},
   "source": [
    "-----\n",
    "## 2. Create SageMaker MLOps Project"
   ]
  },
  {
   "cell_type": "markdown",
   "metadata": {},
   "source": [
    "### 2.1. Create a New Project Using the Build, Traing, and Deploy Template\n",
    "\n",
    "1. From the SageMaker Studio left navigation panel, choose **Home > Deployments > Projects**.\n",
    "\n",
    "![Resources](img/project-1.png)\n",
    "\n",
    "2. Select **Create project**\n",
    "\n",
    "![Resources](img/project-2.png)\n",
    "\n",
    "3. In the **SageMaker project templates** view, select the **MLOps template for model building, training, and deployment** template and then **Select project template**.\n",
    "\n",
    "![Resources](img/project-3.png)\n",
    "\n",
    "4. Enter **her2-brca-classifier** in the **Name** field and then choose **Create Project**.\n",
    "\n",
    "![Resources](img/project-4.png)"
   ]
  },
  {
   "cell_type": "markdown",
   "metadata": {},
   "source": [
    "5. While the new project is starting, import some libraries and create clients"
   ]
  },
  {
   "cell_type": "code",
   "execution_count": null,
   "metadata": {
    "tags": []
   },
   "outputs": [],
   "source": [
    "%pip install --disable-pip-version-check -U -q -r requirements.txt"
   ]
  },
  {
   "cell_type": "code",
   "execution_count": null,
   "metadata": {
    "tags": []
   },
   "outputs": [],
   "source": [
    "import base64\n",
    "import boto3\n",
    "import jsonlines\n",
    "import os\n",
    "import pandas as pd\n",
    "import sagemaker\n",
    "from sagemaker.lineage.context import Context, EndpointContext\n",
    "from sagemaker.lineage.lineage_trial_component import LineageTrialComponent\n",
    "from sagemaker.lineage.visualizer import LineageTableVisualizer\n",
    "from sagemaker.predictor import Predictor\n",
    "import shutil\n",
    "from time import sleep\n",
    "from visualizer.visualizer import Visualizer\n",
    "\n",
    "boto_session = boto3.session.Session()\n",
    "region = boto_session.region_name\n",
    "sagemaker_session = sagemaker.session.Session(boto_session)\n",
    "sagemaker_execution_role = sagemaker.session.get_execution_role(sagemaker_session)\n",
    "sagemaker_boto_client = boto_session.client(\"sagemaker\")\n",
    "s3_boto_client = boto_session.client(\"s3\")\n",
    "account_id = boto_session.client(\"sts\").get_caller_identity().get(\"Account\")\n",
    "print(f\"Assumed SageMaker role is {sagemaker_execution_role}\")"
   ]
  },
  {
   "cell_type": "markdown",
   "metadata": {},
   "source": [
    "6. Capture some information associated with your new project."
   ]
  },
  {
   "cell_type": "code",
   "execution_count": 9,
   "metadata": {
    "tags": []
   },
   "outputs": [],
   "source": [
    "# NOTE If you use a different name for your project, please update this variable:\n",
    "project_name = \"her2-brca-classifier\""
   ]
  },
  {
   "cell_type": "code",
   "execution_count": 10,
   "metadata": {
    "tags": []
   },
   "outputs": [
    {
     "name": "stdout",
     "output_type": "stream",
     "text": [
      "SageMaker project name is test-130114\n",
      "SageMaker project ID is p-8mnczdo8en5d\n",
      "Pipeline name is test-130114-p-8mnczdo8en5d\n"
     ]
    }
   ],
   "source": [
    "project_id = sagemaker_boto_client.describe_project(ProjectName=project_name).get(\n",
    "    \"ProjectId\"\n",
    ")\n",
    "print(f\"SageMaker project name is {project_name}\")\n",
    "print(f\"SageMaker project ID is {project_id}\")\n",
    "\n",
    "s3_bucket = f\"sagemaker-project-{project_id}\"\n",
    "pipeline_name = f\"{project_name.lower()}-{project_id}\"\n",
    "print(f\"Pipeline name is {pipeline_name}\")\n",
    "staging_endpoint_name = f\"{project_name}-staging\"\n",
    "prod_endpoint_name = f\"{project_name}-prod\"\n",
    "build_code_path = f\"/root/{pipeline_name}/sagemaker-{pipeline_name}-modelbuild\"\n",
    "deploy_code_path = f\"/root/{pipeline_name}/sagemaker-{pipeline_name}-modeldeploy\""
   ]
  },
  {
   "cell_type": "markdown",
   "metadata": {},
   "source": [
    "7. SageMaker will automatically create and run a default \"abalone\" template when it creates the new project, which can take as long as 15 minutes to finish. To speed things up, run the following cell to stop this pipeline execution."
   ]
  },
  {
   "cell_type": "code",
   "execution_count": 6,
   "metadata": {
    "tags": []
   },
   "outputs": [
    {
     "data": {
      "text/plain": [
       "{'pipelineExecutionId': 'ee247ff8-22f6-426e-a341-648925173d94',\n",
       " 'ResponseMetadata': {'RequestId': 'dfaaeaf8-2192-4114-b50d-989958550c48',\n",
       "  'HTTPStatusCode': 200,\n",
       "  'HTTPHeaders': {'x-amzn-requestid': 'dfaaeaf8-2192-4114-b50d-989958550c48',\n",
       "   'date': 'Fri, 16 Dec 2022 15:34:41 GMT',\n",
       "   'content-type': 'application/x-amz-json-1.1',\n",
       "   'content-length': '62'},\n",
       "  'RetryAttempts': 0}}"
      ]
     },
     "execution_count": 6,
     "metadata": {},
     "output_type": "execute_result"
    }
   ],
   "source": [
    "# Halt execution of default \"Abalone\" pipeline\n",
    "codepipeline_boto_client = boto3.client(\"codepipeline\")\n",
    "codepipeline_name_build = f\"sagemaker-{pipeline_name}-modelbuild\"\n",
    "pipelineExecutionId = codepipeline_boto_client.list_pipeline_executions(\n",
    "    pipelineName=codepipeline_name_build\n",
    ")[\"pipelineExecutionSummaries\"][-1][\"pipelineExecutionId\"]\n",
    "\n",
    "codepipeline_boto_client.stop_pipeline_execution(\n",
    "    pipelineName=codepipeline_name_build,\n",
    "    pipelineExecutionId=pipelineExecutionId,\n",
    "    abandon=True,\n",
    ")"
   ]
  },
  {
   "cell_type": "markdown",
   "metadata": {},
   "source": [
    "Here's an overview of the services created by the project pipeline:"
   ]
  },
  {
   "cell_type": "markdown",
   "metadata": {},
   "source": [
    "**Model Building and Training Stack**"
   ]
  },
  {
   "cell_type": "markdown",
   "metadata": {},
   "source": [
    "![Model Building and Training Stack](img/template_build.jpg)"
   ]
  },
  {
   "cell_type": "markdown",
   "metadata": {},
   "source": [
    "**Model Deployment Stack**"
   ]
  },
  {
   "cell_type": "markdown",
   "metadata": {},
   "source": [
    "![Model Deployment Stack](img/template_deploy.jpg)"
   ]
  },
  {
   "cell_type": "markdown",
   "metadata": {},
   "source": [
    "### 2.2. Clone the New Git Repositories\n",
    "1. Once the project has successfully been created, navigate to the **Repositories** tab in the project view.\n",
    "\n",
    "![Repositories](img/repositories.png)\n",
    "\n",
    "2. Select the **clone repo...** link for the first repository and then **Clone Repository** with the default options on the next view.\n",
    "\n",
    "![Default Repo Settings](img/repo_defaults.png)\n",
    "\n",
    "3. Repeat for the second repository.\n",
    "4. Choose **File Browser** grom the SageMaker Studio left navigation panel.\n",
    "5. Verify that there is a new folder in your home directory named`\"her2-brca-classifier-\"`, followed by the project ID. There should also be two subfolders, one for the model build steps and another for the model deploy steps.\n",
    "\n",
    "![Default Repo Settings](img/cloned_folders.png)\n",
    "\n",
    "<!-- 6. Within the build subfolder (It will be named something like `sagemaker-her2-brca-classifier-[PROJECT ID]-modelbuild`) navigate to `pipelines/abalone`. This folder will contain three files:\n",
    "- `evaluate.py`: A Python module for measuring model performance.\n",
    "- `pipeline.py`: A Python module that defines a SageMaker Pipelines model building workflow.\n",
    "- `preprocess.py`: A Python module for running a data processing job.\n",
    "\n",
    "Each of these files contains placeholder code for now. We'll update them with our own code in the next section. -->"
   ]
  },
  {
   "cell_type": "markdown",
   "metadata": {},
   "source": [
    "### 2.3. Update the Build Repository"
   ]
  },
  {
   "cell_type": "markdown",
   "metadata": {},
   "source": [
    "Run the following cells to update your cloned repository with custom pipeline code and push the changes to CodeCommit. This will restart the MLOps process and build a new version of your pipeline with your custom model training code."
   ]
  },
  {
   "cell_type": "code",
   "execution_count": 7,
   "metadata": {
    "tags": []
   },
   "outputs": [
    {
     "name": "stdout",
     "output_type": "stream",
     "text": [
      "[main 944552b] Update pipeline code\n",
      " 5 files changed, 535 insertions(+), 1 deletion(-)\n",
      " create mode 100644 pipelines/her2pipeline/__init__.py\n",
      " create mode 100644 pipelines/her2pipeline/evaluate.py\n",
      " create mode 100644 pipelines/her2pipeline/pipeline.py\n",
      " create mode 100644 pipelines/her2pipeline/preprocess.py\n"
     ]
    },
    {
     "name": "stderr",
     "output_type": "stream",
     "text": [
      "remote: Validating objects: 100%        \n",
      "To https://git-codecommit.us-east-1.amazonaws.com/v1/repos/sagemaker-test-130114-p-8mnczdo8en5d-modelbuild\n",
      "   e8239cf..944552b  main -> main\n"
     ]
    },
    {
     "name": "stdout",
     "output_type": "stream",
     "text": [
      "Branch 'main' set up to track remote branch 'main' from 'origin'.\n"
     ]
    }
   ],
   "source": [
    "%%bash -s \"$build_code_path\" \n",
    "cp -r scripts/pipelines/her2pipeline $1/pipelines/her2pipeline\n",
    "cp scripts/pipelines/codebuild-buildspec.yml $1\n",
    "cd $1\n",
    "git config --global user.email \"awsuser@amazon.com\"\n",
    "git config --global user.name \"AWS User\"\n",
    "git add .\n",
    "git commit -a -m \"Update pipeline code\"\n",
    "git config --global credential.helper '!aws codecommit credential-helper $@'\n",
    "git config --global credential.UseHttpPath true\n",
    "git push -u origin"
   ]
  },
  {
   "cell_type": "markdown",
   "metadata": {},
   "source": [
    "It will take approximately 15 minutes to rebuild and execute the pipeline. You can track the progress either on the **Pipelines** tab of the project view or on the AWS **CodeBuild** console.\n",
    "\n",
    "![Pipeline Execution](img/pipeline_execution.png)"
   ]
  },
  {
   "cell_type": "markdown",
   "metadata": {},
   "source": [
    "### 2.4. Approve the New Model Version\n",
    "1. Navigate back to the project view.\n",
    "2. Select the **Model groups** tab.\n",
    "3. Double-click on the model group name (e.g. `her2-brca-classifier-[PROJECT ID]`) to view the available model versions.\n",
    "4. Double-click on the newest model version to view its details.\n",
    "5. Navigate between the **Activity**, **Model quality**, and **Settings** tabs to view information about the model inference endpoint.\n",
    "6. Select the orange **Update Status** button in the upper-right corner of the model registry view.\n",
    "7. Update the **Approved** status and (optionally) add a comment.\n",
    "\n",
    "![Update the model status](img/update-status.png \"Update the model status\")\n",
    "\n",
    "8. Wait several minutes for the \"Staging\" endpoint appear in the Endpoints tab."
   ]
  },
  {
   "cell_type": "markdown",
   "metadata": {},
   "source": [
    "## 3. Test the Model Inference Endpoint"
   ]
  },
  {
   "cell_type": "markdown",
   "metadata": {},
   "source": [
    "Real-time inference endpoints are deployed to a persistent EC2 instance. This allows them to respond quickly to requests and support a wide range of custom properties. It's a good choice for models with steady usage. However, there are other ways to deploy a model on SageMaker as well.\n",
    "\n",
    "![alt text](img/deployment_options.png \"SageMaker Model Deployment Options\")"
   ]
  },
  {
   "cell_type": "markdown",
   "metadata": {},
   "source": [
    "### 3.1. Examine Model Training Reports"
   ]
  },
  {
   "cell_type": "code",
   "execution_count": 26,
   "metadata": {
    "tags": []
   },
   "outputs": [
    {
     "name": "stdout",
     "output_type": "stream",
     "text": [
      "Downloading training reports from s3://sagemaker-project-p-8mnczdo8en5d/pipelines-dwvry9todiks-TrainHER2Model-vwZcHpmzyU/rule-output\n"
     ]
    }
   ],
   "source": [
    "# Download training reports\n",
    "last_training_job_name = [ name.get('TrainingJobName') for name in sagemaker_boto_client.list_training_jobs().get('TrainingJobSummaries') if 'TrainHER2Model' in name.get('TrainingJobName')][0]\n",
    "rule_output_path = (\n",
    "    f\"s3://sagemaker-project-{project_id}/{last_training_job_name}/rule-output\"\n",
    ")\n",
    "print(f\"Downloading training reports from {rule_output_path}\")\n",
    "sagemaker.s3.S3Downloader.download(\n",
    "    s3_uri=rule_output_path, local_path=\"training_reports/\"\n",
    ")"
   ]
  },
  {
   "cell_type": "code",
   "execution_count": 12,
   "metadata": {
    "tags": []
   },
   "outputs": [
    {
     "name": "stdout",
     "output_type": "stream",
     "text": [
      "Sending test traffic to the endpoint test-130114-staging. \n",
      "Please wait...\n",
      "[Actual | predicted] labels for record  71 are [0.0 | 0.009]\n",
      "[Actual | predicted] labels for record 103 are [0.0 | 0.003]\n",
      "[Actual | predicted] labels for record  73 are [0.0 | 0.089]\n",
      "[Actual | predicted] labels for record  25 are [0.0 | 0.002]\n",
      "[Actual | predicted] labels for record  30 are [0.0 | 0.010]\n",
      "[Actual | predicted] labels for record 100 are [0.0 | 0.114]\n",
      "[Actual | predicted] labels for record 120 are [0.0 | 0.004]\n",
      "[Actual | predicted] labels for record  38 are [1.0 | 0.465]\n",
      "[Actual | predicted] labels for record  86 are [0.0 | 0.003]\n",
      "[Actual | predicted] labels for record  44 are [0.0 | 0.468]\n",
      "[Actual | predicted] labels for record  96 are [0.0 | 0.017]\n",
      "[Actual | predicted] labels for record 105 are [1.0 | 0.916]\n",
      "[Actual | predicted] labels for record   0 are [0.0 | 0.004]\n",
      "[Actual | predicted] labels for record  41 are [1.0 | 0.223]\n",
      "[Actual | predicted] labels for record 117 are [0.0 | 0.198]\n",
      "[Actual | predicted] labels for record  98 are [0.0 | 0.692]\n",
      "[Actual | predicted] labels for record  32 are [0.0 | 0.004]\n",
      "[Actual | predicted] labels for record  72 are [0.0 | 0.011]\n",
      "[Actual | predicted] labels for record  63 are [0.0 | 0.026]\n",
      "[Actual | predicted] labels for record 110 are [0.0 | 0.045]\n",
      "[Actual | predicted] labels for record  28 are [0.0 | 0.014]\n",
      "[Actual | predicted] labels for record  29 are [0.0 | 0.004]\n",
      "[Actual | predicted] labels for record  78 are [0.0 | 0.015]\n",
      "[Actual | predicted] labels for record 115 are [0.0 | 0.008]\n",
      "[Actual | predicted] labels for record  70 are [0.0 | 0.007]\n"
     ]
    }
   ],
   "source": [
    "# Download test data\n",
    "recent_test_data_uri = sagemaker.s3.parse_s3_url(\n",
    "    sagemaker_boto_client.describe_processing_job(\n",
    "        ProcessingJobName=sagemaker_boto_client.list_processing_jobs(\n",
    "            NameContains=\"PreprocessHER2Data\"\n",
    "        )[\"ProcessingJobSummaries\"][-1][\"ProcessingJobName\"]\n",
    "    )[\"ProcessingOutputConfig\"][\"Outputs\"][-1][\"S3Output\"][\"S3Uri\"]\n",
    ")\n",
    "sagemaker_session.download_data(\n",
    "    f\"data/output/test\",\n",
    "    bucket=recent_test_data_uri[0],\n",
    "    key_prefix=f\"{recent_test_data_uri[1]}/test.csv\",\n",
    ")\n",
    "\n",
    "# Create a Predictor object for testing\n",
    "predictor = Predictor(\n",
    "    endpoint_name=staging_endpoint_name,\n",
    "    sagemaker_session=sagemaker_session,\n",
    "    serializer=sagemaker.serializers.CSVSerializer(),\n",
    "    deserializer=sagemaker.deserializers.JSONDeserializer(),\n",
    ")\n",
    "\n",
    "# Load a random sample of 10 records from the test data\n",
    "test_df = pd.read_csv(\"data/output/test/test.csv\").sample(n=25)\n",
    "\n",
    "# Submit the 10 samples to the inference endpoint and compare the actual and predicted values\n",
    "print(\n",
    "    \"Sending test traffic to the endpoint {}. \\nPlease wait...\".format(\n",
    "        staging_endpoint_name\n",
    "    )\n",
    ")\n",
    "\n",
    "for i, row in test_df.iterrows():\n",
    "    print(\n",
    "        f\"[Actual | predicted] labels for record {i:3} are [{row[0]} | {predictor.predict(row.iloc[1:]):.3f}]\"\n",
    "    )\n",
    "    sleep(0.1)"
   ]
  },
  {
   "cell_type": "markdown",
   "metadata": {},
   "source": [
    "Wait for the monitoring data to finish processing. This will take about a minute to complete."
   ]
  },
  {
   "cell_type": "code",
   "execution_count": 13,
   "metadata": {
    "tags": []
   },
   "outputs": [
    {
     "name": "stdout",
     "output_type": "stream",
     "text": [
      "Waiting for endpoint monitoring data to populate...\n",
      "Waiting for endpoint monitoring data to populate...\n",
      "Waiting for endpoint monitoring data to populate...\n",
      "Waiting for endpoint monitoring data to populate...\n",
      "Waiting for endpoint monitoring data to populate...\n",
      "Waiting for endpoint monitoring data to populate...\n",
      "Found Capture Files:\n",
      "datacapture-staging/test-130114-staging/AllTraffic/2023/01/17/15/48-33-453-7cf1f0ac-16b6-44a9-9ffa-0de5852e0eeb.jsonl\n"
     ]
    }
   ],
   "source": [
    "# Watch the S3 bucket we specified above for storing monitoring data\n",
    "endpoint_capture_uri = (\n",
    "    sagemaker_boto_client.describe_endpoint(EndpointName=staging_endpoint_name)\n",
    "    .get(\"DataCaptureConfig\")\n",
    "    .get(\"DestinationS3Uri\")\n",
    ")\n",
    "endpoint_capture_bucket = sagemaker.s3.parse_s3_url(endpoint_capture_uri)[0]\n",
    "endpoint_capture_prefix = sagemaker.s3.parse_s3_url(endpoint_capture_uri)[1]\n",
    "result = {}\n",
    "while result.get(\"Contents\") is None:\n",
    "    print(\"Waiting for endpoint monitoring data to populate...\")\n",
    "    result = s3_boto_client.list_objects(\n",
    "        Bucket=endpoint_capture_bucket, Prefix=endpoint_capture_prefix\n",
    "    )\n",
    "    sleep(10)\n",
    "capture_files = [capture_file.get(\"Key\") for capture_file in result.get(\"Contents\")]\n",
    "print(\"Found Capture Files:\")\n",
    "print(\"\\n \".join(capture_files))"
   ]
  },
  {
   "cell_type": "markdown",
   "metadata": {},
   "source": [
    "Examine the contents of the first data capture file"
   ]
  },
  {
   "cell_type": "code",
   "execution_count": 14,
   "metadata": {
    "tags": []
   },
   "outputs": [
    {
     "name": "stdout",
     "output_type": "stream",
     "text": [
      "Number of runs captured in file: 25\n",
      "First event metadata: {'eventId': 'fd4ccd42-cc9d-46fc-a15e-f9a57c3d49b8', 'inferenceTime': '2023-01-17T15:48:33Z'}\n",
      "First event input: -0.487992469762,-4.68752633632,-0.531035005853,0.6835280140459999,-0.249878134998,-1.4548099102599998,0.911305509169,-1.50374565743,0.0744005930549999,-1.65907154116,0.753910714007,4.118715879830001,0.524046172454,-0.6983871556769999,-0.0136025282872,0.526141521654,0.819752399532,0.173250955911,1.31109523215,1.08433954741,-0.343298899727,0.0359788216933,-0.544471065158,-1.80291390558,-1.11365344518,-1.31038864612,0.590006141241,0.336775965665,1.66703373391,-0.929197619977,1.6240393445200003,0.0369955754974999,2.14249964105,0.123231353882,-0.327906039797,0.334794077253,-0.1475151072959999,5.02883272727,-0.138939937573,-2.67788274678,-0.272038923137,-0.0118447132267,0.965614053843,0.279835630121,1.66366880218,-0.354265119001,-1.13651706594,0.311926656262,0.718029504487,1.85283943036,0.19924125634,-1.7125751151,-0.674314615685,-0.762094740538,1.3391269762,-1.3569039563,0.2593912212249999,-1.98465104175,1.86299808818,0.179274389387,-0.740842067889,-0.4994031369489999,1.17800966055,-0.244182270776,-1.65185915724,-0.321848084276,0.571343870464,0.316788310574,1.7147453296899997,0.544738626609,0.7892628170110001,-0.978486749902,-1.15860393289,0.277826297308,-0.283095013656,0.529895723761,-1.34497507608,-1.30986703082,-1.25371940694,-0.458381701131,-1.31520050722,1.74239954741,-0.2972571049549999,1.73175271947,-0.940739219665,0.982605306282,-0.577473273508,-0.617580397971,-0.888253570035,0.0368048927038,-1.33301666016,-0.197030042918,-2.15735868123,0.0868281232929999,-0.467029652751,0.592200249707,0.295227959423,0.909424065548,1.17781030043,-0.97655990636,-0.167484003121,-0.213350682794,-0.656085680843,-2.15404835739,-1.02323975029,1.6906986188100002,0.250401513851,1.41748143582,1.42174385486,-0.452406765509,0.380827132267,0.933610019508,-0.261671096371,3.08203196254,-1.48365102614,-0.576131587983,0.6886096449469999,-0.780927545845,0.188439742489,0.314003300819,0.0767277955521,4.08205816621,2.34072859149,0.701213570035,3.51058831057,-0.59602923137,-1.30314663285,0.8753025204...\n",
      "First event output: 0.009091285988688469\n"
     ]
    }
   ],
   "source": [
    "# Download the monitoring data from S3\n",
    "sagemaker_session.download_data(\n",
    "    \"data\", bucket=endpoint_capture_bucket, key_prefix=capture_files[0]\n",
    ")\n",
    "runs = []\n",
    "\n",
    "# Open the jsonlines file and summarize the contents\n",
    "with jsonlines.open(f\"data/{os.path.basename(capture_files[0])}\") as reader:\n",
    "    [runs.append(obj) for obj in reader]\n",
    "\n",
    "print(f\"Number of runs captured in file: {len(runs)}\")\n",
    "print(f\"First event metadata: {runs[0]['eventMetadata']}\")\n",
    "\n",
    "first_request = runs[0][\"captureData\"][\"endpointInput\"][\"data\"]\n",
    "print(f\"First event input: {first_request[:2000]}...\")\n",
    "\n",
    "first_response = runs[0][\"captureData\"][\"endpointOutput\"][\"data\"]\n",
    "\n",
    "print(f\"First event output: {first_response}\")"
   ]
  },
  {
   "cell_type": "markdown",
   "metadata": {},
   "source": [
    "Resubmit the data from the first prediction"
   ]
  },
  {
   "cell_type": "code",
   "execution_count": 15,
   "metadata": {
    "tags": []
   },
   "outputs": [
    {
     "data": {
      "text/plain": [
       "0.009091285988688469"
      ]
     },
     "execution_count": 15,
     "metadata": {},
     "output_type": "execute_result"
    }
   ],
   "source": [
    "predictor.predict(first_request)"
   ]
  },
  {
   "cell_type": "markdown",
   "metadata": {},
   "source": [
    "-----\n",
    "## 4. Explore the Model Lineage\n",
    "\n",
    "Effective model governance requires a detailed understanding of the data and data transformations used in the modeling process, in addition to nearly continuous tracking of all model development iterations. It is important to keep track of which dataset was used, what transformations were applied to the data, where the dataset was stored, and what type of model was built. This metadata that tracks the relationships between various entities in your ML workflows is called the \"lineage\".\n",
    "\n",
    "In this section, we'll explore the model artifacts and events that Amazon SageMaker ML Lineage Tracking creates for us automatically. We'll also see how to expand the lineage by manually adding additional artifacts."
   ]
  },
  {
   "cell_type": "markdown",
   "metadata": {},
   "source": [
    "### 4.1. Visualize Lineage Entities as a Table"
   ]
  },
  {
   "cell_type": "markdown",
   "metadata": {},
   "source": [
    "Amazon SageMaker automatically creates tracking entities for SageMaker jobs, models, model packages, and endpoints if the data is available."
   ]
  },
  {
   "cell_type": "code",
   "execution_count": 16,
   "metadata": {
    "tags": []
   },
   "outputs": [
    {
     "name": "stdout",
     "output_type": "stream",
     "text": [
      "PreprocessHER2Data\n"
     ]
    },
    {
     "data": {
      "text/html": [
       "<div>\n",
       "<style scoped>\n",
       "    .dataframe tbody tr th:only-of-type {\n",
       "        vertical-align: middle;\n",
       "    }\n",
       "\n",
       "    .dataframe tbody tr th {\n",
       "        vertical-align: top;\n",
       "    }\n",
       "\n",
       "    .dataframe thead th {\n",
       "        text-align: right;\n",
       "    }\n",
       "</style>\n",
       "<table border=\"1\" class=\"dataframe\">\n",
       "  <thead>\n",
       "    <tr style=\"text-align: right;\">\n",
       "      <th></th>\n",
       "      <th>Name/Source</th>\n",
       "      <th>Direction</th>\n",
       "      <th>Type</th>\n",
       "      <th>Association Type</th>\n",
       "      <th>Lineage Type</th>\n",
       "    </tr>\n",
       "  </thead>\n",
       "  <tbody>\n",
       "    <tr>\n",
       "      <th>0</th>\n",
       "      <td>s3://...7f94c93c49e0a11/input/code/preprocess.py</td>\n",
       "      <td>Input</td>\n",
       "      <td>DataSet</td>\n",
       "      <td>ContributedTo</td>\n",
       "      <td>artifact</td>\n",
       "    </tr>\n",
       "    <tr>\n",
       "      <th>1</th>\n",
       "      <td>68331...om/sagemaker-scikit-learn:0.23-1-cpu-py3</td>\n",
       "      <td>Input</td>\n",
       "      <td>Image</td>\n",
       "      <td>ContributedTo</td>\n",
       "      <td>artifact</td>\n",
       "    </tr>\n",
       "    <tr>\n",
       "      <th>2</th>\n",
       "      <td>s3://...85137f2ac62d07f94c93c49e0a11/output/test</td>\n",
       "      <td>Output</td>\n",
       "      <td>DataSet</td>\n",
       "      <td>Produced</td>\n",
       "      <td>artifact</td>\n",
       "    </tr>\n",
       "    <tr>\n",
       "      <th>3</th>\n",
       "      <td>s3://...2ac62d07f94c93c49e0a11/output/validation</td>\n",
       "      <td>Output</td>\n",
       "      <td>DataSet</td>\n",
       "      <td>Produced</td>\n",
       "      <td>artifact</td>\n",
       "    </tr>\n",
       "    <tr>\n",
       "      <th>4</th>\n",
       "      <td>s3://...5137f2ac62d07f94c93c49e0a11/output/train</td>\n",
       "      <td>Output</td>\n",
       "      <td>DataSet</td>\n",
       "      <td>Produced</td>\n",
       "      <td>artifact</td>\n",
       "    </tr>\n",
       "  </tbody>\n",
       "</table>\n",
       "</div>"
      ],
      "text/plain": [
       "                                        Name/Source Direction     Type  \\\n",
       "0  s3://...7f94c93c49e0a11/input/code/preprocess.py     Input  DataSet   \n",
       "1  68331...om/sagemaker-scikit-learn:0.23-1-cpu-py3     Input    Image   \n",
       "2  s3://...85137f2ac62d07f94c93c49e0a11/output/test    Output  DataSet   \n",
       "3  s3://...2ac62d07f94c93c49e0a11/output/validation    Output  DataSet   \n",
       "4  s3://...5137f2ac62d07f94c93c49e0a11/output/train    Output  DataSet   \n",
       "\n",
       "  Association Type Lineage Type  \n",
       "0    ContributedTo     artifact  \n",
       "1    ContributedTo     artifact  \n",
       "2         Produced     artifact  \n",
       "3         Produced     artifact  \n",
       "4         Produced     artifact  "
      ]
     },
     "metadata": {},
     "output_type": "display_data"
    },
    {
     "name": "stdout",
     "output_type": "stream",
     "text": [
      "TrainHER2Model\n"
     ]
    },
    {
     "data": {
      "text/html": [
       "<div>\n",
       "<style scoped>\n",
       "    .dataframe tbody tr th:only-of-type {\n",
       "        vertical-align: middle;\n",
       "    }\n",
       "\n",
       "    .dataframe tbody tr th {\n",
       "        vertical-align: top;\n",
       "    }\n",
       "\n",
       "    .dataframe thead th {\n",
       "        text-align: right;\n",
       "    }\n",
       "</style>\n",
       "<table border=\"1\" class=\"dataframe\">\n",
       "  <thead>\n",
       "    <tr style=\"text-align: right;\">\n",
       "      <th></th>\n",
       "      <th>Name/Source</th>\n",
       "      <th>Direction</th>\n",
       "      <th>Type</th>\n",
       "      <th>Association Type</th>\n",
       "      <th>Lineage Type</th>\n",
       "    </tr>\n",
       "  </thead>\n",
       "  <tbody>\n",
       "    <tr>\n",
       "      <th>0</th>\n",
       "      <td>s3://...2ac62d07f94c93c49e0a11/output/validation</td>\n",
       "      <td>Input</td>\n",
       "      <td>DataSet</td>\n",
       "      <td>ContributedTo</td>\n",
       "      <td>artifact</td>\n",
       "    </tr>\n",
       "    <tr>\n",
       "      <th>1</th>\n",
       "      <td>s3://...5137f2ac62d07f94c93c49e0a11/output/train</td>\n",
       "      <td>Input</td>\n",
       "      <td>DataSet</td>\n",
       "      <td>ContributedTo</td>\n",
       "      <td>artifact</td>\n",
       "    </tr>\n",
       "    <tr>\n",
       "      <th>2</th>\n",
       "      <td>68331...-1.amazonaws.com/sagemaker-xgboost:1.2-1</td>\n",
       "      <td>Input</td>\n",
       "      <td>Image</td>\n",
       "      <td>ContributedTo</td>\n",
       "      <td>artifact</td>\n",
       "    </tr>\n",
       "    <tr>\n",
       "      <th>3</th>\n",
       "      <td>s3://...HER2Model-vwZcHpmzyU/output/model.tar.gz</td>\n",
       "      <td>Output</td>\n",
       "      <td>Model</td>\n",
       "      <td>Produced</td>\n",
       "      <td>artifact</td>\n",
       "    </tr>\n",
       "  </tbody>\n",
       "</table>\n",
       "</div>"
      ],
      "text/plain": [
       "                                        Name/Source Direction     Type  \\\n",
       "0  s3://...2ac62d07f94c93c49e0a11/output/validation     Input  DataSet   \n",
       "1  s3://...5137f2ac62d07f94c93c49e0a11/output/train     Input  DataSet   \n",
       "2  68331...-1.amazonaws.com/sagemaker-xgboost:1.2-1     Input    Image   \n",
       "3  s3://...HER2Model-vwZcHpmzyU/output/model.tar.gz    Output    Model   \n",
       "\n",
       "  Association Type Lineage Type  \n",
       "0    ContributedTo     artifact  \n",
       "1    ContributedTo     artifact  \n",
       "2    ContributedTo     artifact  \n",
       "3         Produced     artifact  "
      ]
     },
     "metadata": {},
     "output_type": "display_data"
    },
    {
     "name": "stdout",
     "output_type": "stream",
     "text": [
      "EvaluateHER2Model\n"
     ]
    },
    {
     "data": {
      "text/html": [
       "<div>\n",
       "<style scoped>\n",
       "    .dataframe tbody tr th:only-of-type {\n",
       "        vertical-align: middle;\n",
       "    }\n",
       "\n",
       "    .dataframe tbody tr th {\n",
       "        vertical-align: top;\n",
       "    }\n",
       "\n",
       "    .dataframe thead th {\n",
       "        text-align: right;\n",
       "    }\n",
       "</style>\n",
       "<table border=\"1\" class=\"dataframe\">\n",
       "  <thead>\n",
       "    <tr style=\"text-align: right;\">\n",
       "      <th></th>\n",
       "      <th>Name/Source</th>\n",
       "      <th>Direction</th>\n",
       "      <th>Type</th>\n",
       "      <th>Association Type</th>\n",
       "      <th>Lineage Type</th>\n",
       "    </tr>\n",
       "  </thead>\n",
       "  <tbody>\n",
       "    <tr>\n",
       "      <th>0</th>\n",
       "      <td>s3://...0504db0887bb651b2/input/code/evaluate.py</td>\n",
       "      <td>Input</td>\n",
       "      <td>DataSet</td>\n",
       "      <td>ContributedTo</td>\n",
       "      <td>artifact</td>\n",
       "    </tr>\n",
       "    <tr>\n",
       "      <th>1</th>\n",
       "      <td>s3://...85137f2ac62d07f94c93c49e0a11/output/test</td>\n",
       "      <td>Input</td>\n",
       "      <td>DataSet</td>\n",
       "      <td>ContributedTo</td>\n",
       "      <td>artifact</td>\n",
       "    </tr>\n",
       "    <tr>\n",
       "      <th>2</th>\n",
       "      <td>s3://...HER2Model-vwZcHpmzyU/output/model.tar.gz</td>\n",
       "      <td>Input</td>\n",
       "      <td>Model</td>\n",
       "      <td>ContributedTo</td>\n",
       "      <td>artifact</td>\n",
       "    </tr>\n",
       "    <tr>\n",
       "      <th>3</th>\n",
       "      <td>68331...-1.amazonaws.com/sagemaker-xgboost:1.2-1</td>\n",
       "      <td>Input</td>\n",
       "      <td>Image</td>\n",
       "      <td>ContributedTo</td>\n",
       "      <td>artifact</td>\n",
       "    </tr>\n",
       "    <tr>\n",
       "      <th>4</th>\n",
       "      <td>s3://...5f1c30504db0887bb651b2/output/evaluation</td>\n",
       "      <td>Output</td>\n",
       "      <td>DataSet</td>\n",
       "      <td>Produced</td>\n",
       "      <td>artifact</td>\n",
       "    </tr>\n",
       "  </tbody>\n",
       "</table>\n",
       "</div>"
      ],
      "text/plain": [
       "                                        Name/Source Direction     Type  \\\n",
       "0  s3://...0504db0887bb651b2/input/code/evaluate.py     Input  DataSet   \n",
       "1  s3://...85137f2ac62d07f94c93c49e0a11/output/test     Input  DataSet   \n",
       "2  s3://...HER2Model-vwZcHpmzyU/output/model.tar.gz     Input    Model   \n",
       "3  68331...-1.amazonaws.com/sagemaker-xgboost:1.2-1     Input    Image   \n",
       "4  s3://...5f1c30504db0887bb651b2/output/evaluation    Output  DataSet   \n",
       "\n",
       "  Association Type Lineage Type  \n",
       "0    ContributedTo     artifact  \n",
       "1    ContributedTo     artifact  \n",
       "2    ContributedTo     artifact  \n",
       "3    ContributedTo     artifact  \n",
       "4         Produced     artifact  "
      ]
     },
     "metadata": {},
     "output_type": "display_data"
    },
    {
     "name": "stdout",
     "output_type": "stream",
     "text": [
      "CheckHER2Evaluation\n"
     ]
    },
    {
     "data": {
      "text/plain": [
       "None"
      ]
     },
     "metadata": {},
     "output_type": "display_data"
    },
    {
     "name": "stdout",
     "output_type": "stream",
     "text": [
      "RegisterHER2Model\n"
     ]
    },
    {
     "data": {
      "text/html": [
       "<div>\n",
       "<style scoped>\n",
       "    .dataframe tbody tr th:only-of-type {\n",
       "        vertical-align: middle;\n",
       "    }\n",
       "\n",
       "    .dataframe tbody tr th {\n",
       "        vertical-align: top;\n",
       "    }\n",
       "\n",
       "    .dataframe thead th {\n",
       "        text-align: right;\n",
       "    }\n",
       "</style>\n",
       "<table border=\"1\" class=\"dataframe\">\n",
       "  <thead>\n",
       "    <tr style=\"text-align: right;\">\n",
       "      <th></th>\n",
       "      <th>Name/Source</th>\n",
       "      <th>Direction</th>\n",
       "      <th>Type</th>\n",
       "      <th>Association Type</th>\n",
       "      <th>Lineage Type</th>\n",
       "    </tr>\n",
       "  </thead>\n",
       "  <tbody>\n",
       "    <tr>\n",
       "      <th>0</th>\n",
       "      <td>test-130114-p-8mnczdo8en5d-2-Approved-16739701...</td>\n",
       "      <td>Input</td>\n",
       "      <td>Approval</td>\n",
       "      <td>ContributedTo</td>\n",
       "      <td>action</td>\n",
       "    </tr>\n",
       "    <tr>\n",
       "      <th>1</th>\n",
       "      <td>s3://...HER2Model-vwZcHpmzyU/output/model.tar.gz</td>\n",
       "      <td>Input</td>\n",
       "      <td>Model</td>\n",
       "      <td>ContributedTo</td>\n",
       "      <td>artifact</td>\n",
       "    </tr>\n",
       "    <tr>\n",
       "      <th>2</th>\n",
       "      <td>68331...-1.amazonaws.com/sagemaker-xgboost:1.2-1</td>\n",
       "      <td>Input</td>\n",
       "      <td>Image</td>\n",
       "      <td>ContributedTo</td>\n",
       "      <td>artifact</td>\n",
       "    </tr>\n",
       "    <tr>\n",
       "      <th>3</th>\n",
       "      <td>test-130114-p-8mnczdo8en5d-2-PendingManualAppr...</td>\n",
       "      <td>Input</td>\n",
       "      <td>Approval</td>\n",
       "      <td>ContributedTo</td>\n",
       "      <td>action</td>\n",
       "    </tr>\n",
       "    <tr>\n",
       "      <th>4</th>\n",
       "      <td>test-130114-staging-1673970185-1-aws-endpoint</td>\n",
       "      <td>Output</td>\n",
       "      <td>ModelDeployment</td>\n",
       "      <td>ContributedTo</td>\n",
       "      <td>action</td>\n",
       "    </tr>\n",
       "    <tr>\n",
       "      <th>5</th>\n",
       "      <td>test-130114-p-8mnczdo8en5d-1673749701-aws-mode...</td>\n",
       "      <td>Output</td>\n",
       "      <td>ModelGroup</td>\n",
       "      <td>AssociatedWith</td>\n",
       "      <td>context</td>\n",
       "    </tr>\n",
       "  </tbody>\n",
       "</table>\n",
       "</div>"
      ],
      "text/plain": [
       "                                         Name/Source Direction  \\\n",
       "0  test-130114-p-8mnczdo8en5d-2-Approved-16739701...     Input   \n",
       "1   s3://...HER2Model-vwZcHpmzyU/output/model.tar.gz     Input   \n",
       "2   68331...-1.amazonaws.com/sagemaker-xgboost:1.2-1     Input   \n",
       "3  test-130114-p-8mnczdo8en5d-2-PendingManualAppr...     Input   \n",
       "4      test-130114-staging-1673970185-1-aws-endpoint    Output   \n",
       "5  test-130114-p-8mnczdo8en5d-1673749701-aws-mode...    Output   \n",
       "\n",
       "              Type Association Type Lineage Type  \n",
       "0         Approval    ContributedTo       action  \n",
       "1            Model    ContributedTo     artifact  \n",
       "2            Image    ContributedTo     artifact  \n",
       "3         Approval    ContributedTo       action  \n",
       "4  ModelDeployment    ContributedTo       action  \n",
       "5       ModelGroup   AssociatedWith      context  "
      ]
     },
     "metadata": {},
     "output_type": "display_data"
    }
   ],
   "source": [
    "from sagemaker.workflow import pipeline\n",
    "\n",
    "pipeline_execution_arn = (\n",
    "    sagemaker_boto_client.list_pipeline_executions(PipelineName=pipeline_name)\n",
    "    .get(\"PipelineExecutionSummaries\")[0]\n",
    "    .get(\"PipelineExecutionArn\")\n",
    ")\n",
    "\n",
    "execution = sagemaker.workflow.pipeline._PipelineExecution(arn=pipeline_execution_arn)\n",
    "table_viz = LineageTableVisualizer(sagemaker_session=sagemaker_session)\n",
    "for execution_step in reversed(execution.list_steps()):\n",
    "    print(execution_step.get(\"StepName\"))\n",
    "    display(table_viz.show(pipeline_execution_step=execution_step))\n",
    "    sleep(1)"
   ]
  },
  {
   "cell_type": "markdown",
   "metadata": {},
   "source": [
    "### 4.2. Visualize Lineage Entities as a Graph"
   ]
  },
  {
   "cell_type": "markdown",
   "metadata": {},
   "source": [
    "We can also visualize the ML lineage as a graph."
   ]
  },
  {
   "cell_type": "code",
   "execution_count": null,
   "metadata": {
    "tags": []
   },
   "outputs": [],
   "source": [
    "endpoint_info = sagemaker_boto_client.describe_endpoint(\n",
    "    EndpointName=staging_endpoint_name\n",
    ")\n",
    "endpoint_arn = endpoint_info[\"EndpointArn\"]\n",
    "print(f\"Endpoint Name: {endpoint_info['EndpointName']}\")\n",
    "\n",
    "# Get the endpoint context for querying the lineage graph\n",
    "contexts = Context.list(source_uri=endpoint_arn, sagemaker_session=sagemaker_session)\n",
    "context_name = list(contexts)[0].context_name\n",
    "\n",
    "viz = Visualizer()\n",
    "print(\"Querying lineage for context\", context_name)\n",
    "endpoint_context = EndpointContext.load(\n",
    "    context_name=context_name, sagemaker_session=sagemaker_session\n",
    ")\n",
    "query_response = sagemaker_boto_client.query_lineage(\n",
    "    StartArns=[endpoint_context.context_arn],\n",
    "    Direction=\"Ascendants\",\n",
    "    IncludeEdges=True,\n",
    ")\n",
    "viz.render(query_response, \"Endpoint\", sagemaker_session=sagemaker_session)"
   ]
  },
  {
   "cell_type": "markdown",
   "metadata": {},
   "source": [
    "![Example lineage graph](img/lineage_graph.png)\n"
   ]
  },
  {
   "cell_type": "markdown",
   "metadata": {
    "jp-MarkdownHeadingCollapsed": true,
    "tags": []
   },
   "source": [
    "## 5. (Optional) Deploy to Production\n",
    "1. In the AWS Console, search for and select **CodePipeline**.\n",
    "\n",
    "![Search for CodePipeline](img/code-pipeline.png)\n",
    "\n",
    "2. Navigate to **Pipeline > Pipelines** and select the model deploy pipeline already in progress.\n",
    "\n",
    "![Find Prod Deploy Pipeline](img/find-prod-deploy.png)\n",
    "\n",
    "3. Scroll down to the **DeployStaging** stage and select Review.\n",
    "\n",
    "![Select Review](img/deploy-stage.png)\n",
    "\n",
    "4. Select **Approve** in the Review view.\n",
    "\n",
    "![Approve Prod Deployment](img/approve-prod.png)\n",
    "\n",
    "5. Navigate back to the SageMaker Project view. After several minutes, a second \"prod\" endpoint will appear.\n",
    "\n",
    "![Second Endpoint](img/second-endpoint.png)\n"
   ]
  },
  {
   "cell_type": "markdown",
   "metadata": {},
   "source": [
    "## 6. Clean Up"
   ]
  },
  {
   "cell_type": "code",
   "execution_count": null,
   "metadata": {
    "tags": []
   },
   "outputs": [],
   "source": [
    "# Delete model registry records\n",
    "for package in sagemaker_boto_client.list_model_packages(\n",
    "    ModelPackageGroupName=pipeline_name\n",
    ").get(\"ModelPackageSummaryList\"):\n",
    "    print(package)\n",
    "    sagemaker_boto_client.delete_model_package(\n",
    "        ModelPackageName=package.get(\"ModelPackageArn\")\n",
    "    )\n",
    "sagemaker_boto_client.delete_model_package_group(ModelPackageGroupName=pipeline_name)\n",
    "\n",
    "# Delete endpoint\n",
    "predictor.delete_endpoint()\n",
    "\n",
    "# Delete pipeline\n",
    "sagemaker_boto_client.delete_pipeline(PipelineName=pipeline_name)\n",
    "\n",
    "# Delete all S3 objects\n",
    "bucket = boto_session.resource(\"s3\").Bucket(s3_bucket)\n",
    "bucket.objects.filter().delete()\n",
    "bucket.delete()\n",
    "\n",
    "# Delete Project\n",
    "sagemaker_boto_client.delete_project(ProjectName=project_name)\n",
    "\n",
    "# Delete deployment infrastructure\n",
    "cfn = boto3.client(\"cloudformation\")\n",
    "cfn.delete_stack(StackName=f\"sagemaker-{project_name}-{project_id}-deploy-staging\")\n",
    "cfn.delete_stack(StackName=f\"sagemaker-{project_name}-{project_id}-deploy-prod\")\n",
    "\n",
    "# Delete local  objects\n",
    "import shutil\n",
    "shutil.rmtree(f\"~/{project_name}-{project_id}\", ignore_errors=True)\n",
    "shutil.rmtree(\"data\", ignore_errors=True)\n",
    "shutil.rmtree(\"models\", ignore_errors=True)\n",
    "shutil.rmtree(\"generated\", ignore_errors=True)\n",
    "shutil.rmtree(\"training_reports\", ignore_errors=True)"
   ]
  },
  {
   "cell_type": "code",
   "execution_count": null,
   "metadata": {},
   "outputs": [],
   "source": []
  }
 ],
 "metadata": {
  "instance_type": "ml.t3.medium",
  "interpreter": {
   "hash": "fcd20795596b30c7734a8efd08df92d501ca130112f67abeee93ccff645bf25b"
  },
  "kernelspec": {
   "display_name": "Python 3 (Data Science 3.0)",
   "language": "python",
   "name": "python3__SAGEMAKER_INTERNAL__arn:aws:sagemaker:us-east-1:081325390199:image/sagemaker-data-science-310-v1"
  },
  "language_info": {
   "codemirror_mode": {
    "name": "ipython",
    "version": 3
   },
   "file_extension": ".py",
   "mimetype": "text/x-python",
   "name": "python",
   "nbconvert_exporter": "python",
   "pygments_lexer": "ipython3",
   "version": "3.10.6"
  }
 },
 "nbformat": 4,
 "nbformat_minor": 4
}
