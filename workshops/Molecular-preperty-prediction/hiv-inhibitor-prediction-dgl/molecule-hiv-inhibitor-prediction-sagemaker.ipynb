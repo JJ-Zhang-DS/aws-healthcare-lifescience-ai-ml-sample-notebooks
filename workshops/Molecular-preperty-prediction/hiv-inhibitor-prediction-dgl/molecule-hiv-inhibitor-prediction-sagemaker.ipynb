{
 "cells": [
  {
   "cell_type": "markdown",
   "metadata": {},
   "source": [
    "# HIV Inhibitor prediction using GNN on Amazon SageMaker\n",
    "\n",
    "## Motivation :\n",
    "\n",
    "The human immunodeficiency virus type 1 (HIV-1) is the primary cause of the acquired immunodeficiency syndrome (AIDS), which is a slow, progressive and degenerative disease of the human immune system. The pathogenesis of HIV-1 is complex and characterized by the interplay of both viral and host factors. An intense global research effort into understanding the individual steps of the viral replication cycle and the dynamics during an infection has inspired researchers in the development of a wide spectrum of antiviral strategies.\n",
    "\n",
    "![Inhibitor](img/1.jpg)\n",
    "<div style=\"text-align: center\">\n",
    "<font size=1> \n",
    "Image Source : Biological evaluation of molecules of the azaBINOL class as antiviral agents (https://www.sciencedirect.com/science/article/abs/pii/S0968089619306704)\n",
    " </font>\n",
    "</div>\n",
    "\n",
    "<br/>\n",
    "<br/>\n",
    "<br/>\n",
    "\n",
    "The purpose of this effort here is to predict the target molecular properties as accurately as possible, where the molecular properties are cast as binary labels, e.g, whether a molecule inhibits HIV virus replication or not, using Graph machine learning techniques which can leveraged as a virtual screening step.\n",
    "\n",
    "\n",
    "### DGL :\n",
    "\n",
    "Deep Graph Library (DGL) is a Python package built for easy implementation of graph neural network model family, on top of existing DL frameworks (currently supporting PyTorch, MXNet and TensorFlow). It offers a versatile control of message passing, speed optimization via auto-batching and highly tuned sparse matrix kernels, and multi-GPU/CPU training to scale to graphs of hundreds of millions of nodes and edges.\n",
    "\n",
    "https://www.dgl.ai/\n",
    "\n",
    "\n",
    "### DGL Life Science : \n",
    "\n",
    "DGL Life Sciences is an abstraction library built on top of DGL with the aim of bringing Graph Neural Networks to Chemistry and Biology.\n",
    "It is a python package for applying graph neural networks to various tasks in chemistry and biology, on top of PyTorch and DGL. \n",
    "\n",
    "It provides:\n",
    "\n",
    "* Various utilities for data processing, training and evaluation.\n",
    "\n",
    "* Efficient and flexible model implementations.\n",
    "\n",
    "* Pre-trained models for use without training from scratch.\n",
    "\n",
    "\n",
    "## Notebook Overview\n",
    "\n",
    "This example notebook focuses on training multiple Graph neural network models using Deep Graph Librar and deploying it using Amazon SageMaker, which is a  comprehensive and fully managed machine learning service. With SageMaker, data scientists and developers can quickly and easily build and train machine learning models, and then directly deploy them into a production-ready hosted environment. \n",
    "\n",
    "**Note:** Please select the Kernel as Python 3 (Pytorch 1.6 Python 3.6 CPU Optimized).\n",
    "\n"
   ]
  },
  {
   "cell_type": "markdown",
   "metadata": {},
   "source": [
    "### setup"
   ]
  },
  {
   "cell_type": "markdown",
   "metadata": {},
   "source": [
    "Let's start by installing dgl libraries latest sagemaker version and importinn some Python libraries."
   ]
  },
  {
   "cell_type": "code",
   "execution_count": 7,
   "metadata": {},
   "outputs": [
    {
     "name": "stdout",
     "output_type": "stream",
     "text": [
      "\u001b[33mWARNING: Running pip as the 'root' user can result in broken permissions and conflicting behaviour with the system package manager. It is recommended to use a virtual environment instead: https://pip.pypa.io/warnings/venv\u001b[0m\n",
      "Note: you may need to restart the kernel to use updated packages.\n",
      "\u001b[33mWARNING: Running pip as the 'root' user can result in broken permissions and conflicting behaviour with the system package manager. It is recommended to use a virtual environment instead: https://pip.pypa.io/warnings/venv\u001b[0m\n",
      "Note: you may need to restart the kernel to use updated packages.\n",
      "\u001b[33mWARNING: Running pip as the 'root' user can result in broken permissions and conflicting behaviour with the system package manager. It is recommended to use a virtual environment instead: https://pip.pypa.io/warnings/venv\u001b[0m\n",
      "Note: you may need to restart the kernel to use updated packages.\n",
      "\u001b[33mWARNING: Running pip as the 'root' user can result in broken permissions and conflicting behaviour with the system package manager. It is recommended to use a virtual environment instead: https://pip.pypa.io/warnings/venv\u001b[0m\n",
      "Note: you may need to restart the kernel to use updated packages.\n"
     ]
    }
   ],
   "source": [
    "%pip install --quiet dgl\n",
    "%pip install --quiet dgllife\n",
    "%pip install -U --quiet sagemaker==\"2.75.1\"\n",
    "%pip install --quiet rdkit-pypi"
   ]
  },
  {
   "cell_type": "code",
   "execution_count": 8,
   "metadata": {},
   "outputs": [
    {
     "name": "stderr",
     "output_type": "stream",
     "text": [
      "Using backend: pytorch\n"
     ]
    }
   ],
   "source": [
    "from functools import partial\n",
    "import numpy as np\n",
    "import torch\n",
    "import torch.nn as nn\n",
    "import pandas as pd\n",
    "\n",
    "import dgl\n",
    "\n",
    "from dgllife.model import load_pretrained\n",
    "from dgllife.utils import smiles_to_bigraph, EarlyStopping, Meter, CanonicalAtomFeaturizer, CanonicalBondFeaturizer\n",
    "from functools import partial\n",
    "from torch.optim import Adam\n",
    "from torch.utils.data import DataLoader\n",
    "\n",
    "from dgllife.data import HIV\n",
    "\n",
    "import rdkit\n",
    "from rdkit import Chem\n",
    "from rdkit.Chem import Draw"
   ]
  },
  {
   "cell_type": "code",
   "execution_count": 9,
   "metadata": {},
   "outputs": [
    {
     "data": {
      "text/plain": [
       "'2021.09.4'"
      ]
     },
     "execution_count": 9,
     "metadata": {},
     "output_type": "execute_result"
    }
   ],
   "source": [
    "rdkit.__version__"
   ]
  },
  {
   "cell_type": "code",
   "execution_count": 10,
   "metadata": {},
   "outputs": [],
   "source": [
    "node_featurizer = CanonicalAtomFeaturizer(atom_data_field='feat')\n",
    "edge_featurizer = None#CanonicalBondFeaturizer(bond_data_field='feat1')\n",
    "num_workers = 1\n",
    "split_ratio = \"0.7:0.2:0.1\""
   ]
  },
  {
   "cell_type": "markdown",
   "metadata": {},
   "source": [
    "### Dataset"
   ]
  },
  {
   "cell_type": "markdown",
   "metadata": {},
   "source": [
    "The HIV dataset was introduced by the Drug Therapeutics Program (DTP) AIDS Antiviral Screen, which tested the ability to inhibit HIV replication for over 40,000 compounds. Screening results were evaluated and placed into three categories: confirmed inactive (CI),confirmed active (CA) and confirmed moderately active (CM). We further combine the latter two labels, making it a classification task between inactive (CI) and active (CA and CM).\n",
    "\n",
    "While the row dataset can be downloaded from here (https://moleculenet.org/datasets-1) , DGL-LifeSci library provides an highlevel interface to download the dataset as part of it's Datasets package (https://lifesci.dgl.ai/api/data.html#hiv). "
   ]
  },
  {
   "cell_type": "code",
   "execution_count": 11,
   "metadata": {},
   "outputs": [
    {
     "name": "stdout",
     "output_type": "stream",
     "text": [
      "Processing dgl graphs from scratch...\n",
      "Processing molecule 1000/41127\n",
      "Processing molecule 2000/41127\n",
      "Processing molecule 3000/41127\n",
      "Processing molecule 4000/41127\n",
      "Processing molecule 5000/41127\n",
      "Processing molecule 6000/41127\n",
      "Processing molecule 7000/41127\n",
      "Processing molecule 8000/41127\n",
      "Processing molecule 9000/41127\n",
      "Processing molecule 10000/41127\n",
      "Processing molecule 11000/41127\n",
      "Processing molecule 12000/41127\n",
      "Processing molecule 13000/41127\n",
      "Processing molecule 14000/41127\n",
      "Processing molecule 15000/41127\n",
      "Processing molecule 16000/41127\n",
      "Processing molecule 17000/41127\n",
      "Processing molecule 18000/41127\n",
      "Processing molecule 19000/41127\n",
      "Processing molecule 20000/41127\n",
      "Processing molecule 21000/41127\n",
      "Processing molecule 22000/41127\n",
      "Processing molecule 23000/41127\n",
      "Processing molecule 24000/41127\n",
      "Processing molecule 25000/41127\n",
      "Processing molecule 26000/41127\n",
      "Processing molecule 27000/41127\n",
      "Processing molecule 28000/41127\n",
      "Processing molecule 29000/41127\n",
      "Processing molecule 30000/41127\n",
      "Processing molecule 31000/41127\n",
      "Processing molecule 32000/41127\n",
      "Processing molecule 33000/41127\n",
      "Processing molecule 34000/41127\n",
      "Processing molecule 35000/41127\n",
      "Processing molecule 36000/41127\n",
      "Processing molecule 37000/41127\n",
      "Processing molecule 38000/41127\n",
      "Processing molecule 39000/41127\n",
      "Processing molecule 40000/41127\n",
      "Processing molecule 41000/41127\n"
     ]
    }
   ],
   "source": [
    "dataset = HIV(smiles_to_graph=partial(smiles_to_bigraph, add_self_loop=True),\n",
    "                  node_featurizer=node_featurizer,\n",
    "                  edge_featurizer=edge_featurizer,\n",
    "                  n_jobs=num_workers)"
   ]
  },
  {
   "cell_type": "code",
   "execution_count": 12,
   "metadata": {},
   "outputs": [
    {
     "data": {
      "text/plain": [
       "dgllife.data.hiv.HIV"
      ]
     },
     "execution_count": 12,
     "metadata": {},
     "output_type": "execute_result"
    }
   ],
   "source": [
    "type(dataset)"
   ]
  },
  {
   "cell_type": "markdown",
   "metadata": {},
   "source": [
    "### Explore the dataset"
   ]
  },
  {
   "cell_type": "code",
   "execution_count": 13,
   "metadata": {},
   "outputs": [
    {
     "data": {
      "text/plain": [
       "(41127, 2)"
      ]
     },
     "execution_count": 13,
     "metadata": {},
     "output_type": "execute_result"
    }
   ],
   "source": [
    "dataset.df.shape"
   ]
  },
  {
   "cell_type": "code",
   "execution_count": 14,
   "metadata": {},
   "outputs": [
    {
     "data": {
      "text/html": [
       "<div>\n",
       "<style scoped>\n",
       "    .dataframe tbody tr th:only-of-type {\n",
       "        vertical-align: middle;\n",
       "    }\n",
       "\n",
       "    .dataframe tbody tr th {\n",
       "        vertical-align: top;\n",
       "    }\n",
       "\n",
       "    .dataframe thead th {\n",
       "        text-align: right;\n",
       "    }\n",
       "</style>\n",
       "<table border=\"1\" class=\"dataframe\">\n",
       "  <thead>\n",
       "    <tr style=\"text-align: right;\">\n",
       "      <th></th>\n",
       "      <th>smiles</th>\n",
       "      <th>HIV_active</th>\n",
       "    </tr>\n",
       "  </thead>\n",
       "  <tbody>\n",
       "    <tr>\n",
       "      <th>0</th>\n",
       "      <td>CCC1=[O+][Cu-3]2([O+]=C(CC)C1)[O+]=C(CC)CC(CC)...</td>\n",
       "      <td>0</td>\n",
       "    </tr>\n",
       "    <tr>\n",
       "      <th>1</th>\n",
       "      <td>C(=Cc1ccccc1)C1=[O+][Cu-3]2([O+]=C(C=Cc3ccccc3...</td>\n",
       "      <td>0</td>\n",
       "    </tr>\n",
       "    <tr>\n",
       "      <th>2</th>\n",
       "      <td>CC(=O)N1c2ccccc2Sc2c1ccc1ccccc21</td>\n",
       "      <td>0</td>\n",
       "    </tr>\n",
       "    <tr>\n",
       "      <th>3</th>\n",
       "      <td>Nc1ccc(C=Cc2ccc(N)cc2S(=O)(=O)O)c(S(=O)(=O)O)c1</td>\n",
       "      <td>0</td>\n",
       "    </tr>\n",
       "    <tr>\n",
       "      <th>4</th>\n",
       "      <td>O=S(=O)(O)CCS(=O)(=O)O</td>\n",
       "      <td>0</td>\n",
       "    </tr>\n",
       "    <tr>\n",
       "      <th>5</th>\n",
       "      <td>CCOP(=O)(Nc1cccc(Cl)c1)OCC</td>\n",
       "      <td>0</td>\n",
       "    </tr>\n",
       "    <tr>\n",
       "      <th>6</th>\n",
       "      <td>O=C(O)c1ccccc1O</td>\n",
       "      <td>0</td>\n",
       "    </tr>\n",
       "    <tr>\n",
       "      <th>7</th>\n",
       "      <td>CC1=C2C(=COC(C)C2C)C(O)=C(C(=O)O)C1=O</td>\n",
       "      <td>0</td>\n",
       "    </tr>\n",
       "    <tr>\n",
       "      <th>8</th>\n",
       "      <td>O=[N+]([O-])c1ccc(SSc2ccc([N+](=O)[O-])cc2[N+]...</td>\n",
       "      <td>0</td>\n",
       "    </tr>\n",
       "    <tr>\n",
       "      <th>9</th>\n",
       "      <td>O=[N+]([O-])c1ccccc1SSc1ccccc1[N+](=O)[O-]</td>\n",
       "      <td>0</td>\n",
       "    </tr>\n",
       "    <tr>\n",
       "      <th>10</th>\n",
       "      <td>CC(C)(CCC(=O)O)CCC(=O)O</td>\n",
       "      <td>0</td>\n",
       "    </tr>\n",
       "    <tr>\n",
       "      <th>11</th>\n",
       "      <td>O=C(O)Cc1ccc(SSc2ccc(CC(=O)O)cc2)cc1</td>\n",
       "      <td>1</td>\n",
       "    </tr>\n",
       "    <tr>\n",
       "      <th>12</th>\n",
       "      <td>O=C(O)c1ccccc1SSc1ccccc1C(=O)O</td>\n",
       "      <td>0</td>\n",
       "    </tr>\n",
       "    <tr>\n",
       "      <th>13</th>\n",
       "      <td>CCCCCCCCCCCC(=O)Nc1ccc(SSc2ccc(NC(=O)CCCCCCCCC...</td>\n",
       "      <td>0</td>\n",
       "    </tr>\n",
       "    <tr>\n",
       "      <th>14</th>\n",
       "      <td>Sc1cccc2c(S)cccc12</td>\n",
       "      <td>0</td>\n",
       "    </tr>\n",
       "  </tbody>\n",
       "</table>\n",
       "</div>"
      ],
      "text/plain": [
       "                                               smiles  HIV_active\n",
       "0   CCC1=[O+][Cu-3]2([O+]=C(CC)C1)[O+]=C(CC)CC(CC)...           0\n",
       "1   C(=Cc1ccccc1)C1=[O+][Cu-3]2([O+]=C(C=Cc3ccccc3...           0\n",
       "2                    CC(=O)N1c2ccccc2Sc2c1ccc1ccccc21           0\n",
       "3     Nc1ccc(C=Cc2ccc(N)cc2S(=O)(=O)O)c(S(=O)(=O)O)c1           0\n",
       "4                              O=S(=O)(O)CCS(=O)(=O)O           0\n",
       "5                          CCOP(=O)(Nc1cccc(Cl)c1)OCC           0\n",
       "6                                     O=C(O)c1ccccc1O           0\n",
       "7               CC1=C2C(=COC(C)C2C)C(O)=C(C(=O)O)C1=O           0\n",
       "8   O=[N+]([O-])c1ccc(SSc2ccc([N+](=O)[O-])cc2[N+]...           0\n",
       "9          O=[N+]([O-])c1ccccc1SSc1ccccc1[N+](=O)[O-]           0\n",
       "10                            CC(C)(CCC(=O)O)CCC(=O)O           0\n",
       "11               O=C(O)Cc1ccc(SSc2ccc(CC(=O)O)cc2)cc1           1\n",
       "12                     O=C(O)c1ccccc1SSc1ccccc1C(=O)O           0\n",
       "13  CCCCCCCCCCCC(=O)Nc1ccc(SSc2ccc(NC(=O)CCCCCCCCC...           0\n",
       "14                                 Sc1cccc2c(S)cccc12           0"
      ]
     },
     "execution_count": 14,
     "metadata": {},
     "output_type": "execute_result"
    }
   ],
   "source": [
    "dataset.df.head(15)"
   ]
  },
  {
   "cell_type": "markdown",
   "metadata": {},
   "source": [
    "* Dataset containes ~41K molecules in `smiles` format.\n",
    "* The `HIV_active` column (label) indicates that the molecule is a suitable HIV inhibitor or not. "
   ]
  },
  {
   "cell_type": "markdown",
   "metadata": {},
   "source": [
    "First, let's verify if there are any missing values in the dataset."
   ]
  },
  {
   "cell_type": "code",
   "execution_count": 15,
   "metadata": {},
   "outputs": [
    {
     "name": "stdout",
     "output_type": "stream",
     "text": [
      "<class 'pandas.core.frame.DataFrame'>\n",
      "RangeIndex: 41127 entries, 0 to 41126\n",
      "Data columns (total 2 columns):\n",
      " #   Column      Non-Null Count  Dtype \n",
      "---  ------      --------------  ----- \n",
      " 0   smiles      41127 non-null  object\n",
      " 1   HIV_active  41127 non-null  int64 \n",
      "dtypes: int64(1), object(1)\n",
      "memory usage: 642.7+ KB\n"
     ]
    }
   ],
   "source": [
    "dataset.df.info()"
   ]
  },
  {
   "cell_type": "code",
   "execution_count": 16,
   "metadata": {},
   "outputs": [
    {
     "data": {
      "text/plain": [
       "False"
      ]
     },
     "execution_count": 16,
     "metadata": {},
     "output_type": "execute_result"
    }
   ],
   "source": [
    "dataset.df.isnull().values.any()"
   ]
  },
  {
   "cell_type": "markdown",
   "metadata": {},
   "source": [
    "As you can see, there are `no` missing values in this dataset. Then let's explore the class distribution of the dataset."
   ]
  },
  {
   "cell_type": "code",
   "execution_count": 17,
   "metadata": {},
   "outputs": [
    {
     "data": {
      "text/plain": [
       "0    39684\n",
       "1     1443\n",
       "Name: HIV_active, dtype: int64"
      ]
     },
     "execution_count": 17,
     "metadata": {},
     "output_type": "execute_result"
    }
   ],
   "source": [
    "dataset.df['HIV_active'].value_counts()"
   ]
  },
  {
   "cell_type": "code",
   "execution_count": 18,
   "metadata": {},
   "outputs": [
    {
     "data": {
      "text/plain": [
       "<AxesSubplot:>"
      ]
     },
     "execution_count": 18,
     "metadata": {},
     "output_type": "execute_result"
    },
    {
     "data": {
      "image/png": "[encoded data removed]",
      "text/plain": [
       "<Figure size 432x288 with 1 Axes>"
      ]
     },
     "metadata": {
      "needs_background": "light"
     },
     "output_type": "display_data"
    }
   ],
   "source": [
    "dataset.df['HIV_active'].value_counts().plot(kind='bar')"
   ]
  },
  {
   "cell_type": "markdown",
   "metadata": {},
   "source": [
    "* Dataset is heavily imbalaced as there are only ~3% compounts were screened as HIV inhibtiors."
   ]
  },
  {
   "cell_type": "markdown",
   "metadata": {},
   "source": [
    "### Explore molecules (with RDKit)\n",
    "\n",
    "The RDKit is an open-source cheminformatics toolkit. It includes a collection of standard cheminformatics functionality for molecule I/O, substructure searching, chemical reactions, coordinate generation (2D or 3D), fingerprinting, etc.\n",
    "\n",
    "We are going to use this library to explore the molecules (presented in smiles format) in the dataset. Following are few ramdomly selected molecules from the dataset visualized using RDKit\n",
    "\n",
    "https://www.rdkit.org/docs/cppapi/index.html"
   ]
  },
  {
   "cell_type": "code",
   "execution_count": 19,
   "metadata": {},
   "outputs": [
    {
     "data": {
      "image/png": "[encoded data removed]",
      "text/plain": [
       "<IPython.core.display.Image object>"
      ]
     },
     "execution_count": 19,
     "metadata": {},
     "output_type": "execute_result"
    }
   ],
   "source": [
    "random_molecule_start_index = 10\n",
    "\n",
    "sample_smiles = dataset.df['smiles'][random_molecule_start_index:random_molecule_start_index + 20].values\n",
    "sample_molecules = [Chem.MolFromSmiles(smile) for smile in sample_smiles]\n",
    "Draw.MolsToGridImage(sample_molecules, molsPerRow=4, subImgSize=(600, 600))"
   ]
  },
  {
   "cell_type": "markdown",
   "metadata": {},
   "source": [
    "* Let's look at a single molecule and explore the properties."
   ]
  },
  {
   "cell_type": "code",
   "execution_count": 20,
   "metadata": {},
   "outputs": [
    {
     "data": {
      "text/plain": [
       "'CC(C)(CCC(=O)O)CCC(=O)O'"
      ]
     },
     "execution_count": 20,
     "metadata": {},
     "output_type": "execute_result"
    }
   ],
   "source": [
    "sample_smiles[0]"
   ]
  },
  {
   "cell_type": "code",
   "execution_count": 21,
   "metadata": {},
   "outputs": [
    {
     "data": {
      "image/png": "[encoded data removed]",
      "text/plain": [
       "<rdkit.Chem.rdchem.Mol at 0x7fcfde2e3940>"
      ]
     },
     "execution_count": 21,
     "metadata": {},
     "output_type": "execute_result"
    }
   ],
   "source": [
    "mol = sample_molecules[0]\n",
    "mol"
   ]
  },
  {
   "cell_type": "markdown",
   "metadata": {},
   "source": [
    "* Using the methods here we can further explore the features of the molecules.\n",
    "https://www.rdkit.org/docs/cppapi/classRDKit_1_1Atom.html"
   ]
  },
  {
   "cell_type": "code",
   "execution_count": 22,
   "metadata": {},
   "outputs": [
    {
     "name": "stdout",
     "output_type": "stream",
     "text": [
      "Total number of atoms in the molecule : 13\n"
     ]
    }
   ],
   "source": [
    "atoms = mol.GetAtoms()\n",
    "print(\"Total number of atoms in the molecule : {}\".format(len(atoms)))"
   ]
  },
  {
   "cell_type": "code",
   "execution_count": 23,
   "metadata": {},
   "outputs": [
    {
     "data": {
      "text/plain": [
       "[{'atomic_symbol': 'C',\n",
       "  'atomic_numbers': 6,\n",
       "  'degree': 1,\n",
       "  'formal_charge': 0,\n",
       "  'hybridization': rdkit.Chem.rdchem.HybridizationType.SP3,\n",
       "  'is_aromatic': False},\n",
       " {'atomic_symbol': 'C',\n",
       "  'atomic_numbers': 6,\n",
       "  'degree': 4,\n",
       "  'formal_charge': 0,\n",
       "  'hybridization': rdkit.Chem.rdchem.HybridizationType.SP3,\n",
       "  'is_aromatic': False},\n",
       " {'atomic_symbol': 'C',\n",
       "  'atomic_numbers': 6,\n",
       "  'degree': 1,\n",
       "  'formal_charge': 0,\n",
       "  'hybridization': rdkit.Chem.rdchem.HybridizationType.SP3,\n",
       "  'is_aromatic': False},\n",
       " {'atomic_symbol': 'C',\n",
       "  'atomic_numbers': 6,\n",
       "  'degree': 2,\n",
       "  'formal_charge': 0,\n",
       "  'hybridization': rdkit.Chem.rdchem.HybridizationType.SP3,\n",
       "  'is_aromatic': False},\n",
       " {'atomic_symbol': 'C',\n",
       "  'atomic_numbers': 6,\n",
       "  'degree': 2,\n",
       "  'formal_charge': 0,\n",
       "  'hybridization': rdkit.Chem.rdchem.HybridizationType.SP3,\n",
       "  'is_aromatic': False},\n",
       " {'atomic_symbol': 'C',\n",
       "  'atomic_numbers': 6,\n",
       "  'degree': 3,\n",
       "  'formal_charge': 0,\n",
       "  'hybridization': rdkit.Chem.rdchem.HybridizationType.SP2,\n",
       "  'is_aromatic': False},\n",
       " {'atomic_symbol': 'O',\n",
       "  'atomic_numbers': 8,\n",
       "  'degree': 1,\n",
       "  'formal_charge': 0,\n",
       "  'hybridization': rdkit.Chem.rdchem.HybridizationType.SP2,\n",
       "  'is_aromatic': False},\n",
       " {'atomic_symbol': 'O',\n",
       "  'atomic_numbers': 8,\n",
       "  'degree': 1,\n",
       "  'formal_charge': 0,\n",
       "  'hybridization': rdkit.Chem.rdchem.HybridizationType.SP2,\n",
       "  'is_aromatic': False},\n",
       " {'atomic_symbol': 'C',\n",
       "  'atomic_numbers': 6,\n",
       "  'degree': 2,\n",
       "  'formal_charge': 0,\n",
       "  'hybridization': rdkit.Chem.rdchem.HybridizationType.SP3,\n",
       "  'is_aromatic': False},\n",
       " {'atomic_symbol': 'C',\n",
       "  'atomic_numbers': 6,\n",
       "  'degree': 2,\n",
       "  'formal_charge': 0,\n",
       "  'hybridization': rdkit.Chem.rdchem.HybridizationType.SP3,\n",
       "  'is_aromatic': False},\n",
       " {'atomic_symbol': 'C',\n",
       "  'atomic_numbers': 6,\n",
       "  'degree': 3,\n",
       "  'formal_charge': 0,\n",
       "  'hybridization': rdkit.Chem.rdchem.HybridizationType.SP2,\n",
       "  'is_aromatic': False},\n",
       " {'atomic_symbol': 'O',\n",
       "  'atomic_numbers': 8,\n",
       "  'degree': 1,\n",
       "  'formal_charge': 0,\n",
       "  'hybridization': rdkit.Chem.rdchem.HybridizationType.SP2,\n",
       "  'is_aromatic': False},\n",
       " {'atomic_symbol': 'O',\n",
       "  'atomic_numbers': 8,\n",
       "  'degree': 1,\n",
       "  'formal_charge': 0,\n",
       "  'hybridization': rdkit.Chem.rdchem.HybridizationType.SP2,\n",
       "  'is_aromatic': False}]"
      ]
     },
     "execution_count": 23,
     "metadata": {},
     "output_type": "execute_result"
    }
   ],
   "source": [
    "molecule_features = []\n",
    "for atom in atoms:\n",
    "    atom_features = {}\n",
    "    atom_features['atomic_symbol'] = atom.GetSymbol()\n",
    "    atom_features['atomic_numbers'] = atom.GetAtomicNum()\n",
    "    atom_features['degree'] = atom.GetDegree()\n",
    "    atom_features['formal_charge'] = atom.GetFormalCharge()\n",
    "    atom_features['hybridization'] = atom.GetHybridization()\n",
    "    atom_features['is_aromatic'] = atom.GetIsAromatic()\n",
    "    molecule_features.append(atom_features)\n",
    "molecule_features"
   ]
  },
  {
   "cell_type": "markdown",
   "metadata": {},
   "source": [
    "* We can apply node-fearizer directly into the molecule like below and generate above results."
   ]
  },
  {
   "cell_type": "code",
   "execution_count": 24,
   "metadata": {},
   "outputs": [
    {
     "data": {
      "text/plain": [
       "{'feat': tensor([[1., 0., 0., 0., 0., 0., 0., 0., 0., 0., 0., 0., 0., 0., 0., 0., 0., 0.,\n",
       "          0., 0., 0., 0., 0., 0., 0., 0., 0., 0., 0., 0., 0., 0., 0., 0., 0., 0.,\n",
       "          0., 0., 0., 0., 0., 0., 0., 0., 1., 0., 0., 0., 0., 0., 0., 0., 0., 0.,\n",
       "          0., 0., 0., 1., 0., 0., 0., 0., 0., 0., 0., 1., 0., 0., 0., 0., 0., 0.,\n",
       "          1., 0.],\n",
       "         [1., 0., 0., 0., 0., 0., 0., 0., 0., 0., 0., 0., 0., 0., 0., 0., 0., 0.,\n",
       "          0., 0., 0., 0., 0., 0., 0., 0., 0., 0., 0., 0., 0., 0., 0., 0., 0., 0.,\n",
       "          0., 0., 0., 0., 0., 0., 0., 0., 0., 0., 0., 1., 0., 0., 0., 0., 0., 0.,\n",
       "          1., 0., 0., 0., 0., 0., 0., 0., 0., 0., 0., 1., 0., 0., 0., 1., 0., 0.,\n",
       "          0., 0.],\n",
       "         [1., 0., 0., 0., 0., 0., 0., 0., 0., 0., 0., 0., 0., 0., 0., 0., 0., 0.,\n",
       "          0., 0., 0., 0., 0., 0., 0., 0., 0., 0., 0., 0., 0., 0., 0., 0., 0., 0.,\n",
       "          0., 0., 0., 0., 0., 0., 0., 0., 1., 0., 0., 0., 0., 0., 0., 0., 0., 0.,\n",
       "          0., 0., 0., 1., 0., 0., 0., 0., 0., 0., 0., 1., 0., 0., 0., 0., 0., 0.,\n",
       "          1., 0.],\n",
       "         [1., 0., 0., 0., 0., 0., 0., 0., 0., 0., 0., 0., 0., 0., 0., 0., 0., 0.,\n",
       "          0., 0., 0., 0., 0., 0., 0., 0., 0., 0., 0., 0., 0., 0., 0., 0., 0., 0.,\n",
       "          0., 0., 0., 0., 0., 0., 0., 0., 0., 1., 0., 0., 0., 0., 0., 0., 0., 0.,\n",
       "          0., 0., 1., 0., 0., 0., 0., 0., 0., 0., 0., 1., 0., 0., 0., 0., 0., 1.,\n",
       "          0., 0.],\n",
       "         [1., 0., 0., 0., 0., 0., 0., 0., 0., 0., 0., 0., 0., 0., 0., 0., 0., 0.,\n",
       "          0., 0., 0., 0., 0., 0., 0., 0., 0., 0., 0., 0., 0., 0., 0., 0., 0., 0.,\n",
       "          0., 0., 0., 0., 0., 0., 0., 0., 0., 1., 0., 0., 0., 0., 0., 0., 0., 0.,\n",
       "          0., 0., 1., 0., 0., 0., 0., 0., 0., 0., 0., 1., 0., 0., 0., 0., 0., 1.,\n",
       "          0., 0.],\n",
       "         [1., 0., 0., 0., 0., 0., 0., 0., 0., 0., 0., 0., 0., 0., 0., 0., 0., 0.,\n",
       "          0., 0., 0., 0., 0., 0., 0., 0., 0., 0., 0., 0., 0., 0., 0., 0., 0., 0.,\n",
       "          0., 0., 0., 0., 0., 0., 0., 0., 0., 0., 1., 0., 0., 0., 0., 0., 0., 0.,\n",
       "          1., 0., 0., 0., 0., 0., 0., 0., 0., 0., 1., 0., 0., 0., 0., 1., 0., 0.,\n",
       "          0., 0.],\n",
       "         [0., 0., 1., 0., 0., 0., 0., 0., 0., 0., 0., 0., 0., 0., 0., 0., 0., 0.,\n",
       "          0., 0., 0., 0., 0., 0., 0., 0., 0., 0., 0., 0., 0., 0., 0., 0., 0., 0.,\n",
       "          0., 0., 0., 0., 0., 0., 0., 0., 1., 0., 0., 0., 0., 0., 0., 0., 0., 0.,\n",
       "          1., 0., 0., 0., 0., 0., 0., 0., 0., 0., 1., 0., 0., 0., 0., 1., 0., 0.,\n",
       "          0., 0.],\n",
       "         [0., 0., 1., 0., 0., 0., 0., 0., 0., 0., 0., 0., 0., 0., 0., 0., 0., 0.,\n",
       "          0., 0., 0., 0., 0., 0., 0., 0., 0., 0., 0., 0., 0., 0., 0., 0., 0., 0.,\n",
       "          0., 0., 0., 0., 0., 0., 0., 0., 1., 0., 0., 0., 0., 0., 0., 0., 0., 0.,\n",
       "          0., 1., 0., 0., 0., 0., 0., 0., 0., 0., 1., 0., 0., 0., 0., 0., 1., 0.,\n",
       "          0., 0.],\n",
       "         [1., 0., 0., 0., 0., 0., 0., 0., 0., 0., 0., 0., 0., 0., 0., 0., 0., 0.,\n",
       "          0., 0., 0., 0., 0., 0., 0., 0., 0., 0., 0., 0., 0., 0., 0., 0., 0., 0.,\n",
       "          0., 0., 0., 0., 0., 0., 0., 0., 0., 1., 0., 0., 0., 0., 0., 0., 0., 0.,\n",
       "          0., 0., 1., 0., 0., 0., 0., 0., 0., 0., 0., 1., 0., 0., 0., 0., 0., 1.,\n",
       "          0., 0.],\n",
       "         [1., 0., 0., 0., 0., 0., 0., 0., 0., 0., 0., 0., 0., 0., 0., 0., 0., 0.,\n",
       "          0., 0., 0., 0., 0., 0., 0., 0., 0., 0., 0., 0., 0., 0., 0., 0., 0., 0.,\n",
       "          0., 0., 0., 0., 0., 0., 0., 0., 0., 1., 0., 0., 0., 0., 0., 0., 0., 0.,\n",
       "          0., 0., 1., 0., 0., 0., 0., 0., 0., 0., 0., 1., 0., 0., 0., 0., 0., 1.,\n",
       "          0., 0.],\n",
       "         [1., 0., 0., 0., 0., 0., 0., 0., 0., 0., 0., 0., 0., 0., 0., 0., 0., 0.,\n",
       "          0., 0., 0., 0., 0., 0., 0., 0., 0., 0., 0., 0., 0., 0., 0., 0., 0., 0.,\n",
       "          0., 0., 0., 0., 0., 0., 0., 0., 0., 0., 1., 0., 0., 0., 0., 0., 0., 0.,\n",
       "          1., 0., 0., 0., 0., 0., 0., 0., 0., 0., 1., 0., 0., 0., 0., 1., 0., 0.,\n",
       "          0., 0.],\n",
       "         [0., 0., 1., 0., 0., 0., 0., 0., 0., 0., 0., 0., 0., 0., 0., 0., 0., 0.,\n",
       "          0., 0., 0., 0., 0., 0., 0., 0., 0., 0., 0., 0., 0., 0., 0., 0., 0., 0.,\n",
       "          0., 0., 0., 0., 0., 0., 0., 0., 1., 0., 0., 0., 0., 0., 0., 0., 0., 0.,\n",
       "          1., 0., 0., 0., 0., 0., 0., 0., 0., 0., 1., 0., 0., 0., 0., 1., 0., 0.,\n",
       "          0., 0.],\n",
       "         [0., 0., 1., 0., 0., 0., 0., 0., 0., 0., 0., 0., 0., 0., 0., 0., 0., 0.,\n",
       "          0., 0., 0., 0., 0., 0., 0., 0., 0., 0., 0., 0., 0., 0., 0., 0., 0., 0.,\n",
       "          0., 0., 0., 0., 0., 0., 0., 0., 1., 0., 0., 0., 0., 0., 0., 0., 0., 0.,\n",
       "          0., 1., 0., 0., 0., 0., 0., 0., 0., 0., 1., 0., 0., 0., 0., 0., 1., 0.,\n",
       "          0., 0.]])}"
      ]
     },
     "execution_count": 24,
     "metadata": {},
     "output_type": "execute_result"
    }
   ],
   "source": [
    "atom_featurizer = CanonicalAtomFeaturizer(atom_data_field='feat')\n",
    "atom_featurizer(mol)"
   ]
  },
  {
   "cell_type": "code",
   "execution_count": 25,
   "metadata": {},
   "outputs": [
    {
     "data": {
      "text/plain": [
       "74"
      ]
     },
     "execution_count": 25,
     "metadata": {},
     "output_type": "execute_result"
    }
   ],
   "source": [
    "atom_featurizer.feat_size()"
   ]
  },
  {
   "cell_type": "markdown",
   "metadata": {},
   "source": [
    "We already have these embedded to our graph since we have used the node featurizer at the top. \n",
    "\n",
    "https://lifesci.dgl.ai/generated/dgllife.utils.CanonicalAtomFeaturizer.html\n",
    "\n",
    "Let's decode the graph associated to above index"
   ]
  },
  {
   "cell_type": "code",
   "execution_count": 26,
   "metadata": {},
   "outputs": [],
   "source": [
    "smiles, graphs, labels, masks = map(list, zip(*dataset))"
   ]
  },
  {
   "cell_type": "code",
   "execution_count": 27,
   "metadata": {},
   "outputs": [
    {
     "data": {
      "text/plain": [
       "'CC(C)(CCC(=O)O)CCC(=O)O'"
      ]
     },
     "execution_count": 27,
     "metadata": {},
     "output_type": "execute_result"
    }
   ],
   "source": [
    "smiles[random_molecule_start_index]"
   ]
  },
  {
   "cell_type": "code",
   "execution_count": 28,
   "metadata": {},
   "outputs": [
    {
     "data": {
      "text/plain": [
       "13"
      ]
     },
     "execution_count": 28,
     "metadata": {},
     "output_type": "execute_result"
    }
   ],
   "source": [
    "random_graph = graphs[random_molecule_start_index]\n",
    "\n",
    "random_graph.num_nodes()"
   ]
  },
  {
   "cell_type": "code",
   "execution_count": 29,
   "metadata": {},
   "outputs": [
    {
     "data": {
      "text/plain": [
       "37"
      ]
     },
     "execution_count": 29,
     "metadata": {},
     "output_type": "execute_result"
    }
   ],
   "source": [
    "random_graph.num_edges()"
   ]
  },
  {
   "cell_type": "code",
   "execution_count": 30,
   "metadata": {},
   "outputs": [
    {
     "data": {
      "text/plain": [
       "torch.Size([13, 74])"
      ]
     },
     "execution_count": 30,
     "metadata": {},
     "output_type": "execute_result"
    }
   ],
   "source": [
    "random_graph.ndata['feat'].shape"
   ]
  },
  {
   "cell_type": "code",
   "execution_count": 31,
   "metadata": {},
   "outputs": [
    {
     "data": {
      "text/plain": [
       "tensor([1., 0., 0., 0., 0., 0., 0., 0., 0., 0., 0., 0., 0., 0., 0., 0., 0., 0.,\n",
       "        0., 0., 0., 0., 0., 0., 0., 0., 0., 0., 0., 0., 0., 0., 0., 0., 0., 0.,\n",
       "        0., 0., 0., 0., 0., 0., 0., 0., 1., 0., 0., 0., 0., 0., 0., 0., 0., 0.,\n",
       "        0., 0., 0., 1., 0., 0., 0., 0., 0., 0., 0., 1., 0., 0., 0., 0., 0., 0.,\n",
       "        1., 0.])"
      ]
     },
     "execution_count": 31,
     "metadata": {},
     "output_type": "execute_result"
    }
   ],
   "source": [
    "random_graph.ndata['feat'][0, :]"
   ]
  },
  {
   "cell_type": "code",
   "execution_count": 32,
   "metadata": {},
   "outputs": [
    {
     "data": {
      "text/plain": [
       "tensor([0., 0., 1., 0., 0., 0., 0., 0., 0., 0., 0., 0., 0., 0., 0., 0., 0., 0.,\n",
       "        0., 0., 0., 0., 0., 0., 0., 0., 0., 0., 0., 0., 0., 0., 0., 0., 0., 0.,\n",
       "        0., 0., 0., 0., 0., 0., 0., 0., 1., 0., 0., 0., 0., 0., 0., 0., 0., 0.,\n",
       "        0., 1., 0., 0., 0., 0., 0., 0., 0., 0., 1., 0., 0., 0., 0., 0., 1., 0.,\n",
       "        0., 0.])"
      ]
     },
     "execution_count": 32,
     "metadata": {},
     "output_type": "execute_result"
    }
   ],
   "source": [
    "random_graph.ndata['feat'][1, :]"
   ]
  },
  {
   "cell_type": "markdown",
   "metadata": {},
   "source": [
    "Order of the atoms represented in the graph is different (This is a not an problem). "
   ]
  },
  {
   "cell_type": "markdown",
   "metadata": {},
   "source": [
    "### Split the dataset"
   ]
  },
  {
   "cell_type": "markdown",
   "metadata": {},
   "source": [
    "DGL-LifeSci provides interfaces to split your data for train, validation and test sets based on the strategy that you prefer. \n",
    "More details : https://lifesci.dgl.ai/api/utils.splitters.html\n",
    "\n",
    "We are going to use the Scaffold Splitter for this project. \n",
    "\n",
    "**ScaffoldSplitter**:\n",
    "\n",
    "Group molecules based on their scaffolds and sort groups based on their sizes. The groups are then split for k-fold cross validation.\n",
    "\n",
    "Same as usual k-fold splitting methods, each molecule will appear only once in the validation set among all folds. In addition, this method ensures that molecules with a same scaffold will be collectively in either the training set or the validation set for each fol"
   ]
  },
  {
   "cell_type": "code",
   "execution_count": 33,
   "metadata": {},
   "outputs": [
    {
     "name": "stdout",
     "output_type": "stream",
     "text": [
      "Start initializing RDKit molecule instances...\n",
      "Creating RDKit molecule instance 1000/41127\n",
      "Creating RDKit molecule instance 2000/41127\n",
      "Creating RDKit molecule instance 3000/41127\n",
      "Creating RDKit molecule instance 4000/41127\n",
      "Creating RDKit molecule instance 5000/41127\n",
      "Creating RDKit molecule instance 6000/41127\n",
      "Creating RDKit molecule instance 7000/41127\n",
      "Creating RDKit molecule instance 8000/41127\n",
      "Creating RDKit molecule instance 9000/41127\n",
      "Creating RDKit molecule instance 10000/41127\n",
      "Creating RDKit molecule instance 11000/41127\n",
      "Creating RDKit molecule instance 12000/41127\n",
      "Creating RDKit molecule instance 13000/41127\n",
      "Creating RDKit molecule instance 14000/41127\n",
      "Creating RDKit molecule instance 15000/41127\n",
      "Creating RDKit molecule instance 16000/41127\n",
      "Creating RDKit molecule instance 17000/41127\n",
      "Creating RDKit molecule instance 18000/41127\n",
      "Creating RDKit molecule instance 19000/41127\n",
      "Creating RDKit molecule instance 20000/41127\n",
      "Creating RDKit molecule instance 21000/41127\n",
      "Creating RDKit molecule instance 22000/41127\n",
      "Creating RDKit molecule instance 23000/41127\n",
      "Creating RDKit molecule instance 24000/41127\n",
      "Creating RDKit molecule instance 25000/41127\n",
      "Creating RDKit molecule instance 26000/41127\n",
      "Creating RDKit molecule instance 27000/41127\n",
      "Creating RDKit molecule instance 28000/41127\n",
      "Creating RDKit molecule instance 29000/41127\n",
      "Creating RDKit molecule instance 30000/41127\n",
      "Creating RDKit molecule instance 31000/41127\n",
      "Creating RDKit molecule instance 32000/41127\n",
      "Creating RDKit molecule instance 33000/41127\n",
      "Creating RDKit molecule instance 34000/41127\n",
      "Creating RDKit molecule instance 35000/41127\n",
      "Creating RDKit molecule instance 36000/41127\n",
      "Creating RDKit molecule instance 37000/41127\n",
      "Creating RDKit molecule instance 38000/41127\n",
      "Creating RDKit molecule instance 39000/41127\n",
      "Creating RDKit molecule instance 40000/41127\n",
      "Creating RDKit molecule instance 41000/41127\n",
      "Start computing Bemis-Murcko scaffolds.\n",
      "Computing Bemis-Murcko for compound 1000/41127\n",
      "Computing Bemis-Murcko for compound 2000/41127\n",
      "Computing Bemis-Murcko for compound 3000/41127\n",
      "Computing Bemis-Murcko for compound 4000/41127\n",
      "Computing Bemis-Murcko for compound 5000/41127\n",
      "Computing Bemis-Murcko for compound 6000/41127\n",
      "Computing Bemis-Murcko for compound 7000/41127\n",
      "Computing Bemis-Murcko for compound 8000/41127\n",
      "Computing Bemis-Murcko for compound 9000/41127\n",
      "Computing Bemis-Murcko for compound 10000/41127\n",
      "Computing Bemis-Murcko for compound 11000/41127\n",
      "Computing Bemis-Murcko for compound 12000/41127\n",
      "Computing Bemis-Murcko for compound 13000/41127\n",
      "Computing Bemis-Murcko for compound 14000/41127\n",
      "Computing Bemis-Murcko for compound 15000/41127\n",
      "Computing Bemis-Murcko for compound 16000/41127\n",
      "Computing Bemis-Murcko for compound 17000/41127\n",
      "Computing Bemis-Murcko for compound 18000/41127\n",
      "Computing Bemis-Murcko for compound 19000/41127\n",
      "Computing Bemis-Murcko for compound 20000/41127\n",
      "Computing Bemis-Murcko for compound 21000/41127\n",
      "Computing Bemis-Murcko for compound 22000/41127\n",
      "Computing Bemis-Murcko for compound 23000/41127\n",
      "Computing Bemis-Murcko for compound 24000/41127\n",
      "Computing Bemis-Murcko for compound 25000/41127\n",
      "Computing Bemis-Murcko for compound 26000/41127\n",
      "Computing Bemis-Murcko for compound 27000/41127\n",
      "Computing Bemis-Murcko for compound 28000/41127\n",
      "Computing Bemis-Murcko for compound 29000/41127\n",
      "Computing Bemis-Murcko for compound 30000/41127\n",
      "Computing Bemis-Murcko for compound 31000/41127\n",
      "Computing Bemis-Murcko for compound 32000/41127\n",
      "Computing Bemis-Murcko for compound 33000/41127\n",
      "Computing Bemis-Murcko for compound 34000/41127\n",
      "Computing Bemis-Murcko for compound 35000/41127\n",
      "Computing Bemis-Murcko for compound 36000/41127\n",
      "Computing Bemis-Murcko for compound 37000/41127\n",
      "Computing Bemis-Murcko for compound 38000/41127\n",
      "Computing Bemis-Murcko for compound 39000/41127\n",
      "Computing Bemis-Murcko for compound 40000/41127\n",
      "Computing Bemis-Murcko for compound 41000/41127\n"
     ]
    }
   ],
   "source": [
    "#Split the dataset\n",
    "from dgllife.utils import ScaffoldSplitter, RandomSplitter\n",
    "\n",
    "train_ratio, val_ratio, test_ratio = map(float, split_ratio.split(':'))\n",
    "\n",
    "train_set, val_set, test_set = ScaffoldSplitter.train_val_test_split(\n",
    "            dataset, frac_train=train_ratio, frac_val=val_ratio, frac_test=test_ratio,\n",
    "            scaffold_func='smiles')"
   ]
  },
  {
   "cell_type": "markdown",
   "metadata": {},
   "source": [
    "* Lets check the distribution of classes of train, validation, test datasets after the split."
   ]
  },
  {
   "cell_type": "code",
   "execution_count": 34,
   "metadata": {},
   "outputs": [
    {
     "data": {
      "text/plain": [
       "28788"
      ]
     },
     "execution_count": 34,
     "metadata": {},
     "output_type": "execute_result"
    }
   ],
   "source": [
    "len(train_set)"
   ]
  },
  {
   "cell_type": "code",
   "execution_count": 35,
   "metadata": {},
   "outputs": [
    {
     "data": {
      "text/plain": [
       "<AxesSubplot:>"
      ]
     },
     "execution_count": 35,
     "metadata": {},
     "output_type": "execute_result"
    },
    {
     "data": {
      "image/png": "[encoded data removed]",
      "text/plain": [
       "<Figure size 432x288 with 1 Axes>"
      ]
     },
     "metadata": {
      "needs_background": "light"
     },
     "output_type": "display_data"
    }
   ],
   "source": [
    "train_set.dataset.df.loc[train_set.indices]['HIV_active'].value_counts().plot(kind=\"bar\")"
   ]
  },
  {
   "cell_type": "code",
   "execution_count": 36,
   "metadata": {},
   "outputs": [
    {
     "data": {
      "text/plain": [
       "8226"
      ]
     },
     "execution_count": 36,
     "metadata": {},
     "output_type": "execute_result"
    }
   ],
   "source": [
    "len(val_set)"
   ]
  },
  {
   "cell_type": "code",
   "execution_count": 37,
   "metadata": {},
   "outputs": [
    {
     "data": {
      "text/plain": [
       "<AxesSubplot:>"
      ]
     },
     "execution_count": 37,
     "metadata": {},
     "output_type": "execute_result"
    },
    {
     "data": {
      "image/png": "[encoded data removed]",
      "text/plain": [
       "<Figure size 432x288 with 1 Axes>"
      ]
     },
     "metadata": {
      "needs_background": "light"
     },
     "output_type": "display_data"
    }
   ],
   "source": [
    "val_set.dataset.df.loc[val_set.indices]['HIV_active'].value_counts().plot(kind=\"bar\")"
   ]
  },
  {
   "cell_type": "code",
   "execution_count": 38,
   "metadata": {},
   "outputs": [
    {
     "data": {
      "text/plain": [
       "4113"
      ]
     },
     "execution_count": 38,
     "metadata": {},
     "output_type": "execute_result"
    }
   ],
   "source": [
    "len(test_set)"
   ]
  },
  {
   "cell_type": "code",
   "execution_count": 39,
   "metadata": {},
   "outputs": [
    {
     "data": {
      "text/plain": [
       "<AxesSubplot:>"
      ]
     },
     "execution_count": 39,
     "metadata": {},
     "output_type": "execute_result"
    },
    {
     "data": {
      "image/png": "[encoded data removed]",
      "text/plain": [
       "<Figure size 432x288 with 1 Axes>"
      ]
     },
     "metadata": {
      "needs_background": "light"
     },
     "output_type": "display_data"
    }
   ],
   "source": [
    "test_set.dataset.df.loc[test_set.indices]['HIV_active'].value_counts().plot(kind=\"bar\")"
   ]
  },
  {
   "cell_type": "markdown",
   "metadata": {},
   "source": [
    "* All three datasets (train, test, validation) follows the same data distrubtions in terms of class balance."
   ]
  },
  {
   "cell_type": "markdown",
   "metadata": {},
   "source": [
    "## Using DGL in Amazon Sagemaker with Pytorch backend."
   ]
  },
  {
   "cell_type": "markdown",
   "metadata": {},
   "source": [
    "#### Set up the environment and create the session\n",
    "\n",
    "Here we specify a bucket to use and the role that will be used for working with SageMaker. The session remembers our connection parameters to SageMaker.\n"
   ]
  },
  {
   "cell_type": "code",
   "execution_count": 40,
   "metadata": {},
   "outputs": [],
   "source": [
    "import sagemaker\n",
    "from sagemaker import get_execution_role\n",
    "\n",
    "role = get_execution_role()\n",
    "session = sagemaker.Session()\n",
    "bucket = session.default_bucket()\n",
    "\n",
    "s3_prefix = \"./hiv_inhibitor_prediction/sagemaker\""
   ]
  },
  {
   "cell_type": "markdown",
   "metadata": {},
   "source": [
    "### Upload Data to S3\n",
    "In order to accomodate model training on SageMaker we need to upload the data to s3 location. We are going to use the sagemaker.Session.upload_data function to upload our datasets to an S3 location. The return value inputs identifies the location -- we will use later when we start the training job."
   ]
  },
  {
   "cell_type": "code",
   "execution_count": 41,
   "metadata": {},
   "outputs": [],
   "source": [
    "dataset.df.to_csv(\"full.csv\", index=False)\n",
    "pd.DataFrame(train_set.indices, columns =[\"indices\"]).to_csv(\"train.csv\", index=False)\n",
    "pd.DataFrame(val_set.indices, columns =[\"indices\"]).to_csv(\"validation.csv\", index=False)"
   ]
  },
  {
   "cell_type": "code",
   "execution_count": 42,
   "metadata": {},
   "outputs": [],
   "source": [
    "input_full = session.upload_data(\n",
    "        path=\"full.csv\", bucket=bucket, key_prefix=s3_prefix\n",
    "    )\n",
    "\n",
    "input_train = session.upload_data(\n",
    "        path=\"train.csv\", bucket=bucket, key_prefix=s3_prefix\n",
    "    )\n",
    "input_val = session.upload_data(\n",
    "        path=\"validation.csv\", bucket=bucket, key_prefix=s3_prefix\n",
    "    )"
   ]
  },
  {
   "cell_type": "markdown",
   "metadata": {},
   "source": [
    "### Explore the model architectures to be used \n",
    "\n",
    "We are going to represent each of the modelcule as a graph. Each atom in the molecule would be a node within the graph. Hence the atom properties will be considered as node features after doing some transformations. Using these features we are going to classify the whole graph/molecule whether a it inhibits HIV virus replication or not using Graph neural networks (GNNs). In GNN terms this is considered as Graph classification problem.\n",
    "\n",
    "We are going to use above prebuilt model architecures (GCN, GAT) which comes with DGL-LifeSci to train the model."
   ]
  },
  {
   "cell_type": "markdown",
   "metadata": {},
   "source": [
    "\n",
    "**1. GCNPredictor** : \n",
    "\n",
    "Documentation : https://lifesci.dgl.ai/_modules/dgllife/model/model_zoo/gcn_predictor.html\n",
    "\n",
    "Code : https://github.com/awslabs/dgl-lifesci/blob/master/python/dgllife/model/model_zoo/gcn_predictor.py"
   ]
  },
  {
   "cell_type": "code",
   "execution_count": 43,
   "metadata": {},
   "outputs": [],
   "source": [
    "from dgllife.model import GCNPredictor\n",
    "import torch.nn.functional as F\n",
    "\n",
    "model = GCNPredictor(\n",
    "            in_feats=10,\n",
    "            hidden_feats=[10, 4],\n",
    "            activation=[F.relu, F.relu],\n",
    "            residual=[False] * 2\n",
    "            )"
   ]
  },
  {
   "cell_type": "code",
   "execution_count": 44,
   "metadata": {},
   "outputs": [
    {
     "data": {
      "text/plain": [
       "GCNPredictor(\n",
       "  (gnn): GCN(\n",
       "    (gnn_layers): ModuleList(\n",
       "      (0): GCNLayer(\n",
       "        (graph_conv): GraphConv(in=10, out=10, normalization=none, activation=<function relu at 0x7fd01e967400>)\n",
       "        (dropout): Dropout(p=0.0, inplace=False)\n",
       "        (bn_layer): BatchNorm1d(10, eps=1e-05, momentum=0.1, affine=True, track_running_stats=True)\n",
       "      )\n",
       "      (1): GCNLayer(\n",
       "        (graph_conv): GraphConv(in=10, out=4, normalization=none, activation=<function relu at 0x7fd01e967400>)\n",
       "        (dropout): Dropout(p=0.0, inplace=False)\n",
       "        (bn_layer): BatchNorm1d(4, eps=1e-05, momentum=0.1, affine=True, track_running_stats=True)\n",
       "      )\n",
       "    )\n",
       "  )\n",
       "  (readout): WeightedSumAndMax(\n",
       "    (weight_and_sum): WeightAndSum(\n",
       "      (atom_weighting): Sequential(\n",
       "        (0): Linear(in_features=4, out_features=1, bias=True)\n",
       "        (1): Sigmoid()\n",
       "      )\n",
       "    )\n",
       "  )\n",
       "  (predict): MLPPredictor(\n",
       "    (predict): Sequential(\n",
       "      (0): Dropout(p=0.0, inplace=False)\n",
       "      (1): Linear(in_features=8, out_features=128, bias=True)\n",
       "      (2): ReLU()\n",
       "      (3): BatchNorm1d(128, eps=1e-05, momentum=0.1, affine=True, track_running_stats=True)\n",
       "      (4): Linear(in_features=128, out_features=1, bias=True)\n",
       "    )\n",
       "  )\n",
       ")"
      ]
     },
     "execution_count": 44,
     "metadata": {},
     "output_type": "execute_result"
    }
   ],
   "source": [
    "model"
   ]
  },
  {
   "cell_type": "markdown",
   "metadata": {},
   "source": [
    "As you can see `GCNPredictor` architecture compised of multple layers of `gnn_layers` which itself comprised of DGL `GraphConv`."
   ]
  },
  {
   "cell_type": "markdown",
   "metadata": {},
   "source": [
    "## Training on SageMaker\n",
    "\n"
   ]
  },
  {
   "cell_type": "markdown",
   "metadata": {},
   "source": [
    "#### Training Script\n",
    "\n",
    "We are going to use Pytorch as the DGL backend. Our training script should save model artifacts learned during training to a file path called model_dir, as stipulated by the SageMaker PyTorch image. Upon completion of training, model artifacts saved in model_dir will be uploaded to S3 by SageMaker and will be used for deployment.\n",
    "\n",
    "We save this script in a file named train.py, and put the file in a directory named code/. The full training script can be viewed under code/.\n",
    "    \n",
    "    "
   ]
  },
  {
   "cell_type": "code",
   "execution_count": 45,
   "metadata": {},
   "outputs": [
    {
     "name": "stdout",
     "output_type": "stream",
     "text": [
      "import argparse\n",
      "import os\n",
      "import json\n",
      "\n",
      "import dgl\n",
      "import numpy as np\n",
      "import pandas as pd\n",
      "import torch\n",
      "from dgllife.utils import EarlyStopping, Meter\n",
      "from numpy import double\n",
      "from torch.optim import Adam\n",
      "from torch.utils.data import DataLoader\n",
      "from utils import load_model, init_featurizers, model_saved_path, model_params_saved_path\n",
      "from s3_downloaded_HIV_dataset import S3DownloadedHIVDataset\n",
      "\n",
      "\n",
      "def run_a_train_epoch(args, epoch, model, data_loader, loss_criterion, optimizer, device):\n",
      "    model.train()\n",
      "    train_meter = Meter()\n",
      "    for batch_id, batch_data in enumerate(data_loader):\n",
      "        smiles, bg, labels, masks = batch_data\n",
      "        if len(smiles) == 1:\n",
      "            # Avoid potential issues with batch normalization\n",
      "            continue\n",
      "\n",
      "        labels, masks = labels.to(device), masks.to(device)\n",
      "        logits = predict(model, bg, device)\n",
      "        # Mask non-existing labels\n",
      "        loss = (loss_criterion(logits, labels) * (masks != 0).float()).mean()\n",
      "        optimizer.zero_grad()\n",
      "        loss.backward()\n",
      "        optimizer.step()\n",
      "        train_meter.update(logits, labels, masks)\n",
      "        if batch_id % args.print_every == 0:\n",
      "            print('epoch [{:d}] of [{:d}], batch {:d}/{:d}, loss [{:.4f}]'.format(\n",
      "                epoch + 1, args.epochs, batch_id + 1, len(data_loader), loss.item()))\n",
      "    train_score = np.mean(train_meter.compute_metric(args.metric))\n",
      "    print('epoch [{:d}] of [{:d}], training:{} [{:.4f}]'.format(\n",
      "        epoch + 1, args.epochs, args.metric, train_score))\n",
      "\n",
      "\n",
      "def run_an_eval_epoch(args, model, data_loader, device):\n",
      "    model.eval()\n",
      "    eval_meter = Meter()\n",
      "    with torch.no_grad():\n",
      "        for batch_id, batch_data in enumerate(data_loader):\n",
      "            smiles, bg, labels, masks = batch_data\n",
      "            labels = labels.to(device)\n",
      "            logits = predict(model, bg, device)\n",
      "            eval_meter.update(logits, labels, masks)\n",
      "    return np.mean(eval_meter.compute_metric(args.metric))\n",
      "\n",
      "def train(args):\n",
      "\n",
      "    print(\"Hello I am training with following args.\")\n",
      "\n",
      "    print(args)\n",
      "\n",
      "    if torch.cuda.is_available():\n",
      "        device = torch.device('cuda:0')\n",
      "    else:\n",
      "        device = torch.device('cpu')\n",
      "\n",
      "    print(\"Device : [{}]\".format(device))\n",
      "\n",
      "    node_featurizer, edge_featurizer = init_featurizers(args.gnn_featurizer_type)\n",
      "\n",
      "    dataset = S3DownloadedHIVDataset(args.full_data,\n",
      "                                     node_featurizer=node_featurizer,\n",
      "                                     edge_featurizer=edge_featurizer,\n",
      "                                     n_jobs=1 if args.num_workers == 0 else args.num_workers, mode=args.mode)\n",
      "\n",
      "    train_set, val_set = split_dataset(args, dataset)\n",
      "\n",
      "    train_loader = DataLoader(dataset=train_set, batch_size=args.batch_size, shuffle=True,\n",
      "                              collate_fn=collate_molgraphs, num_workers=args.num_workers)\n",
      "\n",
      "    val_loader = DataLoader(dataset=val_set, batch_size=args.batch_size,\n",
      "                            collate_fn=collate_molgraphs, num_workers=args.num_workers)\n",
      "\n",
      "    model = load_model(args, node_featurizer).to(device)\n",
      "\n",
      "    print(model)\n",
      "\n",
      "    loss_criterion = torch.nn.BCEWithLogitsLoss(reduction='none')\n",
      "\n",
      "    optimizer = Adam(model.parameters(), lr=args.learning_rate,\n",
      "                     weight_decay=args.weight_decay)\n",
      "\n",
      "    stopper = EarlyStopping(patience=args.patience,\n",
      "                            filename=model_saved_path(args.model_dir),\n",
      "                            metric=args.metric)\n",
      "\n",
      "    for epoch in range(args.epochs):\n",
      "\n",
      "        # Train\n",
      "        run_a_train_epoch(args, epoch, model, train_loader, loss_criterion, optimizer, device)\n",
      "\n",
      "        # Validation and early stop\n",
      "        val_score = run_an_eval_epoch(args, model, val_loader, device)\n",
      "        early_stop = stopper.step(val_score, model)\n",
      "        print('epoch [{:d}] of [{:d}], validation:{} [{:.4f}], best validation:{} [{:.4f}]'.format(\n",
      "            epoch + 1, args.epochs, args.metric,\n",
      "            val_score, args.metric, stopper.best_score))\n",
      "\n",
      "        if early_stop:\n",
      "            break\n",
      "    save_model_args(args)\n",
      "\n",
      "\n",
      "def split_dataset(args, dataset):\n",
      "\n",
      "    train_set = dgl.data.utils.Subset(dataset, pd.read_csv(args.train_data + \"/train.csv\").indices.to_numpy())\n",
      "    val_set = dgl.data.utils.Subset(dataset, pd.read_csv(args.val_data + \"/validation.csv\").indices.to_numpy())\n",
      "\n",
      "    return train_set, val_set\n",
      "\n",
      "\n",
      "def predict(model, bg, device):\n",
      "\n",
      "    bg = bg.to(device)\n",
      "\n",
      "    node_feats = bg.ndata.pop('h').to(device)\n",
      "    #edge_feats = bg.edata.pop('e').to(args['device'])\n",
      "    return model(bg, node_feats)\n",
      "\n",
      "\n",
      "def collate_molgraphs(data):\n",
      "    \"\"\"Batching a list of datapoints for dataloader.\n",
      "    Parameters\n",
      "    ----------\n",
      "    data : list of 4-tuples.\n",
      "        Each tuple is for a single datapoint, consisting of\n",
      "        a SMILES, a DGLGraph, all-task labels and optionally a binary\n",
      "        mask indicating the existence of labels.\n",
      "    Returns\n",
      "    -------\n",
      "    smiles : list\n",
      "        List of smiles\n",
      "    bg : DGLGraph\n",
      "        The batched DGLGraph.\n",
      "    labels : Tensor of dtype float32 and shape (B, T)\n",
      "        Batched datapoint labels. B is len(data) and\n",
      "        T is the number of total tasks.\n",
      "    masks : Tensor of dtype float32 and shape (B, T)\n",
      "        Batched datapoint binary mask, indicating the\n",
      "        existence of labels.\n",
      "    \"\"\"\n",
      "\n",
      "    smiles, graphs, labels, masks = map(list, zip(*data))\n",
      "\n",
      "    bg = dgl.batch(graphs)\n",
      "    bg.set_n_initializer(dgl.init.zero_initializer)\n",
      "    bg.set_e_initializer(dgl.init.zero_initializer)\n",
      "    labels = torch.stack(labels, dim=0)\n",
      "    masks = torch.stack(masks, dim=0)\n",
      "\n",
      "    return smiles, bg, labels, masks\n",
      "\n",
      "\n",
      "def save_model_args(args):\n",
      "    filename = model_params_saved_path(args.model_dir)\n",
      "    gnn_params_keys = filter(lambda arg :  arg.startswith(\"gnn\"), vars(args))\n",
      "    gnn_params = dict(map(lambda key : (key, args.__dict__[key]), gnn_params_keys))\n",
      "    file = open(filename, \"w\")\n",
      "    json.dump(gnn_params, file)\n",
      "    file.close()\n",
      "\n",
      "\n",
      "if __name__ == \"__main__\":\n",
      "    print(\"Loading Parameters\\n\")\n",
      "    parser = argparse.ArgumentParser('HIV Inhibitor Binary Classification')\n",
      "\n",
      "\n",
      "    # Feature engineering hyper-params\n",
      "    parser.add_argument('-f', '--gnn-featurizer-type', choices=['canonical', 'attentivefp'],\n",
      "                        default='canonical',\n",
      "                        help='Featurization for atoms (and bonds). This is required for models '\n",
      "                             'other than gin_supervised_**.')\n",
      "\n",
      "    # model evaluation hyper-params\n",
      "    parser.add_argument('-me', '--metric', choices=['roc_auc_score', 'pr_auc_score'],\n",
      "                        default='roc_auc_score',\n",
      "                        help='Metric for evaluation (default: roc_auc_score)')\n",
      "\n",
      "    # model architecture hyper-params\n",
      "\n",
      "    parser.add_argument('-nw', '--num-workers', type=int, default=1,\n",
      "                        help='Number of processes for data loading (default: 1)')\n",
      "\n",
      "    parser.add_argument('-mn', '--gnn-model-name', choices=['GCN-p', 'GAT-p'], default='GCN-p',\n",
      "                        help='DGL Life model implementation to be used. ')\n",
      "\n",
      "    parser.add_argument('-hl', '--gnn-hidden-feats', type=int, default=[256],\n",
      "                        help='No of hidden GCNLayers to to be use i.e hoe many nerighers to be considered.')\n",
      "\n",
      "    parser.add_argument('-res', '--gnn-residuals', type=bool, default=False,\n",
      "                        help='Whether to use residual connections in the GCNLayer or not.')\n",
      "\n",
      "    parser.add_argument('-batchnorm', '--gnn-batchnorm', type=bool, default=True,\n",
      "                        help='Whether to use batch norm in each GCNLayer or not.')\n",
      "\n",
      "    parser.add_argument('-dropout', '--gnn-dropout', type=double, default=0.001,\n",
      "                        help='Drop out percentage')\n",
      "\n",
      "    parser.add_argument('-al', '--gnn-alphas', type=double, default=0.08,\n",
      "                        help='Alphas')\n",
      "\n",
      "    parser.add_argument('-nh', '--gnn-num-heads', type=double, default=8,\n",
      "                        help='Number of heads')\n",
      "\n",
      "    parser.add_argument('-predictor_hidden_feats', '--gnn-predictor-hidden-feats', type=int, default=512,\n",
      "                        help='')\n",
      "\n",
      "    # Training hyper-params\n",
      "\n",
      "    parser.add_argument('-bs', '--batch-size', type=int, default=512,\n",
      "                        help='Batch size for the data loaders (default : 32)')\n",
      "\n",
      "    parser.add_argument('--epochs', type=int, default=1000,\n",
      "                        help='Maximum number of epochs for training. '\n",
      "                             'We set a large number by default as early stopping '\n",
      "                             'will be performed. (default: 3)')\n",
      "\n",
      "    parser.add_argument('-lr', '--learning-rate', type=double, default=0.001,\n",
      "                        help='Learning rate')\n",
      "\n",
      "    parser.add_argument('-wd', '--weight-decay', type=double, default=0.001,\n",
      "                        help='Weight decay.')\n",
      "\n",
      "    parser.add_argument('-patience', '--patience', type=int, default=30,\n",
      "                        help='')\n",
      "\n",
      "    # Monitoring params\n",
      "    parser.add_argument('-pe', '--print-every', type=int, default=20,\n",
      "                        help='Print the training progress every X mini-batches')\n",
      "\n",
      "    parser.add_argument('-md', '--mode', type=str, default=\"local\",\n",
      "                        help='Mode of running this script [sm, local]')\n",
      "\n",
      "\n",
      "    # Container environment\n",
      "    parser.add_argument(\"--model-dir\", type=str, default=os.environ[\"SM_MODEL_DIR\"])\n",
      "    parser.add_argument(\"--full-data\", type=str, default=os.environ[\"SM_CHANNEL_DATA_FULL\"])\n",
      "    parser.add_argument(\"--train-data\", type=str, default=os.environ[\"SM_CHANNEL_DATA_TRAIN\"])\n",
      "    parser.add_argument(\"--val-data\", type=str, default=os.environ[\"SM_CHANNEL_DATA_VAL\"])\n",
      "\n",
      "    #parser.add_argument(\"--num-gpus\", type=int, default=os.environ[\"SM_NUM_GPUS\"])\n",
      "\n",
      "    args = parser.parse_args()\n",
      "    train(args)\n",
      "\n"
     ]
    }
   ],
   "source": [
    "!cat code/train.py"
   ]
  },
  {
   "cell_type": "markdown",
   "metadata": {},
   "source": [
    "#### Create an experiment\n",
    "\n",
    "When training with SageMaker it is a good idea to track all the trails that we do to come up with better model under a single colelction. Hence later we would be able compare each of the trails. That colelction is called SageMaker experiments."
   ]
  },
  {
   "cell_type": "code",
   "execution_count": 46,
   "metadata": {},
   "outputs": [
    {
     "name": "stdout",
     "output_type": "stream",
     "text": [
      "\u001b[33mWARNING: Running pip as the 'root' user can result in broken permissions and conflicting behaviour with the system package manager. It is recommended to use a virtual environment instead: https://pip.pypa.io/warnings/venv\u001b[0m\n",
      "Note: you may need to restart the kernel to use updated packages.\n"
     ]
    }
   ],
   "source": [
    "%pip install sagemaker-experiments --quiet"
   ]
  },
  {
   "cell_type": "code",
   "execution_count": 47,
   "metadata": {},
   "outputs": [
    {
     "data": {
      "text/plain": [
       "Experiment(sagemaker_boto_client=<botocore.client.SageMaker object at 0x7fcfd5d84f28>,experiment_name='HIV-Inhibitor-Prediction-Experiment',experiment_arn='arn:aws:sagemaker:us-west-2:431678540810:experiment/hiv-inhibitor-prediction-experiment',display_name='HIV-Inhibitor-Prediction-Experiment',description='Experiment to track all the hiv inhibitr prediction trails.',creation_time=datetime.datetime(2022, 2, 23, 23, 54, 47, 296000, tzinfo=tzlocal()),created_by={'UserProfileArn': 'arn:aws:sagemaker:us-west-2:431678540810:user-profile/d-6awzisu1lq0k/shamika-dev0', 'UserProfileName': 'shamika-dev0', 'DomainId': 'd-6awzisu1lq0k'},last_modified_time=datetime.datetime(2022, 3, 16, 1, 32, 34, 893000, tzinfo=tzlocal()),last_modified_by={},response_metadata={'RequestId': '92100d35-24b3-4d89-95bd-6e6c188fa775', 'HTTPStatusCode': 200, 'HTTPHeaders': {'x-amzn-requestid': '92100d35-24b3-4d89-95bd-6e6c188fa775', 'content-type': 'application/x-amz-json-1.1', 'content-length': '554', 'date': 'Wed, 16 Mar 2022 02:15:28 GMT'}, 'RetryAttempts': 0})"
      ]
     },
     "execution_count": 47,
     "metadata": {},
     "output_type": "execute_result"
    }
   ],
   "source": [
    "from smexperiments.experiment import Experiment\n",
    "\n",
    "experiment_name = \"HIV-Inhibitor-Prediction-Experiment\"\n",
    "\n",
    "try :\n",
    "    experiment = Experiment.load(experiment_name)\n",
    "except Exception as e:\n",
    "    if e.response['Error']['Code'] == \"ResourceNotFound\":\n",
    "        print(\"Experiment name [{}], does not exists. Hence creating.\".format(experiment_name))\n",
    "        experiment = Experiment.create(experiment_name = experiment_name,\n",
    "                                description = \"Experiment to track all the hiv inhibitr prediction trails.\")\n",
    "    else:\n",
    "        raise e\n",
    "experiment                               "
   ]
  },
  {
   "cell_type": "markdown",
   "metadata": {},
   "source": [
    "#### Define hyper parameters"
   ]
  },
  {
   "cell_type": "markdown",
   "metadata": {},
   "source": [
    "Next, let's define hyper parameters assocated with the model. As per training script we created above here are some of the hyper parameters that we can use to tune our model(s). One highlight here is that the model architecture is also given here as the hyper parameter which allows other model architecutures like GAT, MPNN. "
   ]
  },
  {
   "cell_type": "code",
   "execution_count": 48,
   "metadata": {},
   "outputs": [],
   "source": [
    "from sagemaker.pytorch import PyTorch\n",
    "import time\n",
    "\n",
    "hyperparameters={\n",
    "    # Feature Engineering\n",
    "    \"gnn-featurizer-type\": 'canonical',\n",
    "    \n",
    "    # Model Architecture\n",
    "    \"gnn-model-name\" : 'GCN-p',\n",
    "    \"gnn-residuals\" : False,\n",
    "    \"gnn-batchnorm\" : True,\n",
    "    \"gnn-dropout\" : 0.0013086019242321,\n",
    "    \"gnn-predictor-hidden-feats\" : 512,\n",
    "    \n",
    "    # Training\n",
    "    \"batch-size\" : 512,\n",
    "    \"epochs\" : 1000,\n",
    "    \"learning-rate\" : 0.000508635928951698,\n",
    "    \"weight-decay\" : 0.0013253058161908312,\n",
    "    \"patience\" : 30\n",
    "}\n",
    "\n",
    "metric_definitions =[\n",
    "                   {'Name': 'train:roc_auc_score', 'Regex': 'training:roc_auc_score\\s\\[([0-9\\\\,.]+)\\]'},\n",
    "                   {'Name': 'validation:roc_auc_score', 'Regex': ',\\svalidation:roc_auc_score\\s\\[([0-9\\\\,.]+)\\]'},\n",
    "                   {'Name': 'best validation:roc_auc_score', 'Regex': 'best\\svalidation:roc_auc_score\\s\\[([0-9\\\\,.]+)\\]'},\n",
    "                   {'Name': 'epoch', 'Regex': 'epoch\\s\\[([0-9]+)\\]'},\n",
    "                   {'Name': 'train:loss', 'Regex': 'loss\\s\\[([0-9\\\\,.]+)\\]'}\n",
    "                ]\n",
    "\n"
   ]
  },
  {
   "cell_type": "markdown",
   "metadata": {},
   "source": [
    "#### Create trial\n",
    "\n",
    "From here onwards each model training that we are going to perform will be tracked under the experiement that we created above as a seperate trail."
   ]
  },
  {
   "cell_type": "code",
   "execution_count": 49,
   "metadata": {},
   "outputs": [],
   "source": [
    "trial_name = \"hiv-inhibitor-prediction-trainning-{}-{}\".format(hyperparameters[\"gnn-model-name\"], time.strftime(\"%m-%d-%Y-%H-%M-%S\"))\n",
    "trial = experiment.create_trial(trial_name=trial_name)"
   ]
  },
  {
   "cell_type": "markdown",
   "metadata": {},
   "source": [
    "### Train\n",
    "\n",
    "DGL expects a neural network runtime and supports all Tensorlow, Pytorch and MxNext as it's runtimes. For for this project we are going to use `Pytorch` as the backend.\n",
    "\n",
    "The Amazon SageMaker Python SDK makes it easier to run a PyTorch script in Amazon SageMaker using its PyTorch estimator. After that, we can use the SageMaker Python SDK to deploy the trained model and run predictions. For more information on how to use this SDK with PyTorch, see the SageMaker Python SDK documentation.\n",
    "\n",
    "To start, we use the PyTorch estimator class to train our model. When creating our estimator, we make sure to specify a few things:\n",
    "\n",
    "* `entry_point`: the name of our PyTorch script. It contains our training script, which loads data from the input channels, configures training with hyperparameters, trains a model, and saves a model. It also contains code to load and run the model during inference.\n",
    "\n",
    "* `source_dir`: the location of our training scripts and requirements.txt file. \"requirements.txt\" lists packages you want to use with your script.\n",
    "\n",
    "* `framework_version`: the PyTorch version we want to use.\n",
    "The PyTorch estimator supports both single-machine & multi-machine, distributed PyTorch training using SMDataParallel"
   ]
  },
  {
   "cell_type": "code",
   "execution_count": 50,
   "metadata": {},
   "outputs": [
    {
     "name": "stdout",
     "output_type": "stream",
     "text": [
      "Training job name:  tr-hiv-inhibitor-prediction-trainning-GCN-p-03-16-2022-02-15-29\n"
     ]
    },
    {
     "name": "stderr",
     "output_type": "stream",
     "text": [
      "INFO:sagemaker:Creating training-job with name: tr-hiv-inhibitor-prediction-trainning-GCN-p-03-16-2022-02-15-29\n"
     ]
    },
    {
     "name": "stdout",
     "output_type": "stream",
     "text": [
      "2022-03-16 02:15:30 Starting - Starting the training job......\n",
      "2022-03-16 02:16:06 Starting - Preparing the instances for training......\n",
      "2022-03-16 02:17:27 Downloading - Downloading input data\n",
      "2022-03-16 02:17:27 Training - Downloading the training image..........................\u001b[34mbash: cannot set terminal process group (-1): Inappropriate ioctl for device\u001b[0m\n",
      "\u001b[34mbash: no job control in this shell\u001b[0m\n",
      "\u001b[34m2022-03-16 02:21:41,598 sagemaker-training-toolkit INFO     Imported framework sagemaker_pytorch_container.training\u001b[0m\n",
      "\u001b[34m2022-03-16 02:21:41,620 sagemaker_pytorch_container.training INFO     Block until all host DNS lookups succeed.\u001b[0m\n",
      "\u001b[34m2022-03-16 02:21:41,626 sagemaker_pytorch_container.training INFO     Invoking user training script.\u001b[0m\n",
      "\u001b[34m2022-03-16 02:21:42,084 sagemaker-training-toolkit INFO     Installing dependencies from requirements.txt:\u001b[0m\n",
      "\u001b[34m/opt/conda/bin/python3.8 -m pip install -r requirements.txt\u001b[0m\n",
      "\u001b[34mRequirement already satisfied: dgl==0.6.1 in /opt/conda/lib/python3.8/site-packages (from -r requirements.txt (line 1)) (0.6.1)\u001b[0m\n",
      "\u001b[34mCollecting dgllife==0.2.8\u001b[0m\n",
      "\u001b[34mDownloading dgllife-0.2.8.tar.gz (133 kB)\u001b[0m\n",
      "\u001b[34mPreparing metadata (setup.py): started\u001b[0m\n",
      "\u001b[34mPreparing metadata (setup.py): finished with status 'done'\u001b[0m\n",
      "\u001b[34mCollecting rdkit-pypi==2021.09.3\u001b[0m\n",
      "\u001b[34mDownloading rdkit_pypi-2021.9.3-cp38-cp38-manylinux_2_17_x86_64.manylinux2014_x86_64.whl (20.8 MB)\u001b[0m\n",
      "\u001b[34mRequirement already satisfied: numpy>=1.14.0 in /opt/conda/lib/python3.8/site-packages (from dgl==0.6.1->-r requirements.txt (line 1)) (1.19.1)\u001b[0m\n",
      "\u001b[34mRequirement already satisfied: scipy>=1.1.0 in /opt/conda/lib/python3.8/site-packages (from dgl==0.6.1->-r requirements.txt (line 1)) (1.7.1)\u001b[0m\n",
      "\u001b[34mRequirement already satisfied: networkx>=2.1 in /opt/conda/lib/python3.8/site-packages (from dgl==0.6.1->-r requirements.txt (line 1)) (2.6.3)\u001b[0m\n",
      "\u001b[34mRequirement already satisfied: requests>=2.19.0 in /opt/conda/lib/python3.8/site-packages (from dgl==0.6.1->-r requirements.txt (line 1)) (2.26.0)\u001b[0m\n",
      "\u001b[34mRequirement already satisfied: scikit-learn>=0.22.2 in /opt/conda/lib/python3.8/site-packages (from dgllife==0.2.8->-r requirements.txt (line 2)) (0.24.2)\u001b[0m\n",
      "\u001b[34mRequirement already satisfied: pandas in /opt/conda/lib/python3.8/site-packages (from dgllife==0.2.8->-r requirements.txt (line 2)) (1.2.4)\u001b[0m\n",
      "\u001b[34mRequirement already satisfied: tqdm in /opt/conda/lib/python3.8/site-packages (from dgllife==0.2.8->-r requirements.txt (line 2)) (4.61.2)\u001b[0m\n",
      "\u001b[34mCollecting hyperopt\u001b[0m\n",
      "\u001b[34mDownloading hyperopt-0.2.7-py2.py3-none-any.whl (1.6 MB)\u001b[0m\n",
      "\u001b[34mRequirement already satisfied: joblib in /opt/conda/lib/python3.8/site-packages (from dgllife==0.2.8->-r requirements.txt (line 2)) (1.0.1)\u001b[0m\n",
      "\u001b[34mRequirement already satisfied: certifi>=2017.4.17 in /opt/conda/lib/python3.8/site-packages (from requests>=2.19.0->dgl==0.6.1->-r requirements.txt (line 1)) (2021.10.8)\u001b[0m\n",
      "\u001b[34mRequirement already satisfied: charset-normalizer~=2.0.0 in /opt/conda/lib/python3.8/site-packages (from requests>=2.19.0->dgl==0.6.1->-r requirements.txt (line 1)) (2.0.4)\u001b[0m\n",
      "\u001b[34mRequirement already satisfied: idna<4,>=2.5 in /opt/conda/lib/python3.8/site-packages (from requests>=2.19.0->dgl==0.6.1->-r requirements.txt (line 1)) (2.10)\u001b[0m\n",
      "\u001b[34mRequirement already satisfied: urllib3<1.27,>=1.21.1 in /opt/conda/lib/python3.8/site-packages (from requests>=2.19.0->dgl==0.6.1->-r requirements.txt (line 1)) (1.26.6)\u001b[0m\n",
      "\u001b[34mRequirement already satisfied: threadpoolctl>=2.0.0 in /opt/conda/lib/python3.8/site-packages (from scikit-learn>=0.22.2->dgllife==0.2.8->-r requirements.txt (line 2)) (2.2.0)\u001b[0m\n",
      "\u001b[34mRequirement already satisfied: six in /opt/conda/lib/python3.8/site-packages (from hyperopt->dgllife==0.2.8->-r requirements.txt (line 2)) (1.16.0)\u001b[0m\n",
      "\u001b[34mRequirement already satisfied: cloudpickle in /opt/conda/lib/python3.8/site-packages (from hyperopt->dgllife==0.2.8->-r requirements.txt (line 2)) (2.0.0)\u001b[0m\n",
      "\u001b[34mCollecting py4j\u001b[0m\n",
      "\u001b[34mDownloading py4j-0.10.9.3-py2.py3-none-any.whl (198 kB)\u001b[0m\n",
      "\u001b[34mRequirement already satisfied: future in /opt/conda/lib/python3.8/site-packages (from hyperopt->dgllife==0.2.8->-r requirements.txt (line 2)) (0.18.2)\u001b[0m\n",
      "\u001b[34mRequirement already satisfied: python-dateutil>=2.7.3 in /opt/conda/lib/python3.8/site-packages (from pandas->dgllife==0.2.8->-r requirements.txt (line 2)) (2.8.2)\u001b[0m\n",
      "\u001b[34mRequirement already satisfied: pytz>=2017.3 in /opt/conda/lib/python3.8/site-packages (from pandas->dgllife==0.2.8->-r requirements.txt (line 2)) (2021.3)\u001b[0m\n",
      "\u001b[34mBuilding wheels for collected packages: dgllife\u001b[0m\n",
      "\u001b[34mBuilding wheel for dgllife (setup.py): started\u001b[0m\n",
      "\u001b[35mbash: cannot set terminal process group (-1): Inappropriate ioctl for device\u001b[0m\n",
      "\u001b[35mbash: no job control in this shell\u001b[0m\n",
      "\u001b[35m2022-03-16 02:21:41,534 sagemaker-training-toolkit INFO     Imported framework sagemaker_pytorch_container.training\u001b[0m\n",
      "\u001b[35m2022-03-16 02:21:41,559 sagemaker_pytorch_container.training INFO     Block until all host DNS lookups succeed.\u001b[0m\n",
      "\u001b[35m2022-03-16 02:21:41,566 sagemaker_pytorch_container.training INFO     Invoking user training script.\u001b[0m\n",
      "\u001b[35m2022-03-16 02:21:42,041 sagemaker-training-toolkit INFO     Installing dependencies from requirements.txt:\u001b[0m\n",
      "\u001b[35m/opt/conda/bin/python3.8 -m pip install -r requirements.txt\u001b[0m\n",
      "\u001b[35mRequirement already satisfied: dgl==0.6.1 in /opt/conda/lib/python3.8/site-packages (from -r requirements.txt (line 1)) (0.6.1)\u001b[0m\n",
      "\u001b[35mCollecting dgllife==0.2.8\u001b[0m\n",
      "\u001b[35mDownloading dgllife-0.2.8.tar.gz (133 kB)\u001b[0m\n",
      "\u001b[35mPreparing metadata (setup.py): started\u001b[0m\n",
      "\u001b[35mPreparing metadata (setup.py): finished with status 'done'\u001b[0m\n",
      "\u001b[35mCollecting rdkit-pypi==2021.09.3\u001b[0m\n",
      "\u001b[35mDownloading rdkit_pypi-2021.9.3-cp38-cp38-manylinux_2_17_x86_64.manylinux2014_x86_64.whl (20.8 MB)\u001b[0m\n",
      "\u001b[35mRequirement already satisfied: numpy>=1.14.0 in /opt/conda/lib/python3.8/site-packages (from dgl==0.6.1->-r requirements.txt (line 1)) (1.19.1)\u001b[0m\n",
      "\u001b[35mRequirement already satisfied: scipy>=1.1.0 in /opt/conda/lib/python3.8/site-packages (from dgl==0.6.1->-r requirements.txt (line 1)) (1.7.1)\u001b[0m\n",
      "\u001b[35mRequirement already satisfied: networkx>=2.1 in /opt/conda/lib/python3.8/site-packages (from dgl==0.6.1->-r requirements.txt (line 1)) (2.6.3)\u001b[0m\n",
      "\u001b[35mRequirement already satisfied: requests>=2.19.0 in /opt/conda/lib/python3.8/site-packages (from dgl==0.6.1->-r requirements.txt (line 1)) (2.26.0)\u001b[0m\n",
      "\u001b[35mRequirement already satisfied: scikit-learn>=0.22.2 in /opt/conda/lib/python3.8/site-packages (from dgllife==0.2.8->-r requirements.txt (line 2)) (0.24.2)\u001b[0m\n",
      "\u001b[35mRequirement already satisfied: pandas in /opt/conda/lib/python3.8/site-packages (from dgllife==0.2.8->-r requirements.txt (line 2)) (1.2.4)\u001b[0m\n",
      "\u001b[35mRequirement already satisfied: tqdm in /opt/conda/lib/python3.8/site-packages (from dgllife==0.2.8->-r requirements.txt (line 2)) (4.61.2)\u001b[0m\n",
      "\u001b[35mCollecting hyperopt\u001b[0m\n",
      "\u001b[35mDownloading hyperopt-0.2.7-py2.py3-none-any.whl (1.6 MB)\u001b[0m\n",
      "\u001b[35mRequirement already satisfied: joblib in /opt/conda/lib/python3.8/site-packages (from dgllife==0.2.8->-r requirements.txt (line 2)) (1.0.1)\u001b[0m\n",
      "\u001b[35mRequirement already satisfied: certifi>=2017.4.17 in /opt/conda/lib/python3.8/site-packages (from requests>=2.19.0->dgl==0.6.1->-r requirements.txt (line 1)) (2021.10.8)\u001b[0m\n",
      "\u001b[35mRequirement already satisfied: charset-normalizer~=2.0.0 in /opt/conda/lib/python3.8/site-packages (from requests>=2.19.0->dgl==0.6.1->-r requirements.txt (line 1)) (2.0.4)\u001b[0m\n",
      "\u001b[35mRequirement already satisfied: urllib3<1.27,>=1.21.1 in /opt/conda/lib/python3.8/site-packages (from requests>=2.19.0->dgl==0.6.1->-r requirements.txt (line 1)) (1.26.6)\u001b[0m\n",
      "\u001b[35mRequirement already satisfied: idna<4,>=2.5 in /opt/conda/lib/python3.8/site-packages (from requests>=2.19.0->dgl==0.6.1->-r requirements.txt (line 1)) (2.10)\u001b[0m\n",
      "\u001b[35mRequirement already satisfied: threadpoolctl>=2.0.0 in /opt/conda/lib/python3.8/site-packages (from scikit-learn>=0.22.2->dgllife==0.2.8->-r requirements.txt (line 2)) (2.2.0)\u001b[0m\n",
      "\u001b[35mRequirement already satisfied: cloudpickle in /opt/conda/lib/python3.8/site-packages (from hyperopt->dgllife==0.2.8->-r requirements.txt (line 2)) (2.0.0)\u001b[0m\n",
      "\u001b[35mRequirement already satisfied: future in /opt/conda/lib/python3.8/site-packages (from hyperopt->dgllife==0.2.8->-r requirements.txt (line 2)) (0.18.2)\u001b[0m\n",
      "\u001b[35mRequirement already satisfied: six in /opt/conda/lib/python3.8/site-packages (from hyperopt->dgllife==0.2.8->-r requirements.txt (line 2)) (1.16.0)\u001b[0m\n",
      "\u001b[35mCollecting py4j\u001b[0m\n",
      "\u001b[35mDownloading py4j-0.10.9.3-py2.py3-none-any.whl (198 kB)\u001b[0m\n",
      "\u001b[35mRequirement already satisfied: python-dateutil>=2.7.3 in /opt/conda/lib/python3.8/site-packages (from pandas->dgllife==0.2.8->-r requirements.txt (line 2)) (2.8.2)\u001b[0m\n",
      "\u001b[35mRequirement already satisfied: pytz>=2017.3 in /opt/conda/lib/python3.8/site-packages (from pandas->dgllife==0.2.8->-r requirements.txt (line 2)) (2021.3)\u001b[0m\n",
      "\u001b[35mBuilding wheels for collected packages: dgllife\u001b[0m\n",
      "\u001b[35mBuilding wheel for dgllife (setup.py): started\u001b[0m\n",
      "\u001b[35mBuilding wheel for dgllife (setup.py): finished with status 'done'\u001b[0m\n",
      "\u001b[35mCreated wheel for dgllife: filename=dgllife-0.2.8-py3-none-any.whl size=213162 sha256=4d3095808670e7b7dd060696e7db53ed3596be0882e8ccb2c80784a54e9f9a0b\u001b[0m\n",
      "\u001b[35mStored in directory: /root/.cache/pip/wheels/02/df/58/0b926be5dc768b682c462b5414c4e2228ab9a7fd9e7270394c\u001b[0m\n",
      "\u001b[35mSuccessfully built dgllife\u001b[0m\n",
      "\u001b[34mBuilding wheel for dgllife (setup.py): finished with status 'done'\u001b[0m\n",
      "\u001b[34mCreated wheel for dgllife: filename=dgllife-0.2.8-py3-none-any.whl size=213162 sha256=4d3095808670e7b7dd060696e7db53ed3596be0882e8ccb2c80784a54e9f9a0b\u001b[0m\n",
      "\u001b[34mStored in directory: /root/.cache/pip/wheels/02/df/58/0b926be5dc768b682c462b5414c4e2228ab9a7fd9e7270394c\u001b[0m\n",
      "\u001b[34mSuccessfully built dgllife\u001b[0m\n",
      "\u001b[35mInstalling collected packages: py4j, hyperopt, rdkit-pypi, dgllife\u001b[0m\n",
      "\u001b[34mInstalling collected packages: py4j, hyperopt, rdkit-pypi, dgllife\u001b[0m\n",
      "\u001b[35mSuccessfully installed dgllife-0.2.8 hyperopt-0.2.7 py4j-0.10.9.3 rdkit-pypi-2021.9.3\u001b[0m\n",
      "\u001b[35mWARNING: Running pip as the 'root' user can result in broken permissions and conflicting behaviour with the system package manager. It is recommended to use a virtual environment instead: https://pip.pypa.io/warnings/venv\u001b[0m\n",
      "\u001b[35m2022-03-16 02:21:48,037 sagemaker-training-toolkit INFO     Invoking user script\u001b[0m\n",
      "\u001b[35mTraining Env:\u001b[0m\n",
      "\u001b[35m{\n",
      "    \"additional_framework_parameters\": {},\n",
      "    \"channel_input_dirs\": {\n",
      "        \"data_full\": \"/opt/ml/input/data/data_full\",\n",
      "        \"data_train\": \"/opt/ml/input/data/data_train\",\n",
      "        \"data_val\": \"/opt/ml/input/data/data_val\"\n",
      "    },\n",
      "    \"current_host\": \"algo-2\",\n",
      "    \"framework_module\": \"sagemaker_pytorch_container.training:main\",\n",
      "    \"hosts\": [\n",
      "        \"algo-1\",\n",
      "        \"algo-2\"\n",
      "    ],\n",
      "    \"hyperparameters\": {\n",
      "        \"batch-size\": 512,\n",
      "        \"epochs\": 1000,\n",
      "        \"gnn-batchnorm\": true,\n",
      "        \"gnn-dropout\": 0.0013086019242321,\n",
      "        \"gnn-featurizer-type\": \"canonical\",\n",
      "        \"gnn-model-name\": \"GCN-p\",\n",
      "        \"gnn-predictor-hidden-feats\": 512,\n",
      "        \"gnn-residuals\": false,\n",
      "        \"learning-rate\": 0.000508635928951698,\n",
      "        \"patience\": 30,\n",
      "        \"weight-decay\": 0.0013253058161908312\n",
      "    },\n",
      "    \"input_config_dir\": \"/opt/ml/input/config\",\n",
      "    \"input_data_config\": {\n",
      "        \"data_full\": {\n",
      "            \"TrainingInputMode\": \"File\",\n",
      "            \"S3DistributionType\": \"FullyReplicated\",\n",
      "            \"RecordWrapperType\": \"None\"\n",
      "        },\n",
      "        \"data_train\": {\n",
      "            \"TrainingInputMode\": \"File\",\n",
      "            \"S3DistributionType\": \"FullyReplicated\",\n",
      "            \"RecordWrapperType\": \"None\"\n",
      "        },\n",
      "        \"data_val\": {\n",
      "            \"TrainingInputMode\": \"File\",\n",
      "            \"S3DistributionType\": \"FullyReplicated\",\n",
      "            \"RecordWrapperType\": \"None\"\n",
      "        }\n",
      "    },\n",
      "    \"input_dir\": \"/opt/ml/input\",\n",
      "    \"is_master\": false,\n",
      "    \"job_name\": \"tr-hiv-inhibitor-prediction-trainning-GCN-p-03-16-2022-02-15-29\",\n",
      "    \"log_level\": 20,\n",
      "    \"master_hostname\": \"algo-1\",\n",
      "    \"model_dir\": \"/opt/ml/model\",\n",
      "    \"module_dir\": \"s3://sagemaker-us-west-2-431678540810/tr-hiv-inhibitor-prediction-trainning-GCN-p-03-16-2022-02-15-29/source/sourcedir.tar.gz\",\n",
      "    \"module_name\": \"train\",\n",
      "    \"network_interface_name\": \"eth0\",\n",
      "    \"num_cpus\": 8,\n",
      "    \"num_gpus\": 1,\n",
      "    \"output_data_dir\": \"/opt/ml/output/data\",\n",
      "    \"output_dir\": \"/opt/ml/output\",\n",
      "    \"output_intermediate_dir\": \"/opt/ml/output/intermediate\",\n",
      "    \"resource_config\": {\n",
      "        \"current_host\": \"algo-2\",\n",
      "        \"current_instance_type\": \"ml.p3.2xlarge\",\n",
      "        \"current_group_name\": \"homogeneousCluster\",\n",
      "        \"hosts\": [\n",
      "            \"algo-1\",\n",
      "            \"algo-2\"\n",
      "        ],\n",
      "        \"instance_groups\": [\n",
      "            {\n",
      "                \"instance_group_name\": \"homogeneousCluster\",\n",
      "                \"instance_type\": \"ml.p3.2xlarge\",\n",
      "                \"hosts\": [\n",
      "                    \"algo-2\",\n",
      "                    \"algo-1\"\n",
      "                ]\n",
      "            }\n",
      "        ],\n",
      "        \"network_interface_name\": \"eth0\"\n",
      "    },\n",
      "    \"user_entry_point\": \"train.py\"\u001b[0m\n",
      "\u001b[35m}\u001b[0m\n",
      "\u001b[35mEnvironment variables:\u001b[0m\n",
      "\u001b[35mSM_HOSTS=[\"algo-1\",\"algo-2\"]\u001b[0m\n",
      "\u001b[35mSM_NETWORK_INTERFACE_NAME=eth0\u001b[0m\n",
      "\u001b[35mSM_HPS={\"batch-size\":512,\"epochs\":1000,\"gnn-batchnorm\":true,\"gnn-dropout\":0.0013086019242321,\"gnn-featurizer-type\":\"canonical\",\"gnn-model-name\":\"GCN-p\",\"gnn-predictor-hidden-feats\":512,\"gnn-residuals\":false,\"learning-rate\":0.000508635928951698,\"patience\":30,\"weight-decay\":0.0013253058161908312}\u001b[0m\n",
      "\u001b[35mSM_USER_ENTRY_POINT=train.py\u001b[0m\n",
      "\u001b[35mSM_FRAMEWORK_PARAMS={}\u001b[0m\n",
      "\u001b[35mSM_RESOURCE_CONFIG={\"current_group_name\":\"homogeneousCluster\",\"current_host\":\"algo-2\",\"current_instance_type\":\"ml.p3.2xlarge\",\"hosts\":[\"algo-1\",\"algo-2\"],\"instance_groups\":[{\"hosts\":[\"algo-2\",\"algo-1\"],\"instance_group_name\":\"homogeneousCluster\",\"instance_type\":\"ml.p3.2xlarge\"}],\"network_interface_name\":\"eth0\"}\u001b[0m\n",
      "\u001b[35mSM_INPUT_DATA_CONFIG={\"data_full\":{\"RecordWrapperType\":\"None\",\"S3DistributionType\":\"FullyReplicated\",\"TrainingInputMode\":\"File\"},\"data_train\":{\"RecordWrapperType\":\"None\",\"S3DistributionType\":\"FullyReplicated\",\"TrainingInputMode\":\"File\"},\"data_val\":{\"RecordWrapperType\":\"None\",\"S3DistributionType\":\"FullyReplicated\",\"TrainingInputMode\":\"File\"}}\u001b[0m\n",
      "\u001b[35mSM_OUTPUT_DATA_DIR=/opt/ml/output/data\u001b[0m\n",
      "\u001b[35mSM_CHANNELS=[\"data_full\",\"data_train\",\"data_val\"]\u001b[0m\n",
      "\u001b[35mSM_CURRENT_HOST=algo-2\u001b[0m\n",
      "\u001b[35mSM_MODULE_NAME=train\u001b[0m\n",
      "\u001b[35mSM_LOG_LEVEL=20\u001b[0m\n",
      "\u001b[35mSM_FRAMEWORK_MODULE=sagemaker_pytorch_container.training:main\u001b[0m\n",
      "\u001b[35mSM_INPUT_DIR=/opt/ml/input\u001b[0m\n",
      "\u001b[35mSM_INPUT_CONFIG_DIR=/opt/ml/input/config\u001b[0m\n",
      "\u001b[35mSM_OUTPUT_DIR=/opt/ml/output\u001b[0m\n",
      "\u001b[35mSM_NUM_CPUS=8\u001b[0m\n",
      "\u001b[35mSM_NUM_GPUS=1\u001b[0m\n",
      "\u001b[35mSM_MODEL_DIR=/opt/ml/model\u001b[0m\n",
      "\u001b[35mSM_MODULE_DIR=s3://sagemaker-us-west-2-431678540810/tr-hiv-inhibitor-prediction-trainning-GCN-p-03-16-2022-02-15-29/source/sourcedir.tar.gz\u001b[0m\n",
      "\u001b[35mSM_TRAINING_ENV={\"additional_framework_parameters\":{},\"channel_input_dirs\":{\"data_full\":\"/opt/ml/input/data/data_full\",\"data_train\":\"/opt/ml/input/data/data_train\",\"data_val\":\"/opt/ml/input/data/data_val\"},\"current_host\":\"algo-2\",\"framework_module\":\"sagemaker_pytorch_container.training:main\",\"hosts\":[\"algo-1\",\"algo-2\"],\"hyperparameters\":{\"batch-size\":512,\"epochs\":1000,\"gnn-batchnorm\":true,\"gnn-dropout\":0.0013086019242321,\"gnn-featurizer-type\":\"canonical\",\"gnn-model-name\":\"GCN-p\",\"gnn-predictor-hidden-feats\":512,\"gnn-residuals\":false,\"learning-rate\":0.000508635928951698,\"patience\":30,\"weight-decay\":0.0013253058161908312},\"input_config_dir\":\"/opt/ml/input/config\",\"input_data_config\":{\"data_full\":{\"RecordWrapperType\":\"None\",\"S3DistributionType\":\"FullyReplicated\",\"TrainingInputMode\":\"File\"},\"data_train\":{\"RecordWrapperType\":\"None\",\"S3DistributionType\":\"FullyReplicated\",\"TrainingInputMode\":\"File\"},\"data_val\":{\"RecordWrapperType\":\"None\",\"S3DistributionType\":\"FullyReplicated\",\"TrainingInputMode\":\"File\"}},\"input_dir\":\"/opt/ml/input\",\"is_master\":false,\"job_name\":\"tr-hiv-inhibitor-prediction-trainning-GCN-p-03-16-2022-02-15-29\",\"log_level\":20,\"master_hostname\":\"algo-1\",\"model_dir\":\"/opt/ml/model\",\"module_dir\":\"s3://sagemaker-us-west-2-431678540810/tr-hiv-inhibitor-prediction-trainning-GCN-p-03-16-2022-02-15-29/source/sourcedir.tar.gz\",\"module_name\":\"train\",\"network_interface_name\":\"eth0\",\"num_cpus\":8,\"num_gpus\":1,\"output_data_dir\":\"/opt/ml/output/data\",\"output_dir\":\"/opt/ml/output\",\"output_intermediate_dir\":\"/opt/ml/output/intermediate\",\"resource_config\":{\"current_group_name\":\"homogeneousCluster\",\"current_host\":\"algo-2\",\"current_instance_type\":\"ml.p3.2xlarge\",\"hosts\":[\"algo-1\",\"algo-2\"],\"instance_groups\":[{\"hosts\":[\"algo-2\",\"algo-1\"],\"instance_group_name\":\"homogeneousCluster\",\"instance_type\":\"ml.p3.2xlarge\"}],\"network_interface_name\":\"eth0\"},\"user_entry_point\":\"train.py\"}\u001b[0m\n",
      "\u001b[35mSM_USER_ARGS=[\"--batch-size\",\"512\",\"--epochs\",\"1000\",\"--gnn-batchnorm\",\"True\",\"--gnn-dropout\",\"0.0013086019242321\",\"--gnn-featurizer-type\",\"canonical\",\"--gnn-model-name\",\"GCN-p\",\"--gnn-predictor-hidden-feats\",\"512\",\"--gnn-residuals\",\"False\",\"--learning-rate\",\"0.000508635928951698\",\"--patience\",\"30\",\"--weight-decay\",\"0.0013253058161908312\"]\u001b[0m\n",
      "\u001b[35mSM_OUTPUT_INTERMEDIATE_DIR=/opt/ml/output/intermediate\u001b[0m\n",
      "\u001b[35mSM_CHANNEL_DATA_FULL=/opt/ml/input/data/data_full\u001b[0m\n",
      "\u001b[35mSM_CHANNEL_DATA_TRAIN=/opt/ml/input/data/data_train\u001b[0m\n",
      "\u001b[35mSM_CHANNEL_DATA_VAL=/opt/ml/input/data/data_val\u001b[0m\n",
      "\u001b[35mSM_HP_BATCH-SIZE=512\u001b[0m\n",
      "\u001b[35mSM_HP_EPOCHS=1000\u001b[0m\n",
      "\u001b[35mSM_HP_GNN-BATCHNORM=true\u001b[0m\n",
      "\u001b[35mSM_HP_GNN-DROPOUT=0.0013086019242321\u001b[0m\n",
      "\u001b[35mSM_HP_GNN-FEATURIZER-TYPE=canonical\u001b[0m\n",
      "\u001b[35mSM_HP_GNN-MODEL-NAME=GCN-p\u001b[0m\n",
      "\u001b[35mSM_HP_GNN-PREDICTOR-HIDDEN-FEATS=512\u001b[0m\n",
      "\u001b[35mSM_HP_GNN-RESIDUALS=false\u001b[0m\n",
      "\u001b[35mSM_HP_LEARNING-RATE=0.000508635928951698\u001b[0m\n",
      "\u001b[35mSM_HP_PATIENCE=30\u001b[0m\n",
      "\u001b[35mSM_HP_WEIGHT-DECAY=0.0013253058161908312\u001b[0m\n",
      "\u001b[35mPYTHONPATH=/opt/ml/code:/opt/conda/bin:/opt/conda/lib/python38.zip:/opt/conda/lib/python3.8:/opt/conda/lib/python3.8/lib-dynload:/opt/conda/lib/python3.8/site-packages\u001b[0m\n",
      "\u001b[35mInvoking script with the following command:\u001b[0m\n",
      "\u001b[35m/opt/conda/bin/python3.8 train.py --batch-size 512 --epochs 1000 --gnn-batchnorm True --gnn-dropout 0.0013086019242321 --gnn-featurizer-type canonical --gnn-model-name GCN-p --gnn-predictor-hidden-feats 512 --gnn-residuals False --learning-rate 0.000508635928951698 --patience 30 --weight-decay 0.0013253058161908312\u001b[0m\n",
      "\u001b[34mSuccessfully installed dgllife-0.2.8 hyperopt-0.2.7 py4j-0.10.9.3 rdkit-pypi-2021.9.3\u001b[0m\n",
      "\u001b[34mWARNING: Running pip as the 'root' user can result in broken permissions and conflicting behaviour with the system package manager. It is recommended to use a virtual environment instead: https://pip.pypa.io/warnings/venv\u001b[0m\n",
      "\u001b[34m2022-03-16 02:21:48,149 sagemaker-training-toolkit INFO     Invoking user script\u001b[0m\n",
      "\u001b[34mTraining Env:\u001b[0m\n",
      "\u001b[34m{\n",
      "    \"additional_framework_parameters\": {},\n",
      "    \"channel_input_dirs\": {\n",
      "        \"data_full\": \"/opt/ml/input/data/data_full\",\n",
      "        \"data_train\": \"/opt/ml/input/data/data_train\",\n",
      "        \"data_val\": \"/opt/ml/input/data/data_val\"\n",
      "    },\n",
      "    \"current_host\": \"algo-1\",\n",
      "    \"framework_module\": \"sagemaker_pytorch_container.training:main\",\n",
      "    \"hosts\": [\n",
      "        \"algo-1\",\n",
      "        \"algo-2\"\n",
      "    ],\n",
      "    \"hyperparameters\": {\n",
      "        \"batch-size\": 512,\n",
      "        \"epochs\": 1000,\n",
      "        \"gnn-batchnorm\": true,\n",
      "        \"gnn-dropout\": 0.0013086019242321,\n",
      "        \"gnn-featurizer-type\": \"canonical\",\n",
      "        \"gnn-model-name\": \"GCN-p\",\n",
      "        \"gnn-predictor-hidden-feats\": 512,\n",
      "        \"gnn-residuals\": false,\n",
      "        \"learning-rate\": 0.000508635928951698,\n",
      "        \"patience\": 30,\n",
      "        \"weight-decay\": 0.0013253058161908312\n",
      "    },\n",
      "    \"input_config_dir\": \"/opt/ml/input/config\",\n",
      "    \"input_data_config\": {\n",
      "        \"data_full\": {\n",
      "            \"TrainingInputMode\": \"File\",\n",
      "            \"S3DistributionType\": \"FullyReplicated\",\n",
      "            \"RecordWrapperType\": \"None\"\n",
      "        },\n",
      "        \"data_train\": {\n",
      "            \"TrainingInputMode\": \"File\",\n",
      "            \"S3DistributionType\": \"FullyReplicated\",\n",
      "            \"RecordWrapperType\": \"None\"\n",
      "        },\n",
      "        \"data_val\": {\n",
      "            \"TrainingInputMode\": \"File\",\n",
      "            \"S3DistributionType\": \"FullyReplicated\",\n",
      "            \"RecordWrapperType\": \"None\"\n",
      "        }\n",
      "    },\n",
      "    \"input_dir\": \"/opt/ml/input\",\n",
      "    \"is_master\": true,\n",
      "    \"job_name\": \"tr-hiv-inhibitor-prediction-trainning-GCN-p-03-16-2022-02-15-29\",\n",
      "    \"log_level\": 20,\n",
      "    \"master_hostname\": \"algo-1\",\n",
      "    \"model_dir\": \"/opt/ml/model\",\n",
      "    \"module_dir\": \"s3://sagemaker-us-west-2-431678540810/tr-hiv-inhibitor-prediction-trainning-GCN-p-03-16-2022-02-15-29/source/sourcedir.tar.gz\",\n",
      "    \"module_name\": \"train\",\n",
      "    \"network_interface_name\": \"eth0\",\n",
      "    \"num_cpus\": 8,\n",
      "    \"num_gpus\": 1,\n",
      "    \"output_data_dir\": \"/opt/ml/output/data\",\n",
      "    \"output_dir\": \"/opt/ml/output\",\n",
      "    \"output_intermediate_dir\": \"/opt/ml/output/intermediate\",\n",
      "    \"resource_config\": {\n",
      "        \"current_host\": \"algo-1\",\n",
      "        \"current_instance_type\": \"ml.p3.2xlarge\",\n",
      "        \"current_group_name\": \"homogeneousCluster\",\n",
      "        \"hosts\": [\n",
      "            \"algo-1\",\n",
      "            \"algo-2\"\n",
      "        ],\n",
      "        \"instance_groups\": [\n",
      "            {\n",
      "                \"instance_group_name\": \"homogeneousCluster\",\n",
      "                \"instance_type\": \"ml.p3.2xlarge\",\n",
      "                \"hosts\": [\n",
      "                    \"algo-2\",\n",
      "                    \"algo-1\"\n",
      "                ]\n",
      "            }\n",
      "        ],\n",
      "        \"network_interface_name\": \"eth0\"\n",
      "    },\n",
      "    \"user_entry_point\": \"train.py\"\u001b[0m\n",
      "\u001b[34m}\u001b[0m\n",
      "\u001b[34mEnvironment variables:\u001b[0m\n",
      "\u001b[34mSM_HOSTS=[\"algo-1\",\"algo-2\"]\u001b[0m\n",
      "\u001b[34mSM_NETWORK_INTERFACE_NAME=eth0\u001b[0m\n",
      "\u001b[34mSM_HPS={\"batch-size\":512,\"epochs\":1000,\"gnn-batchnorm\":true,\"gnn-dropout\":0.0013086019242321,\"gnn-featurizer-type\":\"canonical\",\"gnn-model-name\":\"GCN-p\",\"gnn-predictor-hidden-feats\":512,\"gnn-residuals\":false,\"learning-rate\":0.000508635928951698,\"patience\":30,\"weight-decay\":0.0013253058161908312}\u001b[0m\n",
      "\u001b[34mSM_USER_ENTRY_POINT=train.py\u001b[0m\n",
      "\u001b[34mSM_FRAMEWORK_PARAMS={}\u001b[0m\n",
      "\u001b[34mSM_RESOURCE_CONFIG={\"current_group_name\":\"homogeneousCluster\",\"current_host\":\"algo-1\",\"current_instance_type\":\"ml.p3.2xlarge\",\"hosts\":[\"algo-1\",\"algo-2\"],\"instance_groups\":[{\"hosts\":[\"algo-2\",\"algo-1\"],\"instance_group_name\":\"homogeneousCluster\",\"instance_type\":\"ml.p3.2xlarge\"}],\"network_interface_name\":\"eth0\"}\u001b[0m\n",
      "\u001b[34mSM_INPUT_DATA_CONFIG={\"data_full\":{\"RecordWrapperType\":\"None\",\"S3DistributionType\":\"FullyReplicated\",\"TrainingInputMode\":\"File\"},\"data_train\":{\"RecordWrapperType\":\"None\",\"S3DistributionType\":\"FullyReplicated\",\"TrainingInputMode\":\"File\"},\"data_val\":{\"RecordWrapperType\":\"None\",\"S3DistributionType\":\"FullyReplicated\",\"TrainingInputMode\":\"File\"}}\u001b[0m\n",
      "\u001b[34mSM_OUTPUT_DATA_DIR=/opt/ml/output/data\u001b[0m\n",
      "\u001b[34mSM_CHANNELS=[\"data_full\",\"data_train\",\"data_val\"]\u001b[0m\n",
      "\u001b[34mSM_CURRENT_HOST=algo-1\u001b[0m\n",
      "\u001b[34mSM_MODULE_NAME=train\u001b[0m\n",
      "\u001b[34mSM_LOG_LEVEL=20\u001b[0m\n",
      "\u001b[34mSM_FRAMEWORK_MODULE=sagemaker_pytorch_container.training:main\u001b[0m\n",
      "\u001b[34mSM_INPUT_DIR=/opt/ml/input\u001b[0m\n",
      "\u001b[34mSM_INPUT_CONFIG_DIR=/opt/ml/input/config\u001b[0m\n",
      "\u001b[34mSM_OUTPUT_DIR=/opt/ml/output\u001b[0m\n",
      "\u001b[34mSM_NUM_CPUS=8\u001b[0m\n",
      "\u001b[34mSM_NUM_GPUS=1\u001b[0m\n",
      "\u001b[34mSM_MODEL_DIR=/opt/ml/model\u001b[0m\n",
      "\u001b[34mSM_MODULE_DIR=s3://sagemaker-us-west-2-431678540810/tr-hiv-inhibitor-prediction-trainning-GCN-p-03-16-2022-02-15-29/source/sourcedir.tar.gz\u001b[0m\n",
      "\u001b[34mSM_TRAINING_ENV={\"additional_framework_parameters\":{},\"channel_input_dirs\":{\"data_full\":\"/opt/ml/input/data/data_full\",\"data_train\":\"/opt/ml/input/data/data_train\",\"data_val\":\"/opt/ml/input/data/data_val\"},\"current_host\":\"algo-1\",\"framework_module\":\"sagemaker_pytorch_container.training:main\",\"hosts\":[\"algo-1\",\"algo-2\"],\"hyperparameters\":{\"batch-size\":512,\"epochs\":1000,\"gnn-batchnorm\":true,\"gnn-dropout\":0.0013086019242321,\"gnn-featurizer-type\":\"canonical\",\"gnn-model-name\":\"GCN-p\",\"gnn-predictor-hidden-feats\":512,\"gnn-residuals\":false,\"learning-rate\":0.000508635928951698,\"patience\":30,\"weight-decay\":0.0013253058161908312},\"input_config_dir\":\"/opt/ml/input/config\",\"input_data_config\":{\"data_full\":{\"RecordWrapperType\":\"None\",\"S3DistributionType\":\"FullyReplicated\",\"TrainingInputMode\":\"File\"},\"data_train\":{\"RecordWrapperType\":\"None\",\"S3DistributionType\":\"FullyReplicated\",\"TrainingInputMode\":\"File\"},\"data_val\":{\"RecordWrapperType\":\"None\",\"S3DistributionType\":\"FullyReplicated\",\"TrainingInputMode\":\"File\"}},\"input_dir\":\"/opt/ml/input\",\"is_master\":true,\"job_name\":\"tr-hiv-inhibitor-prediction-trainning-GCN-p-03-16-2022-02-15-29\",\"log_level\":20,\"master_hostname\":\"algo-1\",\"model_dir\":\"/opt/ml/model\",\"module_dir\":\"s3://sagemaker-us-west-2-431678540810/tr-hiv-inhibitor-prediction-trainning-GCN-p-03-16-2022-02-15-29/source/sourcedir.tar.gz\",\"module_name\":\"train\",\"network_interface_name\":\"eth0\",\"num_cpus\":8,\"num_gpus\":1,\"output_data_dir\":\"/opt/ml/output/data\",\"output_dir\":\"/opt/ml/output\",\"output_intermediate_dir\":\"/opt/ml/output/intermediate\",\"resource_config\":{\"current_group_name\":\"homogeneousCluster\",\"current_host\":\"algo-1\",\"current_instance_type\":\"ml.p3.2xlarge\",\"hosts\":[\"algo-1\",\"algo-2\"],\"instance_groups\":[{\"hosts\":[\"algo-2\",\"algo-1\"],\"instance_group_name\":\"homogeneousCluster\",\"instance_type\":\"ml.p3.2xlarge\"}],\"network_interface_name\":\"eth0\"},\"user_entry_point\":\"train.py\"}\u001b[0m\n",
      "\u001b[34mSM_USER_ARGS=[\"--batch-size\",\"512\",\"--epochs\",\"1000\",\"--gnn-batchnorm\",\"True\",\"--gnn-dropout\",\"0.0013086019242321\",\"--gnn-featurizer-type\",\"canonical\",\"--gnn-model-name\",\"GCN-p\",\"--gnn-predictor-hidden-feats\",\"512\",\"--gnn-residuals\",\"False\",\"--learning-rate\",\"0.000508635928951698\",\"--patience\",\"30\",\"--weight-decay\",\"0.0013253058161908312\"]\u001b[0m\n",
      "\u001b[34mSM_OUTPUT_INTERMEDIATE_DIR=/opt/ml/output/intermediate\u001b[0m\n",
      "\u001b[34mSM_CHANNEL_DATA_FULL=/opt/ml/input/data/data_full\u001b[0m\n",
      "\u001b[34mSM_CHANNEL_DATA_TRAIN=/opt/ml/input/data/data_train\u001b[0m\n",
      "\u001b[34mSM_CHANNEL_DATA_VAL=/opt/ml/input/data/data_val\u001b[0m\n",
      "\u001b[34mSM_HP_BATCH-SIZE=512\u001b[0m\n",
      "\u001b[34mSM_HP_EPOCHS=1000\u001b[0m\n",
      "\u001b[34mSM_HP_GNN-BATCHNORM=true\u001b[0m\n",
      "\u001b[34mSM_HP_GNN-DROPOUT=0.0013086019242321\u001b[0m\n",
      "\u001b[34mSM_HP_GNN-FEATURIZER-TYPE=canonical\u001b[0m\n",
      "\u001b[34mSM_HP_GNN-MODEL-NAME=GCN-p\u001b[0m\n",
      "\u001b[34mSM_HP_GNN-PREDICTOR-HIDDEN-FEATS=512\u001b[0m\n",
      "\u001b[34mSM_HP_GNN-RESIDUALS=false\u001b[0m\n",
      "\u001b[34mSM_HP_LEARNING-RATE=0.000508635928951698\u001b[0m\n",
      "\u001b[34mSM_HP_PATIENCE=30\u001b[0m\n",
      "\u001b[34mSM_HP_WEIGHT-DECAY=0.0013253058161908312\u001b[0m\n",
      "\u001b[34mPYTHONPATH=/opt/ml/code:/opt/conda/bin:/opt/conda/lib/python38.zip:/opt/conda/lib/python3.8:/opt/conda/lib/python3.8/lib-dynload:/opt/conda/lib/python3.8/site-packages\u001b[0m\n",
      "\u001b[34mInvoking script with the following command:\u001b[0m\n",
      "\u001b[34m/opt/conda/bin/python3.8 train.py --batch-size 512 --epochs 1000 --gnn-batchnorm True --gnn-dropout 0.0013086019242321 --gnn-featurizer-type canonical --gnn-model-name GCN-p --gnn-predictor-hidden-feats 512 --gnn-residuals False --learning-rate 0.000508635928951698 --patience 30 --weight-decay 0.0013253058161908312\u001b[0m\n",
      "\n",
      "2022-03-16 02:21:38 Training - Training image download completed. Training in progress.\u001b[35mUsing backend: pytorch\u001b[0m\n",
      "\u001b[34mUsing backend: pytorch\u001b[0m\n",
      "\u001b[35mLoading Parameters\u001b[0m\n",
      "\u001b[35mHello I am training with following args.\u001b[0m\n",
      "\u001b[35mNamespace(batch_size=512, epochs=1000, full_data='/opt/ml/input/data/data_full', gnn_alphas=0.08, gnn_batchnorm=True, gnn_dropout=0.0013086019242321, gnn_featurizer_type='canonical', gnn_hidden_feats=[256], gnn_model_name='GCN-p', gnn_num_heads=8, gnn_predictor_hidden_feats=512, gnn_residuals=True, learning_rate=0.000508635928951698, metric='roc_auc_score', mode='local', model_dir='/opt/ml/model', num_workers=1, patience=30, print_every=20, train_data='/opt/ml/input/data/data_train', val_data='/opt/ml/input/data/data_val', weight_decay=0.0013253058161908312)\u001b[0m\n",
      "\u001b[34mLoading Parameters\u001b[0m\n",
      "\u001b[34mHello I am training with following args.\u001b[0m\n",
      "\u001b[34mNamespace(batch_size=512, epochs=1000, full_data='/opt/ml/input/data/data_full', gnn_alphas=0.08, gnn_batchnorm=True, gnn_dropout=0.0013086019242321, gnn_featurizer_type='canonical', gnn_hidden_feats=[256], gnn_model_name='GCN-p', gnn_num_heads=8, gnn_predictor_hidden_feats=512, gnn_residuals=True, learning_rate=0.000508635928951698, metric='roc_auc_score', mode='local', model_dir='/opt/ml/model', num_workers=1, patience=30, print_every=20, train_data='/opt/ml/input/data/data_train', val_data='/opt/ml/input/data/data_val', weight_decay=0.0013253058161908312)\u001b[0m\n",
      "\u001b[35mDevice : [cuda:0]\u001b[0m\n",
      "\u001b[35mProcessing dgl graphs from scratch...\u001b[0m\n",
      "\u001b[34mDevice : [cuda:0]\u001b[0m\n",
      "\u001b[34mProcessing dgl graphs from scratch...\u001b[0m\n",
      "\u001b[35mProcessing molecule 1000/41127\u001b[0m\n",
      "\u001b[34mProcessing molecule 1000/41127\u001b[0m\n",
      "\u001b[34mProcessing molecule 2000/41127\u001b[0m\n",
      "\u001b[35mProcessing molecule 2000/41127\u001b[0m\n",
      "\u001b[35mProcessing molecule 3000/41127\u001b[0m\n",
      "\u001b[34mProcessing molecule 3000/41127\u001b[0m\n",
      "\u001b[34mProcessing molecule 4000/41127\u001b[0m\n",
      "\u001b[35mProcessing molecule 4000/41127\u001b[0m\n",
      "\u001b[34mProcessing molecule 5000/41127\u001b[0m\n",
      "\u001b[35mProcessing molecule 5000/41127\u001b[0m\n",
      "\u001b[34mProcessing molecule 6000/41127\u001b[0m\n",
      "\u001b[35mProcessing molecule 6000/41127\u001b[0m\n",
      "\u001b[34mProcessing molecule 7000/41127\u001b[0m\n",
      "\u001b[35mProcessing molecule 7000/41127\u001b[0m\n",
      "\u001b[35mProcessing molecule 8000/41127\u001b[0m\n",
      "\u001b[34mProcessing molecule 8000/41127\u001b[0m\n",
      "\u001b[34mProcessing molecule 9000/41127\u001b[0m\n",
      "\u001b[35mProcessing molecule 9000/41127\u001b[0m\n",
      "\u001b[35mProcessing molecule 10000/41127\u001b[0m\n",
      "\u001b[34mProcessing molecule 10000/41127\u001b[0m\n",
      "\u001b[34mProcessing molecule 11000/41127\u001b[0m\n",
      "\u001b[35mProcessing molecule 11000/41127\u001b[0m\n",
      "\u001b[35mProcessing molecule 12000/41127\u001b[0m\n",
      "\u001b[34mProcessing molecule 12000/41127\u001b[0m\n",
      "\u001b[34mProcessing molecule 13000/41127\u001b[0m\n",
      "\u001b[35mProcessing molecule 13000/41127\u001b[0m\n",
      "\u001b[35mProcessing molecule 14000/41127\u001b[0m\n",
      "\u001b[34mProcessing molecule 14000/41127\u001b[0m\n",
      "\u001b[34mProcessing molecule 15000/41127\u001b[0m\n",
      "\u001b[35mProcessing molecule 15000/41127\u001b[0m\n",
      "\u001b[35mProcessing molecule 16000/41127\u001b[0m\n",
      "\u001b[34mProcessing molecule 16000/41127\u001b[0m\n",
      "\u001b[34mProcessing molecule 17000/41127\u001b[0m\n",
      "\u001b[35mProcessing molecule 17000/41127\u001b[0m\n",
      "\u001b[35mProcessing molecule 18000/41127\u001b[0m\n",
      "\u001b[34mProcessing molecule 18000/41127\u001b[0m\n",
      "\u001b[34mProcessing molecule 19000/41127\u001b[0m\n",
      "\u001b[35mProcessing molecule 19000/41127\u001b[0m\n",
      "\u001b[35mProcessing molecule 20000/41127\u001b[0m\n",
      "\u001b[34mProcessing molecule 20000/41127\u001b[0m\n",
      "\u001b[35mProcessing molecule 21000/41127\u001b[0m\n",
      "\u001b[34mProcessing molecule 21000/41127\u001b[0m\n",
      "\u001b[34mProcessing molecule 22000/41127\u001b[0m\n",
      "\u001b[35mProcessing molecule 22000/41127\u001b[0m\n",
      "\u001b[35mProcessing molecule 23000/41127\u001b[0m\n",
      "\u001b[34mProcessing molecule 23000/41127\u001b[0m\n",
      "\u001b[35mProcessing molecule 24000/41127\u001b[0m\n",
      "\u001b[34mProcessing molecule 24000/41127\u001b[0m\n",
      "\u001b[35mProcessing molecule 25000/41127\u001b[0m\n",
      "\u001b[34mProcessing molecule 25000/41127\u001b[0m\n",
      "\u001b[34mProcessing molecule 26000/41127\u001b[0m\n",
      "\u001b[35mProcessing molecule 26000/41127\u001b[0m\n",
      "\u001b[35mProcessing molecule 27000/41127\u001b[0m\n",
      "\u001b[34mProcessing molecule 27000/41127\u001b[0m\n",
      "\u001b[35mProcessing molecule 28000/41127\u001b[0m\n",
      "\u001b[34mProcessing molecule 28000/41127\u001b[0m\n",
      "\u001b[35mProcessing molecule 29000/41127\u001b[0m\n",
      "\u001b[34mProcessing molecule 29000/41127\u001b[0m\n",
      "\u001b[35mProcessing molecule 30000/41127\u001b[0m\n",
      "\u001b[34mProcessing molecule 30000/41127\u001b[0m\n",
      "\u001b[35mProcessing molecule 31000/41127\u001b[0m\n",
      "\u001b[34mProcessing molecule 31000/41127\u001b[0m\n",
      "\u001b[35mProcessing molecule 32000/41127\u001b[0m\n",
      "\u001b[34mProcessing molecule 32000/41127\u001b[0m\n",
      "\u001b[34mProcessing molecule 33000/41127\u001b[0m\n",
      "\u001b[35mProcessing molecule 33000/41127\u001b[0m\n",
      "\u001b[35mProcessing molecule 34000/41127\u001b[0m\n",
      "\u001b[34mProcessing molecule 34000/41127\u001b[0m\n",
      "\u001b[34mProcessing molecule 35000/41127\u001b[0m\n",
      "\u001b[35mProcessing molecule 35000/41127\u001b[0m\n",
      "\u001b[34mProcessing molecule 36000/41127\u001b[0m\n",
      "\u001b[35mProcessing molecule 36000/41127\u001b[0m\n",
      "\u001b[34mProcessing molecule 37000/41127\u001b[0m\n",
      "\u001b[35mProcessing molecule 37000/41127\u001b[0m\n",
      "\u001b[34mProcessing molecule 38000/41127\u001b[0m\n",
      "\u001b[35mProcessing molecule 38000/41127\u001b[0m\n",
      "\u001b[34mProcessing molecule 39000/41127\u001b[0m\n",
      "\u001b[35mProcessing molecule 39000/41127\u001b[0m\n",
      "\u001b[34mProcessing molecule 40000/41127\u001b[0m\n",
      "\u001b[35mProcessing molecule 40000/41127\u001b[0m\n",
      "\u001b[34mProcessing molecule 41000/41127\u001b[0m\n",
      "\u001b[35mProcessing molecule 41000/41127\u001b[0m\n",
      "\u001b[34mGCNPredictor(\n",
      "  (gnn): GCN(\n",
      "    (gnn_layers): ModuleList(\n",
      "      (0): GCNLayer(\n",
      "        (graph_conv): GraphConv(in=74, out=256, normalization=none, activation=<function relu at 0x7feb38c26d30>)\n",
      "        (dropout): Dropout(p=0.0013086019242321, inplace=False)\n",
      "        (res_connection): Linear(in_features=74, out_features=256, bias=True)\n",
      "        (bn_layer): BatchNorm1d(256, eps=1e-05, momentum=0.1, affine=True, track_running_stats=True)\n",
      "      )\n",
      "    )\n",
      "  )\n",
      "  (readout): WeightedSumAndMax(\n",
      "    (weight_and_sum): WeightAndSum(\n",
      "      (atom_weighting): Sequential(\n",
      "        (0): Linear(in_features=256, out_features=1, bias=True)\n",
      "        (1): Sigmoid()\n",
      "      )\n",
      "    )\n",
      "  )\n",
      "  (predict): MLPPredictor(\n",
      "    (predict): Sequential(\n",
      "      (0): Dropout(p=0.0013086019242321, inplace=False)\n",
      "      (1): Linear(in_features=512, out_features=512, bias=True)\n",
      "      (2): ReLU()\n",
      "      (3): BatchNorm1d(512, eps=1e-05, momentum=0.1, affine=True, track_running_stats=True)\n",
      "      (4): Linear(in_features=512, out_features=1, bias=True)\n",
      "    )\n",
      "  )\u001b[0m\n",
      "\u001b[34m)\u001b[0m\n",
      "\u001b[34mFor metric roc_auc_score, the higher the better\u001b[0m\n",
      "\u001b[35mGCNPredictor(\n",
      "  (gnn): GCN(\n",
      "    (gnn_layers): ModuleList(\n",
      "      (0): GCNLayer(\n",
      "        (graph_conv): GraphConv(in=74, out=256, normalization=none, activation=<function relu at 0x7f5f6d0e8d30>)\n",
      "        (dropout): Dropout(p=0.0013086019242321, inplace=False)\n",
      "        (res_connection): Linear(in_features=74, out_features=256, bias=True)\n",
      "        (bn_layer): BatchNorm1d(256, eps=1e-05, momentum=0.1, affine=True, track_running_stats=True)\n",
      "      )\n",
      "    )\n",
      "  )\n",
      "  (readout): WeightedSumAndMax(\n",
      "    (weight_and_sum): WeightAndSum(\n",
      "      (atom_weighting): Sequential(\n",
      "        (0): Linear(in_features=256, out_features=1, bias=True)\n",
      "        (1): Sigmoid()\n",
      "      )\n",
      "    )\n",
      "  )\n",
      "  (predict): MLPPredictor(\n",
      "    (predict): Sequential(\n",
      "      (0): Dropout(p=0.0013086019242321, inplace=False)\n",
      "      (1): Linear(in_features=512, out_features=512, bias=True)\n",
      "      (2): ReLU()\n",
      "      (3): BatchNorm1d(512, eps=1e-05, momentum=0.1, affine=True, track_running_stats=True)\n",
      "      (4): Linear(in_features=512, out_features=1, bias=True)\n",
      "    )\n",
      "  )\u001b[0m\n",
      "\u001b[35m)\u001b[0m\n",
      "\u001b[35mFor metric roc_auc_score, the higher the better\u001b[0m\n",
      "\u001b[34mepoch [1] of [1000], batch 1/57, loss [0.7401]\u001b[0m\n",
      "\u001b[35mepoch [1] of [1000], batch 1/57, loss [0.7142]\u001b[0m\n",
      "\u001b[35mepoch [1] of [1000], batch 21/57, loss [0.6326]\u001b[0m\n",
      "\u001b[34mepoch [1] of [1000], batch 21/57, loss [0.6486]\u001b[0m\n",
      "\u001b[34mepoch [1] of [1000], batch 41/57, loss [0.5826]\u001b[0m\n",
      "\u001b[35mepoch [1] of [1000], batch 41/57, loss [0.5756]\u001b[0m\n",
      "\u001b[34mepoch [1] of [1000], training:roc_auc_score [0.6804]\u001b[0m\n",
      "\u001b[35mepoch [1] of [1000], training:roc_auc_score [0.7012]\u001b[0m\n",
      "\u001b[34mepoch [1] of [1000], validation:roc_auc_score [0.6737], best validation:roc_auc_score [0.6737]\u001b[0m\n",
      "\u001b[34mepoch [2] of [1000], batch 1/57, loss [0.5327]\u001b[0m\n",
      "\u001b[35mepoch [1] of [1000], validation:roc_auc_score [0.6853], best validation:roc_auc_score [0.6853]\u001b[0m\n",
      "\u001b[35mepoch [2] of [1000], batch 1/57, loss [0.5162]\u001b[0m\n",
      "\u001b[34mepoch [2] of [1000], batch 21/57, loss [0.4680]\u001b[0m\n",
      "\u001b[34mepoch [2] of [1000], batch 41/57, loss [0.3937]\u001b[0m\n",
      "\u001b[35mepoch [2] of [1000], batch 21/57, loss [0.4403]\u001b[0m\n",
      "\u001b[34mepoch [2] of [1000], training:roc_auc_score [0.7601]\u001b[0m\n",
      "\u001b[35mepoch [2] of [1000], batch 41/57, loss [0.3644]\u001b[0m\n",
      "\u001b[34mepoch [2] of [1000], validation:roc_auc_score [0.7047], best validation:roc_auc_score [0.7047]\u001b[0m\n",
      "\u001b[34mepoch [3] of [1000], batch 1/57, loss [0.3174]\u001b[0m\n",
      "\u001b[35mepoch [2] of [1000], training:roc_auc_score [0.7660]\u001b[0m\n",
      "\u001b[35mepoch [2] of [1000], validation:roc_auc_score [0.7009], best validation:roc_auc_score [0.7009]\u001b[0m\n",
      "\u001b[35mepoch [3] of [1000], batch 1/57, loss [0.2903]\u001b[0m\n",
      "\u001b[35mepoch [3] of [1000], batch 21/57, loss [0.2339]\u001b[0m\n",
      "\u001b[34mepoch [3] of [1000], batch 21/57, loss [0.2511]\u001b[0m\n",
      "\u001b[34mepoch [3] of [1000], batch 41/57, loss [0.2022]\u001b[0m\n",
      "\u001b[34mepoch [3] of [1000], training:roc_auc_score [0.7790]\u001b[0m\n",
      "\u001b[34mEarlyStopping counter: 1 out of 30\u001b[0m\n",
      "\u001b[34mepoch [3] of [1000], validation:roc_auc_score [0.6291], best validation:roc_auc_score [0.7047]\u001b[0m\n",
      "\u001b[35mepoch [3] of [1000], batch 41/57, loss [0.1822]\u001b[0m\n",
      "\u001b[34mepoch [4] of [1000], batch 1/57, loss [0.1804]\u001b[0m\n",
      "\u001b[35mepoch [3] of [1000], training:roc_auc_score [0.8032]\u001b[0m\n",
      "\u001b[34mepoch [4] of [1000], batch 21/57, loss [0.1324]\u001b[0m\n",
      "\u001b[35mepoch [3] of [1000], validation:roc_auc_score [0.7103], best validation:roc_auc_score [0.7103]\u001b[0m\n",
      "\u001b[35mepoch [4] of [1000], batch 1/57, loss [0.1707]\u001b[0m\n",
      "\u001b[34mepoch [4] of [1000], batch 41/57, loss [0.1821]\u001b[0m\n",
      "\u001b[34mepoch [4] of [1000], training:roc_auc_score [0.8087]\u001b[0m\n",
      "\u001b[35mepoch [4] of [1000], batch 21/57, loss [0.1373]\u001b[0m\n",
      "\u001b[34mEarlyStopping counter: 2 out of 30\u001b[0m\n",
      "\u001b[34mepoch [4] of [1000], validation:roc_auc_score [0.6724], best validation:roc_auc_score [0.7047]\u001b[0m\n",
      "\u001b[34mepoch [5] of [1000], batch 1/57, loss [0.1280]\u001b[0m\n",
      "\u001b[35mepoch [4] of [1000], batch 41/57, loss [0.1409]\u001b[0m\n",
      "\u001b[34mepoch [5] of [1000], batch 21/57, loss [0.1491]\u001b[0m\n",
      "\u001b[35mepoch [4] of [1000], training:roc_auc_score [0.8267]\u001b[0m\n",
      "\u001b[35mepoch [4] of [1000], validation:roc_auc_score [0.7217], best validation:roc_auc_score [0.7217]\u001b[0m\n",
      "\u001b[35mepoch [5] of [1000], batch 1/57, loss [0.1280]\u001b[0m\n",
      "\u001b[35mepoch [5] of [1000], batch 21/57, loss [0.1626]\u001b[0m\n",
      "\u001b[34mepoch [5] of [1000], batch 41/57, loss [0.1255]\u001b[0m\n",
      "\u001b[34mepoch [5] of [1000], training:roc_auc_score [0.8290]\u001b[0m\n",
      "\u001b[34mepoch [5] of [1000], validation:roc_auc_score [0.7277], best validation:roc_auc_score [0.7277]\u001b[0m\n",
      "\u001b[34mepoch [6] of [1000], batch 1/57, loss [0.1076]\u001b[0m\n",
      "\u001b[34mepoch [6] of [1000], batch 21/57, loss [0.1456]\u001b[0m\n",
      "\u001b[35mepoch [5] of [1000], batch 41/57, loss [0.1208]\u001b[0m\n",
      "\u001b[34mepoch [6] of [1000], batch 41/57, loss [0.1361]\u001b[0m\n",
      "\u001b[35mepoch [5] of [1000], training:roc_auc_score [0.8367]\u001b[0m\n",
      "\u001b[34mepoch [6] of [1000], training:roc_auc_score [0.8461]\u001b[0m\n",
      "\u001b[35mEarlyStopping counter: 1 out of 30\u001b[0m\n",
      "\u001b[35mepoch [5] of [1000], validation:roc_auc_score [0.7096], best validation:roc_auc_score [0.7217]\u001b[0m\n",
      "\u001b[35mepoch [6] of [1000], batch 1/57, loss [0.1440]\u001b[0m\n",
      "\u001b[34mEarlyStopping counter: 1 out of 30\u001b[0m\n",
      "\u001b[34mepoch [6] of [1000], validation:roc_auc_score [0.6981], best validation:roc_auc_score [0.7277]\u001b[0m\n",
      "\u001b[34mepoch [7] of [1000], batch 1/57, loss [0.1019]\u001b[0m\n",
      "\u001b[35mepoch [6] of [1000], batch 21/57, loss [0.0947]\u001b[0m\n",
      "\u001b[34mepoch [7] of [1000], batch 21/57, loss [0.1018]\u001b[0m\n",
      "\u001b[35mepoch [6] of [1000], batch 41/57, loss [0.1085]\u001b[0m\n",
      "\u001b[34mepoch [7] of [1000], batch 41/57, loss [0.0792]\u001b[0m\n",
      "\u001b[35mepoch [6] of [1000], training:roc_auc_score [0.8467]\u001b[0m\n",
      "\u001b[35mepoch [6] of [1000], validation:roc_auc_score [0.7364], best validation:roc_auc_score [0.7364]\u001b[0m\n",
      "\u001b[35mepoch [7] of [1000], batch 1/57, loss [0.1091]\u001b[0m\n",
      "\u001b[35mepoch [7] of [1000], batch 21/57, loss [0.1296]\u001b[0m\n",
      "\u001b[34mepoch [7] of [1000], training:roc_auc_score [0.8432]\u001b[0m\n",
      "\u001b[34mEarlyStopping counter: 2 out of 30\u001b[0m\n",
      "\u001b[34mepoch [7] of [1000], validation:roc_auc_score [0.7104], best validation:roc_auc_score [0.7277]\u001b[0m\n",
      "\u001b[34mepoch [8] of [1000], batch 1/57, loss [0.1322]\u001b[0m\n",
      "\u001b[34mepoch [8] of [1000], batch 21/57, loss [0.1221]\u001b[0m\n",
      "\u001b[34mepoch [8] of [1000], batch 41/57, loss [0.0809]\u001b[0m\n",
      "\u001b[35mepoch [7] of [1000], batch 41/57, loss [0.1082]\u001b[0m\n",
      "\u001b[34mepoch [8] of [1000], training:roc_auc_score [0.8616]\u001b[0m\n",
      "\u001b[35mepoch [7] of [1000], training:roc_auc_score [0.8573]\u001b[0m\n",
      "\u001b[34mEarlyStopping counter: 3 out of 30\u001b[0m\n",
      "\u001b[34mepoch [8] of [1000], validation:roc_auc_score [0.7205], best validation:roc_auc_score [0.7277]\u001b[0m\n",
      "\u001b[34mepoch [9] of [1000], batch 1/57, loss [0.0920]\u001b[0m\n",
      "\u001b[35mEarlyStopping counter: 1 out of 30\u001b[0m\n",
      "\u001b[35mepoch [7] of [1000], validation:roc_auc_score [0.7348], best validation:roc_auc_score [0.7364]\u001b[0m\n",
      "\u001b[35mepoch [8] of [1000], batch 1/57, loss [0.1258]\u001b[0m\n",
      "\u001b[34mepoch [9] of [1000], batch 21/57, loss [0.0938]\u001b[0m\n",
      "\u001b[35mepoch [8] of [1000], batch 21/57, loss [0.1028]\u001b[0m\n",
      "\u001b[34mepoch [9] of [1000], batch 41/57, loss [0.0977]\u001b[0m\n",
      "\u001b[34mepoch [9] of [1000], training:roc_auc_score [0.8669]\u001b[0m\n",
      "\u001b[35mepoch [8] of [1000], batch 41/57, loss [0.1251]\u001b[0m\n",
      "\u001b[35mepoch [8] of [1000], training:roc_auc_score [0.8622]\u001b[0m\n",
      "\u001b[34mEarlyStopping counter: 4 out of 30\u001b[0m\n",
      "\u001b[34mepoch [9] of [1000], validation:roc_auc_score [0.7162], best validation:roc_auc_score [0.7277]\u001b[0m\n",
      "\u001b[34mepoch [10] of [1000], batch 1/57, loss [0.1189]\u001b[0m\n",
      "\u001b[34mepoch [10] of [1000], batch 21/57, loss [0.1078]\u001b[0m\n",
      "\u001b[35mEarlyStopping counter: 2 out of 30\u001b[0m\n",
      "\u001b[35mepoch [8] of [1000], validation:roc_auc_score [0.7125], best validation:roc_auc_score [0.7364]\u001b[0m\n",
      "\u001b[35mepoch [9] of [1000], batch 1/57, loss [0.0885]\u001b[0m\n",
      "\u001b[34mepoch [10] of [1000], batch 41/57, loss [0.1042]\u001b[0m\n",
      "\u001b[35mepoch [9] of [1000], batch 21/57, loss [0.1215]\u001b[0m\n",
      "\u001b[34mepoch [10] of [1000], training:roc_auc_score [0.8755]\u001b[0m\n",
      "\u001b[34mEarlyStopping counter: 5 out of 30\u001b[0m\n",
      "\u001b[34mepoch [10] of [1000], validation:roc_auc_score [0.7091], best validation:roc_auc_score [0.7277]\u001b[0m\n",
      "\u001b[34mepoch [11] of [1000], batch 1/57, loss [0.1378]\u001b[0m\n",
      "\u001b[35mepoch [9] of [1000], batch 41/57, loss [0.0988]\u001b[0m\n",
      "\u001b[35mepoch [9] of [1000], training:roc_auc_score [0.8797]\u001b[0m\n",
      "\u001b[34mepoch [11] of [1000], batch 21/57, loss [0.0662]\u001b[0m\n",
      "\u001b[35mepoch [9] of [1000], validation:roc_auc_score [0.7519], best validation:roc_auc_score [0.7519]\u001b[0m\n",
      "\u001b[35mepoch [10] of [1000], batch 1/57, loss [0.1208]\u001b[0m\n",
      "\u001b[34mepoch [11] of [1000], batch 41/57, loss [0.1181]\u001b[0m\n",
      "\u001b[34mepoch [11] of [1000], training:roc_auc_score [0.8771]\u001b[0m\n",
      "\u001b[35mepoch [10] of [1000], batch 21/57, loss [0.1136]\u001b[0m\n",
      "\u001b[34mepoch [11] of [1000], validation:roc_auc_score [0.7424], best validation:roc_auc_score [0.7424]\u001b[0m\n",
      "\u001b[34mepoch [12] of [1000], batch 1/57, loss [0.1137]\u001b[0m\n",
      "\u001b[35mepoch [10] of [1000], batch 41/57, loss [0.1187]\u001b[0m\n",
      "\u001b[34mepoch [12] of [1000], batch 21/57, loss [0.1185]\u001b[0m\n",
      "\u001b[35mepoch [10] of [1000], training:roc_auc_score [0.8771]\u001b[0m\n",
      "\u001b[35mEarlyStopping counter: 1 out of 30\u001b[0m\n",
      "\u001b[35mepoch [10] of [1000], validation:roc_auc_score [0.7441], best validation:roc_auc_score [0.7519]\u001b[0m\n",
      "\u001b[35mepoch [11] of [1000], batch 1/57, loss [0.1078]\u001b[0m\n",
      "\u001b[35mepoch [11] of [1000], batch 21/57, loss [0.1129]\u001b[0m\n",
      "\u001b[34mepoch [12] of [1000], batch 41/57, loss [0.1036]\u001b[0m\n",
      "\u001b[34mepoch [12] of [1000], training:roc_auc_score [0.8777]\u001b[0m\n",
      "\u001b[34mEarlyStopping counter: 1 out of 30\u001b[0m\n",
      "\u001b[34mepoch [12] of [1000], validation:roc_auc_score [0.7043], best validation:roc_auc_score [0.7424]\u001b[0m\n",
      "\u001b[34mepoch [13] of [1000], batch 1/57, loss [0.0704]\u001b[0m\n",
      "\u001b[34mepoch [13] of [1000], batch 21/57, loss [0.0892]\u001b[0m\n",
      "\u001b[35mepoch [11] of [1000], batch 41/57, loss [0.1038]\u001b[0m\n",
      "\u001b[34mepoch [13] of [1000], batch 41/57, loss [0.1399]\u001b[0m\n",
      "\u001b[35mepoch [11] of [1000], training:roc_auc_score [0.8846]\u001b[0m\n",
      "\u001b[34mepoch [13] of [1000], training:roc_auc_score [0.8937]\u001b[0m\n",
      "\u001b[35mepoch [11] of [1000], validation:roc_auc_score [0.7549], best validation:roc_auc_score [0.7549]\u001b[0m\n",
      "\u001b[35mepoch [12] of [1000], batch 1/57, loss [0.1271]\u001b[0m\n",
      "\u001b[34mEarlyStopping counter: 2 out of 30\u001b[0m\n",
      "\u001b[34mepoch [13] of [1000], validation:roc_auc_score [0.7074], best validation:roc_auc_score [0.7424]\u001b[0m\n",
      "\u001b[34mepoch [14] of [1000], batch 1/57, loss [0.1166]\u001b[0m\n",
      "\u001b[35mepoch [12] of [1000], batch 21/57, loss [0.1280]\u001b[0m\n",
      "\u001b[34mepoch [14] of [1000], batch 21/57, loss [0.0868]\u001b[0m\n",
      "\u001b[35mepoch [12] of [1000], batch 41/57, loss [0.1215]\u001b[0m\n",
      "\u001b[34mepoch [14] of [1000], batch 41/57, loss [0.0686]\u001b[0m\n",
      "\u001b[35mepoch [12] of [1000], training:roc_auc_score [0.8865]\u001b[0m\n",
      "\u001b[34mepoch [14] of [1000], training:roc_auc_score [0.8816]\u001b[0m\n",
      "\u001b[34mEarlyStopping counter: 3 out of 30\u001b[0m\n",
      "\u001b[34mepoch [14] of [1000], validation:roc_auc_score [0.7343], best validation:roc_auc_score [0.7424]\u001b[0m\n",
      "\u001b[34mepoch [15] of [1000], batch 1/57, loss [0.1076]\u001b[0m\n",
      "\u001b[35mepoch [12] of [1000], validation:roc_auc_score [0.7597], best validation:roc_auc_score [0.7597]\u001b[0m\n",
      "\u001b[35mepoch [13] of [1000], batch 1/57, loss [0.0966]\u001b[0m\n",
      "\u001b[34mepoch [15] of [1000], batch 21/57, loss [0.0921]\u001b[0m\n",
      "\u001b[35mepoch [13] of [1000], batch 21/57, loss [0.0824]\u001b[0m\n",
      "\u001b[34mepoch [15] of [1000], batch 41/57, loss [0.0688]\u001b[0m\n",
      "\u001b[34mepoch [15] of [1000], training:roc_auc_score [0.8884]\u001b[0m\n",
      "\u001b[35mepoch [13] of [1000], batch 41/57, loss [0.0736]\u001b[0m\n",
      "\u001b[34mEarlyStopping counter: 4 out of 30\u001b[0m\n",
      "\u001b[34mepoch [15] of [1000], validation:roc_auc_score [0.7188], best validation:roc_auc_score [0.7424]\u001b[0m\n",
      "\u001b[34mepoch [16] of [1000], batch 1/57, loss [0.0606]\u001b[0m\n",
      "\u001b[35mepoch [13] of [1000], training:roc_auc_score [0.8933]\u001b[0m\n",
      "\u001b[34mepoch [16] of [1000], batch 21/57, loss [0.1249]\u001b[0m\n",
      "\u001b[35mEarlyStopping counter: 1 out of 30\u001b[0m\n",
      "\u001b[35mepoch [13] of [1000], validation:roc_auc_score [0.7195], best validation:roc_auc_score [0.7597]\u001b[0m\n",
      "\u001b[35mepoch [14] of [1000], batch 1/57, loss [0.0859]\u001b[0m\n",
      "\u001b[34mepoch [16] of [1000], batch 41/57, loss [0.0711]\u001b[0m\n",
      "\u001b[35mepoch [14] of [1000], batch 21/57, loss [0.1130]\u001b[0m\n",
      "\u001b[34mepoch [16] of [1000], training:roc_auc_score [0.9011]\u001b[0m\n",
      "\u001b[34mEarlyStopping counter: 5 out of 30\u001b[0m\n",
      "\u001b[34mepoch [16] of [1000], validation:roc_auc_score [0.7119], best validation:roc_auc_score [0.7424]\u001b[0m\n",
      "\u001b[34mepoch [17] of [1000], batch 1/57, loss [0.0751]\u001b[0m\n",
      "\u001b[35mepoch [14] of [1000], batch 41/57, loss [0.1269]\u001b[0m\n",
      "\u001b[35mepoch [14] of [1000], training:roc_auc_score [0.8886]\u001b[0m\n",
      "\u001b[34mepoch [17] of [1000], batch 21/57, loss [0.1066]\u001b[0m\n",
      "\u001b[35mEarlyStopping counter: 2 out of 30\u001b[0m\n",
      "\u001b[35mepoch [14] of [1000], validation:roc_auc_score [0.7259], best validation:roc_auc_score [0.7597]\u001b[0m\n",
      "\u001b[35mepoch [15] of [1000], batch 1/57, loss [0.1131]\u001b[0m\n",
      "\u001b[34mepoch [17] of [1000], batch 41/57, loss [0.0661]\u001b[0m\n",
      "\u001b[34mepoch [17] of [1000], training:roc_auc_score [0.9081]\u001b[0m\n",
      "\u001b[35mepoch [15] of [1000], batch 21/57, loss [0.0977]\u001b[0m\n",
      "\u001b[34mepoch [17] of [1000], validation:roc_auc_score [0.7601], best validation:roc_auc_score [0.7601]\u001b[0m\n",
      "\u001b[34mepoch [18] of [1000], batch 1/57, loss [0.1044]\u001b[0m\n",
      "\u001b[35mepoch [15] of [1000], batch 41/57, loss [0.0912]\u001b[0m\n",
      "\u001b[35mepoch [15] of [1000], training:roc_auc_score [0.9031]\u001b[0m\n",
      "\u001b[34mepoch [18] of [1000], batch 21/57, loss [0.0883]\u001b[0m\n",
      "\u001b[35mEarlyStopping counter: 3 out of 30\u001b[0m\n",
      "\u001b[35mepoch [15] of [1000], validation:roc_auc_score [0.7505], best validation:roc_auc_score [0.7597]\u001b[0m\n",
      "\u001b[34mepoch [18] of [1000], batch 41/57, loss [0.0819]\u001b[0m\n",
      "\u001b[34mepoch [18] of [1000], training:roc_auc_score [0.9029]\u001b[0m\n",
      "\u001b[35mepoch [16] of [1000], batch 1/57, loss [0.0810]\u001b[0m\n",
      "\u001b[35mepoch [16] of [1000], batch 21/57, loss [0.1231]\u001b[0m\n",
      "\u001b[34mEarlyStopping counter: 1 out of 30\u001b[0m\n",
      "\u001b[34mepoch [18] of [1000], validation:roc_auc_score [0.7300], best validation:roc_auc_score [0.7601]\u001b[0m\n",
      "\u001b[34mepoch [19] of [1000], batch 1/57, loss [0.0657]\u001b[0m\n",
      "\u001b[34mepoch [19] of [1000], batch 21/57, loss [0.1067]\u001b[0m\n",
      "\u001b[35mepoch [16] of [1000], batch 41/57, loss [0.1550]\u001b[0m\n",
      "\u001b[35mepoch [16] of [1000], training:roc_auc_score [0.9062]\u001b[0m\n",
      "\u001b[34mepoch [19] of [1000], batch 41/57, loss [0.1154]\u001b[0m\n",
      "\u001b[34mepoch [19] of [1000], training:roc_auc_score [0.9096]\u001b[0m\n",
      "\u001b[35mEarlyStopping counter: 4 out of 30\u001b[0m\n",
      "\u001b[35mepoch [16] of [1000], validation:roc_auc_score [0.6840], best validation:roc_auc_score [0.7597]\u001b[0m\n",
      "\u001b[35mepoch [17] of [1000], batch 1/57, loss [0.1250]\u001b[0m\n",
      "\u001b[34mEarlyStopping counter: 2 out of 30\u001b[0m\n",
      "\u001b[34mepoch [19] of [1000], validation:roc_auc_score [0.6937], best validation:roc_auc_score [0.7601]\u001b[0m\n",
      "\u001b[34mepoch [20] of [1000], batch 1/57, loss [0.1213]\u001b[0m\n",
      "\u001b[35mepoch [17] of [1000], batch 21/57, loss [0.0766]\u001b[0m\n",
      "\u001b[34mepoch [20] of [1000], batch 21/57, loss [0.0724]\u001b[0m\n",
      "\u001b[35mepoch [17] of [1000], batch 41/57, loss [0.1199]\u001b[0m\n",
      "\u001b[35mepoch [17] of [1000], training:roc_auc_score [0.9073]\u001b[0m\n",
      "\u001b[34mepoch [20] of [1000], batch 41/57, loss [0.0681]\u001b[0m\n",
      "\u001b[34mepoch [20] of [1000], training:roc_auc_score [0.9139]\u001b[0m\n",
      "\u001b[35mEarlyStopping counter: 5 out of 30\u001b[0m\n",
      "\u001b[35mepoch [17] of [1000], validation:roc_auc_score [0.7250], best validation:roc_auc_score [0.7597]\u001b[0m\n",
      "\u001b[35mepoch [18] of [1000], batch 1/57, loss [0.0841]\u001b[0m\n",
      "\u001b[34mEarlyStopping counter: 3 out of 30\u001b[0m\n",
      "\u001b[34mepoch [20] of [1000], validation:roc_auc_score [0.7278], best validation:roc_auc_score [0.7601]\u001b[0m\n",
      "\u001b[34mepoch [21] of [1000], batch 1/57, loss [0.1016]\u001b[0m\n",
      "\u001b[35mepoch [18] of [1000], batch 21/57, loss [0.0602]\u001b[0m\n",
      "\u001b[34mepoch [21] of [1000], batch 21/57, loss [0.0651]\u001b[0m\n",
      "\u001b[34mepoch [21] of [1000], batch 41/57, loss [0.0700]\u001b[0m\n",
      "\u001b[35mepoch [18] of [1000], batch 41/57, loss [0.1069]\u001b[0m\n",
      "\u001b[34mepoch [21] of [1000], training:roc_auc_score [0.9129]\u001b[0m\n",
      "\u001b[35mepoch [18] of [1000], training:roc_auc_score [0.9090]\u001b[0m\n",
      "\u001b[34mEarlyStopping counter: 4 out of 30\u001b[0m\n",
      "\u001b[34mepoch [21] of [1000], validation:roc_auc_score [0.7533], best validation:roc_auc_score [0.7601]\u001b[0m\n",
      "\u001b[34mepoch [22] of [1000], batch 1/57, loss [0.0700]\u001b[0m\n",
      "\u001b[35mEarlyStopping counter: 6 out of 30\u001b[0m\n",
      "\u001b[35mepoch [18] of [1000], validation:roc_auc_score [0.7186], best validation:roc_auc_score [0.7597]\u001b[0m\n",
      "\u001b[35mepoch [19] of [1000], batch 1/57, loss [0.0729]\u001b[0m\n",
      "\u001b[34mepoch [22] of [1000], batch 21/57, loss [0.0748]\u001b[0m\n",
      "\u001b[35mepoch [19] of [1000], batch 21/57, loss [0.1274]\u001b[0m\n",
      "\u001b[34mepoch [22] of [1000], batch 41/57, loss [0.0958]\u001b[0m\n",
      "\u001b[35mepoch [19] of [1000], batch 41/57, loss [0.0848]\u001b[0m\n",
      "\u001b[34mepoch [22] of [1000], training:roc_auc_score [0.9187]\u001b[0m\n",
      "\u001b[35mepoch [19] of [1000], training:roc_auc_score [0.9118]\u001b[0m\n",
      "\u001b[34mEarlyStopping counter: 5 out of 30\u001b[0m\n",
      "\u001b[34mepoch [22] of [1000], validation:roc_auc_score [0.7466], best validation:roc_auc_score [0.7601]\u001b[0m\n",
      "\u001b[34mepoch [23] of [1000], batch 1/57, loss [0.0780]\u001b[0m\n",
      "\u001b[35mEarlyStopping counter: 7 out of 30\u001b[0m\n",
      "\u001b[35mepoch [19] of [1000], validation:roc_auc_score [0.7428], best validation:roc_auc_score [0.7597]\u001b[0m\n",
      "\u001b[35mepoch [20] of [1000], batch 1/57, loss [0.1008]\u001b[0m\n",
      "\u001b[34mepoch [23] of [1000], batch 21/57, loss [0.1095]\u001b[0m\n",
      "\u001b[34mepoch [23] of [1000], batch 41/57, loss [0.0854]\u001b[0m\n",
      "\u001b[35mepoch [20] of [1000], batch 21/57, loss [0.1380]\u001b[0m\n",
      "\u001b[34mepoch [23] of [1000], training:roc_auc_score [0.9150]\u001b[0m\n",
      "\u001b[35mepoch [20] of [1000], batch 41/57, loss [0.0840]\u001b[0m\n",
      "\u001b[34mEarlyStopping counter: 6 out of 30\u001b[0m\n",
      "\u001b[34mepoch [23] of [1000], validation:roc_auc_score [0.7255], best validation:roc_auc_score [0.7601]\u001b[0m\n",
      "\u001b[34mepoch [24] of [1000], batch 1/57, loss [0.0724]\u001b[0m\n",
      "\u001b[35mepoch [20] of [1000], training:roc_auc_score [0.9081]\u001b[0m\n",
      "\u001b[34mepoch [24] of [1000], batch 21/57, loss [0.0785]\u001b[0m\n",
      "\u001b[35mepoch [20] of [1000], validation:roc_auc_score [0.7661], best validation:roc_auc_score [0.7661]\u001b[0m\n",
      "\u001b[35mepoch [21] of [1000], batch 1/57, loss [0.1028]\u001b[0m\n",
      "\u001b[34mepoch [24] of [1000], batch 41/57, loss [0.0986]\u001b[0m\n",
      "\u001b[34mepoch [24] of [1000], training:roc_auc_score [0.9206]\u001b[0m\n",
      "\u001b[35mepoch [21] of [1000], batch 21/57, loss [0.0694]\u001b[0m\n",
      "\u001b[35mepoch [21] of [1000], batch 41/57, loss [0.0828]\u001b[0m\n",
      "\u001b[34mEarlyStopping counter: 7 out of 30\u001b[0m\n",
      "\u001b[34mepoch [24] of [1000], validation:roc_auc_score [0.7311], best validation:roc_auc_score [0.7601]\u001b[0m\n",
      "\u001b[34mepoch [25] of [1000], batch 1/57, loss [0.0742]\u001b[0m\n",
      "\u001b[35mepoch [21] of [1000], training:roc_auc_score [0.9178]\u001b[0m\n",
      "\u001b[34mepoch [25] of [1000], batch 21/57, loss [0.0521]\u001b[0m\n",
      "\u001b[35mEarlyStopping counter: 1 out of 30\u001b[0m\n",
      "\u001b[35mepoch [21] of [1000], validation:roc_auc_score [0.7466], best validation:roc_auc_score [0.7661]\u001b[0m\n",
      "\u001b[35mepoch [22] of [1000], batch 1/57, loss [0.0574]\u001b[0m\n",
      "\u001b[34mepoch [25] of [1000], batch 41/57, loss [0.0706]\u001b[0m\n",
      "\u001b[34mepoch [25] of [1000], training:roc_auc_score [0.9207]\u001b[0m\n",
      "\u001b[35mepoch [22] of [1000], batch 21/57, loss [0.0627]\u001b[0m\n",
      "\u001b[34mEarlyStopping counter: 8 out of 30\u001b[0m\n",
      "\u001b[34mepoch [25] of [1000], validation:roc_auc_score [0.7523], best validation:roc_auc_score [0.7601]\u001b[0m\n",
      "\u001b[34mepoch [26] of [1000], batch 1/57, loss [0.0789]\u001b[0m\n",
      "\u001b[35mepoch [22] of [1000], batch 41/57, loss [0.0644]\u001b[0m\n",
      "\u001b[35mepoch [22] of [1000], training:roc_auc_score [0.9217]\u001b[0m\n",
      "\u001b[34mepoch [26] of [1000], batch 21/57, loss [0.0753]\u001b[0m\n",
      "\u001b[35mEarlyStopping counter: 2 out of 30\u001b[0m\n",
      "\u001b[35mepoch [22] of [1000], validation:roc_auc_score [0.7480], best validation:roc_auc_score [0.7661]\u001b[0m\n",
      "\u001b[34mepoch [26] of [1000], batch 41/57, loss [0.0698]\u001b[0m\n",
      "\u001b[35mepoch [23] of [1000], batch 1/57, loss [0.0738]\u001b[0m\n",
      "\u001b[34mepoch [26] of [1000], training:roc_auc_score [0.9227]\u001b[0m\n",
      "\u001b[35mepoch [23] of [1000], batch 21/57, loss [0.0751]\u001b[0m\n",
      "\u001b[34mEarlyStopping counter: 9 out of 30\u001b[0m\n",
      "\u001b[34mepoch [26] of [1000], validation:roc_auc_score [0.7496], best validation:roc_auc_score [0.7601]\u001b[0m\n",
      "\u001b[34mepoch [27] of [1000], batch 1/57, loss [0.1057]\u001b[0m\n",
      "\u001b[34mepoch [27] of [1000], batch 21/57, loss [0.0765]\u001b[0m\n",
      "\u001b[35mepoch [23] of [1000], batch 41/57, loss [0.1349]\u001b[0m\n",
      "\u001b[35mepoch [23] of [1000], training:roc_auc_score [0.9252]\u001b[0m\n",
      "\u001b[34mepoch [27] of [1000], batch 41/57, loss [0.0902]\u001b[0m\n",
      "\u001b[34mepoch [27] of [1000], training:roc_auc_score [0.9293]\u001b[0m\n",
      "\u001b[35mEarlyStopping counter: 3 out of 30\u001b[0m\n",
      "\u001b[35mepoch [23] of [1000], validation:roc_auc_score [0.7482], best validation:roc_auc_score [0.7661]\u001b[0m\n",
      "\u001b[35mepoch [24] of [1000], batch 1/57, loss [0.0861]\u001b[0m\n",
      "\u001b[34mEarlyStopping counter: 10 out of 30\u001b[0m\n",
      "\u001b[34mepoch [27] of [1000], validation:roc_auc_score [0.7342], best validation:roc_auc_score [0.7601]\u001b[0m\n",
      "\u001b[34mepoch [28] of [1000], batch 1/57, loss [0.1125]\u001b[0m\n",
      "\u001b[35mepoch [24] of [1000], batch 21/57, loss [0.0895]\u001b[0m\n",
      "\u001b[34mepoch [28] of [1000], batch 21/57, loss [0.0684]\u001b[0m\n",
      "\u001b[35mepoch [24] of [1000], batch 41/57, loss [0.0860]\u001b[0m\n",
      "\u001b[34mepoch [28] of [1000], batch 41/57, loss [0.0972]\u001b[0m\n",
      "\u001b[35mepoch [24] of [1000], training:roc_auc_score [0.9220]\u001b[0m\n",
      "\u001b[34mepoch [28] of [1000], training:roc_auc_score [0.9269]\u001b[0m\n",
      "\u001b[35mEarlyStopping counter: 4 out of 30\u001b[0m\n",
      "\u001b[35mepoch [24] of [1000], validation:roc_auc_score [0.7282], best validation:roc_auc_score [0.7661]\u001b[0m\n",
      "\u001b[35mepoch [25] of [1000], batch 1/57, loss [0.0990]\u001b[0m\n",
      "\u001b[34mEarlyStopping counter: 11 out of 30\u001b[0m\n",
      "\u001b[34mepoch [28] of [1000], validation:roc_auc_score [0.7364], best validation:roc_auc_score [0.7601]\u001b[0m\n",
      "\u001b[34mepoch [29] of [1000], batch 1/57, loss [0.1136]\u001b[0m\n",
      "\u001b[35mepoch [25] of [1000], batch 21/57, loss [0.0647]\u001b[0m\n",
      "\u001b[34mepoch [29] of [1000], batch 21/57, loss [0.0734]\u001b[0m\n",
      "\u001b[34mepoch [29] of [1000], batch 41/57, loss [0.0709]\u001b[0m\n",
      "\u001b[35mepoch [25] of [1000], batch 41/57, loss [0.0990]\u001b[0m\n",
      "\u001b[34mepoch [29] of [1000], training:roc_auc_score [0.9295]\u001b[0m\n",
      "\u001b[35mepoch [25] of [1000], training:roc_auc_score [0.9300]\u001b[0m\n",
      "\u001b[34mEarlyStopping counter: 12 out of 30\u001b[0m\n",
      "\u001b[34mepoch [29] of [1000], validation:roc_auc_score [0.7546], best validation:roc_auc_score [0.7601]\u001b[0m\n",
      "\u001b[34mepoch [30] of [1000], batch 1/57, loss [0.0556]\u001b[0m\n",
      "\u001b[35mEarlyStopping counter: 5 out of 30\u001b[0m\n",
      "\u001b[35mepoch [25] of [1000], validation:roc_auc_score [0.7341], best validation:roc_auc_score [0.7661]\u001b[0m\n",
      "\u001b[35mepoch [26] of [1000], batch 1/57, loss [0.0816]\u001b[0m\n",
      "\u001b[34mepoch [30] of [1000], batch 21/57, loss [0.0467]\u001b[0m\n",
      "\u001b[35mepoch [26] of [1000], batch 21/57, loss [0.0859]\u001b[0m\n",
      "\u001b[34mepoch [30] of [1000], batch 41/57, loss [0.0943]\u001b[0m\n",
      "\u001b[34mepoch [30] of [1000], training:roc_auc_score [0.9326]\u001b[0m\n",
      "\u001b[35mepoch [26] of [1000], batch 41/57, loss [0.0896]\u001b[0m\n",
      "\u001b[34mEarlyStopping counter: 13 out of 30\u001b[0m\n",
      "\u001b[34mepoch [30] of [1000], validation:roc_auc_score [0.7489], best validation:roc_auc_score [0.7601]\u001b[0m\n",
      "\u001b[35mepoch [26] of [1000], training:roc_auc_score [0.9329]\u001b[0m\n",
      "\u001b[34mepoch [31] of [1000], batch 1/57, loss [0.0678]\u001b[0m\n",
      "\u001b[35mEarlyStopping counter: 6 out of 30\u001b[0m\n",
      "\u001b[35mepoch [26] of [1000], validation:roc_auc_score [0.7249], best validation:roc_auc_score [0.7661]\u001b[0m\n",
      "\u001b[35mepoch [27] of [1000], batch 1/57, loss [0.0894]\u001b[0m\n",
      "\u001b[34mepoch [31] of [1000], batch 21/57, loss [0.0884]\u001b[0m\n",
      "\u001b[34mepoch [31] of [1000], batch 41/57, loss [0.1168]\u001b[0m\n",
      "\u001b[35mepoch [27] of [1000], batch 21/57, loss [0.1104]\u001b[0m\n",
      "\u001b[34mepoch [31] of [1000], training:roc_auc_score [0.9337]\u001b[0m\n",
      "\u001b[35mepoch [27] of [1000], batch 41/57, loss [0.1073]\u001b[0m\n",
      "\u001b[34mEarlyStopping counter: 14 out of 30\u001b[0m\n",
      "\u001b[34mepoch [31] of [1000], validation:roc_auc_score [0.7272], best validation:roc_auc_score [0.7601]\u001b[0m\n",
      "\u001b[34mepoch [32] of [1000], batch 1/57, loss [0.0659]\u001b[0m\n",
      "\u001b[35mepoch [27] of [1000], training:roc_auc_score [0.9317]\u001b[0m\n",
      "\u001b[34mepoch [32] of [1000], batch 21/57, loss [0.0909]\u001b[0m\n",
      "\u001b[35mEarlyStopping counter: 7 out of 30\u001b[0m\n",
      "\u001b[35mepoch [27] of [1000], validation:roc_auc_score [0.7428], best validation:roc_auc_score [0.7661]\u001b[0m\n",
      "\u001b[35mepoch [28] of [1000], batch 1/57, loss [0.0785]\u001b[0m\n",
      "\u001b[34mepoch [32] of [1000], batch 41/57, loss [0.1007]\u001b[0m\n",
      "\u001b[34mepoch [32] of [1000], training:roc_auc_score [0.9353]\u001b[0m\n",
      "\u001b[35mepoch [28] of [1000], batch 21/57, loss [0.1079]\u001b[0m\n",
      "\u001b[34mEarlyStopping counter: 15 out of 30\u001b[0m\n",
      "\u001b[34mepoch [32] of [1000], validation:roc_auc_score [0.7056], best validation:roc_auc_score [0.7601]\u001b[0m\n",
      "\u001b[35mepoch [28] of [1000], batch 41/57, loss [0.0748]\u001b[0m\n",
      "\u001b[34mepoch [33] of [1000], batch 1/57, loss [0.0775]\u001b[0m\n",
      "\u001b[35mepoch [28] of [1000], training:roc_auc_score [0.9340]\u001b[0m\n",
      "\u001b[34mepoch [33] of [1000], batch 21/57, loss [0.1066]\u001b[0m\n",
      "\u001b[35mEarlyStopping counter: 8 out of 30\u001b[0m\n",
      "\u001b[35mepoch [28] of [1000], validation:roc_auc_score [0.7370], best validation:roc_auc_score [0.7661]\u001b[0m\n",
      "\u001b[34mepoch [33] of [1000], batch 41/57, loss [0.1005]\u001b[0m\n",
      "\u001b[35mepoch [29] of [1000], batch 1/57, loss [0.0626]\u001b[0m\n",
      "\u001b[34mepoch [33] of [1000], training:roc_auc_score [0.9362]\u001b[0m\n",
      "\u001b[35mepoch [29] of [1000], batch 21/57, loss [0.0817]\u001b[0m\n",
      "\u001b[34mEarlyStopping counter: 16 out of 30\u001b[0m\n",
      "\u001b[34mepoch [33] of [1000], validation:roc_auc_score [0.7374], best validation:roc_auc_score [0.7601]\u001b[0m\n",
      "\u001b[34mepoch [34] of [1000], batch 1/57, loss [0.0525]\u001b[0m\n",
      "\u001b[35mepoch [29] of [1000], batch 41/57, loss [0.0921]\u001b[0m\n",
      "\u001b[34mepoch [34] of [1000], batch 21/57, loss [0.0606]\u001b[0m\n",
      "\u001b[35mepoch [29] of [1000], training:roc_auc_score [0.9366]\u001b[0m\n",
      "\u001b[34mepoch [34] of [1000], batch 41/57, loss [0.0840]\u001b[0m\n",
      "\u001b[35mEarlyStopping counter: 9 out of 30\u001b[0m\n",
      "\u001b[35mepoch [29] of [1000], validation:roc_auc_score [0.7464], best validation:roc_auc_score [0.7661]\u001b[0m\n",
      "\u001b[34mepoch [34] of [1000], training:roc_auc_score [0.9338]\u001b[0m\n",
      "\u001b[35mepoch [30] of [1000], batch 1/57, loss [0.0780]\u001b[0m\n",
      "\u001b[34mEarlyStopping counter: 17 out of 30\u001b[0m\n",
      "\u001b[34mepoch [34] of [1000], validation:roc_auc_score [0.7343], best validation:roc_auc_score [0.7601]\u001b[0m\n",
      "\u001b[35mepoch [30] of [1000], batch 21/57, loss [0.0632]\u001b[0m\n",
      "\u001b[34mepoch [35] of [1000], batch 1/57, loss [0.0634]\u001b[0m\n",
      "\u001b[35mepoch [30] of [1000], batch 41/57, loss [0.0846]\u001b[0m\n",
      "\u001b[34mepoch [35] of [1000], batch 21/57, loss [0.0712]\u001b[0m\n",
      "\u001b[35mepoch [30] of [1000], training:roc_auc_score [0.9394]\u001b[0m\n",
      "\u001b[34mepoch [35] of [1000], batch 41/57, loss [0.1241]\u001b[0m\n",
      "\u001b[34mepoch [35] of [1000], training:roc_auc_score [0.9360]\u001b[0m\n",
      "\u001b[35mEarlyStopping counter: 10 out of 30\u001b[0m\n",
      "\u001b[35mepoch [30] of [1000], validation:roc_auc_score [0.7415], best validation:roc_auc_score [0.7661]\u001b[0m\n",
      "\u001b[35mepoch [31] of [1000], batch 1/57, loss [0.0633]\u001b[0m\n",
      "\u001b[34mEarlyStopping counter: 18 out of 30\u001b[0m\n",
      "\u001b[34mepoch [35] of [1000], validation:roc_auc_score [0.7370], best validation:roc_auc_score [0.7601]\u001b[0m\n",
      "\u001b[34mepoch [36] of [1000], batch 1/57, loss [0.0589]\u001b[0m\n",
      "\u001b[35mepoch [31] of [1000], batch 21/57, loss [0.1353]\u001b[0m\n",
      "\u001b[34mepoch [36] of [1000], batch 21/57, loss [0.0759]\u001b[0m\n",
      "\u001b[35mepoch [31] of [1000], batch 41/57, loss [0.0791]\u001b[0m\n",
      "\u001b[34mepoch [36] of [1000], batch 41/57, loss [0.0475]\u001b[0m\n",
      "\u001b[35mepoch [31] of [1000], training:roc_auc_score [0.9377]\u001b[0m\n",
      "\u001b[34mepoch [36] of [1000], training:roc_auc_score [0.9342]\u001b[0m\n",
      "\u001b[35mEarlyStopping counter: 11 out of 30\u001b[0m\n",
      "\u001b[35mepoch [31] of [1000], validation:roc_auc_score [0.7539], best validation:roc_auc_score [0.7661]\u001b[0m\n",
      "\u001b[34mEarlyStopping counter: 19 out of 30\u001b[0m\n",
      "\u001b[34mepoch [36] of [1000], validation:roc_auc_score [0.7265], best validation:roc_auc_score [0.7601]\u001b[0m\n",
      "\u001b[34mepoch [37] of [1000], batch 1/57, loss [0.0653]\u001b[0m\n",
      "\u001b[35mepoch [32] of [1000], batch 1/57, loss [0.0705]\u001b[0m\n",
      "\u001b[35mepoch [32] of [1000], batch 21/57, loss [0.1116]\u001b[0m\n",
      "\u001b[34mepoch [37] of [1000], batch 21/57, loss [0.0918]\u001b[0m\n",
      "\u001b[35mepoch [32] of [1000], batch 41/57, loss [0.0929]\u001b[0m\n",
      "\u001b[34mepoch [37] of [1000], batch 41/57, loss [0.0992]\u001b[0m\n",
      "\u001b[35mepoch [32] of [1000], training:roc_auc_score [0.9427]\u001b[0m\n",
      "\u001b[34mepoch [37] of [1000], training:roc_auc_score [0.9294]\u001b[0m\n",
      "\u001b[34mEarlyStopping counter: 20 out of 30\u001b[0m\n",
      "\u001b[34mepoch [37] of [1000], validation:roc_auc_score [0.7530], best validation:roc_auc_score [0.7601]\u001b[0m\n",
      "\u001b[34mepoch [38] of [1000], batch 1/57, loss [0.0688]\u001b[0m\n",
      "\u001b[35mEarlyStopping counter: 12 out of 30\u001b[0m\n",
      "\u001b[35mepoch [32] of [1000], validation:roc_auc_score [0.7430], best validation:roc_auc_score [0.7661]\u001b[0m\n",
      "\u001b[35mepoch [33] of [1000], batch 1/57, loss [0.0773]\u001b[0m\n",
      "\u001b[34mepoch [38] of [1000], batch 21/57, loss [0.0705]\u001b[0m\n",
      "\u001b[35mepoch [33] of [1000], batch 21/57, loss [0.1187]\u001b[0m\n",
      "\u001b[34mepoch [38] of [1000], batch 41/57, loss [0.0686]\u001b[0m\n",
      "\u001b[34mepoch [38] of [1000], training:roc_auc_score [0.9388]\u001b[0m\n",
      "\u001b[35mepoch [33] of [1000], batch 41/57, loss [0.0818]\u001b[0m\n",
      "\u001b[34mEarlyStopping counter: 21 out of 30\u001b[0m\n",
      "\u001b[34mepoch [38] of [1000], validation:roc_auc_score [0.7385], best validation:roc_auc_score [0.7601]\u001b[0m\n",
      "\u001b[35mepoch [33] of [1000], training:roc_auc_score [0.9402]\u001b[0m\n",
      "\u001b[34mepoch [39] of [1000], batch 1/57, loss [0.0750]\u001b[0m\n",
      "\u001b[35mEarlyStopping counter: 13 out of 30\u001b[0m\n",
      "\u001b[35mepoch [33] of [1000], validation:roc_auc_score [0.7453], best validation:roc_auc_score [0.7661]\u001b[0m\n",
      "\u001b[35mepoch [34] of [1000], batch 1/57, loss [0.0609]\u001b[0m\n",
      "\u001b[34mepoch [39] of [1000], batch 21/57, loss [0.0713]\u001b[0m\n",
      "\u001b[35mepoch [34] of [1000], batch 21/57, loss [0.0974]\u001b[0m\n",
      "\u001b[34mepoch [39] of [1000], batch 41/57, loss [0.0771]\u001b[0m\n",
      "\u001b[34mepoch [39] of [1000], training:roc_auc_score [0.9301]\u001b[0m\n",
      "\u001b[35mepoch [34] of [1000], batch 41/57, loss [0.0666]\u001b[0m\n",
      "\u001b[34mEarlyStopping counter: 22 out of 30\u001b[0m\n",
      "\u001b[34mepoch [39] of [1000], validation:roc_auc_score [0.7570], best validation:roc_auc_score [0.7601]\u001b[0m\n",
      "\u001b[34mepoch [40] of [1000], batch 1/57, loss [0.0768]\u001b[0m\n",
      "\u001b[35mepoch [34] of [1000], training:roc_auc_score [0.9416]\u001b[0m\n",
      "\u001b[34mepoch [40] of [1000], batch 21/57, loss [0.0605]\u001b[0m\n",
      "\u001b[35mEarlyStopping counter: 14 out of 30\u001b[0m\n",
      "\u001b[35mepoch [34] of [1000], validation:roc_auc_score [0.7423], best validation:roc_auc_score [0.7661]\u001b[0m\n",
      "\u001b[35mepoch [35] of [1000], batch 1/57, loss [0.1104]\u001b[0m\n",
      "\u001b[34mepoch [40] of [1000], batch 41/57, loss [0.0758]\u001b[0m\n",
      "\u001b[34mepoch [40] of [1000], training:roc_auc_score [0.9388]\u001b[0m\n",
      "\u001b[35mepoch [35] of [1000], batch 21/57, loss [0.0778]\u001b[0m\n",
      "\u001b[34mepoch [40] of [1000], validation:roc_auc_score [0.7626], best validation:roc_auc_score [0.7626]\u001b[0m\n",
      "\u001b[34mepoch [41] of [1000], batch 1/57, loss [0.0513]\u001b[0m\n",
      "\u001b[35mepoch [35] of [1000], batch 41/57, loss [0.0954]\u001b[0m\n",
      "\u001b[35mepoch [35] of [1000], training:roc_auc_score [0.9425]\u001b[0m\n",
      "\u001b[34mepoch [41] of [1000], batch 21/57, loss [0.0542]\u001b[0m\n",
      "\u001b[35mEarlyStopping counter: 15 out of 30\u001b[0m\n",
      "\u001b[35mepoch [35] of [1000], validation:roc_auc_score [0.7558], best validation:roc_auc_score [0.7661]\u001b[0m\n",
      "\u001b[35mepoch [36] of [1000], batch 1/57, loss [0.1212]\u001b[0m\n",
      "\u001b[34mepoch [41] of [1000], batch 41/57, loss [0.0776]\u001b[0m\n",
      "\u001b[34mepoch [41] of [1000], training:roc_auc_score [0.9410]\u001b[0m\n",
      "\u001b[35mepoch [36] of [1000], batch 21/57, loss [0.0744]\u001b[0m\n",
      "\u001b[34mEarlyStopping counter: 1 out of 30\u001b[0m\n",
      "\u001b[34mepoch [41] of [1000], validation:roc_auc_score [0.7461], best validation:roc_auc_score [0.7626]\u001b[0m\n",
      "\u001b[34mepoch [42] of [1000], batch 1/57, loss [0.0682]\u001b[0m\n",
      "\u001b[35mepoch [36] of [1000], batch 41/57, loss [0.0627]\u001b[0m\n",
      "\u001b[34mepoch [42] of [1000], batch 21/57, loss [0.0959]\u001b[0m\n",
      "\u001b[35mepoch [36] of [1000], training:roc_auc_score [0.9379]\u001b[0m\n",
      "\u001b[34mepoch [42] of [1000], batch 41/57, loss [0.0785]\u001b[0m\n",
      "\u001b[35mEarlyStopping counter: 16 out of 30\u001b[0m\n",
      "\u001b[35mepoch [36] of [1000], validation:roc_auc_score [0.7540], best validation:roc_auc_score [0.7661]\u001b[0m\n",
      "\u001b[35mepoch [37] of [1000], batch 1/57, loss [0.0953]\u001b[0m\n",
      "\u001b[34mepoch [42] of [1000], training:roc_auc_score [0.9465]\u001b[0m\n",
      "\u001b[34mEarlyStopping counter: 2 out of 30\u001b[0m\n",
      "\u001b[34mepoch [42] of [1000], validation:roc_auc_score [0.7426], best validation:roc_auc_score [0.7626]\u001b[0m\n",
      "\u001b[34mepoch [43] of [1000], batch 1/57, loss [0.0807]\u001b[0m\n",
      "\u001b[35mepoch [37] of [1000], batch 21/57, loss [0.0864]\u001b[0m\n",
      "\u001b[35mepoch [37] of [1000], batch 41/57, loss [0.0535]\u001b[0m\n",
      "\u001b[34mepoch [43] of [1000], batch 21/57, loss [0.1010]\u001b[0m\n",
      "\u001b[35mepoch [37] of [1000], training:roc_auc_score [0.9416]\u001b[0m\n",
      "\u001b[34mepoch [43] of [1000], batch 41/57, loss [0.0757]\u001b[0m\n",
      "\u001b[35mEarlyStopping counter: 17 out of 30\u001b[0m\n",
      "\u001b[35mepoch [37] of [1000], validation:roc_auc_score [0.7585], best validation:roc_auc_score [0.7661]\u001b[0m\n",
      "\u001b[34mepoch [43] of [1000], training:roc_auc_score [0.9416]\u001b[0m\n",
      "\u001b[35mepoch [38] of [1000], batch 1/57, loss [0.0784]\u001b[0m\n",
      "\u001b[34mEarlyStopping counter: 3 out of 30\u001b[0m\n",
      "\u001b[34mepoch [43] of [1000], validation:roc_auc_score [0.7273], best validation:roc_auc_score [0.7626]\u001b[0m\n",
      "\u001b[34mepoch [44] of [1000], batch 1/57, loss [0.0545]\u001b[0m\n",
      "\u001b[35mepoch [38] of [1000], batch 21/57, loss [0.0689]\u001b[0m\n",
      "\u001b[34mepoch [44] of [1000], batch 21/57, loss [0.1138]\u001b[0m\n",
      "\u001b[35mepoch [38] of [1000], batch 41/57, loss [0.0775]\u001b[0m\n",
      "\u001b[34mepoch [44] of [1000], batch 41/57, loss [0.0941]\u001b[0m\n",
      "\u001b[35mepoch [38] of [1000], training:roc_auc_score [0.9472]\u001b[0m\n",
      "\u001b[34mepoch [44] of [1000], training:roc_auc_score [0.9453]\u001b[0m\n",
      "\u001b[35mEarlyStopping counter: 18 out of 30\u001b[0m\n",
      "\u001b[35mepoch [38] of [1000], validation:roc_auc_score [0.7487], best validation:roc_auc_score [0.7661]\u001b[0m\n",
      "\u001b[35mepoch [39] of [1000], batch 1/57, loss [0.0850]\u001b[0m\n",
      "\u001b[34mEarlyStopping counter: 4 out of 30\u001b[0m\n",
      "\u001b[34mepoch [44] of [1000], validation:roc_auc_score [0.7494], best validation:roc_auc_score [0.7626]\u001b[0m\n",
      "\u001b[34mepoch [45] of [1000], batch 1/57, loss [0.0681]\u001b[0m\n",
      "\u001b[35mepoch [39] of [1000], batch 21/57, loss [0.0762]\u001b[0m\n",
      "\u001b[34mepoch [45] of [1000], batch 21/57, loss [0.0606]\u001b[0m\n",
      "\u001b[35mepoch [39] of [1000], batch 41/57, loss [0.0571]\u001b[0m\n",
      "\u001b[34mepoch [45] of [1000], batch 41/57, loss [0.1046]\u001b[0m\n",
      "\u001b[35mepoch [39] of [1000], training:roc_auc_score [0.9467]\u001b[0m\n",
      "\u001b[34mepoch [45] of [1000], training:roc_auc_score [0.9478]\u001b[0m\n",
      "\u001b[34mEarlyStopping counter: 5 out of 30\u001b[0m\n",
      "\u001b[34mepoch [45] of [1000], validation:roc_auc_score [0.7622], best validation:roc_auc_score [0.7626]\u001b[0m\n",
      "\u001b[34mepoch [46] of [1000], batch 1/57, loss [0.0652]\u001b[0m\n",
      "\u001b[35mEarlyStopping counter: 19 out of 30\u001b[0m\n",
      "\u001b[35mepoch [39] of [1000], validation:roc_auc_score [0.7429], best validation:roc_auc_score [0.7661]\u001b[0m\n",
      "\u001b[35mepoch [40] of [1000], batch 1/57, loss [0.0810]\u001b[0m\n",
      "\u001b[34mepoch [46] of [1000], batch 21/57, loss [0.1307]\u001b[0m\n",
      "\u001b[35mepoch [40] of [1000], batch 21/57, loss [0.0945]\u001b[0m\n",
      "\u001b[34mepoch [46] of [1000], batch 41/57, loss [0.0912]\u001b[0m\n",
      "\u001b[34mepoch [46] of [1000], training:roc_auc_score [0.9482]\u001b[0m\n",
      "\u001b[35mepoch [40] of [1000], batch 41/57, loss [0.0799]\u001b[0m\n",
      "\u001b[34mEarlyStopping counter: 6 out of 30\u001b[0m\n",
      "\u001b[34mepoch [46] of [1000], validation:roc_auc_score [0.7454], best validation:roc_auc_score [0.7626]\u001b[0m\n",
      "\u001b[34mepoch [47] of [1000], batch 1/57, loss [0.0969]\u001b[0m\n",
      "\u001b[35mepoch [40] of [1000], training:roc_auc_score [0.9425]\u001b[0m\n",
      "\u001b[35mEarlyStopping counter: 20 out of 30\u001b[0m\n",
      "\u001b[35mepoch [40] of [1000], validation:roc_auc_score [0.7626], best validation:roc_auc_score [0.7661]\u001b[0m\n",
      "\u001b[35mepoch [41] of [1000], batch 1/57, loss [0.0569]\u001b[0m\n",
      "\u001b[34mepoch [47] of [1000], batch 21/57, loss [0.0705]\u001b[0m\n",
      "\u001b[35mepoch [41] of [1000], batch 21/57, loss [0.0880]\u001b[0m\n",
      "\u001b[34mepoch [47] of [1000], batch 41/57, loss [0.0721]\u001b[0m\n",
      "\u001b[34mepoch [47] of [1000], training:roc_auc_score [0.9452]\u001b[0m\n",
      "\u001b[35mepoch [41] of [1000], batch 41/57, loss [0.0721]\u001b[0m\n",
      "\u001b[34mepoch [47] of [1000], validation:roc_auc_score [0.7653], best validation:roc_auc_score [0.7653]\u001b[0m\n",
      "\u001b[34mepoch [48] of [1000], batch 1/57, loss [0.0879]\u001b[0m\n",
      "\u001b[35mepoch [41] of [1000], training:roc_auc_score [0.9510]\u001b[0m\n",
      "\u001b[34mepoch [48] of [1000], batch 21/57, loss [0.0814]\u001b[0m\n",
      "\u001b[35mEarlyStopping counter: 21 out of 30\u001b[0m\n",
      "\u001b[35mepoch [41] of [1000], validation:roc_auc_score [0.7301], best validation:roc_auc_score [0.7661]\u001b[0m\n",
      "\u001b[35mepoch [42] of [1000], batch 1/57, loss [0.0930]\u001b[0m\n",
      "\u001b[34mepoch [48] of [1000], batch 41/57, loss [0.1025]\u001b[0m\n",
      "\u001b[34mepoch [48] of [1000], training:roc_auc_score [0.9508]\u001b[0m\n",
      "\u001b[35mepoch [42] of [1000], batch 21/57, loss [0.0690]\u001b[0m\n",
      "\u001b[34mepoch [48] of [1000], validation:roc_auc_score [0.7717], best validation:roc_auc_score [0.7717]\u001b[0m\n",
      "\u001b[34mepoch [49] of [1000], batch 1/57, loss [0.1049]\u001b[0m\n",
      "\u001b[35mepoch [42] of [1000], batch 41/57, loss [0.0750]\u001b[0m\n",
      "\u001b[35mepoch [42] of [1000], training:roc_auc_score [0.9468]\u001b[0m\n",
      "\u001b[34mepoch [49] of [1000], batch 21/57, loss [0.0642]\u001b[0m\n",
      "\u001b[35mEarlyStopping counter: 22 out of 30\u001b[0m\n",
      "\u001b[35mepoch [42] of [1000], validation:roc_auc_score [0.7434], best validation:roc_auc_score [0.7661]\u001b[0m\n",
      "\u001b[35mepoch [43] of [1000], batch 1/57, loss [0.0887]\u001b[0m\n",
      "\u001b[34mepoch [49] of [1000], batch 41/57, loss [0.0933]\u001b[0m\n",
      "\u001b[34mepoch [49] of [1000], training:roc_auc_score [0.9469]\u001b[0m\n",
      "\u001b[35mepoch [43] of [1000], batch 21/57, loss [0.1046]\u001b[0m\n",
      "\u001b[34mEarlyStopping counter: 1 out of 30\u001b[0m\n",
      "\u001b[34mepoch [49] of [1000], validation:roc_auc_score [0.7232], best validation:roc_auc_score [0.7717]\u001b[0m\n",
      "\u001b[34mepoch [50] of [1000], batch 1/57, loss [0.0646]\u001b[0m\n",
      "\u001b[35mepoch [43] of [1000], batch 41/57, loss [0.0754]\u001b[0m\n",
      "\u001b[34mepoch [50] of [1000], batch 21/57, loss [0.0741]\u001b[0m\n",
      "\u001b[35mepoch [43] of [1000], training:roc_auc_score [0.9463]\u001b[0m\n",
      "\u001b[34mepoch [50] of [1000], batch 41/57, loss [0.0996]\u001b[0m\n",
      "\u001b[35mEarlyStopping counter: 23 out of 30\u001b[0m\n",
      "\u001b[35mepoch [43] of [1000], validation:roc_auc_score [0.7589], best validation:roc_auc_score [0.7661]\u001b[0m\n",
      "\u001b[35mepoch [44] of [1000], batch 1/57, loss [0.0521]\u001b[0m\n",
      "\u001b[34mepoch [50] of [1000], training:roc_auc_score [0.9482]\u001b[0m\n",
      "\u001b[34mEarlyStopping counter: 2 out of 30\u001b[0m\n",
      "\u001b[34mepoch [50] of [1000], validation:roc_auc_score [0.7630], best validation:roc_auc_score [0.7717]\u001b[0m\n",
      "\u001b[34mepoch [51] of [1000], batch 1/57, loss [0.0745]\u001b[0m\n",
      "\u001b[35mepoch [44] of [1000], batch 21/57, loss [0.0916]\u001b[0m\n",
      "\u001b[35mepoch [44] of [1000], batch 41/57, loss [0.0950]\u001b[0m\n",
      "\u001b[34mepoch [51] of [1000], batch 21/57, loss [0.0680]\u001b[0m\n",
      "\u001b[35mepoch [44] of [1000], training:roc_auc_score [0.9516]\u001b[0m\n",
      "\u001b[34mepoch [51] of [1000], batch 41/57, loss [0.0719]\u001b[0m\n",
      "\u001b[35mEarlyStopping counter: 24 out of 30\u001b[0m\n",
      "\u001b[35mepoch [44] of [1000], validation:roc_auc_score [0.7629], best validation:roc_auc_score [0.7661]\u001b[0m\n",
      "\u001b[35mepoch [45] of [1000], batch 1/57, loss [0.0649]\u001b[0m\n",
      "\u001b[34mepoch [51] of [1000], training:roc_auc_score [0.9527]\u001b[0m\n",
      "\u001b[34mEarlyStopping counter: 3 out of 30\u001b[0m\n",
      "\u001b[34mepoch [51] of [1000], validation:roc_auc_score [0.7517], best validation:roc_auc_score [0.7717]\u001b[0m\n",
      "\u001b[34mepoch [52] of [1000], batch 1/57, loss [0.0753]\u001b[0m\n",
      "\u001b[35mepoch [45] of [1000], batch 21/57, loss [0.0751]\u001b[0m\n",
      "\u001b[34mepoch [52] of [1000], batch 21/57, loss [0.0928]\u001b[0m\n",
      "\u001b[35mepoch [45] of [1000], batch 41/57, loss [0.0901]\u001b[0m\n",
      "\u001b[35mepoch [45] of [1000], training:roc_auc_score [0.9480]\u001b[0m\n",
      "\u001b[34mepoch [52] of [1000], batch 41/57, loss [0.0623]\u001b[0m\n",
      "\u001b[35mEarlyStopping counter: 25 out of 30\u001b[0m\n",
      "\u001b[35mepoch [45] of [1000], validation:roc_auc_score [0.7522], best validation:roc_auc_score [0.7661]\u001b[0m\n",
      "\u001b[34mepoch [52] of [1000], training:roc_auc_score [0.9492]\u001b[0m\n",
      "\u001b[35mepoch [46] of [1000], batch 1/57, loss [0.0499]\u001b[0m\n",
      "\u001b[34mEarlyStopping counter: 4 out of 30\u001b[0m\n",
      "\u001b[34mepoch [52] of [1000], validation:roc_auc_score [0.7562], best validation:roc_auc_score [0.7717]\u001b[0m\n",
      "\u001b[34mepoch [53] of [1000], batch 1/57, loss [0.0972]\u001b[0m\n",
      "\u001b[35mepoch [46] of [1000], batch 21/57, loss [0.0732]\u001b[0m\n",
      "\u001b[34mepoch [53] of [1000], batch 21/57, loss [0.1104]\u001b[0m\n",
      "\u001b[35mepoch [46] of [1000], batch 41/57, loss [0.0671]\u001b[0m\n",
      "\u001b[35mepoch [46] of [1000], training:roc_auc_score [0.9475]\u001b[0m\n",
      "\u001b[34mepoch [53] of [1000], batch 41/57, loss [0.0687]\u001b[0m\n",
      "\u001b[35mEarlyStopping counter: 26 out of 30\u001b[0m\n",
      "\u001b[35mepoch [46] of [1000], validation:roc_auc_score [0.7246], best validation:roc_auc_score [0.7661]\u001b[0m\n",
      "\u001b[34mepoch [53] of [1000], training:roc_auc_score [0.9512]\u001b[0m\n",
      "\u001b[35mepoch [47] of [1000], batch 1/57, loss [0.0904]\u001b[0m\n",
      "\u001b[34mEarlyStopping counter: 5 out of 30\u001b[0m\n",
      "\u001b[34mepoch [53] of [1000], validation:roc_auc_score [0.7275], best validation:roc_auc_score [0.7717]\u001b[0m\n",
      "\u001b[34mepoch [54] of [1000], batch 1/57, loss [0.0791]\u001b[0m\n",
      "\u001b[35mepoch [47] of [1000], batch 21/57, loss [0.0808]\u001b[0m\n",
      "\u001b[34mepoch [54] of [1000], batch 21/57, loss [0.0908]\u001b[0m\n",
      "\u001b[35mepoch [47] of [1000], batch 41/57, loss [0.1257]\u001b[0m\n",
      "\u001b[34mepoch [54] of [1000], batch 41/57, loss [0.0494]\u001b[0m\n",
      "\u001b[35mepoch [47] of [1000], training:roc_auc_score [0.9528]\u001b[0m\n",
      "\u001b[34mepoch [54] of [1000], training:roc_auc_score [0.9524]\u001b[0m\n",
      "\u001b[35mEarlyStopping counter: 27 out of 30\u001b[0m\n",
      "\u001b[35mepoch [47] of [1000], validation:roc_auc_score [0.7309], best validation:roc_auc_score [0.7661]\u001b[0m\n",
      "\u001b[35mepoch [48] of [1000], batch 1/57, loss [0.0757]\u001b[0m\n",
      "\u001b[34mEarlyStopping counter: 6 out of 30\u001b[0m\n",
      "\u001b[34mepoch [54] of [1000], validation:roc_auc_score [0.7559], best validation:roc_auc_score [0.7717]\u001b[0m\n",
      "\u001b[34mepoch [55] of [1000], batch 1/57, loss [0.0679]\u001b[0m\n",
      "\u001b[34mepoch [55] of [1000], batch 21/57, loss [0.1048]\u001b[0m\n",
      "\u001b[35mepoch [48] of [1000], batch 21/57, loss [0.0543]\u001b[0m\n",
      "\u001b[34mepoch [55] of [1000], batch 41/57, loss [0.0544]\u001b[0m\n",
      "\u001b[34mepoch [55] of [1000], training:roc_auc_score [0.9526]\u001b[0m\n",
      "\u001b[35mepoch [48] of [1000], batch 41/57, loss [0.0937]\u001b[0m\n",
      "\u001b[35mepoch [48] of [1000], training:roc_auc_score [0.9572]\u001b[0m\n",
      "\u001b[34mEarlyStopping counter: 7 out of 30\u001b[0m\n",
      "\u001b[34mepoch [55] of [1000], validation:roc_auc_score [0.7713], best validation:roc_auc_score [0.7717]\u001b[0m\n",
      "\u001b[35mEarlyStopping counter: 28 out of 30\u001b[0m\n",
      "\u001b[35mepoch [48] of [1000], validation:roc_auc_score [0.7459], best validation:roc_auc_score [0.7661]\u001b[0m\n",
      "\u001b[35mepoch [49] of [1000], batch 1/57, loss [0.0634]\u001b[0m\n",
      "\u001b[34mepoch [56] of [1000], batch 1/57, loss [0.0770]\u001b[0m\n",
      "\u001b[34mepoch [56] of [1000], batch 21/57, loss [0.0785]\u001b[0m\n",
      "\u001b[35mepoch [49] of [1000], batch 21/57, loss [0.0511]\u001b[0m\n",
      "\u001b[34mepoch [56] of [1000], batch 41/57, loss [0.0652]\u001b[0m\n",
      "\u001b[35mepoch [49] of [1000], batch 41/57, loss [0.0702]\u001b[0m\n",
      "\u001b[34mepoch [56] of [1000], training:roc_auc_score [0.9477]\u001b[0m\n",
      "\u001b[35mepoch [49] of [1000], training:roc_auc_score [0.9540]\u001b[0m\n",
      "\u001b[34mEarlyStopping counter: 8 out of 30\u001b[0m\n",
      "\u001b[34mepoch [56] of [1000], validation:roc_auc_score [0.7549], best validation:roc_auc_score [0.7717]\u001b[0m\n",
      "\u001b[34mepoch [57] of [1000], batch 1/57, loss [0.0519]\u001b[0m\n",
      "\u001b[35mEarlyStopping counter: 29 out of 30\u001b[0m\n",
      "\u001b[35mepoch [49] of [1000], validation:roc_auc_score [0.7596], best validation:roc_auc_score [0.7661]\u001b[0m\n",
      "\u001b[35mepoch [50] of [1000], batch 1/57, loss [0.0736]\u001b[0m\n",
      "\u001b[34mepoch [57] of [1000], batch 21/57, loss [0.0534]\u001b[0m\n",
      "\u001b[34mepoch [57] of [1000], batch 41/57, loss [0.0723]\u001b[0m\n",
      "\u001b[35mepoch [50] of [1000], batch 21/57, loss [0.0646]\u001b[0m\n",
      "\u001b[34mepoch [57] of [1000], training:roc_auc_score [0.9516]\u001b[0m\n",
      "\u001b[35mepoch [50] of [1000], batch 41/57, loss [0.0563]\u001b[0m\n",
      "\u001b[34mEarlyStopping counter: 9 out of 30\u001b[0m\n",
      "\u001b[34mepoch [57] of [1000], validation:roc_auc_score [0.7344], best validation:roc_auc_score [0.7717]\u001b[0m\n",
      "\u001b[35mepoch [50] of [1000], training:roc_auc_score [0.9594]\u001b[0m\n",
      "\u001b[34mepoch [58] of [1000], batch 1/57, loss [0.0744]\u001b[0m\n",
      "\u001b[35mepoch [50] of [1000], validation:roc_auc_score [0.7663], best validation:roc_auc_score [0.7663]\u001b[0m\n",
      "\u001b[34mepoch [58] of [1000], batch 21/57, loss [0.0758]\u001b[0m\n",
      "\u001b[35mepoch [51] of [1000], batch 1/57, loss [0.0735]\u001b[0m\n",
      "\u001b[34mepoch [58] of [1000], batch 41/57, loss [0.0489]\u001b[0m\n",
      "\u001b[35mepoch [51] of [1000], batch 21/57, loss [0.0650]\u001b[0m\n",
      "\u001b[34mepoch [58] of [1000], training:roc_auc_score [0.9552]\u001b[0m\n",
      "\u001b[34mEarlyStopping counter: 10 out of 30\u001b[0m\n",
      "\u001b[34mepoch [58] of [1000], validation:roc_auc_score [0.7697], best validation:roc_auc_score [0.7717]\u001b[0m\n",
      "\u001b[35mepoch [51] of [1000], batch 41/57, loss [0.0544]\u001b[0m\n",
      "\u001b[35mepoch [51] of [1000], training:roc_auc_score [0.9548]\u001b[0m\n",
      "\u001b[34mepoch [59] of [1000], batch 1/57, loss [0.0671]\u001b[0m\n",
      "\u001b[34mepoch [59] of [1000], batch 21/57, loss [0.0854]\u001b[0m\n",
      "\u001b[35mepoch [51] of [1000], validation:roc_auc_score [0.7870], best validation:roc_auc_score [0.7870]\u001b[0m\n",
      "\u001b[35mepoch [52] of [1000], batch 1/57, loss [0.0898]\u001b[0m\n",
      "\u001b[34mepoch [59] of [1000], batch 41/57, loss [0.0904]\u001b[0m\n",
      "\u001b[35mepoch [52] of [1000], batch 21/57, loss [0.0697]\u001b[0m\n",
      "\u001b[34mepoch [59] of [1000], training:roc_auc_score [0.9531]\u001b[0m\n",
      "\u001b[34mEarlyStopping counter: 11 out of 30\u001b[0m\n",
      "\u001b[34mepoch [59] of [1000], validation:roc_auc_score [0.7355], best validation:roc_auc_score [0.7717]\u001b[0m\n",
      "\u001b[34mepoch [60] of [1000], batch 1/57, loss [0.0476]\u001b[0m\n",
      "\u001b[35mepoch [52] of [1000], batch 41/57, loss [0.0736]\u001b[0m\n",
      "\u001b[34mepoch [60] of [1000], batch 21/57, loss [0.1089]\u001b[0m\n",
      "\u001b[35mepoch [52] of [1000], training:roc_auc_score [0.9546]\u001b[0m\n",
      "\u001b[34mepoch [60] of [1000], batch 41/57, loss [0.0987]\u001b[0m\n",
      "\u001b[35mEarlyStopping counter: 1 out of 30\u001b[0m\n",
      "\u001b[35mepoch [52] of [1000], validation:roc_auc_score [0.7685], best validation:roc_auc_score [0.7870]\u001b[0m\n",
      "\u001b[35mepoch [53] of [1000], batch 1/57, loss [0.0677]\u001b[0m\n",
      "\u001b[34mepoch [60] of [1000], training:roc_auc_score [0.9558]\u001b[0m\n",
      "\u001b[35mepoch [53] of [1000], batch 21/57, loss [0.0646]\u001b[0m\n",
      "\u001b[34mEarlyStopping counter: 12 out of 30\u001b[0m\n",
      "\u001b[34mepoch [60] of [1000], validation:roc_auc_score [0.7548], best validation:roc_auc_score [0.7717]\u001b[0m\n",
      "\u001b[34mepoch [61] of [1000], batch 1/57, loss [0.0705]\u001b[0m\n",
      "\u001b[34mepoch [61] of [1000], batch 21/57, loss [0.0674]\u001b[0m\n",
      "\u001b[35mepoch [53] of [1000], batch 41/57, loss [0.0798]\u001b[0m\n",
      "\u001b[35mepoch [53] of [1000], training:roc_auc_score [0.9513]\u001b[0m\n",
      "\u001b[34mepoch [61] of [1000], batch 41/57, loss [0.0724]\u001b[0m\n",
      "\u001b[34mepoch [61] of [1000], training:roc_auc_score [0.9562]\u001b[0m\n",
      "\u001b[35mEarlyStopping counter: 2 out of 30\u001b[0m\n",
      "\u001b[35mepoch [53] of [1000], validation:roc_auc_score [0.7555], best validation:roc_auc_score [0.7870]\u001b[0m\n",
      "\u001b[35mepoch [54] of [1000], batch 1/57, loss [0.1088]\u001b[0m\n",
      "\u001b[34mEarlyStopping counter: 13 out of 30\u001b[0m\n",
      "\u001b[34mepoch [61] of [1000], validation:roc_auc_score [0.7163], best validation:roc_auc_score [0.7717]\u001b[0m\n",
      "\u001b[34mepoch [62] of [1000], batch 1/57, loss [0.0797]\u001b[0m\n",
      "\u001b[35mepoch [54] of [1000], batch 21/57, loss [0.0618]\u001b[0m\n",
      "\u001b[34mepoch [62] of [1000], batch 21/57, loss [0.0952]\u001b[0m\n",
      "\u001b[35mepoch [54] of [1000], batch 41/57, loss [0.0688]\u001b[0m\n",
      "\u001b[34mepoch [62] of [1000], batch 41/57, loss [0.0740]\u001b[0m\n",
      "\u001b[35mepoch [54] of [1000], training:roc_auc_score [0.9546]\u001b[0m\n",
      "\u001b[34mepoch [62] of [1000], training:roc_auc_score [0.9550]\u001b[0m\n",
      "\u001b[35mEarlyStopping counter: 3 out of 30\u001b[0m\n",
      "\u001b[35mepoch [54] of [1000], validation:roc_auc_score [0.7746], best validation:roc_auc_score [0.7870]\u001b[0m\n",
      "\u001b[35mepoch [55] of [1000], batch 1/57, loss [0.0706]\u001b[0m\n",
      "\u001b[34mEarlyStopping counter: 14 out of 30\u001b[0m\n",
      "\u001b[34mepoch [62] of [1000], validation:roc_auc_score [0.7474], best validation:roc_auc_score [0.7717]\u001b[0m\n",
      "\u001b[34mepoch [63] of [1000], batch 1/57, loss [0.0798]\u001b[0m\n",
      "\u001b[35mepoch [55] of [1000], batch 21/57, loss [0.0615]\u001b[0m\n",
      "\u001b[34mepoch [63] of [1000], batch 21/57, loss [0.0641]\u001b[0m\n",
      "\u001b[34mepoch [63] of [1000], batch 41/57, loss [0.0673]\u001b[0m\n",
      "\u001b[34mepoch [63] of [1000], training:roc_auc_score [0.9598]\u001b[0m\n",
      "\u001b[35mepoch [55] of [1000], batch 41/57, loss [0.1099]\u001b[0m\n",
      "\u001b[35mepoch [55] of [1000], training:roc_auc_score [0.9586]\u001b[0m\n",
      "\u001b[34mEarlyStopping counter: 15 out of 30\u001b[0m\n",
      "\u001b[34mepoch [63] of [1000], validation:roc_auc_score [0.7546], best validation:roc_auc_score [0.7717]\u001b[0m\n",
      "\u001b[35mEarlyStopping counter: 4 out of 30\u001b[0m\n",
      "\u001b[35mepoch [55] of [1000], validation:roc_auc_score [0.7688], best validation:roc_auc_score [0.7870]\u001b[0m\n",
      "\u001b[35mepoch [56] of [1000], batch 1/57, loss [0.0575]\u001b[0m\n",
      "\u001b[34mepoch [64] of [1000], batch 1/57, loss [0.0781]\u001b[0m\n",
      "\u001b[34mepoch [64] of [1000], batch 21/57, loss [0.0761]\u001b[0m\n",
      "\u001b[35mepoch [56] of [1000], batch 21/57, loss [0.0689]\u001b[0m\n",
      "\u001b[34mepoch [64] of [1000], batch 41/57, loss [0.1059]\u001b[0m\n",
      "\u001b[35mepoch [56] of [1000], batch 41/57, loss [0.0910]\u001b[0m\n",
      "\u001b[34mepoch [64] of [1000], training:roc_auc_score [0.9580]\u001b[0m\n",
      "\u001b[35mepoch [56] of [1000], training:roc_auc_score [0.9594]\u001b[0m\n",
      "\u001b[34mEarlyStopping counter: 16 out of 30\u001b[0m\n",
      "\u001b[34mepoch [64] of [1000], validation:roc_auc_score [0.7686], best validation:roc_auc_score [0.7717]\u001b[0m\n",
      "\u001b[34mepoch [65] of [1000], batch 1/57, loss [0.0758]\u001b[0m\n",
      "\u001b[35mEarlyStopping counter: 5 out of 30\u001b[0m\n",
      "\u001b[35mepoch [56] of [1000], validation:roc_auc_score [0.7710], best validation:roc_auc_score [0.7870]\u001b[0m\n",
      "\u001b[34mepoch [65] of [1000], batch 21/57, loss [0.0696]\u001b[0m\n",
      "\u001b[35mepoch [57] of [1000], batch 1/57, loss [0.0721]\u001b[0m\n",
      "\u001b[34mepoch [65] of [1000], batch 41/57, loss [0.0657]\u001b[0m\n",
      "\u001b[35mepoch [57] of [1000], batch 21/57, loss [0.0607]\u001b[0m\n",
      "\u001b[34mepoch [65] of [1000], training:roc_auc_score [0.9589]\u001b[0m\n",
      "\u001b[34mEarlyStopping counter: 17 out of 30\u001b[0m\n",
      "\u001b[34mepoch [65] of [1000], validation:roc_auc_score [0.7523], best validation:roc_auc_score [0.7717]\u001b[0m\n",
      "\u001b[34mepoch [66] of [1000], batch 1/57, loss [0.0515]\u001b[0m\n",
      "\u001b[35mepoch [57] of [1000], batch 41/57, loss [0.0750]\u001b[0m\n",
      "\u001b[35mepoch [57] of [1000], training:roc_auc_score [0.9592]\u001b[0m\n",
      "\u001b[34mepoch [66] of [1000], batch 21/57, loss [0.1035]\u001b[0m\n",
      "\u001b[35mEarlyStopping counter: 6 out of 30\u001b[0m\n",
      "\u001b[35mepoch [57] of [1000], validation:roc_auc_score [0.7413], best validation:roc_auc_score [0.7870]\u001b[0m\n",
      "\u001b[35mepoch [58] of [1000], batch 1/57, loss [0.0851]\u001b[0m\n",
      "\u001b[34mepoch [66] of [1000], batch 41/57, loss [0.0935]\u001b[0m\n",
      "\u001b[34mepoch [66] of [1000], training:roc_auc_score [0.9629]\u001b[0m\n",
      "\u001b[35mepoch [58] of [1000], batch 21/57, loss [0.0805]\u001b[0m\n",
      "\u001b[35mepoch [58] of [1000], batch 41/57, loss [0.0859]\u001b[0m\n",
      "\u001b[34mepoch [66] of [1000], validation:roc_auc_score [0.7797], best validation:roc_auc_score [0.7797]\u001b[0m\n",
      "\u001b[34mepoch [67] of [1000], batch 1/57, loss [0.0804]\u001b[0m\n",
      "\u001b[35mepoch [58] of [1000], training:roc_auc_score [0.9627]\u001b[0m\n",
      "\u001b[34mepoch [67] of [1000], batch 21/57, loss [0.0513]\u001b[0m\n",
      "\u001b[34mepoch [67] of [1000], batch 41/57, loss [0.0463]\u001b[0m\n",
      "\u001b[35mEarlyStopping counter: 7 out of 30\u001b[0m\n",
      "\u001b[35mepoch [58] of [1000], validation:roc_auc_score [0.7705], best validation:roc_auc_score [0.7870]\u001b[0m\n",
      "\u001b[35mepoch [59] of [1000], batch 1/57, loss [0.0817]\u001b[0m\n",
      "\u001b[34mepoch [67] of [1000], training:roc_auc_score [0.9635]\u001b[0m\n",
      "\u001b[35mepoch [59] of [1000], batch 21/57, loss [0.0788]\u001b[0m\n",
      "\u001b[34mEarlyStopping counter: 1 out of 30\u001b[0m\n",
      "\u001b[34mepoch [67] of [1000], validation:roc_auc_score [0.7522], best validation:roc_auc_score [0.7797]\u001b[0m\n",
      "\u001b[34mepoch [68] of [1000], batch 1/57, loss [0.0803]\u001b[0m\n",
      "\u001b[34mepoch [68] of [1000], batch 21/57, loss [0.0576]\u001b[0m\n",
      "\u001b[35mepoch [59] of [1000], batch 41/57, loss [0.0844]\u001b[0m\n",
      "\u001b[35mepoch [59] of [1000], training:roc_auc_score [0.9616]\u001b[0m\n",
      "\u001b[34mepoch [68] of [1000], batch 41/57, loss [0.0555]\u001b[0m\n",
      "\u001b[34mepoch [68] of [1000], training:roc_auc_score [0.9631]\u001b[0m\n",
      "\u001b[35mepoch [59] of [1000], validation:roc_auc_score [0.7877], best validation:roc_auc_score [0.7877]\u001b[0m\n",
      "\u001b[35mepoch [60] of [1000], batch 1/57, loss [0.0559]\u001b[0m\n",
      "\u001b[34mEarlyStopping counter: 2 out of 30\u001b[0m\n",
      "\u001b[34mepoch [68] of [1000], validation:roc_auc_score [0.7542], best validation:roc_auc_score [0.7797]\u001b[0m\n",
      "\u001b[35mepoch [60] of [1000], batch 21/57, loss [0.0714]\u001b[0m\n",
      "\u001b[34mepoch [69] of [1000], batch 1/57, loss [0.0907]\u001b[0m\n",
      "\u001b[34mepoch [69] of [1000], batch 21/57, loss [0.0776]\u001b[0m\n",
      "\u001b[35mepoch [60] of [1000], batch 41/57, loss [0.0845]\u001b[0m\n",
      "\u001b[35mepoch [60] of [1000], training:roc_auc_score [0.9618]\u001b[0m\n",
      "\u001b[34mepoch [69] of [1000], batch 41/57, loss [0.0662]\u001b[0m\n",
      "\u001b[34mepoch [69] of [1000], training:roc_auc_score [0.9619]\u001b[0m\n",
      "\u001b[35mEarlyStopping counter: 1 out of 30\u001b[0m\n",
      "\u001b[35mepoch [60] of [1000], validation:roc_auc_score [0.7774], best validation:roc_auc_score [0.7877]\u001b[0m\n",
      "\u001b[35mepoch [61] of [1000], batch 1/57, loss [0.0619]\u001b[0m\n",
      "\u001b[34mEarlyStopping counter: 3 out of 30\u001b[0m\n",
      "\u001b[34mepoch [69] of [1000], validation:roc_auc_score [0.7403], best validation:roc_auc_score [0.7797]\u001b[0m\n",
      "\u001b[34mepoch [70] of [1000], batch 1/57, loss [0.0653]\u001b[0m\n",
      "\u001b[35mepoch [61] of [1000], batch 21/57, loss [0.0902]\u001b[0m\n",
      "\u001b[34mepoch [70] of [1000], batch 21/57, loss [0.1089]\u001b[0m\n",
      "\u001b[34mepoch [70] of [1000], batch 41/57, loss [0.0677]\u001b[0m\n",
      "\u001b[34mepoch [70] of [1000], training:roc_auc_score [0.9592]\u001b[0m\n",
      "\u001b[35mepoch [61] of [1000], batch 41/57, loss [0.0676]\u001b[0m\n",
      "\u001b[35mepoch [61] of [1000], training:roc_auc_score [0.9637]\u001b[0m\n",
      "\u001b[34mEarlyStopping counter: 4 out of 30\u001b[0m\n",
      "\u001b[34mepoch [70] of [1000], validation:roc_auc_score [0.7591], best validation:roc_auc_score [0.7797]\u001b[0m\n",
      "\u001b[34mepoch [71] of [1000], batch 1/57, loss [0.0703]\u001b[0m\n",
      "\u001b[35mEarlyStopping counter: 2 out of 30\u001b[0m\n",
      "\u001b[35mepoch [61] of [1000], validation:roc_auc_score [0.7588], best validation:roc_auc_score [0.7877]\u001b[0m\n",
      "\u001b[35mepoch [62] of [1000], batch 1/57, loss [0.0653]\u001b[0m\n",
      "\u001b[35mepoch [62] of [1000], batch 21/57, loss [0.0675]\u001b[0m\n",
      "\u001b[34mepoch [71] of [1000], batch 21/57, loss [0.0883]\u001b[0m\n",
      "\u001b[34mepoch [71] of [1000], batch 41/57, loss [0.0433]\u001b[0m\n",
      "\u001b[35mepoch [62] of [1000], batch 41/57, loss [0.0485]\u001b[0m\n",
      "\u001b[34mepoch [71] of [1000], training:roc_auc_score [0.9634]\u001b[0m\n",
      "\u001b[35mepoch [62] of [1000], training:roc_auc_score [0.9613]\u001b[0m\n",
      "\u001b[34mEarlyStopping counter: 5 out of 30\u001b[0m\n",
      "\u001b[34mepoch [71] of [1000], validation:roc_auc_score [0.7578], best validation:roc_auc_score [0.7797]\u001b[0m\n",
      "\u001b[34mepoch [72] of [1000], batch 1/57, loss [0.0736]\u001b[0m\n",
      "\u001b[35mEarlyStopping counter: 3 out of 30\u001b[0m\n",
      "\u001b[35mepoch [62] of [1000], validation:roc_auc_score [0.7708], best validation:roc_auc_score [0.7877]\u001b[0m\n",
      "\u001b[35mepoch [63] of [1000], batch 1/57, loss [0.0750]\u001b[0m\n",
      "\u001b[34mepoch [72] of [1000], batch 21/57, loss [0.0730]\u001b[0m\n",
      "\u001b[34mepoch [72] of [1000], batch 41/57, loss [0.0978]\u001b[0m\n",
      "\u001b[35mepoch [63] of [1000], batch 21/57, loss [0.0433]\u001b[0m\n",
      "\u001b[34mepoch [72] of [1000], training:roc_auc_score [0.9655]\u001b[0m\n",
      "\u001b[34mEarlyStopping counter: 6 out of 30\u001b[0m\n",
      "\u001b[34mepoch [72] of [1000], validation:roc_auc_score [0.7670], best validation:roc_auc_score [0.7797]\u001b[0m\n",
      "\u001b[35mepoch [63] of [1000], batch 41/57, loss [0.0416]\u001b[0m\n",
      "\u001b[35mepoch [63] of [1000], training:roc_auc_score [0.9654]\u001b[0m\n",
      "\u001b[34mepoch [73] of [1000], batch 1/57, loss [0.0713]\u001b[0m\n",
      "\u001b[35mEarlyStopping counter: 4 out of 30\u001b[0m\n",
      "\u001b[35mepoch [63] of [1000], validation:roc_auc_score [0.7468], best validation:roc_auc_score [0.7877]\u001b[0m\n",
      "\u001b[35mepoch [64] of [1000], batch 1/57, loss [0.0833]\u001b[0m\n",
      "\u001b[34mepoch [73] of [1000], batch 21/57, loss [0.0753]\u001b[0m\n",
      "\u001b[34mepoch [73] of [1000], batch 41/57, loss [0.0482]\u001b[0m\n",
      "\u001b[35mepoch [64] of [1000], batch 21/57, loss [0.0827]\u001b[0m\n",
      "\u001b[34mepoch [73] of [1000], training:roc_auc_score [0.9698]\u001b[0m\n",
      "\u001b[35mepoch [64] of [1000], batch 41/57, loss [0.0647]\u001b[0m\n",
      "\u001b[34mEarlyStopping counter: 7 out of 30\u001b[0m\n",
      "\u001b[34mepoch [73] of [1000], validation:roc_auc_score [0.7676], best validation:roc_auc_score [0.7797]\u001b[0m\n",
      "\u001b[34mepoch [74] of [1000], batch 1/57, loss [0.0686]\u001b[0m\n",
      "\u001b[35mepoch [64] of [1000], training:roc_auc_score [0.9619]\u001b[0m\n",
      "\u001b[34mepoch [74] of [1000], batch 21/57, loss [0.0687]\u001b[0m\n",
      "\u001b[35mEarlyStopping counter: 5 out of 30\u001b[0m\n",
      "\u001b[35mepoch [64] of [1000], validation:roc_auc_score [0.7571], best validation:roc_auc_score [0.7877]\u001b[0m\n",
      "\u001b[34mepoch [74] of [1000], batch 41/57, loss [0.0677]\u001b[0m\n",
      "\u001b[35mepoch [65] of [1000], batch 1/57, loss [0.0794]\u001b[0m\n",
      "\u001b[34mepoch [74] of [1000], training:roc_auc_score [0.9660]\u001b[0m\n",
      "\u001b[35mepoch [65] of [1000], batch 21/57, loss [0.0577]\u001b[0m\n",
      "\u001b[34mEarlyStopping counter: 8 out of 30\u001b[0m\n",
      "\u001b[34mepoch [74] of [1000], validation:roc_auc_score [0.7408], best validation:roc_auc_score [0.7797]\u001b[0m\n",
      "\u001b[34mepoch [75] of [1000], batch 1/57, loss [0.0752]\u001b[0m\n",
      "\u001b[35mepoch [65] of [1000], batch 41/57, loss [0.0839]\u001b[0m\n",
      "\u001b[35mepoch [65] of [1000], training:roc_auc_score [0.9663]\u001b[0m\n",
      "\u001b[35mEarlyStopping counter: 6 out of 30\u001b[0m\n",
      "\u001b[35mepoch [65] of [1000], validation:roc_auc_score [0.7309], best validation:roc_auc_score [0.7877]\u001b[0m\n",
      "\u001b[35mepoch [66] of [1000], batch 1/57, loss [0.0477]\u001b[0m\n",
      "\u001b[35mepoch [66] of [1000], batch 21/57, loss [0.0866]\u001b[0m\n",
      "\u001b[34mepoch [75] of [1000], batch 21/57, loss [0.0621]\u001b[0m\n",
      "\u001b[34mepoch [75] of [1000], batch 41/57, loss [0.0614]\u001b[0m\n",
      "\u001b[34mepoch [75] of [1000], training:roc_auc_score [0.9658]\u001b[0m\n",
      "\u001b[34mEarlyStopping counter: 9 out of 30\u001b[0m\n",
      "\u001b[34mepoch [75] of [1000], validation:roc_auc_score [0.7402], best validation:roc_auc_score [0.7797]\u001b[0m\n",
      "\u001b[34mepoch [76] of [1000], batch 1/57, loss [0.0738]\u001b[0m\n",
      "\u001b[35mepoch [66] of [1000], batch 41/57, loss [0.0531]\u001b[0m\n",
      "\u001b[34mepoch [76] of [1000], batch 21/57, loss [0.0567]\u001b[0m\n",
      "\u001b[35mepoch [66] of [1000], training:roc_auc_score [0.9655]\u001b[0m\n",
      "\u001b[34mepoch [76] of [1000], batch 41/57, loss [0.0837]\u001b[0m\n",
      "\u001b[34mepoch [76] of [1000], training:roc_auc_score [0.9684]\u001b[0m\n",
      "\u001b[35mEarlyStopping counter: 7 out of 30\u001b[0m\n",
      "\u001b[35mepoch [66] of [1000], validation:roc_auc_score [0.7787], best validation:roc_auc_score [0.7877]\u001b[0m\n",
      "\u001b[35mepoch [67] of [1000], batch 1/57, loss [0.0516]\u001b[0m\n",
      "\u001b[34mEarlyStopping counter: 10 out of 30\u001b[0m\n",
      "\u001b[34mepoch [76] of [1000], validation:roc_auc_score [0.7553], best validation:roc_auc_score [0.7797]\u001b[0m\n",
      "\u001b[34mepoch [77] of [1000], batch 1/57, loss [0.0617]\u001b[0m\n",
      "\u001b[35mepoch [67] of [1000], batch 21/57, loss [0.0855]\u001b[0m\n",
      "\u001b[35mepoch [67] of [1000], batch 41/57, loss [0.0692]\u001b[0m\n",
      "\u001b[34mepoch [77] of [1000], batch 21/57, loss [0.0745]\u001b[0m\n",
      "\u001b[35mepoch [67] of [1000], training:roc_auc_score [0.9656]\u001b[0m\n",
      "\u001b[35mEarlyStopping counter: 8 out of 30\u001b[0m\n",
      "\u001b[35mepoch [67] of [1000], validation:roc_auc_score [0.7590], best validation:roc_auc_score [0.7877]\u001b[0m\n",
      "\u001b[35mepoch [68] of [1000], batch 1/57, loss [0.0624]\u001b[0m\n",
      "\u001b[35mepoch [68] of [1000], batch 21/57, loss [0.1004]\u001b[0m\n",
      "\u001b[34mepoch [77] of [1000], batch 41/57, loss [0.0819]\u001b[0m\n",
      "\u001b[34mepoch [77] of [1000], training:roc_auc_score [0.9678]\u001b[0m\n",
      "\u001b[34mEarlyStopping counter: 11 out of 30\u001b[0m\n",
      "\u001b[34mepoch [77] of [1000], validation:roc_auc_score [0.7755], best validation:roc_auc_score [0.7797]\u001b[0m\n",
      "\u001b[34mepoch [78] of [1000], batch 1/57, loss [0.0595]\u001b[0m\n",
      "\u001b[34mepoch [78] of [1000], batch 21/57, loss [0.0350]\u001b[0m\n",
      "\u001b[34mepoch [78] of [1000], batch 41/57, loss [0.0526]\u001b[0m\n",
      "\u001b[35mepoch [68] of [1000], batch 41/57, loss [0.0566]\u001b[0m\n",
      "\u001b[34mepoch [78] of [1000], training:roc_auc_score [0.9704]\u001b[0m\n",
      "\u001b[35mepoch [68] of [1000], training:roc_auc_score [0.9673]\u001b[0m\n",
      "\u001b[34mEarlyStopping counter: 12 out of 30\u001b[0m\n",
      "\u001b[34mepoch [78] of [1000], validation:roc_auc_score [0.7657], best validation:roc_auc_score [0.7797]\u001b[0m\n",
      "\u001b[34mepoch [79] of [1000], batch 1/57, loss [0.0767]\u001b[0m\n",
      "\u001b[35mEarlyStopping counter: 9 out of 30\u001b[0m\n",
      "\u001b[35mepoch [68] of [1000], validation:roc_auc_score [0.7640], best validation:roc_auc_score [0.7877]\u001b[0m\n",
      "\u001b[35mepoch [69] of [1000], batch 1/57, loss [0.0627]\u001b[0m\n",
      "\u001b[34mepoch [79] of [1000], batch 21/57, loss [0.0690]\u001b[0m\n",
      "\u001b[35mepoch [69] of [1000], batch 21/57, loss [0.0481]\u001b[0m\n",
      "\u001b[34mepoch [79] of [1000], batch 41/57, loss [0.0964]\u001b[0m\n",
      "\u001b[34mepoch [79] of [1000], training:roc_auc_score [0.9684]\u001b[0m\n",
      "\u001b[35mepoch [69] of [1000], batch 41/57, loss [0.0456]\u001b[0m\n",
      "\u001b[35mepoch [69] of [1000], training:roc_auc_score [0.9663]\u001b[0m\n",
      "\u001b[34mEarlyStopping counter: 13 out of 30\u001b[0m\n",
      "\u001b[34mepoch [79] of [1000], validation:roc_auc_score [0.7308], best validation:roc_auc_score [0.7797]\u001b[0m\n",
      "\u001b[34mepoch [80] of [1000], batch 1/57, loss [0.0640]\u001b[0m\n",
      "\u001b[34mepoch [80] of [1000], batch 21/57, loss [0.0601]\u001b[0m\n",
      "\u001b[35mEarlyStopping counter: 10 out of 30\u001b[0m\n",
      "\u001b[35mepoch [69] of [1000], validation:roc_auc_score [0.7761], best validation:roc_auc_score [0.7877]\u001b[0m\n",
      "\u001b[35mepoch [70] of [1000], batch 1/57, loss [0.0671]\u001b[0m\n",
      "\u001b[34mepoch [80] of [1000], batch 41/57, loss [0.0492]\u001b[0m\n",
      "\u001b[35mepoch [70] of [1000], batch 21/57, loss [0.0408]\u001b[0m\n",
      "\u001b[34mepoch [80] of [1000], training:roc_auc_score [0.9697]\u001b[0m\n",
      "\u001b[34mEarlyStopping counter: 14 out of 30\u001b[0m\n",
      "\u001b[34mepoch [80] of [1000], validation:roc_auc_score [0.7601], best validation:roc_auc_score [0.7797]\u001b[0m\n",
      "\u001b[34mepoch [81] of [1000], batch 1/57, loss [0.0893]\u001b[0m\n",
      "\u001b[35mepoch [70] of [1000], batch 41/57, loss [0.0780]\u001b[0m\n",
      "\u001b[35mepoch [70] of [1000], training:roc_auc_score [0.9663]\u001b[0m\n",
      "\u001b[34mepoch [81] of [1000], batch 21/57, loss [0.0677]\u001b[0m\n",
      "\u001b[35mEarlyStopping counter: 11 out of 30\u001b[0m\n",
      "\u001b[35mepoch [70] of [1000], validation:roc_auc_score [0.7490], best validation:roc_auc_score [0.7877]\u001b[0m\n",
      "\u001b[35mepoch [71] of [1000], batch 1/57, loss [0.0744]\u001b[0m\n",
      "\u001b[34mepoch [81] of [1000], batch 41/57, loss [0.0622]\u001b[0m\n",
      "\u001b[35mepoch [71] of [1000], batch 21/57, loss [0.0717]\u001b[0m\n",
      "\u001b[34mepoch [81] of [1000], training:roc_auc_score [0.9704]\u001b[0m\n",
      "\u001b[34mEarlyStopping counter: 15 out of 30\u001b[0m\n",
      "\u001b[34mepoch [81] of [1000], validation:roc_auc_score [0.7636], best validation:roc_auc_score [0.7797]\u001b[0m\n",
      "\u001b[34mepoch [82] of [1000], batch 1/57, loss [0.0592]\u001b[0m\n",
      "\u001b[35mepoch [71] of [1000], batch 41/57, loss [0.0769]\u001b[0m\n",
      "\u001b[34mepoch [82] of [1000], batch 21/57, loss [0.0904]\u001b[0m\n",
      "\u001b[35mepoch [71] of [1000], training:roc_auc_score [0.9698]\u001b[0m\n",
      "\u001b[35mEarlyStopping counter: 12 out of 30\u001b[0m\n",
      "\u001b[35mepoch [71] of [1000], validation:roc_auc_score [0.7606], best validation:roc_auc_score [0.7877]\u001b[0m\n",
      "\u001b[35mepoch [72] of [1000], batch 1/57, loss [0.0951]\u001b[0m\n",
      "\u001b[35mepoch [72] of [1000], batch 21/57, loss [0.0604]\u001b[0m\n",
      "\u001b[34mepoch [82] of [1000], batch 41/57, loss [0.0395]\u001b[0m\n",
      "\u001b[34mepoch [82] of [1000], training:roc_auc_score [0.9719]\u001b[0m\n",
      "\u001b[34mEarlyStopping counter: 16 out of 30\u001b[0m\n",
      "\u001b[34mepoch [82] of [1000], validation:roc_auc_score [0.7594], best validation:roc_auc_score [0.7797]\u001b[0m\n",
      "\u001b[34mepoch [83] of [1000], batch 1/57, loss [0.0534]\u001b[0m\n",
      "\u001b[35mepoch [72] of [1000], batch 41/57, loss [0.0661]\u001b[0m\n",
      "\u001b[34mepoch [83] of [1000], batch 21/57, loss [0.0526]\u001b[0m\n",
      "\u001b[35mepoch [72] of [1000], training:roc_auc_score [0.9707]\u001b[0m\n",
      "\u001b[34mepoch [83] of [1000], batch 41/57, loss [0.0598]\u001b[0m\n",
      "\u001b[35mEarlyStopping counter: 13 out of 30\u001b[0m\n",
      "\u001b[35mepoch [72] of [1000], validation:roc_auc_score [0.7695], best validation:roc_auc_score [0.7877]\u001b[0m\n",
      "\u001b[35mepoch [73] of [1000], batch 1/57, loss [0.0524]\u001b[0m\n",
      "\u001b[34mepoch [83] of [1000], training:roc_auc_score [0.9725]\u001b[0m\n",
      "\u001b[34mEarlyStopping counter: 17 out of 30\u001b[0m\n",
      "\u001b[34mepoch [83] of [1000], validation:roc_auc_score [0.7642], best validation:roc_auc_score [0.7797]\u001b[0m\n",
      "\u001b[34mepoch [84] of [1000], batch 1/57, loss [0.0560]\u001b[0m\n",
      "\u001b[35mepoch [73] of [1000], batch 21/57, loss [0.0717]\u001b[0m\n",
      "\u001b[34mepoch [84] of [1000], batch 21/57, loss [0.0852]\u001b[0m\n",
      "\u001b[35mepoch [73] of [1000], batch 41/57, loss [0.0884]\u001b[0m\n",
      "\u001b[34mepoch [84] of [1000], batch 41/57, loss [0.0614]\u001b[0m\n",
      "\u001b[35mepoch [73] of [1000], training:roc_auc_score [0.9700]\u001b[0m\n",
      "\u001b[34mepoch [84] of [1000], training:roc_auc_score [0.9733]\u001b[0m\n",
      "\u001b[35mEarlyStopping counter: 14 out of 30\u001b[0m\n",
      "\u001b[35mepoch [73] of [1000], validation:roc_auc_score [0.7548], best validation:roc_auc_score [0.7877]\u001b[0m\n",
      "\u001b[35mepoch [74] of [1000], batch 1/57, loss [0.0443]\u001b[0m\n",
      "\u001b[34mEarlyStopping counter: 18 out of 30\u001b[0m\n",
      "\u001b[34mepoch [84] of [1000], validation:roc_auc_score [0.7433], best validation:roc_auc_score [0.7797]\u001b[0m\n",
      "\u001b[34mepoch [85] of [1000], batch 1/57, loss [0.0524]\u001b[0m\n",
      "\u001b[35mepoch [74] of [1000], batch 21/57, loss [0.0667]\u001b[0m\n",
      "\u001b[34mepoch [85] of [1000], batch 21/57, loss [0.0383]\u001b[0m\n",
      "\u001b[34mepoch [85] of [1000], batch 41/57, loss [0.0527]\u001b[0m\n",
      "\u001b[35mepoch [74] of [1000], batch 41/57, loss [0.0622]\u001b[0m\n",
      "\u001b[35mepoch [74] of [1000], training:roc_auc_score [0.9706]\u001b[0m\n",
      "\u001b[34mepoch [85] of [1000], training:roc_auc_score [0.9727]\u001b[0m\n",
      "\u001b[35mEarlyStopping counter: 15 out of 30\u001b[0m\n",
      "\u001b[35mepoch [74] of [1000], validation:roc_auc_score [0.7325], best validation:roc_auc_score [0.7877]\u001b[0m\n",
      "\u001b[34mEarlyStopping counter: 19 out of 30\u001b[0m\n",
      "\u001b[34mepoch [85] of [1000], validation:roc_auc_score [0.6980], best validation:roc_auc_score [0.7797]\u001b[0m\n",
      "\u001b[34mepoch [86] of [1000], batch 1/57, loss [0.0522]\u001b[0m\n",
      "\u001b[35mepoch [75] of [1000], batch 1/57, loss [0.0588]\u001b[0m\n",
      "\u001b[35mepoch [75] of [1000], batch 21/57, loss [0.0553]\u001b[0m\n",
      "\u001b[34mepoch [86] of [1000], batch 21/57, loss [0.0695]\u001b[0m\n",
      "\u001b[35mepoch [75] of [1000], batch 41/57, loss [0.0535]\u001b[0m\n",
      "\u001b[34mepoch [86] of [1000], batch 41/57, loss [0.0774]\u001b[0m\n",
      "\u001b[34mepoch [86] of [1000], training:roc_auc_score [0.9743]\u001b[0m\n",
      "\u001b[35mepoch [75] of [1000], training:roc_auc_score [0.9713]\u001b[0m\n",
      "\u001b[34mEarlyStopping counter: 20 out of 30\u001b[0m\n",
      "\u001b[34mepoch [86] of [1000], validation:roc_auc_score [0.7473], best validation:roc_auc_score [0.7797]\u001b[0m\n",
      "\u001b[34mepoch [87] of [1000], batch 1/57, loss [0.0580]\u001b[0m\n",
      "\u001b[35mEarlyStopping counter: 16 out of 30\u001b[0m\n",
      "\u001b[35mepoch [75] of [1000], validation:roc_auc_score [0.7726], best validation:roc_auc_score [0.7877]\u001b[0m\n",
      "\u001b[35mepoch [76] of [1000], batch 1/57, loss [0.0571]\u001b[0m\n",
      "\u001b[34mepoch [87] of [1000], batch 21/57, loss [0.0640]\u001b[0m\n",
      "\u001b[35mepoch [76] of [1000], batch 21/57, loss [0.0641]\u001b[0m\n",
      "\u001b[34mepoch [87] of [1000], batch 41/57, loss [0.0557]\u001b[0m\n",
      "\u001b[34mepoch [87] of [1000], training:roc_auc_score [0.9764]\u001b[0m\n",
      "\u001b[35mepoch [76] of [1000], batch 41/57, loss [0.0783]\u001b[0m\n",
      "\u001b[35mepoch [76] of [1000], training:roc_auc_score [0.9723]\u001b[0m\n",
      "\u001b[34mEarlyStopping counter: 21 out of 30\u001b[0m\n",
      "\u001b[34mepoch [87] of [1000], validation:roc_auc_score [0.7220], best validation:roc_auc_score [0.7797]\u001b[0m\n",
      "\u001b[34mepoch [88] of [1000], batch 1/57, loss [0.0555]\u001b[0m\n",
      "\u001b[34mepoch [88] of [1000], batch 21/57, loss [0.0805]\u001b[0m\n",
      "\u001b[35mEarlyStopping counter: 17 out of 30\u001b[0m\n",
      "\u001b[35mepoch [76] of [1000], validation:roc_auc_score [0.7692], best validation:roc_auc_score [0.7877]\u001b[0m\n",
      "\u001b[35mepoch [77] of [1000], batch 1/57, loss [0.0667]\u001b[0m\n",
      "\u001b[34mepoch [88] of [1000], batch 41/57, loss [0.0928]\u001b[0m\n",
      "\u001b[35mepoch [77] of [1000], batch 21/57, loss [0.0514]\u001b[0m\n",
      "\u001b[34mepoch [88] of [1000], training:roc_auc_score [0.9731]\u001b[0m\n",
      "\u001b[35mepoch [77] of [1000], batch 41/57, loss [0.0723]\u001b[0m\n",
      "\u001b[34mEarlyStopping counter: 22 out of 30\u001b[0m\n",
      "\u001b[34mepoch [88] of [1000], validation:roc_auc_score [0.7582], best validation:roc_auc_score [0.7797]\u001b[0m\n",
      "\u001b[34mepoch [89] of [1000], batch 1/57, loss [0.0438]\u001b[0m\n",
      "\u001b[35mepoch [77] of [1000], training:roc_auc_score [0.9736]\u001b[0m\n",
      "\u001b[34mepoch [89] of [1000], batch 21/57, loss [0.0459]\u001b[0m\n",
      "\u001b[35mEarlyStopping counter: 18 out of 30\u001b[0m\n",
      "\u001b[35mepoch [77] of [1000], validation:roc_auc_score [0.7504], best validation:roc_auc_score [0.7877]\u001b[0m\n",
      "\u001b[35mepoch [78] of [1000], batch 1/57, loss [0.0657]\u001b[0m\n",
      "\u001b[34mepoch [89] of [1000], batch 41/57, loss [0.0685]\u001b[0m\n",
      "\u001b[35mepoch [78] of [1000], batch 21/57, loss [0.0584]\u001b[0m\n",
      "\u001b[34mepoch [89] of [1000], training:roc_auc_score [0.9783]\u001b[0m\n",
      "\u001b[34mEarlyStopping counter: 23 out of 30\u001b[0m\n",
      "\u001b[34mepoch [89] of [1000], validation:roc_auc_score [0.7389], best validation:roc_auc_score [0.7797]\u001b[0m\n",
      "\u001b[34mepoch [90] of [1000], batch 1/57, loss [0.0425]\u001b[0m\n",
      "\u001b[34mepoch [90] of [1000], batch 21/57, loss [0.0446]\u001b[0m\n",
      "\u001b[35mepoch [78] of [1000], batch 41/57, loss [0.0751]\u001b[0m\n",
      "\u001b[35mepoch [78] of [1000], training:roc_auc_score [0.9730]\u001b[0m\n",
      "\u001b[35mEarlyStopping counter: 19 out of 30\u001b[0m\n",
      "\u001b[35mepoch [78] of [1000], validation:roc_auc_score [0.7559], best validation:roc_auc_score [0.7877]\u001b[0m\n",
      "\u001b[35mepoch [79] of [1000], batch 1/57, loss [0.0529]\u001b[0m\n",
      "\u001b[34mepoch [90] of [1000], batch 41/57, loss [0.0978]\u001b[0m\n",
      "\u001b[35mepoch [79] of [1000], batch 21/57, loss [0.0563]\u001b[0m\n",
      "\u001b[34mepoch [90] of [1000], training:roc_auc_score [0.9781]\u001b[0m\n",
      "\u001b[34mEarlyStopping counter: 24 out of 30\u001b[0m\n",
      "\u001b[34mepoch [90] of [1000], validation:roc_auc_score [0.7345], best validation:roc_auc_score [0.7797]\u001b[0m\n",
      "\u001b[34mepoch [91] of [1000], batch 1/57, loss [0.0541]\u001b[0m\n",
      "\u001b[35mepoch [79] of [1000], batch 41/57, loss [0.0450]\u001b[0m\n",
      "\u001b[35mepoch [79] of [1000], training:roc_auc_score [0.9724]\u001b[0m\n",
      "\u001b[34mepoch [91] of [1000], batch 21/57, loss [0.0760]\u001b[0m\n",
      "\u001b[34mepoch [91] of [1000], batch 41/57, loss [0.0609]\u001b[0m\n",
      "\u001b[35mEarlyStopping counter: 20 out of 30\u001b[0m\n",
      "\u001b[35mepoch [79] of [1000], validation:roc_auc_score [0.7537], best validation:roc_auc_score [0.7877]\u001b[0m\n",
      "\u001b[35mepoch [80] of [1000], batch 1/57, loss [0.0465]\u001b[0m\n",
      "\u001b[34mepoch [91] of [1000], training:roc_auc_score [0.9776]\u001b[0m\n",
      "\u001b[35mepoch [80] of [1000], batch 21/57, loss [0.0864]\u001b[0m\n",
      "\u001b[34mEarlyStopping counter: 25 out of 30\u001b[0m\n",
      "\u001b[34mepoch [91] of [1000], validation:roc_auc_score [0.7137], best validation:roc_auc_score [0.7797]\u001b[0m\n",
      "\u001b[34mepoch [92] of [1000], batch 1/57, loss [0.0410]\u001b[0m\n",
      "\u001b[34mepoch [92] of [1000], batch 21/57, loss [0.0667]\u001b[0m\n",
      "\u001b[34mepoch [92] of [1000], batch 41/57, loss [0.0804]\u001b[0m\n",
      "\u001b[35mepoch [80] of [1000], batch 41/57, loss [0.0883]\u001b[0m\n",
      "\u001b[35mepoch [80] of [1000], training:roc_auc_score [0.9742]\u001b[0m\n",
      "\u001b[35mEarlyStopping counter: 21 out of 30\u001b[0m\n",
      "\u001b[35mepoch [80] of [1000], validation:roc_auc_score [0.7289], best validation:roc_auc_score [0.7877]\u001b[0m\n",
      "\u001b[35mepoch [81] of [1000], batch 1/57, loss [0.0455]\u001b[0m\n",
      "\u001b[34mepoch [92] of [1000], training:roc_auc_score [0.9795]\u001b[0m\n",
      "\u001b[35mepoch [81] of [1000], batch 21/57, loss [0.0778]\u001b[0m\n",
      "\u001b[34mEarlyStopping counter: 26 out of 30\u001b[0m\n",
      "\u001b[34mepoch [92] of [1000], validation:roc_auc_score [0.7281], best validation:roc_auc_score [0.7797]\u001b[0m\n",
      "\u001b[34mepoch [93] of [1000], batch 1/57, loss [0.0640]\u001b[0m\n",
      "\u001b[34mepoch [93] of [1000], batch 21/57, loss [0.0630]\u001b[0m\n",
      "\u001b[35mepoch [81] of [1000], batch 41/57, loss [0.0641]\u001b[0m\n",
      "\u001b[34mepoch [93] of [1000], batch 41/57, loss [0.0723]\u001b[0m\n",
      "\u001b[35mepoch [81] of [1000], training:roc_auc_score [0.9758]\u001b[0m\n",
      "\u001b[34mepoch [93] of [1000], training:roc_auc_score [0.9794]\u001b[0m\n",
      "\u001b[34mEarlyStopping counter: 27 out of 30\u001b[0m\n",
      "\u001b[34mepoch [93] of [1000], validation:roc_auc_score [0.7479], best validation:roc_auc_score [0.7797]\u001b[0m\n",
      "\u001b[34mepoch [94] of [1000], batch 1/57, loss [0.0386]\u001b[0m\n",
      "\u001b[35mEarlyStopping counter: 22 out of 30\u001b[0m\n",
      "\u001b[35mepoch [81] of [1000], validation:roc_auc_score [0.7656], best validation:roc_auc_score [0.7877]\u001b[0m\n",
      "\u001b[35mepoch [82] of [1000], batch 1/57, loss [0.0572]\u001b[0m\n",
      "\u001b[34mepoch [94] of [1000], batch 21/57, loss [0.0333]\u001b[0m\n",
      "\u001b[35mepoch [82] of [1000], batch 21/57, loss [0.0608]\u001b[0m\n",
      "\u001b[34mepoch [94] of [1000], batch 41/57, loss [0.0617]\u001b[0m\n",
      "\u001b[35mepoch [82] of [1000], batch 41/57, loss [0.0662]\u001b[0m\n",
      "\u001b[34mepoch [94] of [1000], training:roc_auc_score [0.9795]\u001b[0m\n",
      "\u001b[35mepoch [82] of [1000], training:roc_auc_score [0.9774]\u001b[0m\n",
      "\u001b[35mEarlyStopping counter: 23 out of 30\u001b[0m\n",
      "\u001b[35mepoch [82] of [1000], validation:roc_auc_score [0.7434], best validation:roc_auc_score [0.7877]\u001b[0m\n",
      "\u001b[35mepoch [83] of [1000], batch 1/57, loss [0.0345]\u001b[0m\n",
      "\u001b[34mEarlyStopping counter: 28 out of 30\u001b[0m\n",
      "\u001b[34mepoch [94] of [1000], validation:roc_auc_score [0.7553], best validation:roc_auc_score [0.7797]\u001b[0m\n",
      "\u001b[34mepoch [95] of [1000], batch 1/57, loss [0.0662]\u001b[0m\n",
      "\u001b[34mepoch [95] of [1000], batch 21/57, loss [0.0640]\u001b[0m\n",
      "\u001b[34mepoch [95] of [1000], batch 41/57, loss [0.0480]\u001b[0m\n",
      "\u001b[35mepoch [83] of [1000], batch 21/57, loss [0.0639]\u001b[0m\n",
      "\u001b[34mepoch [95] of [1000], training:roc_auc_score [0.9810]\u001b[0m\n",
      "\u001b[35mepoch [83] of [1000], batch 41/57, loss [0.0994]\u001b[0m\n",
      "\u001b[34mEarlyStopping counter: 29 out of 30\u001b[0m\n",
      "\u001b[34mepoch [95] of [1000], validation:roc_auc_score [0.7548], best validation:roc_auc_score [0.7797]\u001b[0m\n",
      "\u001b[34mepoch [96] of [1000], batch 1/57, loss [0.0371]\u001b[0m\n",
      "\u001b[35mepoch [83] of [1000], training:roc_auc_score [0.9759]\u001b[0m\n",
      "\u001b[35mEarlyStopping counter: 24 out of 30\u001b[0m\n",
      "\u001b[35mepoch [83] of [1000], validation:roc_auc_score [0.7497], best validation:roc_auc_score [0.7877]\u001b[0m\n",
      "\u001b[35mepoch [84] of [1000], batch 1/57, loss [0.0532]\u001b[0m\n",
      "\u001b[34mepoch [96] of [1000], batch 21/57, loss [0.0470]\u001b[0m\n",
      "\u001b[34mepoch [96] of [1000], batch 41/57, loss [0.0746]\u001b[0m\n",
      "\u001b[34mepoch [96] of [1000], training:roc_auc_score [0.9794]\u001b[0m\n",
      "\u001b[35mepoch [84] of [1000], batch 21/57, loss [0.0734]\u001b[0m\n",
      "\u001b[35mepoch [84] of [1000], batch 41/57, loss [0.0386]\u001b[0m\n",
      "\u001b[34mEarlyStopping counter: 30 out of 30\u001b[0m\n",
      "\u001b[34mepoch [96] of [1000], validation:roc_auc_score [0.7112], best validation:roc_auc_score [0.7797]\u001b[0m\n",
      "\u001b[35mepoch [84] of [1000], training:roc_auc_score [0.9790]\u001b[0m\n",
      "\u001b[34m2022-03-16 02:30:56,996 sagemaker-training-toolkit INFO     Reporting training SUCCESS\u001b[0m\n",
      "\u001b[35mEarlyStopping counter: 25 out of 30\u001b[0m\n",
      "\u001b[35mepoch [84] of [1000], validation:roc_auc_score [0.7501], best validation:roc_auc_score [0.7877]\u001b[0m\n",
      "\u001b[35mepoch [85] of [1000], batch 1/57, loss [0.0363]\u001b[0m\n",
      "\u001b[35mepoch [85] of [1000], batch 21/57, loss [0.0729]\u001b[0m\n",
      "\u001b[35mepoch [85] of [1000], batch 41/57, loss [0.0526]\u001b[0m\n",
      "\u001b[35mepoch [85] of [1000], training:roc_auc_score [0.9791]\u001b[0m\n",
      "\u001b[35mEarlyStopping counter: 26 out of 30\u001b[0m\n",
      "\u001b[35mepoch [85] of [1000], validation:roc_auc_score [0.7392], best validation:roc_auc_score [0.7877]\u001b[0m\n",
      "\u001b[35mepoch [86] of [1000], batch 1/57, loss [0.0788]\u001b[0m\n",
      "\u001b[35mepoch [86] of [1000], batch 21/57, loss [0.0672]\u001b[0m\n",
      "\u001b[35mepoch [86] of [1000], batch 41/57, loss [0.0588]\u001b[0m\n",
      "\u001b[35mepoch [86] of [1000], training:roc_auc_score [0.9803]\u001b[0m\n",
      "\u001b[35mEarlyStopping counter: 27 out of 30\u001b[0m\n",
      "\u001b[35mepoch [86] of [1000], validation:roc_auc_score [0.7555], best validation:roc_auc_score [0.7877]\u001b[0m\n",
      "\u001b[35mepoch [87] of [1000], batch 1/57, loss [0.0577]\u001b[0m\n",
      "\u001b[35mepoch [87] of [1000], batch 21/57, loss [0.0586]\u001b[0m\n",
      "\u001b[35mepoch [87] of [1000], batch 41/57, loss [0.0833]\u001b[0m\n",
      "\u001b[35mepoch [87] of [1000], training:roc_auc_score [0.9764]\u001b[0m\n",
      "\u001b[35mEarlyStopping counter: 28 out of 30\u001b[0m\n",
      "\u001b[35mepoch [87] of [1000], validation:roc_auc_score [0.7501], best validation:roc_auc_score [0.7877]\u001b[0m\n",
      "\u001b[35mepoch [88] of [1000], batch 1/57, loss [0.0481]\u001b[0m\n",
      "\u001b[35mepoch [88] of [1000], batch 21/57, loss [0.0557]\u001b[0m\n",
      "\u001b[35mepoch [88] of [1000], batch 41/57, loss [0.0548]\u001b[0m\n",
      "\u001b[35mepoch [88] of [1000], training:roc_auc_score [0.9782]\u001b[0m\n",
      "\u001b[35mEarlyStopping counter: 29 out of 30\u001b[0m\n",
      "\u001b[35mepoch [88] of [1000], validation:roc_auc_score [0.7698], best validation:roc_auc_score [0.7877]\u001b[0m\n",
      "\u001b[35mepoch [89] of [1000], batch 1/57, loss [0.0482]\u001b[0m\n",
      "\u001b[35mepoch [89] of [1000], batch 21/57, loss [0.0772]\u001b[0m\n",
      "\u001b[35mepoch [89] of [1000], batch 41/57, loss [0.0552]\u001b[0m\n",
      "\u001b[35mepoch [89] of [1000], training:roc_auc_score [0.9795]\u001b[0m\n",
      "\u001b[35mEarlyStopping counter: 30 out of 30\u001b[0m\n",
      "\u001b[35mepoch [89] of [1000], validation:roc_auc_score [0.7572], best validation:roc_auc_score [0.7877]\u001b[0m\n",
      "\u001b[35m2022-03-16 02:31:25,075 sagemaker-training-toolkit INFO     Reporting training SUCCESS\u001b[0m\n",
      "\n",
      "2022-03-16 02:31:32 Uploading - Uploading generated training model\n",
      "2022-03-16 02:31:32 Completed - Training job completed\n",
      "Training seconds: 1712\n",
      "Billable seconds: 1712\n"
     ]
    }
   ],
   "source": [
    "training_job_name = \"tr-{}\".format(trial_name) \n",
    "print('Training job name: ', training_job_name)\n",
    "\n",
    "estimator = PyTorch(\n",
    "    entry_point = \"train.py\",\n",
    "    source_dir = \"code\",\n",
    "    role = role,\n",
    "    framework_version = \"1.9.0\",\n",
    "    py_version=\"py38\",\n",
    "    instance_count=2,\n",
    "    instance_type=\"ml.p3.2xlarge\",\n",
    "    debugger_hook_config=False,\n",
    "    disable_profiler=True,\n",
    "    hyperparameters = hyperparameters,\n",
    "    metric_definitions=metric_definitions\n",
    ")\n",
    "\n",
    "estimator.fit({\"data_full\" : input_full, \"data_train\" : input_train, \"data_val\" : input_val}, \n",
    "              job_name = training_job_name,\n",
    "             experiment_config = {\n",
    "                    # \"ExperimentName\"\n",
    "                    \"TrialName\" : trial.trial_name,\n",
    "                    \"TrialComponentDisplayName\" : \"TrainingJob\",\n",
    "                })"
   ]
  },
  {
   "cell_type": "markdown",
   "metadata": {},
   "source": [
    "### Training results :"
   ]
  },
  {
   "cell_type": "markdown",
   "metadata": {},
   "source": [
    "* As you can see with the initial training here we get about 76% AUC value. How the metrics like training loss, validation loss and roc score changed over the time can be viewed on the SageMaker experiements."
   ]
  },
  {
   "cell_type": "markdown",
   "metadata": {},
   "source": [
    "Before, we deploy the model to an endpoint, let's see the where the model trained arffacts are stored in S3.\n"
   ]
  },
  {
   "cell_type": "code",
   "execution_count": 51,
   "metadata": {},
   "outputs": [
    {
     "name": "stdout",
     "output_type": "stream",
     "text": [
      "Stored s3://sagemaker-us-west-2-431678540810/tr-hiv-inhibitor-prediction-trainning-GCN-p-03-16-2022-02-15-29/output/model.tar.gz as model_data\n"
     ]
    }
   ],
   "source": [
    "#model_data='s3://sagemaker-us-west-2-431678540810/tr-hiv-inhibitor-prediction-trainning-GCN-p-02-27-2022-22-25-51/output/model.tar.gz'\n",
    "model_data = estimator.model_data\n",
    "print(\"Stored {} as model_data\".format(model_data))"
   ]
  },
  {
   "cell_type": "markdown",
   "metadata": {},
   "source": [
    "## Deploy the model on Amazon SageMaker\n",
    "After training our model, we host it on an Amazon SageMaker Endpoint. To make the endpoint load the model and serve predictions, we implement a few methods in inference.py.\n",
    "\n",
    "* `model_fn()`: function defined to load the saved model and return a model object that can be used for model serving. The SageMaker PyTorch model server loads our model by invoking model_fn.\n",
    "* `input_fn()`: deserializes and prepares the prediction input. In this example, our request body is first serialized to JSON and within the JSON it expects the `smiles` of the molecules that needs to be predicted. The input of smiles first converts graph using DGL and then add the features to each node using the same featurizer used at the time of training. Then the graph with features is returned by this function which is the requested format by the model. \n",
    "* `predict_fn()`: performs the prediction and returns the result. To deploy our endpoint, we call deploy() on our PyTorch estimator object, passing in our desired number of instances and instance type:"
   ]
  },
  {
   "cell_type": "code",
   "execution_count": 52,
   "metadata": {},
   "outputs": [
    {
     "name": "stdout",
     "output_type": "stream",
     "text": [
      "Endpoint name:  HIV-Inhibitor-Prediction-EP-03-16-2022-02-31-55\n"
     ]
    }
   ],
   "source": [
    "from sagemaker.pytorch import PyTorchModel\n",
    "\n",
    "endpoint_name = \"HIV-Inhibitor-Prediction-EP-{}\".format(time.strftime(\"%m-%d-%Y-%H-%M-%S\"))\n",
    "print(\"Endpoint name: \", endpoint_name)\n",
    "\n",
    "model = PyTorchModel(model_data=model_data, source_dir='code',\n",
    "                        entry_point='inference.py', role=role, framework_version=\"1.9.0\", py_version='py38')\n",
    "\n"
   ]
  },
  {
   "cell_type": "code",
   "execution_count": 53,
   "metadata": {},
   "outputs": [
    {
     "name": "stderr",
     "output_type": "stream",
     "text": [
      "INFO:sagemaker:Creating model with name: pytorch-inference-2022-03-16-02-31-56-489\n",
      "INFO:sagemaker:Creating endpoint-config with name HIV-Inhibitor-Prediction-EP-03-16-2022-02-31-55\n",
      "INFO:sagemaker:Creating endpoint with name HIV-Inhibitor-Prediction-EP-03-16-2022-02-31-55\n"
     ]
    },
    {
     "name": "stdout",
     "output_type": "stream",
     "text": [
      "------!"
     ]
    }
   ],
   "source": [
    "predictor = model.deploy(initial_instance_count=1, instance_type=\"ml.c5.xlarge\", endpoint_name=endpoint_name)"
   ]
  },
  {
   "cell_type": "markdown",
   "metadata": {},
   "source": [
    "## Predicting test_set with the endpoint :\n",
    "\n",
    "As our newly created endpoint expects the smiles as the input let's get the all the smiles of the test_set. We can use followng function for that."
   ]
  },
  {
   "cell_type": "code",
   "execution_count": 54,
   "metadata": {},
   "outputs": [],
   "source": [
    "def collate_molgraphs(data):\n",
    "    \"\"\"Batching a list of datapoints for dataloader.\n",
    "    Parameters\n",
    "    ----------\n",
    "    data : list of 4-tuples.\n",
    "        Each tuple is for a single datapoint, consisting of\n",
    "        a SMILES, a DGLGraph, all-task labels and optionally a binary\n",
    "        mask indicating the existence of labels.\n",
    "    Returns\n",
    "    -------\n",
    "    smiles : list\n",
    "        List of smiles\n",
    "    bg : DGLGraph\n",
    "        The batched DGLGraph.\n",
    "    labels : Tensor of dtype float32 and shape (B, T)\n",
    "        Batched datapoint labels. B is len(data) and\n",
    "        T is the number of total tasks.\n",
    "    masks : Tensor of dtype float32 and shape (B, T)\n",
    "        Batched datapoint binary mask, indicating the\n",
    "        existence of labels.\n",
    "    \"\"\"\n",
    "\n",
    "    smiles, graphs, labels, masks = map(list, zip(*data))\n",
    "    \n",
    "    bg = dgl.batch(graphs)\n",
    "    bg.set_n_initializer(dgl.init.zero_initializer)\n",
    "    bg.set_e_initializer(dgl.init.zero_initializer)\n",
    "    labels = torch.stack(labels, dim=0)\n",
    "    masks = torch.stack(masks, dim=0)\n",
    "\n",
    "    return smiles, bg, labels, masks"
   ]
  },
  {
   "cell_type": "markdown",
   "metadata": {},
   "source": [
    "Using that function let's get all the smiles in the test set."
   ]
  },
  {
   "cell_type": "code",
   "execution_count": 55,
   "metadata": {},
   "outputs": [],
   "source": [
    "test_smiles, bg, test_labels, masks = collate_molgraphs(test_set)"
   ]
  },
  {
   "cell_type": "markdown",
   "metadata": {},
   "source": [
    "### Predicting for a single molecule :\n",
    "\n",
    "Let's use single molecule from the test set and predict the probability of its beeing and inhibitor using the newly created endpoint above. Here is a randomly selected molecule. "
   ]
  },
  {
   "cell_type": "code",
   "execution_count": 56,
   "metadata": {},
   "outputs": [
    {
     "data": {
      "image/png": "[encoded data removed]",
      "text/plain": [
       "<rdkit.Chem.rdchem.Mol at 0x7fcfd50851c0>"
      ]
     },
     "execution_count": 56,
     "metadata": {},
     "output_type": "execute_result"
    }
   ],
   "source": [
    "mol = Chem.MolFromSmiles(test_smiles[110])\n",
    "mol"
   ]
  },
  {
   "cell_type": "markdown",
   "metadata": {},
   "source": [
    "Let's send this molecule data as JSON format to the endpoint and get the results."
   ]
  },
  {
   "cell_type": "code",
   "execution_count": 57,
   "metadata": {},
   "outputs": [],
   "source": [
    "from sagemaker.predictor import Predictor\n",
    "\n",
    "predictor = Predictor(endpoint_name=endpoint_name)\n",
    "\n",
    "predictor.serializer = sagemaker.serializers.JSONSerializer()\n",
    "predictor.deserializer = sagemaker.deserializers.JSONDeserializer()"
   ]
  },
  {
   "cell_type": "code",
   "execution_count": 58,
   "metadata": {},
   "outputs": [
    {
     "data": {
      "text/plain": [
       "[-4.612298011779785]"
      ]
     },
     "execution_count": 58,
     "metadata": {},
     "output_type": "execute_result"
    }
   ],
   "source": [
    "json = {\n",
    "    \"smiles\" : \n",
    "        [test_smiles[110]]\n",
    "}\n",
    "\n",
    "prediction_logits = predictor.predict(json)\n",
    "prediction_logits"
   ]
  },
  {
   "cell_type": "markdown",
   "metadata": {},
   "source": [
    "This had returned the logit value of above molecule beeing considered as an inhibitor."
   ]
  },
  {
   "cell_type": "markdown",
   "metadata": {},
   "source": [
    "### Predicting for a for whole test_set :\n"
   ]
  },
  {
   "cell_type": "code",
   "execution_count": 59,
   "metadata": {},
   "outputs": [],
   "source": [
    "json = {\n",
    "    \"smiles\" : \n",
    "        test_smiles\n",
    "}\n",
    "\n",
    "prediction_logits = predictor.predict(json)"
   ]
  },
  {
   "cell_type": "markdown",
   "metadata": {},
   "source": [
    "### Examine the test results "
   ]
  },
  {
   "cell_type": "code",
   "execution_count": 61,
   "metadata": {},
   "outputs": [
    {
     "data": {
      "text/plain": [
       "0.7742636976380387"
      ]
     },
     "execution_count": 61,
     "metadata": {},
     "output_type": "execute_result"
    }
   ],
   "source": [
    "from sklearn.metrics import roc_curve, roc_auc_score\n",
    "import matplotlib.pyplot as plt \n",
    "\n",
    "roc_auc_score(test_labels[:,0].numpy(), np.asarray(prediction_logits))"
   ]
  },
  {
   "cell_type": "markdown",
   "metadata": {},
   "source": [
    "* We get the ROC/AUC score for test set with the initial model aroinf 0.75.\n",
    "* Below is the ROC Curve"
   ]
  },
  {
   "cell_type": "code",
   "execution_count": 63,
   "metadata": {},
   "outputs": [
    {
     "data": {
      "image/png": "[encoded data removed]",
      "text/plain": [
       "<Figure size 432x288 with 1 Axes>"
      ]
     },
     "metadata": {
      "needs_background": "light"
     },
     "output_type": "display_data"
    }
   ],
   "source": [
    "fpr, tpr, _ = roc_curve(test_labels[:,0].numpy(), np.asarray(prediction_logits))\n",
    "\n",
    "plt.plot(fpr, tpr)\n",
    "plt.title(\"ROC Plot\")\n",
    "plt.xlabel(\"False Positive Rate\")\n",
    "plt.ylabel(\"True Positive Rate\")\n",
    "plt.show()"
   ]
  },
  {
   "cell_type": "markdown",
   "metadata": {},
   "source": [
    "## Hyper parameter tunning \n",
    "\n",
    "So far we have trained a single model with fixed hyper parameters. Nest lets try to further optimize the model by traying out different hyper parameters. We can use Amazon SageMaker Hyper parameter tunner for this purpose."
   ]
  },
  {
   "cell_type": "code",
   "execution_count": null,
   "metadata": {},
   "outputs": [
    {
     "name": "stdout",
     "output_type": "stream",
     "text": [
      "Training job name:  hpo-hiv-gcn-p-03-16-07-45-12\n"
     ]
    },
    {
     "name": "stderr",
     "output_type": "stream",
     "text": [
      "INFO:sagemaker:Creating hyperparameter tuning job with name: hpo-hiv-gcn-p-03-16-07-45-12\n"
     ]
    },
    {
     "name": "stdout",
     "output_type": "stream",
     "text": [
      "......................."
     ]
    }
   ],
   "source": [
    "from sagemaker.tuner import (\n",
    "    IntegerParameter,\n",
    "    CategoricalParameter,\n",
    "    ContinuousParameter,\n",
    "    HyperparameterTuner,\n",
    ")\n",
    "gcn_hyperparameter_ranges = {\n",
    "    \n",
    "    \"gnn-dropout\": ContinuousParameter(0.001 , 0.003),\n",
    "    \"gnn-predictor-hidden-feats\" : CategoricalParameter([128, 256, 512]),\n",
    "    \n",
    "    \"batch-size\" :  CategoricalParameter([256, 512]),\n",
    "    \"learning-rate\" : ContinuousParameter(0.0001, 0.001),\n",
    "    \"weight-decay\" : ContinuousParameter(0.001, 0.01)\n",
    "    \n",
    "}\n",
    "\n",
    "objective_metric_name = \"best validation:roc_auc_score\"\n",
    "\n",
    "gcn_estimator = PyTorch(\n",
    "    entry_point = \"train.py\",\n",
    "    source_dir = \"code\",\n",
    "    role = role,\n",
    "    framework_version = \"1.9.0\",\n",
    "    py_version=\"py38\",\n",
    "    instance_count=2,\n",
    "    instance_type=\"ml.g4dn.4xlarge\",\n",
    "    debugger_hook_config=False,\n",
    "    disable_profiler=True\n",
    ")\n",
    "\n",
    "gcn_tuner = HyperparameterTuner(\n",
    "    gcn_estimator,\n",
    "    objective_metric_name,\n",
    "    gcn_hyperparameter_ranges,\n",
    "    metric_definitions,\n",
    "    max_jobs=6,\n",
    "    max_parallel_jobs=2\n",
    ")\n",
    "\n",
    "hyper_parameter_job_name = \"hpo-hiv-gcn-p-{}\".format(time.strftime(\"%m-%d-%H-%M-%S\")) \n",
    "print('Training job name: ', hyper_parameter_job_name)\n",
    "\n",
    "gcn_tuner.fit({\"data_full\" : input_full, \"data_train\" : input_train, \"data_val\" : input_val}, job_name = hyper_parameter_job_name)\n"
   ]
  },
  {
   "cell_type": "code",
   "execution_count": 404,
   "metadata": {},
   "outputs": [],
   "source": [
    "# if the notebook lost it's connection, you can attach the tunner job by attaching the name below.\n",
    "#gcn_tuner = HyperparameterTuner.attach(\"hpo-hiv-gcn-p-03-16-02-38-07\")\n"
   ]
  },
  {
   "cell_type": "markdown",
   "metadata": {},
   "source": [
    "Let's examine the best model and it's hyper parameters."
   ]
  },
  {
   "cell_type": "code",
   "execution_count": null,
   "metadata": {},
   "outputs": [],
   "source": [
    "import boto3\n",
    "\n",
    "smclient = boto3.client(\"sagemaker\")\n",
    "\n",
    "best_overall_training_job = smclient.describe_hyper_parameter_tuning_job(\n",
    "    HyperParameterTuningJobName=hyper_parameter_job_name\n",
    ")\n",
    "\n",
    "best_overall_training_job[\"BestTrainingJob\"]"
   ]
  },
  {
   "cell_type": "code",
   "execution_count": null,
   "metadata": {},
   "outputs": [],
   "source": [
    "best_gcn_training_job = sagemaker.estimator.Estimator.attach(best_overall_training_job[\"BestTrainingJob\"][\"TrainingJobName\"])"
   ]
  },
  {
   "cell_type": "code",
   "execution_count": 420,
   "metadata": {},
   "outputs": [
    {
     "name": "stderr",
     "output_type": "stream",
     "text": [
      "INFO:sagemaker:Creating model with name: pytorch-inference-2022-03-16-07-40-28-072\n",
      "INFO:sagemaker:Creating endpoint with name best-gcn-HIV-Inhibitor-Prediction-EP-03-16-2022-01-45-35\n"
     ]
    },
    {
     "name": "stdout",
     "output_type": "stream",
     "text": [
      "------!"
     ]
    }
   ],
   "source": [
    "best_gcn_model = PyTorchModel(model_data=best_gcn_training_job.model_data, source_dir='code',\n",
    "                        entry_point='inference.py', role=role, framework_version=\"1.9.0\", py_version='py38')\n",
    "\n",
    "best_gcn_predictor = best_gcn_model.deploy(initial_instance_count=1, instance_type=\"ml.c5.xlarge\", endpoint_name=\"best-gcn-\" + endpoint_name)"
   ]
  },
  {
   "cell_type": "code",
   "execution_count": 421,
   "metadata": {},
   "outputs": [
    {
     "data": {
      "text/plain": [
       "0.7665540083817763"
      ]
     },
     "execution_count": 421,
     "metadata": {},
     "output_type": "execute_result"
    }
   ],
   "source": [
    "best_gcn_predictor.serializer = sagemaker.serializers.JSONSerializer()\n",
    "best_gcn_predictor.deserializer = sagemaker.deserializers.JSONDeserializer()\n",
    "\n",
    "json = {\n",
    "    \"smiles\" : \n",
    "        test_smiles\n",
    "}\n",
    "\n",
    "prediction_logits = best_gcn_predictor.predict(json)\n",
    "roc_auc_score(test_labels[:,0].numpy(), np.asarray(prediction_logits))"
   ]
  },
  {
   "cell_type": "markdown",
   "metadata": {},
   "source": [
    "## Clean up "
   ]
  },
  {
   "cell_type": "code",
   "execution_count": null,
   "metadata": {},
   "outputs": [],
   "source": [
    "best_gcn_predictor.delete_endpoint()"
   ]
  },
  {
   "cell_type": "code",
   "execution_count": null,
   "metadata": {},
   "outputs": [],
   "source": [
    "predictor.delete_endpoint()"
   ]
  }
 ],
 "metadata": {
  "instance_type": "ml.g4dn.xlarge",
  "kernelspec": {
   "display_name": "Python 3 (PyTorch 1.8 Python 3.6 GPU Optimized)",
   "language": "python",
   "name": "python3__SAGEMAKER_INTERNAL__arn:aws:sagemaker:us-west-2:236514542706:image/pytorch-1.8-gpu-py36"
  },
  "language_info": {
   "codemirror_mode": {
    "name": "ipython",
    "version": 3
   },
   "file_extension": ".py",
   "mimetype": "text/x-python",
   "name": "python",
   "nbconvert_exporter": "python",
   "pygments_lexer": "ipython3",
   "version": "3.6.13"
  }
 },
 "nbformat": 4,
 "nbformat_minor": 4
}
