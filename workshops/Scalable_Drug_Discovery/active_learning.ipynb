{
 "cells": [
  {
   "cell_type": "markdown",
   "id": "a185306d-af9b-482d-9af6-0bfe83df0d00",
   "metadata": {},
   "source": [
    "# Building Scalable Drug Discovery Applications: Active Learning\n",
    "\n",
    "Note: This notebook was last tested on and Amazon SageMaker Studio JupyterLab space on a ml.g4dn.xlarge instance."
   ]
  },
  {
   "cell_type": "markdown",
   "id": "aa7e2c2f",
   "metadata": {},
   "source": [
    "### How can antibody-based drugs help fight disease?\n",
    "\n",
    "Antibody drugs, also known as monoclonal antibodies or immunotherapies, are an important class of medications used to treat various diseases. \n",
    "\n",
    "Examples of diseases treated with antibody drugs include:\n",
    "\n",
    "- Cancer: Drugs like trastuzumab (Herceptin) for HER2-positive breast cancer or pembrolizumab (Keytruda) for various cancers.\n",
    "\n",
    "- Autoimmune disorders: Drugs such as adalimumab (Humira) for rheumatoid arthritis and Crohn's disease.\n",
    "\n",
    "- Infectious diseases: Antibody cocktails for Ebola virus or COVID-19.\n",
    "\n",
    "- Allergic conditions: Omalizumab (Xolair) for severe asthma and chronic hives.\n",
    "\n",
    "- Neurological disorders: Drugs like ocrelizumab (Ocrevus) for multiple sclerosis.\n",
    "\n",
    "Antibody drugs have revolutionized the treatment of many diseases, offering targeted therapies with often fewer side effects than traditional small-molecule drugs.\n",
    "\n",
    "### How can active learning accelerate drug discovery?\n",
    "\n",
    "Research team working on antibody-based drugs may need to generate and test many thousands of candidates before they find one with the best mix of properties. This can be very expensive and take a long time. \n",
    "\n",
    "Active learning is a machine learning technique where the predictive algorithm actively participates in the training data selection process, rather than passively learning from a fixed dataset. The key idea behind active learning is to reduce the amount of labeled training data needed to reach your goal by intelligently picking the right examples.\n",
    "\n",
    "This is very useful when it is very expensive or difficult to generate training data, like in the case of drug development! Let's say we want to predict a property for 100,000 drug candidates. We could test them all, but it would take a while. Instead, we can test a few and use them to train a ML model. We then use the model to predict the property value for all candidates. Finally, we use a strategy to pick a few more samples and repeat until we reach our goal.\n",
    "\n",
    "![Active learning can accelerate DMTL cycles](img/active_learning.png)\n",
    "\n",
    "### What is the goal of this notebook?\n",
    "\n",
    "In this example, we will use active learning to predict a property (\"Factor X\") for a large number of \"nanobody\" molecules. A nanobody is a small antibody fragment derived from camelids like camels and llamas. Nanobodies are much smaller than typical antibodies, allowing them to access targets and bind to regions that larger antibody molecules cannot reach. They are also very stable and can be easily engineered to modify their properties.\n",
    "\n",
    "This workflow generates nanobody molecules based off a commonly-used scaffold, NbBCII10 humanized (FGLA mutant). The generated molecules share the same sequence as the scaffold EXCEPT for three so-called “complementarity determining regions” or CDRs, highlighted in orange below.  These sequence regions are responsible for much of the binding activity of various antibody formats, including nanobodies.\n",
    "\n",
    "![Nanobody compared to an IgG antibody](img/nanobody.png)\n",
    "\n",
    "\n",
    "\n",
    "\n",
    "\n",
    "\n"
   ]
  },
  {
   "cell_type": "markdown",
   "id": "ee4416b4-ced1-4d1e-874d-cdaa4c1a7c3c",
   "metadata": {},
   "source": [
    "---\n",
    "## 1. Setup"
   ]
  },
  {
   "cell_type": "code",
   "execution_count": null,
   "id": "0271bc47-6681-4ee6-a59c-1dc13c0c6a20",
   "metadata": {
    "scrolled": true
   },
   "outputs": [],
   "source": [
    "%pip install -U -r requirements.txt"
   ]
  },
  {
   "cell_type": "code",
   "execution_count": null,
   "id": "a8e04303-0640-45a5-a02c-fd8785d09fa8",
   "metadata": {},
   "outputs": [],
   "source": [
    "import biotite\n",
    "from biotite.structure.io import pdb\n",
    "from biotite.database import rcsb\n",
    "import helpers\n",
    "import warnings\n",
    "\n",
    "warnings.simplefilter(action=\"ignore\", category=FutureWarning)\n",
    "\n",
    "SEQ_GENERATION_SIZE = 50000\n",
    "LAB_SUBMISSION_SIZE = 384"
   ]
  },
  {
   "cell_type": "markdown",
   "id": "6f4a5056-27e3-4bfe-87ac-67c8e0bb66a2",
   "metadata": {},
   "source": [
    "---\n",
    "## 2. View Nanobody sequence and structure\n",
    "\n",
    "Let's download and explore the structure of a nanobody. In this case we'll look at Cablivi (Caplacizumab), the first humanized nanobody-based drug approved by the US FDA in 2019."
   ]
  },
  {
   "cell_type": "code",
   "execution_count": null,
   "id": "4b584896-0e4b-4f24-973d-10a264d07157",
   "metadata": {},
   "outputs": [],
   "source": [
    "pdb_id = \"7eow\"\n",
    "stack = biotite.structure.io.pdb.get_structure(\n",
    "    pdb.PDBFile.read(rcsb.fetch(pdb_id, \"pdb\"))\n",
    ")\n",
    "vf_factor = helpers.clean_structure(stack[0][stack.chain_id == \"A\"])\n",
    "caplacizumab = helpers.clean_structure(stack[0][stack.chain_id == \"B\"])\n",
    "\n",
    "caplacizumab_seq = biotite.structure.to_sequence(caplacizumab)[0][0]\n",
    "cdr1 = list(range(25, 32))\n",
    "cdr2 = list(range(51, 57))\n",
    "cdr3 = list(range(98, 117))\n",
    "cdrs = cdr1 + cdr2 + cdr3\n",
    "cdrs_1_base = [i + 1 for i in cdrs]\n",
    "\n",
    "preserved_regions = [\n",
    "    (0, cdr1[0]),\n",
    "    (cdr1[-1] + 1, cdr2[0]),\n",
    "    (cdr2[-1] + 1, cdr3[0]),\n",
    "    (cdr3[-1] + 1, len(caplacizumab_seq)),\n",
    "]\n",
    "\n",
    "print(caplacizumab_seq)\n",
    "print(helpers.format_cdrs(caplacizumab_seq, cdrs))"
   ]
  },
  {
   "cell_type": "markdown",
   "id": "cd479795",
   "metadata": {},
   "source": [
    "The caplacizumab molecule is shown in blue below. The light-blue regions are the CDRs. These play the largest role in the drugs effect on its target and where we'll focus our attention."
   ]
  },
  {
   "cell_type": "code",
   "execution_count": null,
   "id": "472564b0-a647-4e85-a5d7-9dd38ca572af",
   "metadata": {},
   "outputs": [],
   "source": [
    "import py3Dmol\n",
    "\n",
    "view = py3Dmol.view(width=600, height=600)\n",
    "view.addModel(helpers.to_pdb_string(vf_factor))\n",
    "view.addModel(helpers.to_pdb_string(caplacizumab))\n",
    "view.setStyle({\"chain\": \"A\"}, {\"cartoon\": {\"color\": \"orange\", \"opacity\": 0.6}})\n",
    "view.setStyle({\"chain\": \"B\"}, {\"cartoon\": {\"color\": \"blue\", \"opacity\": 0.6}})\n",
    "view.addStyle(\n",
    "    {\"chain\": \"B\", \"resi\": cdrs_1_base},\n",
    "    {\"cartoon\": {\"color\": \"#57C4F8\", \"opacity\": 1.0}},\n",
    ")\n",
    "view.zoomTo()\n",
    "view.show()"
   ]
  },
  {
   "cell_type": "markdown",
   "id": "58d48644-f8c7-4f36-b073-4bbc94b3589d",
   "metadata": {},
   "source": [
    "---\n",
    "## 3. Generate Sequence Variants\n",
    "\n",
    "![Generate sequence variants using directed evolution](img/gen.png)\n",
    "\n",
    "First, let's change some parts of the caplacizumab CDRs. This is similar to a process that natural antibodies go through in your body, known as affinity maturation. Sometimes researchers will also introduce mutations with chemicals or radiation to try and create new drugs. In our case, we'll create mutants computationally. There are some intelligent ways to do this, but for the sake of simplicity we'll do it randomly."
   ]
  },
  {
   "cell_type": "code",
   "execution_count": null,
   "id": "14174916-db2b-4d77-bfcc-3c493e268b0c",
   "metadata": {},
   "outputs": [],
   "source": [
    "generated_seqs = helpers.random_mutation(\n",
    "    wt_protein=str(caplacizumab_seq),\n",
    "    n_output_seqs=SEQ_GENERATION_SIZE,\n",
    "    preserved_regions=preserved_regions,\n",
    "    max_mutations=10,\n",
    "    annotate_hist=True,\n",
    ")\n",
    "print(f\"Generated {len(generated_seqs)} sequences. Here's a preview:\")\n",
    "n_preview = 10\n",
    "print(caplacizumab_seq)\n",
    "for i in generated_seqs.sample(n_preview).itertuples():\n",
    "    print(helpers.format_cdrs(i.seq, i.mutation, mask=True))"
   ]
  },
  {
   "cell_type": "markdown",
   "id": "daaf057b-c546-443f-b46a-a36cb86a410e",
   "metadata": {},
   "source": [
    "In this case, we have a (secret) way of calculating Factor X values from the amino acid sequence of each mutant. However, in the real world this probably won't be the case. Instead, we'll need to measure it experimentally in a laboratory. Examining ALL of the mutants could be expensive and take a long time. So instead, let's use ML to find the highest-scoring mutants with the smallest amount of lab data."
   ]
  },
  {
   "cell_type": "markdown",
   "id": "d4f7eb2d-b6af-45cc-847a-2c56b7d9d830",
   "metadata": {},
   "source": [
    "---\n",
    "## 4. Select Samples\n",
    "\n",
    "![Identify candidates for lab testing using a selection model](img/select.png)\n",
    "\n",
    "Let's select a few samples and use them to train our model. We don't know much about these mutants yet, so we'll start by picking a few at random."
   ]
  },
  {
   "cell_type": "code",
   "execution_count": null,
   "id": "32cecb03-806d-460e-b988-7948ebc1c0fd",
   "metadata": {},
   "outputs": [],
   "source": [
    "no_lab_data = generated_seqs[generated_seqs[\"lab_result\"].isnull()]\n",
    "selected_seqs = no_lab_data.sample(n=LAB_SUBMISSION_SIZE)\n",
    "selected_seqs"
   ]
  },
  {
   "cell_type": "markdown",
   "id": "98b3386d-6402-4e15-8626-a6e939412f4c",
   "metadata": {},
   "source": [
    "---\n",
    "## 5. Submit to Lab\n",
    "\n",
    "![Submit selected samples for experimental testing](img/lab.png)\n",
    "\n",
    "Next we'll submit them to the lab to test for \"Factor X\". Remember that in the real world this process could take days or even weeks, depending on the test!"
   ]
  },
  {
   "cell_type": "code",
   "execution_count": null,
   "id": "0a5ffd7a-442d-4191-93f0-7ecb31a626eb",
   "metadata": {},
   "outputs": [],
   "source": [
    "lab_results = helpers.submit_seqs_to_lab(selected_seqs[\"seq\"])\n",
    "\n",
    "for result in lab_results.itertuples():\n",
    "    generated_seqs.loc[[result.Index], [\"lab_result\"]] = result.result\n",
    "\n",
    "display(lab_results.sort_values(by=\"result\", ascending=False))"
   ]
  },
  {
   "cell_type": "markdown",
   "id": "d13195cf-e65c-4504-ab57-fe0840f3bace",
   "metadata": {},
   "source": [
    "---\n",
    "## 6. Fine-Tune Scoring Model\n",
    "\n",
    "![Improve the scoring model using experimental results](img/ft.png)\n",
    "\n",
    "Isn't science great? With these results in hand we're ready to train a model. We don't have enough data to train a model with perfect accuracy (yet), but that's ok - our job is to get close enough to identify the best mutants to test next round. In this case, we'll fine-tune a small protein language model that was previously trained to understand common patterns in naturally-occuring protein sequences."
   ]
  },
  {
   "cell_type": "code",
   "execution_count": null,
   "id": "e9f50d1d-9b4f-47fa-8f8b-0172709f23ba",
   "metadata": {
    "scrolled": true
   },
   "outputs": [],
   "source": [
    "scoring_model = helpers.train_scoring_model(\n",
    "    lab_results,\n",
    "    sequence_column=\"seq\",\n",
    "    results_column=\"result\",\n",
    "    epochs=3,\n",
    "    model_name_or_path=\"facebook/esm2_t12_35M_UR50D\",\n",
    ")"
   ]
  },
  {
   "cell_type": "markdown",
   "id": "9235eccc-e4e8-4db1-98b1-78a5968903bc",
   "metadata": {},
   "source": [
    "---\n",
    "## 7. Score Samples\n",
    "\n",
    "![Predict high-performing variants using a scoring model](img/score.png)\n",
    "\n",
    "Finally, we use our newly-trained model to predict the value of \"Factor X\" for all of our samples. This will give us a better idea of our mutants and help us pick another batch for lab testing."
   ]
  },
  {
   "cell_type": "code",
   "execution_count": null,
   "id": "7be88ac0-9df9-4778-9b33-8dcd888317c5",
   "metadata": {},
   "outputs": [],
   "source": [
    "predictions = helpers.run_scoring_model(generated_seqs, batch_size=1024)\n",
    "generated_seqs[\"last_prediction\"] = predictions\n",
    "display(generated_seqs.sort_values(by=\"lab_result\", ascending=False)[:5])"
   ]
  },
  {
   "cell_type": "markdown",
   "id": "1228763e-4475-4f89-9713-65f0c889e579",
   "metadata": {},
   "source": [
    "---\n",
    "## 8. Put it all together!\n",
    "\n",
    "Now let's try a few cycles. Feel free to modify the parameters below as you see fit. Remember that our goal is to find the mutant with the largest value of \"Factor X\", not necessarily to end up with the most accurate model."
   ]
  },
  {
   "cell_type": "code",
   "execution_count": null,
   "id": "0fd37a8b-5e37-4847-b57f-1c116956f946",
   "metadata": {},
   "outputs": [],
   "source": [
    "SEQ_GENERATION_SIZE = 50000\n",
    "MAX_MUTATIONS = 10\n",
    "N_REPS = 3\n",
    "LAB_SUBMISSION_SIZE = 384\n",
    "MODEL_ID = \"facebook/esm2_t12_35M_UR50D\"\n",
    "# MODEL_ID = \"facebook/esm2_t30_150M_UR50D\"\n",
    "# MODEL_ID = \"facebook/esm2_t33_650M_UR50D\""
   ]
  },
  {
   "cell_type": "code",
   "execution_count": null,
   "id": "3b92671b-121f-4290-bffd-b628c221153b",
   "metadata": {},
   "outputs": [],
   "source": [
    "#################################\n",
    "# Generate\n",
    "#################################\n",
    "print(f\"Generating {SEQ_GENERATION_SIZE} random variants\")\n",
    "generated_seqs = helpers.random_mutation(\n",
    "    wt_protein=str(caplacizumab_seq),\n",
    "    n_output_seqs=SEQ_GENERATION_SIZE,\n",
    "    preserved_regions=preserved_regions,\n",
    "    max_mutations=MAX_MUTATIONS,\n",
    ")\n",
    "\n",
    "for rep in range(N_REPS):\n",
    "\n",
    "    #################################\n",
    "    # Select Samples for Lab Analysis\n",
    "    ################################\n",
    "\n",
    "    print(\"#\" * 79 + \"\\n\" + f\"Starting rep {rep+1} of {N_REPS}\" + \"\\n\" + \"#\" * 79)\n",
    "    no_lab_data = generated_seqs[generated_seqs[\"lab_result\"].isnull()]\n",
    "    if rep == 0:\n",
    "        print(\n",
    "            f\"{rep+1}: Selecting a batch of {LAB_SUBMISSION_SIZE} samples without lab data\"\n",
    "        )\n",
    "        selected_seqs = no_lab_data.sample(n=LAB_SUBMISSION_SIZE)\n",
    "    else:\n",
    "        print(\n",
    "            f\"{rep+1}: Selecting batch of the highest-scoring {LAB_SUBMISSION_SIZE} samples without lab data\"\n",
    "        )\n",
    "        no_lab_data = no_lab_data.sort_values(by=\"last_prediction\", ascending=False)\n",
    "        selected_seqs = no_lab_data.sample(n=LAB_SUBMISSION_SIZE)\n",
    "\n",
    "    #################################\n",
    "    # Submit to Lab\n",
    "    #################################\n",
    "\n",
    "    print(f\"{rep+1}: Submitting samples for lab analysis\")\n",
    "    lab_results = helpers.submit_seqs_to_lab(\n",
    "        selected_seqs[\"seq\"], delay=0.01, intro=True\n",
    "    )\n",
    "\n",
    "    for result in lab_results.itertuples():\n",
    "        generated_seqs.loc[[result.Index], [\"lab_result\"]] = result.result\n",
    "\n",
    "    # Skip the fine-tuning and scoring during the last round\n",
    "    if rep + 1 < N_REPS:\n",
    "\n",
    "        #################################\n",
    "        # Fine-Tune on Lab Results\n",
    "        #################################\n",
    "\n",
    "        print(f\"\\n{rep+1}: Training scoring model on lab results\")\n",
    "        scoring_model = helpers.train_scoring_model(\n",
    "            lab_results,\n",
    "            sequence_column=\"seq\",\n",
    "            results_column=\"result\",\n",
    "            epochs=1,\n",
    "            model_name_or_path=MODEL_ID if rep == 0 else \"output\",\n",
    "        )\n",
    "\n",
    "        #################################\n",
    "        # Score all Generated Samples\n",
    "        #################################\n",
    "\n",
    "        print(f\"\\n{rep+1}: Using model to score all {SEQ_GENERATION_SIZE} sequences\")\n",
    "        predictions = helpers.run_scoring_model(generated_seqs, batch_size=1024)\n",
    "        generated_seqs[\"last_prediction\"] = predictions\n",
    "\n",
    "    print(f\"\\n{rep+1}: Top-5 candidates so far\")\n",
    "    top_5 = generated_seqs.sort_values(by=\"lab_result\", ascending=False)[:5]\n",
    "    display(top_5)"
   ]
  },
  {
   "cell_type": "code",
   "execution_count": null,
   "id": "c960a3d9-f11a-4f20-a2ad-6f070b3947dd",
   "metadata": {},
   "outputs": [],
   "source": [
    "print(\n",
    "    str(0.39971).rjust(5)\n",
    "    + \"\\t\"\n",
    "    + helpers.format_cdrs(str(caplacizumab_seq), cdrs, mask=False)\n",
    ")\n",
    "for i in top_5.itertuples():\n",
    "    print(\n",
    "        str(round(i.lab_result, 5)).rjust(5)\n",
    "        + \"\\t\"\n",
    "        + helpers.format_cdrs(i.seq, i.mutation, mask=True)\n",
    "    )"
   ]
  },
  {
   "cell_type": "markdown",
   "id": "6c8b97be-f805-46cb-a39c-7e36ff88b4da",
   "metadata": {},
   "source": [
    "## 10. Your turn\n",
    "\n",
    "Feel free to keep experimenting. Some things to try:\n",
    "\n",
    "- Fine-tune one of the  the larger pre-trained models, like `esm2_t30_150M_UR50D` or `esm2_t33_650M_UR50D`\n",
    "- Randomly generate more or fewer sequences\n",
    "- Increase the number of possible mutations (as high as 30)\n",
    "- Try generating a batch of variants, identifying the highest-scoring ones, then generating more variants from those! This method, called \"directed evolution\", can be a powerful technique for rapidly producing sequences with a desired property.\n"
   ]
  },
  {
   "cell_type": "code",
   "execution_count": null,
   "id": "17c82691-1ea0-4a92-a1b7-7931e134f649",
   "metadata": {},
   "outputs": [],
   "source": []
  }
 ],
 "metadata": {
  "kernelspec": {
   "display_name": "Python 3 (ipykernel)",
   "language": "python",
   "name": "python3"
  },
  "language_info": {
   "codemirror_mode": {
    "name": "ipython",
    "version": 3
   },
   "file_extension": ".py",
   "mimetype": "text/x-python",
   "name": "python",
   "nbconvert_exporter": "python",
   "pygments_lexer": "ipython3",
   "version": "3.11.10"
  }
 },
 "nbformat": 4,
 "nbformat_minor": 5
}
