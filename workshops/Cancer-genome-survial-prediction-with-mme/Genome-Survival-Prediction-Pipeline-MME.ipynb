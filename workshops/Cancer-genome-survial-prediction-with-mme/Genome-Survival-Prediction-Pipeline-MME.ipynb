{
 "cells": [
  {
   "cell_type": "markdown",
   "id": "047f447e-65ae-450e-bc88-2b9f32a28e65",
   "metadata": {},
   "source": [
    "# Build and Deploy Models Leveraging Cancer Gene Expression Data With SageMaker Pipelines and SageMaker Multi-Model Endpoints"
   ]
  },
  {
   "cell_type": "markdown",
   "id": "9e9ea171-e1c5-4877-a71d-4adeac97b89e",
   "metadata": {},
   "source": [
    "This notebook explains:\n",
    "\n",
    "* How SageMaker Pipelines can be leveraged for building multiple models for gene group.\n",
    "\n",
    "* How to deploy the those multiple models with SageMaker Multi-Model Endpoints.\n",
    "\n",
    "* How to query the models, specifying which model type associated with the perticualr gene group to retrieve predictions from."
   ]
  },
  {
   "cell_type": "markdown",
   "id": "c35229f4-8293-4fc2-99fc-75aba6aa1735",
   "metadata": {},
   "source": [
    "Before we begin lets verify SageMaker version"
   ]
  },
  {
   "cell_type": "code",
   "execution_count": 2,
   "id": "cdf9dfab-fc7f-438c-9212-49d299274320",
   "metadata": {},
   "outputs": [
    {
     "data": {
      "text/plain": [
       "'2.109.0'"
      ]
     },
     "execution_count": 2,
     "metadata": {},
     "output_type": "execute_result"
    }
   ],
   "source": [
    "import sagemaker\n",
    "sagemaker.__version__"
   ]
  },
  {
   "cell_type": "code",
   "execution_count": 3,
   "id": "445a345a-cf12-47e9-9ffe-9490309ad20a",
   "metadata": {},
   "outputs": [
    {
     "name": "stdout",
     "output_type": "stream",
     "text": [
      "\u001b[33mWARNING: Running pip as the 'root' user can result in broken permissions and conflicting behaviour with the system package manager. It is recommended to use a virtual environment instead: https://pip.pypa.io/warnings/venv\u001b[0m\u001b[33m\n",
      "\u001b[0m"
     ]
    }
   ],
   "source": [
    "!pip install --upgrade --quiet sagemaker"
   ]
  },
  {
   "cell_type": "markdown",
   "id": "f97fd49d-5a55-4246-a7b5-edaa09b357e5",
   "metadata": {},
   "source": [
    "* Please restart the kernel after the sagemaker update. You can do that by following the options on the menu Kernel->Restart Kernel.\n",
    "* After restarting execute the from below. Make sure that the version of the sagemaker is updated '>=2.94.0'."
   ]
  },
  {
   "cell_type": "code",
   "execution_count": 4,
   "id": "22d4d10f-725b-4b3a-b52c-900ed7a2c8bb",
   "metadata": {},
   "outputs": [
    {
     "data": {
      "text/plain": [
       "'2.109.0'"
      ]
     },
     "execution_count": 4,
     "metadata": {},
     "output_type": "execute_result"
    }
   ],
   "source": [
    "import sagemaker\n",
    "sagemaker.__version__"
   ]
  },
  {
   "cell_type": "markdown",
   "id": "a2e8125b-bd7d-4be7-877b-58c8e5445849",
   "metadata": {},
   "source": [
    "Then let's import rest of the packages needed."
   ]
  },
  {
   "cell_type": "code",
   "execution_count": 5,
   "id": "1925c3c0-3193-4536-8e8d-f51e2d80e2cd",
   "metadata": {},
   "outputs": [],
   "source": [
    "import time\n",
    "import pandas as pd\n",
    "import numpy as np\n",
    "from sklearn.preprocessing import StandardScaler, MinMaxScaler\n",
    "from sklearn.model_selection import train_test_split\n",
    "from sagemaker import get_execution_role\n",
    "\n",
    "from sagemaker.multidatamodel import MultiDataModel\n",
    "\n",
    "from sagemaker.pytorch import PyTorch\n",
    "from sagemaker.pytorch.model import PyTorchModel\n",
    "\n",
    "from sagemaker.workflow.pipeline_context import PipelineSession\n",
    "from sagemaker.workflow.fail_step import FailStep\n",
    "from sagemaker.workflow.functions import Join\n",
    "from sagemaker.model_metrics import MetricsSource, ModelMetrics\n",
    "from sagemaker.workflow.functions import Join\n",
    "from sagemaker.workflow.model_step import ModelStep\n",
    "from sagemaker.workflow.conditions import ConditionLessThanOrEqualTo\n",
    "from sagemaker.workflow.condition_step import ConditionStep\n",
    "from sagemaker.workflow.functions import JsonGet\n",
    "\n",
    "from sagemaker.predictor import Predictor"
   ]
  },
  {
   "cell_type": "markdown",
   "id": "ce9b88dd-56db-4c23-baa3-6ae83fc8aa90",
   "metadata": {},
   "source": [
    "### Read the data \n",
    "\n",
    "Data related to the project is available in the data folder. Lets read them and do some explorations."
   ]
  },
  {
   "cell_type": "code",
   "execution_count": 7,
   "id": "0cf392c9-76d1-4db1-ad4a-2c85083c6c48",
   "metadata": {},
   "outputs": [
    {
     "data": {
      "text/html": [
       "<div>\n",
       "<style scoped>\n",
       "    .dataframe tbody tr th:only-of-type {\n",
       "        vertical-align: middle;\n",
       "    }\n",
       "\n",
       "    .dataframe tbody tr th {\n",
       "        vertical-align: top;\n",
       "    }\n",
       "\n",
       "    .dataframe thead th {\n",
       "        text-align: right;\n",
       "    }\n",
       "</style>\n",
       "<table border=\"1\" class=\"dataframe\">\n",
       "  <thead>\n",
       "    <tr style=\"text-align: right;\">\n",
       "      <th></th>\n",
       "      <th>Case_ID</th>\n",
       "      <th>LRIG1</th>\n",
       "      <th>HPGD</th>\n",
       "      <th>GDF15</th>\n",
       "      <th>CDH2</th>\n",
       "      <th>POSTN</th>\n",
       "      <th>VCAN</th>\n",
       "      <th>PDGFRA</th>\n",
       "      <th>VCAM1</th>\n",
       "      <th>CD44</th>\n",
       "      <th>...</th>\n",
       "      <th>CD37</th>\n",
       "      <th>VIM</th>\n",
       "      <th>LMO2</th>\n",
       "      <th>EGR2</th>\n",
       "      <th>BGN</th>\n",
       "      <th>COL4A1</th>\n",
       "      <th>COL5A1</th>\n",
       "      <th>COL5A2</th>\n",
       "      <th>SurvivalStatus</th>\n",
       "      <th>PathologicalMstage</th>\n",
       "    </tr>\n",
       "  </thead>\n",
       "  <tbody>\n",
       "    <tr>\n",
       "      <th>0</th>\n",
       "      <td>R01-005</td>\n",
       "      <td>25.438505</td>\n",
       "      <td>2.434890</td>\n",
       "      <td>4.83280</td>\n",
       "      <td>0.000000</td>\n",
       "      <td>14.80001</td>\n",
       "      <td>13.816834</td>\n",
       "      <td>3.791663</td>\n",
       "      <td>3.903575</td>\n",
       "      <td>44.62658</td>\n",
       "      <td>...</td>\n",
       "      <td>1.590920</td>\n",
       "      <td>70.972300</td>\n",
       "      <td>0.00000</td>\n",
       "      <td>0.000000</td>\n",
       "      <td>6.22329</td>\n",
       "      <td>3.268430</td>\n",
       "      <td>9.394910</td>\n",
       "      <td>11.402356</td>\n",
       "      <td>1</td>\n",
       "      <td>0</td>\n",
       "    </tr>\n",
       "    <tr>\n",
       "      <th>1</th>\n",
       "      <td>R01-012</td>\n",
       "      <td>23.192370</td>\n",
       "      <td>8.997890</td>\n",
       "      <td>43.86000</td>\n",
       "      <td>2.576560</td>\n",
       "      <td>57.67060</td>\n",
       "      <td>22.893300</td>\n",
       "      <td>6.526380</td>\n",
       "      <td>8.768820</td>\n",
       "      <td>32.54150</td>\n",
       "      <td>...</td>\n",
       "      <td>6.934750</td>\n",
       "      <td>158.976000</td>\n",
       "      <td>3.14894</td>\n",
       "      <td>2.828400</td>\n",
       "      <td>28.85350</td>\n",
       "      <td>22.221980</td>\n",
       "      <td>12.066000</td>\n",
       "      <td>22.500950</td>\n",
       "      <td>0</td>\n",
       "      <td>0</td>\n",
       "    </tr>\n",
       "    <tr>\n",
       "      <th>2</th>\n",
       "      <td>R01-013</td>\n",
       "      <td>77.553001</td>\n",
       "      <td>190.529190</td>\n",
       "      <td>7.76279</td>\n",
       "      <td>0.000000</td>\n",
       "      <td>11.79248</td>\n",
       "      <td>26.137328</td>\n",
       "      <td>6.983622</td>\n",
       "      <td>3.591960</td>\n",
       "      <td>152.81587</td>\n",
       "      <td>...</td>\n",
       "      <td>5.048800</td>\n",
       "      <td>115.247000</td>\n",
       "      <td>2.26644</td>\n",
       "      <td>3.317050</td>\n",
       "      <td>5.77029</td>\n",
       "      <td>5.490720</td>\n",
       "      <td>7.749760</td>\n",
       "      <td>3.532330</td>\n",
       "      <td>0</td>\n",
       "      <td>0</td>\n",
       "    </tr>\n",
       "    <tr>\n",
       "      <th>3</th>\n",
       "      <td>R01-014</td>\n",
       "      <td>63.164522</td>\n",
       "      <td>21.455770</td>\n",
       "      <td>16.58980</td>\n",
       "      <td>0.000000</td>\n",
       "      <td>20.94288</td>\n",
       "      <td>7.123850</td>\n",
       "      <td>18.156200</td>\n",
       "      <td>2.076650</td>\n",
       "      <td>57.05985</td>\n",
       "      <td>...</td>\n",
       "      <td>4.651934</td>\n",
       "      <td>101.178000</td>\n",
       "      <td>1.32881</td>\n",
       "      <td>1.462162</td>\n",
       "      <td>21.01470</td>\n",
       "      <td>6.839590</td>\n",
       "      <td>2.572220</td>\n",
       "      <td>36.834306</td>\n",
       "      <td>0</td>\n",
       "      <td>0</td>\n",
       "    </tr>\n",
       "    <tr>\n",
       "      <th>4</th>\n",
       "      <td>R01-017</td>\n",
       "      <td>82.543949</td>\n",
       "      <td>66.726003</td>\n",
       "      <td>15.27520</td>\n",
       "      <td>1.817656</td>\n",
       "      <td>17.53631</td>\n",
       "      <td>5.260631</td>\n",
       "      <td>7.652980</td>\n",
       "      <td>2.341880</td>\n",
       "      <td>227.60731</td>\n",
       "      <td>...</td>\n",
       "      <td>2.631933</td>\n",
       "      <td>206.286100</td>\n",
       "      <td>1.39513</td>\n",
       "      <td>1.568070</td>\n",
       "      <td>21.19790</td>\n",
       "      <td>16.872651</td>\n",
       "      <td>4.875322</td>\n",
       "      <td>9.060370</td>\n",
       "      <td>1</td>\n",
       "      <td>0</td>\n",
       "    </tr>\n",
       "    <tr>\n",
       "      <th>...</th>\n",
       "      <td>...</td>\n",
       "      <td>...</td>\n",
       "      <td>...</td>\n",
       "      <td>...</td>\n",
       "      <td>...</td>\n",
       "      <td>...</td>\n",
       "      <td>...</td>\n",
       "      <td>...</td>\n",
       "      <td>...</td>\n",
       "      <td>...</td>\n",
       "      <td>...</td>\n",
       "      <td>...</td>\n",
       "      <td>...</td>\n",
       "      <td>...</td>\n",
       "      <td>...</td>\n",
       "      <td>...</td>\n",
       "      <td>...</td>\n",
       "      <td>...</td>\n",
       "      <td>...</td>\n",
       "      <td>...</td>\n",
       "      <td>...</td>\n",
       "    </tr>\n",
       "    <tr>\n",
       "      <th>114</th>\n",
       "      <td>R01-156</td>\n",
       "      <td>23.141790</td>\n",
       "      <td>8.542742</td>\n",
       "      <td>0.00000</td>\n",
       "      <td>0.684995</td>\n",
       "      <td>119.58400</td>\n",
       "      <td>25.027800</td>\n",
       "      <td>3.129100</td>\n",
       "      <td>2.322870</td>\n",
       "      <td>143.23510</td>\n",
       "      <td>...</td>\n",
       "      <td>4.717760</td>\n",
       "      <td>58.163200</td>\n",
       "      <td>2.62162</td>\n",
       "      <td>0.976505</td>\n",
       "      <td>27.42970</td>\n",
       "      <td>29.316800</td>\n",
       "      <td>35.525100</td>\n",
       "      <td>31.737300</td>\n",
       "      <td>1</td>\n",
       "      <td>0</td>\n",
       "    </tr>\n",
       "    <tr>\n",
       "      <th>115</th>\n",
       "      <td>R01-157</td>\n",
       "      <td>6.565445</td>\n",
       "      <td>0.829140</td>\n",
       "      <td>4.94241</td>\n",
       "      <td>0.000000</td>\n",
       "      <td>13.29370</td>\n",
       "      <td>26.306770</td>\n",
       "      <td>3.463640</td>\n",
       "      <td>4.649160</td>\n",
       "      <td>187.18417</td>\n",
       "      <td>...</td>\n",
       "      <td>1.333220</td>\n",
       "      <td>49.906300</td>\n",
       "      <td>1.87628</td>\n",
       "      <td>1.833738</td>\n",
       "      <td>15.31520</td>\n",
       "      <td>17.690250</td>\n",
       "      <td>21.050000</td>\n",
       "      <td>21.977010</td>\n",
       "      <td>0</td>\n",
       "      <td>0</td>\n",
       "    </tr>\n",
       "    <tr>\n",
       "      <th>116</th>\n",
       "      <td>R01-158</td>\n",
       "      <td>26.088220</td>\n",
       "      <td>21.237700</td>\n",
       "      <td>4.81202</td>\n",
       "      <td>0.000000</td>\n",
       "      <td>16.14340</td>\n",
       "      <td>10.719810</td>\n",
       "      <td>4.399728</td>\n",
       "      <td>1.937700</td>\n",
       "      <td>126.17160</td>\n",
       "      <td>...</td>\n",
       "      <td>1.286370</td>\n",
       "      <td>57.849300</td>\n",
       "      <td>1.97280</td>\n",
       "      <td>0.659567</td>\n",
       "      <td>7.73836</td>\n",
       "      <td>29.922400</td>\n",
       "      <td>7.174080</td>\n",
       "      <td>9.495350</td>\n",
       "      <td>0</td>\n",
       "      <td>0</td>\n",
       "    </tr>\n",
       "    <tr>\n",
       "      <th>117</th>\n",
       "      <td>R01-159</td>\n",
       "      <td>20.813240</td>\n",
       "      <td>3.629507</td>\n",
       "      <td>0.00000</td>\n",
       "      <td>0.000000</td>\n",
       "      <td>19.68492</td>\n",
       "      <td>24.987579</td>\n",
       "      <td>2.346060</td>\n",
       "      <td>9.746220</td>\n",
       "      <td>371.70458</td>\n",
       "      <td>...</td>\n",
       "      <td>22.198750</td>\n",
       "      <td>102.767831</td>\n",
       "      <td>3.39946</td>\n",
       "      <td>2.585660</td>\n",
       "      <td>8.66216</td>\n",
       "      <td>85.256870</td>\n",
       "      <td>6.234190</td>\n",
       "      <td>15.785505</td>\n",
       "      <td>0</td>\n",
       "      <td>0</td>\n",
       "    </tr>\n",
       "    <tr>\n",
       "      <th>118</th>\n",
       "      <td>R01-160</td>\n",
       "      <td>18.136591</td>\n",
       "      <td>2.894350</td>\n",
       "      <td>0.00000</td>\n",
       "      <td>0.000000</td>\n",
       "      <td>35.57201</td>\n",
       "      <td>29.780610</td>\n",
       "      <td>6.185470</td>\n",
       "      <td>3.071740</td>\n",
       "      <td>108.12872</td>\n",
       "      <td>...</td>\n",
       "      <td>1.865994</td>\n",
       "      <td>74.261921</td>\n",
       "      <td>0.00000</td>\n",
       "      <td>2.334370</td>\n",
       "      <td>25.06410</td>\n",
       "      <td>23.004220</td>\n",
       "      <td>10.038100</td>\n",
       "      <td>26.491740</td>\n",
       "      <td>0</td>\n",
       "      <td>0</td>\n",
       "    </tr>\n",
       "  </tbody>\n",
       "</table>\n",
       "<p>119 rows × 24 columns</p>\n",
       "</div>"
      ],
      "text/plain": [
       "     Case_ID      LRIG1        HPGD     GDF15      CDH2      POSTN       VCAN  \\\n",
       "0    R01-005  25.438505    2.434890   4.83280  0.000000   14.80001  13.816834   \n",
       "1    R01-012  23.192370    8.997890  43.86000  2.576560   57.67060  22.893300   \n",
       "2    R01-013  77.553001  190.529190   7.76279  0.000000   11.79248  26.137328   \n",
       "3    R01-014  63.164522   21.455770  16.58980  0.000000   20.94288   7.123850   \n",
       "4    R01-017  82.543949   66.726003  15.27520  1.817656   17.53631   5.260631   \n",
       "..       ...        ...         ...       ...       ...        ...        ...   \n",
       "114  R01-156  23.141790    8.542742   0.00000  0.684995  119.58400  25.027800   \n",
       "115  R01-157   6.565445    0.829140   4.94241  0.000000   13.29370  26.306770   \n",
       "116  R01-158  26.088220   21.237700   4.81202  0.000000   16.14340  10.719810   \n",
       "117  R01-159  20.813240    3.629507   0.00000  0.000000   19.68492  24.987579   \n",
       "118  R01-160  18.136591    2.894350   0.00000  0.000000   35.57201  29.780610   \n",
       "\n",
       "        PDGFRA     VCAM1       CD44  ...       CD37         VIM     LMO2  \\\n",
       "0     3.791663  3.903575   44.62658  ...   1.590920   70.972300  0.00000   \n",
       "1     6.526380  8.768820   32.54150  ...   6.934750  158.976000  3.14894   \n",
       "2     6.983622  3.591960  152.81587  ...   5.048800  115.247000  2.26644   \n",
       "3    18.156200  2.076650   57.05985  ...   4.651934  101.178000  1.32881   \n",
       "4     7.652980  2.341880  227.60731  ...   2.631933  206.286100  1.39513   \n",
       "..         ...       ...        ...  ...        ...         ...      ...   \n",
       "114   3.129100  2.322870  143.23510  ...   4.717760   58.163200  2.62162   \n",
       "115   3.463640  4.649160  187.18417  ...   1.333220   49.906300  1.87628   \n",
       "116   4.399728  1.937700  126.17160  ...   1.286370   57.849300  1.97280   \n",
       "117   2.346060  9.746220  371.70458  ...  22.198750  102.767831  3.39946   \n",
       "118   6.185470  3.071740  108.12872  ...   1.865994   74.261921  0.00000   \n",
       "\n",
       "         EGR2       BGN     COL4A1     COL5A1     COL5A2  SurvivalStatus  \\\n",
       "0    0.000000   6.22329   3.268430   9.394910  11.402356               1   \n",
       "1    2.828400  28.85350  22.221980  12.066000  22.500950               0   \n",
       "2    3.317050   5.77029   5.490720   7.749760   3.532330               0   \n",
       "3    1.462162  21.01470   6.839590   2.572220  36.834306               0   \n",
       "4    1.568070  21.19790  16.872651   4.875322   9.060370               1   \n",
       "..        ...       ...        ...        ...        ...             ...   \n",
       "114  0.976505  27.42970  29.316800  35.525100  31.737300               1   \n",
       "115  1.833738  15.31520  17.690250  21.050000  21.977010               0   \n",
       "116  0.659567   7.73836  29.922400   7.174080   9.495350               0   \n",
       "117  2.585660   8.66216  85.256870   6.234190  15.785505               0   \n",
       "118  2.334370  25.06410  23.004220  10.038100  26.491740               0   \n",
       "\n",
       "     PathologicalMstage  \n",
       "0                     0  \n",
       "1                     0  \n",
       "2                     0  \n",
       "3                     0  \n",
       "4                     0  \n",
       "..                  ...  \n",
       "114                   0  \n",
       "115                   0  \n",
       "116                   0  \n",
       "117                   0  \n",
       "118                   0  \n",
       "\n",
       "[119 rows x 24 columns]"
      ]
     },
     "execution_count": 7,
     "metadata": {},
     "output_type": "execute_result"
    }
   ],
   "source": [
    "genomic_data_with_label = pd.read_csv(\"data/Genomic-data-119patients.csv\")\n",
    "genomic_data_with_label"
   ]
  },
  {
   "cell_type": "markdown",
   "id": "41482e49-50d6-415d-8927-5167c8f100fa",
   "metadata": {},
   "source": [
    "## Data Cleaning"
   ]
  },
  {
   "cell_type": "markdown",
   "id": "58b32e9e-5439-44e1-8d9f-ce35bbfaad7f",
   "metadata": {},
   "source": [
    "* Remove Case_ID"
   ]
  },
  {
   "cell_type": "code",
   "execution_count": 8,
   "id": "e31012ee-788c-409e-a786-971cf7c3c060",
   "metadata": {},
   "outputs": [],
   "source": [
    "genomic_data_with_label.drop(columns=[\"Case_ID\", \"PathologicalMstage\"], inplace=True)"
   ]
  },
  {
   "cell_type": "markdown",
   "id": "fd09bd55-e225-44ca-b1e5-6eede57aceed",
   "metadata": {},
   "source": [
    "* Check the Class Balanceness"
   ]
  },
  {
   "cell_type": "code",
   "execution_count": 9,
   "id": "94ed0ed8-4c4c-449f-8503-e26d85275f4b",
   "metadata": {},
   "outputs": [
    {
     "data": {
      "text/plain": [
       "<AxesSubplot:>"
      ]
     },
     "execution_count": 9,
     "metadata": {},
     "output_type": "execute_result"
    },
    {
     "data": {
      "image/png": "[encoded data removed]",
      "text/plain": [
       "<Figure size 432x288 with 1 Axes>"
      ]
     },
     "metadata": {
      "needs_background": "light"
     },
     "output_type": "display_data"
    }
   ],
   "source": [
    "genomic_data_with_label.SurvivalStatus.value_counts().plot.bar()\n"
   ]
  },
  {
   "cell_type": "markdown",
   "id": "86932ff9-a393-4443-a014-7c73133b1de9",
   "metadata": {},
   "source": [
    "* Perform min-max scaling"
   ]
  },
  {
   "cell_type": "code",
   "execution_count": 10,
   "id": "1bafc906-ba74-4cc4-8c48-82a4fba0b925",
   "metadata": {},
   "outputs": [
    {
     "data": {
      "text/html": [
       "<div>\n",
       "<style scoped>\n",
       "    .dataframe tbody tr th:only-of-type {\n",
       "        vertical-align: middle;\n",
       "    }\n",
       "\n",
       "    .dataframe tbody tr th {\n",
       "        vertical-align: top;\n",
       "    }\n",
       "\n",
       "    .dataframe thead th {\n",
       "        text-align: right;\n",
       "    }\n",
       "</style>\n",
       "<table border=\"1\" class=\"dataframe\">\n",
       "  <thead>\n",
       "    <tr style=\"text-align: right;\">\n",
       "      <th></th>\n",
       "      <th>LRIG1</th>\n",
       "      <th>HPGD</th>\n",
       "      <th>GDF15</th>\n",
       "      <th>CDH2</th>\n",
       "      <th>POSTN</th>\n",
       "      <th>VCAN</th>\n",
       "      <th>PDGFRA</th>\n",
       "      <th>VCAM1</th>\n",
       "      <th>CD44</th>\n",
       "      <th>CD48</th>\n",
       "      <th>...</th>\n",
       "      <th>LYL1</th>\n",
       "      <th>SPI1</th>\n",
       "      <th>CD37</th>\n",
       "      <th>VIM</th>\n",
       "      <th>LMO2</th>\n",
       "      <th>EGR2</th>\n",
       "      <th>BGN</th>\n",
       "      <th>COL4A1</th>\n",
       "      <th>COL5A1</th>\n",
       "      <th>COL5A2</th>\n",
       "    </tr>\n",
       "  </thead>\n",
       "  <tbody>\n",
       "    <tr>\n",
       "      <th>0</th>\n",
       "      <td>0.186033</td>\n",
       "      <td>0.011379</td>\n",
       "      <td>0.058076</td>\n",
       "      <td>0.000000</td>\n",
       "      <td>0.044392</td>\n",
       "      <td>0.043852</td>\n",
       "      <td>0.031756</td>\n",
       "      <td>0.077312</td>\n",
       "      <td>0.096727</td>\n",
       "      <td>0.000000</td>\n",
       "      <td>...</td>\n",
       "      <td>0.000000</td>\n",
       "      <td>0.041144</td>\n",
       "      <td>0.071667</td>\n",
       "      <td>0.161186</td>\n",
       "      <td>0.000000</td>\n",
       "      <td>0.000000</td>\n",
       "      <td>0.036592</td>\n",
       "      <td>0.000000</td>\n",
       "      <td>0.037805</td>\n",
       "      <td>0.048075</td>\n",
       "    </tr>\n",
       "    <tr>\n",
       "      <th>1</th>\n",
       "      <td>0.168126</td>\n",
       "      <td>0.042051</td>\n",
       "      <td>0.527072</td>\n",
       "      <td>0.014627</td>\n",
       "      <td>0.188186</td>\n",
       "      <td>0.080102</td>\n",
       "      <td>0.058723</td>\n",
       "      <td>0.173671</td>\n",
       "      <td>0.068072</td>\n",
       "      <td>0.208182</td>\n",
       "      <td>...</td>\n",
       "      <td>0.111333</td>\n",
       "      <td>0.264893</td>\n",
       "      <td>0.312394</td>\n",
       "      <td>0.384688</td>\n",
       "      <td>0.132416</td>\n",
       "      <td>0.254566</td>\n",
       "      <td>0.260631</td>\n",
       "      <td>0.098762</td>\n",
       "      <td>0.050754</td>\n",
       "      <td>0.099377</td>\n",
       "    </tr>\n",
       "    <tr>\n",
       "      <th>2</th>\n",
       "      <td>0.601524</td>\n",
       "      <td>0.890415</td>\n",
       "      <td>0.093287</td>\n",
       "      <td>0.000000</td>\n",
       "      <td>0.034304</td>\n",
       "      <td>0.093057</td>\n",
       "      <td>0.063232</td>\n",
       "      <td>0.071140</td>\n",
       "      <td>0.353251</td>\n",
       "      <td>0.058441</td>\n",
       "      <td>...</td>\n",
       "      <td>0.061315</td>\n",
       "      <td>0.425206</td>\n",
       "      <td>0.227436</td>\n",
       "      <td>0.273630</td>\n",
       "      <td>0.095306</td>\n",
       "      <td>0.298546</td>\n",
       "      <td>0.032107</td>\n",
       "      <td>0.011580</td>\n",
       "      <td>0.029830</td>\n",
       "      <td>0.011697</td>\n",
       "    </tr>\n",
       "    <tr>\n",
       "      <th>3</th>\n",
       "      <td>0.486809</td>\n",
       "      <td>0.100271</td>\n",
       "      <td>0.199362</td>\n",
       "      <td>0.000000</td>\n",
       "      <td>0.064996</td>\n",
       "      <td>0.017122</td>\n",
       "      <td>0.173404</td>\n",
       "      <td>0.041129</td>\n",
       "      <td>0.126207</td>\n",
       "      <td>0.089822</td>\n",
       "      <td>...</td>\n",
       "      <td>0.064753</td>\n",
       "      <td>0.177943</td>\n",
       "      <td>0.209558</td>\n",
       "      <td>0.237899</td>\n",
       "      <td>0.055878</td>\n",
       "      <td>0.131600</td>\n",
       "      <td>0.183027</td>\n",
       "      <td>0.018608</td>\n",
       "      <td>0.004730</td>\n",
       "      <td>0.165631</td>\n",
       "    </tr>\n",
       "    <tr>\n",
       "      <th>4</th>\n",
       "      <td>0.641315</td>\n",
       "      <td>0.311836</td>\n",
       "      <td>0.183564</td>\n",
       "      <td>0.010318</td>\n",
       "      <td>0.053570</td>\n",
       "      <td>0.009681</td>\n",
       "      <td>0.069832</td>\n",
       "      <td>0.046382</td>\n",
       "      <td>0.530587</td>\n",
       "      <td>0.075721</td>\n",
       "      <td>...</td>\n",
       "      <td>0.000000</td>\n",
       "      <td>0.109945</td>\n",
       "      <td>0.118562</td>\n",
       "      <td>0.504841</td>\n",
       "      <td>0.058666</td>\n",
       "      <td>0.141132</td>\n",
       "      <td>0.184841</td>\n",
       "      <td>0.070888</td>\n",
       "      <td>0.015895</td>\n",
       "      <td>0.037249</td>\n",
       "    </tr>\n",
       "    <tr>\n",
       "      <th>...</th>\n",
       "      <td>...</td>\n",
       "      <td>...</td>\n",
       "      <td>...</td>\n",
       "      <td>...</td>\n",
       "      <td>...</td>\n",
       "      <td>...</td>\n",
       "      <td>...</td>\n",
       "      <td>...</td>\n",
       "      <td>...</td>\n",
       "      <td>...</td>\n",
       "      <td>...</td>\n",
       "      <td>...</td>\n",
       "      <td>...</td>\n",
       "      <td>...</td>\n",
       "      <td>...</td>\n",
       "      <td>...</td>\n",
       "      <td>...</td>\n",
       "      <td>...</td>\n",
       "      <td>...</td>\n",
       "      <td>...</td>\n",
       "      <td>...</td>\n",
       "    </tr>\n",
       "    <tr>\n",
       "      <th>114</th>\n",
       "      <td>0.167722</td>\n",
       "      <td>0.039923</td>\n",
       "      <td>0.000000</td>\n",
       "      <td>0.003889</td>\n",
       "      <td>0.395853</td>\n",
       "      <td>0.088626</td>\n",
       "      <td>0.025222</td>\n",
       "      <td>0.046006</td>\n",
       "      <td>0.330534</td>\n",
       "      <td>0.023121</td>\n",
       "      <td>...</td>\n",
       "      <td>0.196905</td>\n",
       "      <td>0.061541</td>\n",
       "      <td>0.212524</td>\n",
       "      <td>0.128655</td>\n",
       "      <td>0.110241</td>\n",
       "      <td>0.087889</td>\n",
       "      <td>0.246535</td>\n",
       "      <td>0.135732</td>\n",
       "      <td>0.164479</td>\n",
       "      <td>0.142071</td>\n",
       "    </tr>\n",
       "    <tr>\n",
       "      <th>115</th>\n",
       "      <td>0.035565</td>\n",
       "      <td>0.003875</td>\n",
       "      <td>0.059394</td>\n",
       "      <td>0.000000</td>\n",
       "      <td>0.039339</td>\n",
       "      <td>0.093734</td>\n",
       "      <td>0.028521</td>\n",
       "      <td>0.092079</td>\n",
       "      <td>0.434741</td>\n",
       "      <td>0.036051</td>\n",
       "      <td>...</td>\n",
       "      <td>0.088405</td>\n",
       "      <td>0.078723</td>\n",
       "      <td>0.060058</td>\n",
       "      <td>0.107685</td>\n",
       "      <td>0.078899</td>\n",
       "      <td>0.165043</td>\n",
       "      <td>0.126602</td>\n",
       "      <td>0.075148</td>\n",
       "      <td>0.094307</td>\n",
       "      <td>0.096955</td>\n",
       "    </tr>\n",
       "    <tr>\n",
       "      <th>116</th>\n",
       "      <td>0.191213</td>\n",
       "      <td>0.099252</td>\n",
       "      <td>0.057827</td>\n",
       "      <td>0.000000</td>\n",
       "      <td>0.048898</td>\n",
       "      <td>0.031484</td>\n",
       "      <td>0.037752</td>\n",
       "      <td>0.038377</td>\n",
       "      <td>0.290076</td>\n",
       "      <td>0.026981</td>\n",
       "      <td>...</td>\n",
       "      <td>0.208866</td>\n",
       "      <td>0.090146</td>\n",
       "      <td>0.057948</td>\n",
       "      <td>0.127858</td>\n",
       "      <td>0.082958</td>\n",
       "      <td>0.059363</td>\n",
       "      <td>0.051591</td>\n",
       "      <td>0.138887</td>\n",
       "      <td>0.027039</td>\n",
       "      <td>0.039260</td>\n",
       "    </tr>\n",
       "    <tr>\n",
       "      <th>117</th>\n",
       "      <td>0.149158</td>\n",
       "      <td>0.016962</td>\n",
       "      <td>0.000000</td>\n",
       "      <td>0.000000</td>\n",
       "      <td>0.060777</td>\n",
       "      <td>0.088466</td>\n",
       "      <td>0.017501</td>\n",
       "      <td>0.193029</td>\n",
       "      <td>0.872251</td>\n",
       "      <td>0.424727</td>\n",
       "      <td>...</td>\n",
       "      <td>0.343994</td>\n",
       "      <td>0.162622</td>\n",
       "      <td>1.000000</td>\n",
       "      <td>0.241937</td>\n",
       "      <td>0.142950</td>\n",
       "      <td>0.232718</td>\n",
       "      <td>0.060737</td>\n",
       "      <td>0.427221</td>\n",
       "      <td>0.022482</td>\n",
       "      <td>0.068335</td>\n",
       "    </tr>\n",
       "    <tr>\n",
       "      <th>118</th>\n",
       "      <td>0.127818</td>\n",
       "      <td>0.013526</td>\n",
       "      <td>0.000000</td>\n",
       "      <td>0.000000</td>\n",
       "      <td>0.114064</td>\n",
       "      <td>0.107608</td>\n",
       "      <td>0.055361</td>\n",
       "      <td>0.060837</td>\n",
       "      <td>0.247295</td>\n",
       "      <td>0.024145</td>\n",
       "      <td>...</td>\n",
       "      <td>0.150692</td>\n",
       "      <td>0.158571</td>\n",
       "      <td>0.084059</td>\n",
       "      <td>0.169541</td>\n",
       "      <td>0.000000</td>\n",
       "      <td>0.210101</td>\n",
       "      <td>0.223116</td>\n",
       "      <td>0.102838</td>\n",
       "      <td>0.040923</td>\n",
       "      <td>0.117824</td>\n",
       "    </tr>\n",
       "  </tbody>\n",
       "</table>\n",
       "<p>119 rows × 21 columns</p>\n",
       "</div>"
      ],
      "text/plain": [
       "        LRIG1      HPGD     GDF15      CDH2     POSTN      VCAN    PDGFRA  \\\n",
       "0    0.186033  0.011379  0.058076  0.000000  0.044392  0.043852  0.031756   \n",
       "1    0.168126  0.042051  0.527072  0.014627  0.188186  0.080102  0.058723   \n",
       "2    0.601524  0.890415  0.093287  0.000000  0.034304  0.093057  0.063232   \n",
       "3    0.486809  0.100271  0.199362  0.000000  0.064996  0.017122  0.173404   \n",
       "4    0.641315  0.311836  0.183564  0.010318  0.053570  0.009681  0.069832   \n",
       "..        ...       ...       ...       ...       ...       ...       ...   \n",
       "114  0.167722  0.039923  0.000000  0.003889  0.395853  0.088626  0.025222   \n",
       "115  0.035565  0.003875  0.059394  0.000000  0.039339  0.093734  0.028521   \n",
       "116  0.191213  0.099252  0.057827  0.000000  0.048898  0.031484  0.037752   \n",
       "117  0.149158  0.016962  0.000000  0.000000  0.060777  0.088466  0.017501   \n",
       "118  0.127818  0.013526  0.000000  0.000000  0.114064  0.107608  0.055361   \n",
       "\n",
       "        VCAM1      CD44      CD48  ...      LYL1      SPI1      CD37  \\\n",
       "0    0.077312  0.096727  0.000000  ...  0.000000  0.041144  0.071667   \n",
       "1    0.173671  0.068072  0.208182  ...  0.111333  0.264893  0.312394   \n",
       "2    0.071140  0.353251  0.058441  ...  0.061315  0.425206  0.227436   \n",
       "3    0.041129  0.126207  0.089822  ...  0.064753  0.177943  0.209558   \n",
       "4    0.046382  0.530587  0.075721  ...  0.000000  0.109945  0.118562   \n",
       "..        ...       ...       ...  ...       ...       ...       ...   \n",
       "114  0.046006  0.330534  0.023121  ...  0.196905  0.061541  0.212524   \n",
       "115  0.092079  0.434741  0.036051  ...  0.088405  0.078723  0.060058   \n",
       "116  0.038377  0.290076  0.026981  ...  0.208866  0.090146  0.057948   \n",
       "117  0.193029  0.872251  0.424727  ...  0.343994  0.162622  1.000000   \n",
       "118  0.060837  0.247295  0.024145  ...  0.150692  0.158571  0.084059   \n",
       "\n",
       "          VIM      LMO2      EGR2       BGN    COL4A1    COL5A1    COL5A2  \n",
       "0    0.161186  0.000000  0.000000  0.036592  0.000000  0.037805  0.048075  \n",
       "1    0.384688  0.132416  0.254566  0.260631  0.098762  0.050754  0.099377  \n",
       "2    0.273630  0.095306  0.298546  0.032107  0.011580  0.029830  0.011697  \n",
       "3    0.237899  0.055878  0.131600  0.183027  0.018608  0.004730  0.165631  \n",
       "4    0.504841  0.058666  0.141132  0.184841  0.070888  0.015895  0.037249  \n",
       "..        ...       ...       ...       ...       ...       ...       ...  \n",
       "114  0.128655  0.110241  0.087889  0.246535  0.135732  0.164479  0.142071  \n",
       "115  0.107685  0.078899  0.165043  0.126602  0.075148  0.094307  0.096955  \n",
       "116  0.127858  0.082958  0.059363  0.051591  0.138887  0.027039  0.039260  \n",
       "117  0.241937  0.142950  0.232718  0.060737  0.427221  0.022482  0.068335  \n",
       "118  0.169541  0.000000  0.210101  0.223116  0.102838  0.040923  0.117824  \n",
       "\n",
       "[119 rows x 21 columns]"
      ]
     },
     "execution_count": 10,
     "metadata": {},
     "output_type": "execute_result"
    }
   ],
   "source": [
    "genomic_data = genomic_data_with_label.drop(columns=[\"SurvivalStatus\"])\n",
    "labels = genomic_data_with_label[\"SurvivalStatus\"]\n",
    "\n",
    "scaler = MinMaxScaler()\n",
    "genomic_data[genomic_data.columns] = scaler.fit_transform(genomic_data.to_numpy())\n",
    "genomic_data                  "
   ]
  },
  {
   "cell_type": "markdown",
   "id": "95de8282-8aa1-4739-87b1-44677da0294a",
   "metadata": {},
   "source": [
    "### Split the data Train/Test\n"
   ]
  },
  {
   "cell_type": "code",
   "execution_count": 11,
   "id": "e80edd4d-12a8-43ef-96f0-a544ecd80854",
   "metadata": {},
   "outputs": [],
   "source": [
    "X_train, X_val, y_train, y_val = train_test_split(genomic_data, labels, test_size = 0.2)\n"
   ]
  },
  {
   "cell_type": "code",
   "execution_count": 12,
   "id": "3b30c33b-6466-4c9e-84d9-569a18a0b3b7",
   "metadata": {},
   "outputs": [
    {
     "data": {
      "text/plain": [
       "<AxesSubplot:>"
      ]
     },
     "execution_count": 12,
     "metadata": {},
     "output_type": "execute_result"
    },
    {
     "data": {
      "image/png": "[encoded data removed]",
      "text/plain": [
       "<Figure size 432x288 with 1 Axes>"
      ]
     },
     "metadata": {
      "needs_background": "light"
     },
     "output_type": "display_data"
    }
   ],
   "source": [
    "y_train.value_counts().plot.bar()"
   ]
  },
  {
   "cell_type": "code",
   "execution_count": 13,
   "id": "dcf9096b-008a-40c8-82f2-c701314d1c70",
   "metadata": {},
   "outputs": [
    {
     "data": {
      "text/plain": [
       "<AxesSubplot:>"
      ]
     },
     "execution_count": 13,
     "metadata": {},
     "output_type": "execute_result"
    },
    {
     "data": {
      "image/png": "[encoded data removed]",
      "text/plain": [
       "<Figure size 432x288 with 1 Axes>"
      ]
     },
     "metadata": {
      "needs_background": "light"
     },
     "output_type": "display_data"
    }
   ],
   "source": [
    "y_val.value_counts().plot.bar()"
   ]
  },
  {
   "cell_type": "markdown",
   "id": "ac1ed187-56ad-4d6e-9db0-c8de76cb9302",
   "metadata": {},
   "source": [
    "### Save data"
   ]
  },
  {
   "cell_type": "code",
   "execution_count": 14,
   "id": "076a2760-b7be-47dd-9eee-1cf9bdc3c6df",
   "metadata": {},
   "outputs": [],
   "source": [
    "X_train.insert(0, \"SurvivalStatus\", y_train)\n",
    "X_train.to_csv(\"./data/train_data.csv\", index = False, header=True)"
   ]
  },
  {
   "cell_type": "code",
   "execution_count": 15,
   "id": "1c05e717-5f08-4e84-946a-16b17b886d17",
   "metadata": {},
   "outputs": [],
   "source": [
    "X_val.insert(0, \"SurvivalStatus\", y_val)\n",
    "X_val.to_csv(\"./data/validation_data.csv\", index = False, header=True)"
   ]
  },
  {
   "cell_type": "markdown",
   "id": "302812ca-daa7-411b-844a-1202037df084",
   "metadata": {},
   "source": [
    "### Prepare for SageMaker Training"
   ]
  },
  {
   "cell_type": "code",
   "execution_count": 16,
   "id": "96ea6495-a011-4432-81f4-83ac82b7b002",
   "metadata": {},
   "outputs": [],
   "source": [
    "role = get_execution_role()\n",
    "session = sagemaker.Session()\n",
    "bucket = session.default_bucket()\n",
    "\n",
    "s3_prefix = \"genome-survival-classification/data\""
   ]
  },
  {
   "cell_type": "markdown",
   "id": "8ec97077-df78-4012-8f5a-ed7fe83c0340",
   "metadata": {},
   "source": [
    "### Upload to S3"
   ]
  },
  {
   "cell_type": "code",
   "execution_count": 17,
   "id": "a6f51cc3-2646-4812-bf62-374217c01a2b",
   "metadata": {},
   "outputs": [
    {
     "name": "stdout",
     "output_type": "stream",
     "text": [
      "Train data : [s3://sagemaker-us-west-2-431678540810/genome-survival-classification/data/train/train_data.csv]\n",
      "Val data : [s3://sagemaker-us-west-2-431678540810/genome-survival-classification/data/validation/validation_data.csv]\n"
     ]
    }
   ],
   "source": [
    "input_train = session.upload_data(\n",
    "        path=\"./data/train_data.csv\", bucket=bucket, key_prefix=\"{}/train\".format(s3_prefix)\n",
    "    )\n",
    "\n",
    "input_val = session.upload_data(\n",
    "        path=\"./data/validation_data.csv\", bucket=bucket, key_prefix=\"{}/validation\".format(s3_prefix)\n",
    "    )\n",
    "\n",
    "print(\"Train data : [{}]\".format(input_train))\n",
    "print(\"Val data : [{}]\".format(input_val))"
   ]
  },
  {
   "cell_type": "markdown",
   "id": "a2839d38-2c67-415d-b654-7520379cea60",
   "metadata": {},
   "source": [
    "## Architecture and Approach \n",
    "\n",
    "The architecture for this approach is as follows:\n"
   ]
  },
  {
   "cell_type": "markdown",
   "id": "98f92c24-08ed-46b8-8605-df92eb0be22a",
   "metadata": {},
   "source": [
    "![](images/Architecture.jpeg)"
   ]
  },
  {
   "cell_type": "markdown",
   "id": "b380194b-f835-46ed-8ba4-7b7045a81bbd",
   "metadata": {},
   "source": [
    "## 1. Create the Multimodel Endpoint \n",
    "\n",
    "First we are creating the multi-model endpoint (one time configuration) to serve the models that are going to be delivered by the SageMaker piplines."
   ]
  },
  {
   "cell_type": "code",
   "execution_count": null,
   "id": "8da29b31-7086-4143-97e5-ce388ec0634b",
   "metadata": {},
   "outputs": [],
   "source": [
    "FRAMEWORK_VERSION = \"1.12.0\"\n",
    "\n",
    "mme_model_data_location = \"s3://{}/{}/mme-models-location\".format(bucket, s3_prefix)\n",
    "\n",
    "endpoint_name = \"Genome-Survival-Prediction-MultiModel-Endpoint-{}\".format(time.strftime(\"%H-%M-%S\"))\n",
    "\n",
    "model = PyTorchModel(model_data=\"./model/model.tar.gz\", \n",
    "                     source_dir='src', \n",
    "                     entry_point='inference.py', \n",
    "                     role=role, \n",
    "                     framework_version=FRAMEWORK_VERSION,\n",
    "                     py_version = \"py38\",\n",
    "                     sagemaker_session=session)\n",
    "\n",
    " \n",
    "mme = MultiDataModel(\n",
    "    name = \"Genome-Survival-Prediction-MME-Model-{}\".format(time.strftime(\"%H-%M-%S\")),\n",
    "    model_data_prefix = mme_model_data_location,\n",
    "    model = model,  # passing our model\n",
    "    sagemaker_session=session,\n",
    ")\n",
    "\n",
    "mme_predictor = mme.deploy(\n",
    "    initial_instance_count=1, \n",
    "    instance_type=\"ml.m5.large\", \n",
    "    endpoint_name=endpoint_name\n",
    ")"
   ]
  },
  {
   "cell_type": "markdown",
   "id": "d6f202e8-66b1-4af0-814c-32ff00d2f210",
   "metadata": {},
   "source": [
    "#### Check for current models (First time it should be empty)"
   ]
  },
  {
   "cell_type": "code",
   "execution_count": null,
   "id": "267ed5dc-3397-49a1-bf74-1e55a8222d9a",
   "metadata": {},
   "outputs": [],
   "source": [
    "list(mme.list_models())"
   ]
  },
  {
   "cell_type": "markdown",
   "id": "d0bcec3b-94ca-4027-b8d2-c91c53907ad1",
   "metadata": {},
   "source": [
    "## 2. Creating the pipeline "
   ]
  },
  {
   "cell_type": "code",
   "execution_count": null,
   "id": "721dcf50-3e73-42dc-9625-29bfd945737d",
   "metadata": {},
   "outputs": [],
   "source": [
    "pipeline_session = PipelineSession()\n",
    "\n",
    "from sagemaker.workflow.parameters import (\n",
    "    ParameterInteger,\n",
    "    ParameterString,\n",
    "    ParameterFloat,\n",
    ")\n",
    "\n",
    "input_train_data = ParameterString(\n",
    "    name=\"InputTrainData\",\n",
    "    default_value=input_train,\n",
    ")\n",
    "\n",
    "input_validation_data = ParameterString(\n",
    "    name=\"InputValidationData\",\n",
    "    default_value=input_val,\n",
    ")\n",
    "\n",
    "genome_group = ParameterString(\n",
    "    name=\"genomeGroup\",\n",
    "    default_value=\"ALL\",\n",
    ")\n",
    "\n",
    "training_instance_type = ParameterString(\n",
    "    name=\"TrainingInstanceType\", \n",
    "    default_value=\"ml.m5.large\"\n",
    ")\n",
    "\n",
    "mme_model_location = ParameterString(\n",
    "    name=\"MMEModelsLocation\",\n",
    "    default_value=mme_model_data_location,\n",
    ")\n",
    "\n",
    "from sagemaker.workflow.steps import CacheConfig\n",
    "\n",
    "cache_config = CacheConfig(enable_caching=True, expire_after=\"PT1H\")\n"
   ]
  },
  {
   "cell_type": "markdown",
   "id": "626e9955-9b59-49bc-933c-78957ca4922f",
   "metadata": {},
   "source": [
    "#### Training Step"
   ]
  },
  {
   "cell_type": "code",
   "execution_count": null,
   "id": "bf4b182f-67ff-46fe-b8d4-04bf7cd0d7ee",
   "metadata": {},
   "outputs": [],
   "source": [
    "pytorch_estimator = PyTorch(\n",
    "     source_dir=\"src\",           \n",
    "     entry_point=\"train.py\",\n",
    "     framework_version = \"1.12.0\",\n",
    "     py_version = \"py38\",\n",
    "     instance_type= training_instance_type,\n",
    "     instance_count=1,\n",
    "     role = role,\n",
    "     hyperparameters = {\n",
    "         \"genome-group\" : genome_group\n",
    "     },\n",
    "    sagemaker_session = pipeline_session\n",
    ")\n",
    "\n",
    "#pytorch_estimator.fit({\"train_data\" : input_train, \"val_data\": input_val})"
   ]
  },
  {
   "cell_type": "code",
   "execution_count": null,
   "id": "e188b0fd-3804-47d2-842b-acac0f3e0cb9",
   "metadata": {},
   "outputs": [],
   "source": [
    "from sagemaker.inputs import TrainingInput\n",
    "from sagemaker.workflow.steps import TrainingStep\n",
    "\n",
    "step_train = TrainingStep(\n",
    "    name=\"Genome-Survival-Prediction-Training\",\n",
    "    estimator=pytorch_estimator,\n",
    "    inputs={\n",
    "        \"train_data\": TrainingInput(\n",
    "            s3_data=input_train_data,\n",
    "            content_type=\"text/csv\",\n",
    "        ),\n",
    "         \"val_data\": TrainingInput(\n",
    "            s3_data=input_validation_data,\n",
    "            content_type=\"text/csv\",\n",
    "        )\n",
    "    },\n",
    "    cache_config=cache_config\n",
    ")"
   ]
  },
  {
   "cell_type": "markdown",
   "id": "b96166bd-5187-428b-9eec-33372edcca65",
   "metadata": {},
   "source": [
    "#### Model evaluation Step"
   ]
  },
  {
   "cell_type": "code",
   "execution_count": null,
   "id": "3c5ebc8a-6135-49ff-b170-74693991c089",
   "metadata": {},
   "outputs": [],
   "source": [
    "from sagemaker.sklearn.processing import SKLearnProcessor\n",
    "from sagemaker.workflow.properties import PropertyFile\n",
    "from sagemaker.processing import ProcessingInput, ProcessingOutput\n",
    "from sagemaker.workflow.steps import ProcessingStep\n",
    "\n",
    "framework_version = \"0.23-1\"\n",
    "\n",
    "sklearn_processor = SKLearnProcessor(\n",
    "    framework_version=framework_version,\n",
    "    instance_type=\"ml.m5.large\",\n",
    "    instance_count=1,\n",
    "    base_job_name=\"Genome-Survival-Prediction-Eval\",\n",
    "    role=role,\n",
    "    env = {\n",
    "        \"genomeGroup\" : genome_group\n",
    "    },\n",
    "    sagemaker_session = pipeline_session\n",
    ")"
   ]
  },
  {
   "cell_type": "code",
   "execution_count": null,
   "id": "0ec11859-a2ff-4b0c-97a3-151d66f2764d",
   "metadata": {},
   "outputs": [],
   "source": [
    "evaluation_report = PropertyFile(\n",
    "    name=\"EvaluationReport\", output_name=\"evaluation\", path=\"evaluation.json\"\n",
    ")\n",
    "\n",
    "step_eval = ProcessingStep(\n",
    "    name=\"Genome-Survival-Prediction-Eval\",\n",
    "    processor=sklearn_processor,\n",
    "    inputs=[\n",
    "        ProcessingInput(\n",
    "            source=step_train.properties.ModelArtifacts.S3ModelArtifacts,\n",
    "            destination=\"/opt/ml/processing/model\",\n",
    "        ),\n",
    "        ProcessingInput(\n",
    "            source=input_validation_data,\n",
    "            destination=\"/opt/ml/processing/test\",\n",
    "        ),\n",
    "        ProcessingInput(\n",
    "            source=\"./src\",\n",
    "            destination=\"/opt/ml/processing/code\",\n",
    "        )\n",
    "    ],\n",
    "    outputs=[\n",
    "        ProcessingOutput(output_name=\"evaluation\", source=\"/opt/ml/processing/evaluation\")\n",
    "    ],\n",
    "    code=\"src/evaluation.py\",\n",
    "    property_files=[evaluation_report],\n",
    ")"
   ]
  },
  {
   "cell_type": "code",
   "execution_count": null,
   "id": "2786f45a-ba42-43c8-8f13-e07d93f64b7a",
   "metadata": {},
   "outputs": [],
   "source": [
    "#%run -i src/evaluation.py\n",
    "# import os\n",
    "# dirs = os.listdir(\"./\")\n",
    "\n",
    "# # This would print all the files and directories\n",
    "# for file in dirs:\n",
    "#     print(file)"
   ]
  },
  {
   "cell_type": "code",
   "execution_count": null,
   "id": "361f41f5-27e4-41d5-8f47-3ce07187c0f1",
   "metadata": {},
   "outputs": [],
   "source": [
    "step_fail = FailStep(\n",
    "    name=\"Genome-Survival-Prediction-Fail\",\n",
    "    error_message=\"Execution failed due to Obective Metric was not met\",\n",
    ")"
   ]
  },
  {
   "cell_type": "markdown",
   "id": "35bece6c-4327-412d-b3b9-02de4407ebe8",
   "metadata": {},
   "source": [
    "#### Define a Register Model Step to Create a Model Package\n"
   ]
  },
  {
   "cell_type": "code",
   "execution_count": null,
   "id": "41555a87-62dc-4662-8f6d-4f1e527ddd5b",
   "metadata": {},
   "outputs": [],
   "source": [
    "model_metrics = ModelMetrics(\n",
    "    model_statistics=MetricsSource(\n",
    "        s3_uri=\"{}/evaluation.json\".format(\n",
    "            step_eval.arguments[\"ProcessingOutputConfig\"][\"Outputs\"][0][\"S3Output\"][\"S3Uri\"]\n",
    "        ),\n",
    "        content_type=\"application/json\",\n",
    "    )\n",
    ")\n",
    "\n",
    "model = PyTorchModel(\n",
    "    model_data=step_train.properties.ModelArtifacts.S3ModelArtifacts,\n",
    "    role=role,\n",
    "    entry_point=\"inference.py\",\n",
    "    source_dir = \"src\",\n",
    "    framework_version = \"1.12.0\",\n",
    "    py_version = \"py38\",\n",
    "    sagemaker_session=PipelineSession()\n",
    ")\n",
    "\n",
    "# in addition, we might also want to register a model to SageMaker Model Registry\n",
    "register_model_step_args = model.register(\n",
    "    content_types=[\"application/json\"],\n",
    "    response_types=[\"application/json\"],\n",
    "    inference_instances=[\"ml.t2.medium\", \"ml.m5.xlarge\"],\n",
    "    transform_instances=[\"ml.m5.xlarge\"],\n",
    "    model_package_group_name='Genome-Survival-Prediction-Model-Package-Group'\n",
    ")\n",
    "\n",
    "step_model_registration = ModelStep(\n",
    "   name=\"Genome-Survival-Prediction-Model-Registration\",\n",
    "   step_args=register_model_step_args,\n",
    ")\n",
    "\n"
   ]
  },
  {
   "cell_type": "markdown",
   "id": "82182449-a53b-40b7-8843-97ab1f643194",
   "metadata": {},
   "source": [
    "#### Define MME Deployment Step\n"
   ]
  },
  {
   "cell_type": "code",
   "execution_count": null,
   "id": "8b823816-e9c1-4fde-a9aa-858c5613831c",
   "metadata": {},
   "outputs": [],
   "source": [
    "sklearn_processor_for_mme_deployment = SKLearnProcessor(\n",
    "    framework_version=framework_version,\n",
    "    instance_type=\"ml.m5.xlarge\",\n",
    "    instance_count=1,\n",
    "    base_job_name=\"Genome-Survival-Prediction-Deployment\",\n",
    "    role=role,\n",
    "    env = {\n",
    "        \"modelPackageArn\" : step_model_registration.steps[1].properties.ModelPackageArn,\n",
    "        \"mmeModelLocation\" : mme_model_location,\n",
    "        \"genomeGroup\" : genome_group\n",
    "    }\n",
    ")\n",
    "\n",
    "step_mme_deployment = ProcessingStep(\n",
    "    name=\"Genome-Survival-Prediction-MME-Deployment\",\n",
    "    processor=sklearn_processor_for_mme_deployment,\n",
    "    inputs=[\n",
    "        \n",
    "    ],\n",
    "    outputs=[\n",
    "        ProcessingOutput(output_name=\"mme_model_location\", source=\"/opt/ml/processing/model/mme\")\n",
    "    ],\n",
    "    code=\"src/mme_deployment.py\"\n",
    ")"
   ]
  },
  {
   "cell_type": "markdown",
   "id": "47577d1d-c3d8-40b2-b3b6-bde34ca59878",
   "metadata": {},
   "source": [
    "### Condition Step"
   ]
  },
  {
   "cell_type": "code",
   "execution_count": null,
   "id": "5d854028-1df9-4bae-a72b-52fa94c5e62c",
   "metadata": {},
   "outputs": [],
   "source": [
    "cond_lte = ConditionLessThanOrEqualTo(\n",
    "    left=JsonGet(\n",
    "        step_name=step_eval.name,\n",
    "        property_file=evaluation_report,\n",
    "        json_path=\"metrics.test_accuracy.value\",\n",
    "    ),\n",
    "    right=0.4\n",
    ")\n",
    "\n",
    "step_cond = ConditionStep(\n",
    "    name=\"Genome-Survival-Prediction-Condition\",\n",
    "    conditions=[cond_lte],\n",
    "    if_steps=[step_fail],\n",
    "    else_steps=[step_model_registration, step_mme_deployment],\n",
    ")"
   ]
  },
  {
   "cell_type": "markdown",
   "id": "f0dbe662-e0c3-4b01-add3-c2f840a8e0de",
   "metadata": {},
   "source": [
    "### Create the pipeline using all the steps defined above"
   ]
  },
  {
   "cell_type": "code",
   "execution_count": null,
   "id": "fca12fef-dd6c-4de6-8ba7-b51fa0148d5a",
   "metadata": {},
   "outputs": [],
   "source": [
    "from sagemaker.workflow.pipeline import Pipeline\n",
    "\n",
    "pipeline_name = f\"Genome-Survival-Prediction-Pipeline\"\n",
    "pipeline = Pipeline(\n",
    "    name=pipeline_name,\n",
    "    parameters=[\n",
    "        input_train_data,\n",
    "        input_validation_data,\n",
    "        training_instance_type,\n",
    "        genome_group,\n",
    "        mme_model_location\n",
    "    ],\n",
    "    steps=[step_train, step_eval, step_cond]\n",
    ")"
   ]
  },
  {
   "cell_type": "code",
   "execution_count": null,
   "id": "c25313f1-f76b-4638-9e76-65142ecda773",
   "metadata": {},
   "outputs": [],
   "source": [
    "import json\n",
    "\n",
    "definition = json.loads(pipeline.definition())\n",
    "definition"
   ]
  },
  {
   "cell_type": "code",
   "execution_count": null,
   "id": "29fcb44d-ea5d-465e-b1ab-b44cd6024b97",
   "metadata": {},
   "outputs": [],
   "source": [
    "pipeline.upsert(role_arn=role)"
   ]
  },
  {
   "cell_type": "markdown",
   "id": "fc5254db-1638-43ee-bfb6-a00e7e620673",
   "metadata": {},
   "source": [
    "### Start the pipeline with all the Gene groups."
   ]
  },
  {
   "cell_type": "code",
   "execution_count": null,
   "id": "3bc37055-f5fc-4f6f-b8b2-87a3026aa4db",
   "metadata": {},
   "outputs": [],
   "source": [
    "execution = pipeline.start({\n",
    "        \"genomeGroup\" : \"ALL\"\n",
    "    }\n",
    ")"
   ]
  },
  {
   "cell_type": "markdown",
   "id": "8e981eef-04c9-4187-add2-e527486138b8",
   "metadata": {},
   "source": [
    "### Pipeline Operations: Examining and Waiting for Pipeline Execution\n",
    "\n",
    "* Describe the pipeline execution"
   ]
  },
  {
   "cell_type": "code",
   "execution_count": null,
   "id": "62ee313b-5b0b-4948-905d-d5d4d8acf4f9",
   "metadata": {},
   "outputs": [],
   "source": [
    "execution.describe()"
   ]
  },
  {
   "cell_type": "markdown",
   "id": "093fe1b2-e14e-4528-89e1-e0450c29f73c",
   "metadata": {},
   "source": [
    "* Wait for the execution to complete.\n"
   ]
  },
  {
   "cell_type": "code",
   "execution_count": null,
   "id": "488a4eaa-6249-4e02-8ed4-cc44f51816f9",
   "metadata": {},
   "outputs": [],
   "source": [
    "execution.wait()"
   ]
  },
  {
   "cell_type": "markdown",
   "id": "eee962c0-06e5-4af0-86fb-fd5179bcc24a",
   "metadata": {},
   "source": [
    "### Verify how many models deploye on MME"
   ]
  },
  {
   "cell_type": "code",
   "execution_count": null,
   "id": "a0b06a8b-2ec5-4d23-bd0e-f4084bc367fc",
   "metadata": {},
   "outputs": [],
   "source": [
    "list(mme.list_models())"
   ]
  },
  {
   "cell_type": "markdown",
   "id": "c031170a-3325-4679-8ecb-29b6c3c2b024",
   "metadata": {},
   "source": [
    "* We can see there is model suffixed with 'ALL' already in the MME location. Let's do some predictions with the test dataset. "
   ]
  },
  {
   "cell_type": "markdown",
   "id": "0b901590-f32b-47ff-ad2f-d6e61d8b51e3",
   "metadata": {},
   "source": [
    "### Predict with trained models using test data\n"
   ]
  },
  {
   "cell_type": "code",
   "execution_count": null,
   "id": "825d7171-45c7-45e5-b924-08a001e1a2b5",
   "metadata": {},
   "outputs": [],
   "source": [
    "predictor = Predictor(endpoint_name = endpoint_name)\n",
    "\n",
    "predictor.serializer = sagemaker.serializers.JSONSerializer()\n",
    "predictor.deserializer = sagemaker.deserializers.CSVDeserializer()"
   ]
  },
  {
   "cell_type": "code",
   "execution_count": null,
   "id": "fc401ebe-fbdf-4ba6-9117-429ed1052be6",
   "metadata": {},
   "outputs": [],
   "source": [
    "payload = {\n",
    "    \"inputs\" : X_val.iloc[:, 1:].values\n",
    "}\n",
    "\n",
    "predictor.predict(payload, target_model=\"/model-ALL.tar.gz\")"
   ]
  },
  {
   "cell_type": "markdown",
   "id": "c2811b58-f6f0-4a90-a5e9-fc7d67ddf40a",
   "metadata": {},
   "source": [
    "### Next lets start training model with the \"metagene_19\" Gene group"
   ]
  },
  {
   "cell_type": "code",
   "execution_count": null,
   "id": "60f9b528-8a38-4fcf-810d-725e0934448e",
   "metadata": {},
   "outputs": [],
   "source": [
    "execution = pipeline.start(\n",
    "    parameters=dict(\n",
    "        genomeGroup=\"metagene_19\"\n",
    "    )\n",
    ")"
   ]
  },
  {
   "cell_type": "code",
   "execution_count": null,
   "id": "f9c6559e-d8b0-4cdf-97a2-a491fd9422d3",
   "metadata": {},
   "outputs": [],
   "source": [
    "execution.wait()"
   ]
  },
  {
   "cell_type": "markdown",
   "id": "7e71b214-c9be-4558-a9b9-8ebc77419c82",
   "metadata": {},
   "source": [
    "### Verify how many models deploye on MME"
   ]
  },
  {
   "cell_type": "code",
   "execution_count": null,
   "id": "b4366722-06c0-4583-bce2-4bf33225baab",
   "metadata": {},
   "outputs": [],
   "source": [
    "list(mme.list_models())"
   ]
  },
  {
   "cell_type": "markdown",
   "id": "27c45470-b4a4-47d4-a449-7457b67885c4",
   "metadata": {},
   "source": [
    "* We can see there is a new model suffixed with 'metagene_19' in the MME location. Let's do some predictions with the test dataset. "
   ]
  },
  {
   "cell_type": "code",
   "execution_count": null,
   "id": "5890cdf7-e859-429d-a3a2-c0cada84c269",
   "metadata": {},
   "outputs": [],
   "source": [
    "payload = {\n",
    "    \"inputs\" : X_val[['LRIG1', 'HPGD', 'GDF15']].iloc[0:5, :].values\n",
    "}\n",
    "payload"
   ]
  },
  {
   "cell_type": "code",
   "execution_count": null,
   "id": "3f5ea007-e3fb-43f3-b040-0a2c755a4693",
   "metadata": {},
   "outputs": [],
   "source": [
    "predictor.predict(payload, target_model=\"/model-metagene_19.tar.gz\")"
   ]
  },
  {
   "cell_type": "markdown",
   "id": "6febc0d7-65dd-440a-9016-18781d9af25c",
   "metadata": {},
   "source": [
    "## Clean up"
   ]
  },
  {
   "cell_type": "code",
   "execution_count": null,
   "id": "331c04d8-39da-4734-94f2-bad3579f49e6",
   "metadata": {},
   "outputs": [],
   "source": [
    "#predictor.delete_endpoint()"
   ]
  }
 ],
 "metadata": {
  "instance_type": "ml.t3.medium",
  "kernelspec": {
   "display_name": "Python 3 (Data Science 2.0)",
   "language": "python",
   "name": "python3__SAGEMAKER_INTERNAL__arn:aws:sagemaker:us-west-2:236514542706:image/sagemaker-data-science-38"
  },
  "language_info": {
   "codemirror_mode": {
    "name": "ipython",
    "version": 3
   },
   "file_extension": ".py",
   "mimetype": "text/x-python",
   "name": "python",
   "nbconvert_exporter": "python",
   "pygments_lexer": "ipython3",
   "version": "3.8.13"
  }
 },
 "nbformat": 4,
 "nbformat_minor": 5
}
