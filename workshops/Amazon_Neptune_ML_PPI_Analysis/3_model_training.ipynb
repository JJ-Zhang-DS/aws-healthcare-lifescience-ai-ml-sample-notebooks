{
 "cells": [
  {
   "cell_type": "markdown",
   "id": "40eb2629-bd6e-47f9-816b-7a4aee705b9b",
   "metadata": {},
   "source": [
    "# III. Custom Model Training\n",
    "\n",
    "This notebook should be uploaded and run on a SageMaker Notebook instance associated with an Amazon Neptune cluster. "
   ]
  },
  {
   "cell_type": "code",
   "execution_count": null,
   "id": "3d4765c5-4785-44e6-a8ff-a5d703552091",
   "metadata": {
    "tags": []
   },
   "outputs": [],
   "source": [
    "%pip install -U graph-notebook"
   ]
  },
  {
   "cell_type": "code",
   "execution_count": null,
   "id": "1d322ae0",
   "metadata": {
    "tags": []
   },
   "outputs": [],
   "source": [
    "import neptune_ml_utils as neptune_ml\n",
    "\n",
    "neptune_ml.check_ml_enabled()"
   ]
  },
  {
   "cell_type": "code",
   "execution_count": null,
   "id": "01385ebb",
   "metadata": {
    "tags": []
   },
   "outputs": [],
   "source": [
    "S3_URI=\"s3://<REPLACE WITH YOUR S3 URI>\"\n",
    "# remove trailing slashes\n",
    "S3_URI = S3_URI[:-1] if S3_URI.endswith('/') else S3_URI"
   ]
  },
  {
   "cell_type": "code",
   "execution_count": null,
   "id": "0d83b37b-8751-418e-8c7d-3a98e5f82378",
   "metadata": {
    "tags": []
   },
   "outputs": [],
   "source": [
    "%load_ext graph_notebook.magics"
   ]
  },
  {
   "cell_type": "code",
   "execution_count": null,
   "id": "0c961aa4-02cc-4eb5-a1d4-1effd33052e0",
   "metadata": {
    "tags": []
   },
   "outputs": [],
   "source": [
    "%graph_notebook_version\n",
    "%graph_notebook_config\n",
    "%status"
   ]
  },
  {
   "cell_type": "markdown",
   "id": "c969db44",
   "metadata": {},
   "source": [
    "## 1. Configure Features"
   ]
  },
  {
   "cell_type": "code",
   "execution_count": null,
   "id": "f612e765-4e2e-4471-ae9f-37f2d56b2241",
   "metadata": {
    "tags": []
   },
   "outputs": [],
   "source": [
    "export_params = {\n",
    "    \"command\": \"export-pg\",\n",
    "    \"params\": {\n",
    "        \"endpoint\": neptune_ml.get_host(),\n",
    "        \"profile\": \"neptune_ml\",\n",
    "        \"cloneCluster\": False,\n",
    "        \"filter\": {\n",
    "            \"nodes\": [\n",
    "                {\n",
    "                    \"label\": \"protein\",\n",
    "                    \"properties\": [\n",
    "                        \"length\",\n",
    "                        \"molWeight\",\n",
    "                        \"keywords\",\n",
    "                        \"esm2\",\n",
    "                    ],\n",
    "                },\n",
    "                {\"label\": \"organism\", \"properties\": [\"name\"]},\n",
    "                {\"label\": \"family\", \"properties\": [\"name\"]},\n",
    "            ],\n",
    "            \"edges\": [\n",
    "                {\"label\": \"found_in\"},\n",
    "                {\"label\": \"member_of\"},\n",
    "                {\n",
    "                    \"label\": \"interacts_with\",\n",
    "                    \"properties\": [\"experimentalSystem\", \"throughput\"],\n",
    "                },\n",
    "            ],\n",
    "        },\n",
    "    },\n",
    "    \"outputS3Path\": f\"{S3_URI}/neptune-export\",\n",
    "    \"additionalParams\": {\n",
    "        \"neptune_ml\": {\n",
    "            \"version\": \"v2.0\",\n",
    "            \"targets\": [\n",
    "                {\n",
    "                    \"edge\": [\"protein\", \"interacts_with\", \"protein\"],\n",
    "                    \"type\": \"link_prediction\",\n",
    "                    \"split_rate\": [0.8, 0.2, 0.0],\n",
    "                }\n",
    "            ],\n",
    "            \"features\": [\n",
    "                {\"node\": \"protein\", \"property\": \"length\", \"type\": \"numerical\"},\n",
    "                {\"node\": \"protein\", \"property\": \"molWeight\", \"type\": \"numerical\"},\n",
    "                {\"node\": \"protein\", \"property\": \"esm2\", \"type\": \"none\"},\n",
    "                {\n",
    "                    \"node\": \"protein\",\n",
    "                    \"property\": \"keywords\",\n",
    "                    \"type\": \"category\",\n",
    "                    \"separator\": \";\",\n",
    "                },\n",
    "                {\"node\": \"organism\", \"property\": \"name\", \"type\": \"category\"},\n",
    "                {\"node\": \"family\", \"property\": \"name\", \"type\": \"category\"},\n",
    "                {\n",
    "                    \"edge\": [\"protein\", \"interacts_with\", \"protein\"],\n",
    "                    \"property\": \"experimentalSystem\",\n",
    "                    \"type\": \"category\",\n",
    "                },\n",
    "                {\n",
    "                    \"edge\": [\"protein\", \"interacts_with\", \"protein\"],\n",
    "                    \"property\": \"throughput\",\n",
    "                    \"type\": \"category\",\n",
    "                },\n",
    "            ],\n",
    "        }\n",
    "    },\n",
    "    \"jobSize\": \"medium\",\n",
    "}"
   ]
  },
  {
   "cell_type": "code",
   "execution_count": null,
   "id": "18919f3e",
   "metadata": {
    "tags": []
   },
   "outputs": [],
   "source": [
    "%%neptune_ml export start --export-url {neptune_ml.get_export_service_host()} --export-iam --wait --store-to export_results\n",
    "${export_params}"
   ]
  },
  {
   "cell_type": "markdown",
   "id": "270d16aa",
   "metadata": {},
   "source": [
    "## 2. Submit Feature Processing Job\n"
   ]
  },
  {
   "cell_type": "code",
   "execution_count": null,
   "id": "3bf0abd9-2289-46a1-8009-542691c1b3f9",
   "metadata": {
    "tags": []
   },
   "outputs": [],
   "source": [
    "# The training_job_name can be set to a unique value below, otherwise one will be auto generated\n",
    "training_job_name=neptune_ml.get_training_job_name('link-prediction')\n",
    "print(f\"Training job is {training_job_name}\")"
   ]
  },
  {
   "cell_type": "code",
   "execution_count": null,
   "id": "b9aaf6de",
   "metadata": {
    "tags": []
   },
   "outputs": [],
   "source": [
    "processing_params = f\"\"\"\n",
    "--config-file-name training-data-configuration.json\n",
    "--job-id {training_job_name} \n",
    "--s3-input-uri {export_results['outputS3Uri']} \n",
    "--s3-processed-uri {str(S3_URI)}/preloading \n",
    "--instance-type ml.m5.2xlarge\n",
    "\"\"\""
   ]
  },
  {
   "cell_type": "code",
   "execution_count": null,
   "id": "7db0b83e",
   "metadata": {
    "tags": []
   },
   "outputs": [],
   "source": [
    "%neptune_ml dataprocessing start --wait --store-to processing_results {processing_params}"
   ]
  },
  {
   "cell_type": "markdown",
   "id": "4c74130c-4d81-4da8-9d14-d4aa44459560",
   "metadata": {},
   "source": [
    "## 3. Submit Model Training Job"
   ]
  },
  {
   "cell_type": "markdown",
   "id": "0dea7c50-bd87-4ab6-918f-5973bb02b158",
   "metadata": {},
   "source": [
    "Upload scripts to S3"
   ]
  },
  {
   "cell_type": "code",
   "execution_count": null,
   "id": "34ec602e-d3f7-4531-bedb-4abaa4bdc2b2",
   "metadata": {
    "tags": []
   },
   "outputs": [],
   "source": [
    "\n",
    "s3_custom_source_location = f\"\"\"{str(S3_URI)}/training/source/{training_job_name}\"\"\"\n",
    "\n",
    "!aws s3 cp --recursive src/ $s3_custom_source_location"
   ]
  },
  {
   "cell_type": "code",
   "execution_count": null,
   "id": "75726901-92ee-4b8a-b134-890b60624b77",
   "metadata": {
    "tags": []
   },
   "outputs": [],
   "source": [
    "import requests\n",
    "import os\n",
    "\n",
    "response = requests.post(\n",
    "    url=os.path.join(\"https://\", neptune_ml.get_host() + \":8182\", \"ml/modeltraining\"),\n",
    "    headers={\"Content-Type\": \"application/json\"},\n",
    "    json={\n",
    "        \"dataProcessingJobId\": training_job_name,\n",
    "        \"trainModelS3Location\": f\"{S3_URI}/training/source/{training_job_name}/output\",\n",
    "        \"trainingInstanceType\": \"ml.g5.2xlarge\",\n",
    "        \"modelName\": \"custom\",\n",
    "        \"maxHPONumberOfTrainingJobs\": \"12\",\n",
    "        \"maxHPOParallelTrainingJobs\": \"4\",\n",
    "        \"customModelTrainingParameters\": {\n",
    "            \"sourceS3DirectoryPath\": s3_custom_source_location,\n",
    "            \"trainingEntryPointScript\": \"train.py\",\n",
    "            \"transformEntryPointScript\": \"transform.py\",\n",
    "        },\n",
    "    },\n",
    ")\n",
    "\n",
    "print(response.text)"
   ]
  },
  {
   "cell_type": "markdown",
   "id": "4af1c6da",
   "metadata": {},
   "source": [
    "## 4. Create Inference Endpoint"
   ]
  },
  {
   "cell_type": "code",
   "execution_count": null,
   "id": "7c72ae55",
   "metadata": {},
   "outputs": [],
   "source": [
    "endpoint_params=f\"\"\"\n",
    "--id {training_job_name}\n",
    "--model-training-job-id {training_job_name}\"\"\""
   ]
  },
  {
   "cell_type": "code",
   "execution_count": null,
   "id": "b512fa96",
   "metadata": {},
   "outputs": [],
   "source": [
    "%neptune_ml endpoint create --wait --store-to endpoint_results {endpoint_params}"
   ]
  },
  {
   "cell_type": "code",
   "execution_count": null,
   "id": "6ec8949e",
   "metadata": {},
   "outputs": [],
   "source": [
    "endpoint=endpoint_results['endpoint']['name']"
   ]
  }
 ],
 "metadata": {
  "kernelspec": {
   "display_name": "conda_python3",
   "language": "python",
   "name": "conda_python3"
  },
  "language_info": {
   "codemirror_mode": {
    "name": "ipython",
    "version": 3
   },
   "file_extension": ".py",
   "mimetype": "text/x-python",
   "name": "python",
   "nbconvert_exporter": "python",
   "pygments_lexer": "ipython3",
   "version": "3.10.13"
  }
 },
 "nbformat": 4,
 "nbformat_minor": 5
}
