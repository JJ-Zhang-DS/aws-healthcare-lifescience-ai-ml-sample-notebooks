{
 "cells": [
  {
   "cell_type": "markdown",
   "id": "40eb2629-bd6e-47f9-816b-7a4aee705b9b",
   "metadata": {},
   "source": [
    "# II. Data Exploration\n",
    "\n",
    "This notebook should be uploaded and run on a SageMaker Notebook instance associated with an Amazon Neptune cluster. "
   ]
  },
  {
   "cell_type": "code",
   "execution_count": null,
   "id": "0c961aa4-02cc-4eb5-a1d4-1effd33052e0",
   "metadata": {
    "tags": []
   },
   "outputs": [],
   "source": [
    "%load_ext graph_notebook.magics"
   ]
  },
  {
   "cell_type": "code",
   "execution_count": null,
   "id": "d2254e80-92ef-480a-97d5-08155702a1d7",
   "metadata": {
    "tags": []
   },
   "outputs": [],
   "source": [
    "%graph_notebook_version\n",
    "%graph_notebook_config\n",
    "%status"
   ]
  },
  {
   "cell_type": "markdown",
   "id": "eed60f26-c751-4c85-8203-f5f9ba1b8afc",
   "metadata": {},
   "source": [
    "## Find protein"
   ]
  },
  {
   "cell_type": "code",
   "execution_count": null,
   "id": "126e6463-dfb8-4b9c-bb88-de4cbc4db4a1",
   "metadata": {
    "tags": []
   },
   "outputs": [],
   "source": [
    "%%gremlin\n",
    "\n",
    "g.V().hasLabel('protein').count()"
   ]
  },
  {
   "cell_type": "code",
   "execution_count": null,
   "id": "54b68182-0494-4817-b0e8-dca89dfc47cf",
   "metadata": {
    "tags": []
   },
   "outputs": [],
   "source": [
    "%%gremlin\n",
    "\n",
    "g.V().has(\"taxonId\", \"559292\").has(\"length\", lt(100)).valueMap(\"uniprotId\", \"length\")"
   ]
  },
  {
   "cell_type": "code",
   "execution_count": null,
   "id": "412c15ab-cf21-4d67-8a57-24ac0d1d8c58",
   "metadata": {
    "tags": []
   },
   "outputs": [],
   "source": [
    "%%gremlin\n",
    "\n",
    "g.V('P00546').properties()"
   ]
  },
  {
   "cell_type": "code",
   "execution_count": null,
   "id": "77006e52-193f-4e25-bed8-1922425fae10",
   "metadata": {
    "tags": []
   },
   "outputs": [],
   "source": [
    "%%gremlin\n",
    "\n",
    "g.V('P00546').properties('keywords').value()"
   ]
  },
  {
   "cell_type": "code",
   "execution_count": null,
   "id": "2be9589f-1e64-4794-b082-9eaaffead504",
   "metadata": {
    "tags": []
   },
   "outputs": [],
   "source": [
    "%%gremlin\n",
    "\n",
    "g.V('Q96JN0').properties('protT5').value()"
   ]
  },
  {
   "cell_type": "code",
   "execution_count": null,
   "id": "691c570a-ce8d-47af-ad71-edafb97feeb4",
   "metadata": {
    "tags": []
   },
   "outputs": [],
   "source": [
    "%%gremlin\n",
    "\n",
    "g.V('P00546').out('interacts_with').path()"
   ]
  },
  {
   "cell_type": "code",
   "execution_count": null,
   "id": "ecb5f2af-1a08-4951-9f4d-6b88a44b250b",
   "metadata": {
    "tags": []
   },
   "outputs": [],
   "source": [
    "%%gremlin\n",
    "\n",
    "g.V('P00546').out('included_in').path()"
   ]
  },
  {
   "cell_type": "markdown",
   "id": "9bc29fd9-221c-4310-9ecf-a0034e531a08",
   "metadata": {},
   "source": [
    "## Find family"
   ]
  },
  {
   "cell_type": "code",
   "execution_count": null,
   "id": "db7a3fb2-da6c-4fc4-86d3-c3da8d965a0f",
   "metadata": {
    "tags": []
   },
   "outputs": [],
   "source": [
    "%%gremlin\n",
    "\n",
    "g.V().hasLabel('family').count()"
   ]
  },
  {
   "cell_type": "code",
   "execution_count": null,
   "id": "dee9fa25-d16f-467a-9a54-3ce9a83d20a5",
   "metadata": {
    "tags": []
   },
   "outputs": [],
   "source": [
    "%%gremlin\n",
    "\n",
    "g.V().hasLabel('organism').properties('name').value()"
   ]
  },
  {
   "cell_type": "code",
   "execution_count": null,
   "id": "37cb4426-1ce4-469e-b6b2-30a848e2a9df",
   "metadata": {
    "tags": []
   },
   "outputs": [],
   "source": [
    "%%gremlin -p v,e,v\n",
    "\n",
    "g.V('Protein_kinase_ATP_BS').in().properties('organism')"
   ]
  },
  {
   "cell_type": "code",
   "execution_count": null,
   "id": "f8deaaa6-8f4a-4d04-ab04-59770e015f92",
   "metadata": {},
   "outputs": [],
   "source": []
  }
 ],
 "metadata": {
  "kernelspec": {
   "display_name": "Python 3",
   "language": "python",
   "name": "python3"
  },
  "language_info": {
   "codemirror_mode": {
    "name": "ipython",
    "version": 3
   },
   "file_extension": ".py",
   "mimetype": "text/x-python",
   "name": "python",
   "nbconvert_exporter": "python",
   "pygments_lexer": "ipython3",
   "version": "3.10.8"
  }
 },
 "nbformat": 4,
 "nbformat_minor": 5
}
