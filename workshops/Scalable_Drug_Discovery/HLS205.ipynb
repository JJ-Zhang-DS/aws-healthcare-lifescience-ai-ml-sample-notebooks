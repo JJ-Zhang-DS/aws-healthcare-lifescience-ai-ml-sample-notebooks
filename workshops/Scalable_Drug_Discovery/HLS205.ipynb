{
 "cells": [
  {
   "cell_type": "markdown",
   "id": "a185306d-af9b-482d-9af6-0bfe83df0d00",
   "metadata": {},
   "source": [
    "# Building Scalable Drug Discovery Applications"
   ]
  },
  {
   "cell_type": "markdown",
   "id": "aa7e2c2f",
   "metadata": {},
   "source": [
    "![Active learning can accelerate DMTL cycles](img/dmtl.png)"
   ]
  },
  {
   "cell_type": "markdown",
   "id": "ee4416b4-ced1-4d1e-874d-cdaa4c1a7c3c",
   "metadata": {},
   "source": [
    "---\n",
    "## 1. Setup"
   ]
  },
  {
   "cell_type": "code",
   "execution_count": null,
   "id": "0271bc47-6681-4ee6-a59c-1dc13c0c6a20",
   "metadata": {},
   "outputs": [],
   "source": [
    "# %pip install -U py3dmol biotite xformers evo_prot_grad"
   ]
  },
  {
   "cell_type": "code",
   "execution_count": null,
   "id": "a8e04303-0640-45a5-a02c-fd8785d09fa8",
   "metadata": {},
   "outputs": [],
   "source": [
    "import biotite\n",
    "from biotite.structure.io import pdb\n",
    "from biotite.database import rcsb\n",
    "from biotite.sequence import ProteinSequence\n",
    "import numpy as np\n",
    "import tempfile\n",
    "import helpers\n",
    "import pandas as pd\n"
   ]
  },
  {
   "cell_type": "markdown",
   "id": "6f4a5056-27e3-4bfe-87ac-67c8e0bb66a2",
   "metadata": {},
   "source": [
    "---\n",
    "## 2. View Nanobody sequence and structure"
   ]
  },
  {
   "cell_type": "code",
   "execution_count": null,
   "id": "4b584896-0e4b-4f24-973d-10a264d07157",
   "metadata": {},
   "outputs": [],
   "source": [
    "pdb_id = \"7eow\"\n",
    "stack = biotite.structure.io.pdb.get_structure(\n",
    "    pdb.PDBFile.read(rcsb.fetch(pdb_id, \"pdb\"))\n",
    ")\n",
    "vf_factor = helpers.clean_structure(stack[0][stack.chain_id == \"A\"])\n",
    "caplacizumab = helpers.clean_structure(stack[0][stack.chain_id == \"B\"])\n",
    "\n",
    "caplacizumab_seq = biotite.structure.to_sequence(caplacizumab)[0][0]"
   ]
  },
  {
   "cell_type": "code",
   "execution_count": null,
   "id": "f10e04de-8d71-44c1-9d4c-d77a4555f6f0",
   "metadata": {},
   "outputs": [],
   "source": [
    "cdr1 = list(range(25, 32))\n",
    "cdr2 = list(range(51, 57))\n",
    "cdr3 = list(range(98, 117))\n",
    "cdrs = cdr1 + cdr2 + cdr3\n",
    "cdrs_1_base = [i+1 for i in cdrs]\n",
    "\n",
    "preserved_regions = [\n",
    "    (0, cdr1[0]),\n",
    "    (cdr1[-1]+1, cdr2[0]),\n",
    "    (cdr2[-1]+1, cdr3[0]),\n",
    "    (cdr3[-1]+1, len(caplacizumab_seq)),\n",
    "]\n",
    "\n",
    "print(caplacizumab_seq)\n",
    "print(helpers.format_cdrs(caplacizumab_seq, cdrs))"
   ]
  },
  {
   "cell_type": "code",
   "execution_count": null,
   "id": "472564b0-a647-4e85-a5d7-9dd38ca572af",
   "metadata": {},
   "outputs": [],
   "source": [
    "import py3Dmol\n",
    "\n",
    "view = py3Dmol.view(width=600, height=600)\n",
    "view.addModel(helpers.to_pdb_string(vf_factor))\n",
    "view.addModel(helpers.to_pdb_string(caplacizumab))\n",
    "view.setStyle({\"chain\": \"A\"}, {\"cartoon\": {\"color\": \"orange\", \"opacity\": 0.6}})\n",
    "view.setStyle({\"chain\": \"B\"}, {\"cartoon\": {\"color\": \"blue\", \"opacity\": 0.6}})\n",
    "view.addStyle(\n",
    "    {\"chain\": \"B\", \"resi\": cdrs_1_base}, {\"cartoon\": {\"color\": \"#57C4F8\", \"opacity\": 1.0}}\n",
    ")\n",
    "view.zoomTo()\n",
    "view.show()"
   ]
  },
  {
   "cell_type": "markdown",
   "id": "58d48644-f8c7-4f36-b073-4bbc94b3589d",
   "metadata": {},
   "source": [
    "---\n",
    "## 3. Generate Sequence Variants\n",
    "\n",
    "![Generate sequence variants using directed evolution](img/gen.png)"
   ]
  },
  {
   "cell_type": "markdown",
   "id": "636dbeef-2d09-4324-b3a8-04bb3740afd5",
   "metadata": {},
   "source": [
    "### 3.1. Random Mutation"
   ]
  },
  {
   "cell_type": "code",
   "execution_count": null,
   "id": "14174916-db2b-4d77-bfcc-3c493e268b0c",
   "metadata": {
    "scrolled": true
   },
   "outputs": [],
   "source": [
    "generated_seqs = helpers.random_evolution(\n",
    "    wt_protein=str(caplacizumab_seq),  # path to wild type fasta file)\n",
    "    n_output_seqs=1000,\n",
    "    preserved_regions=preserved_regions,  # leave the framework regions unchanged\n",
    ")\n",
    "\n",
    "generated_seqs['lab_result'] = np.NaN\n",
    "\n",
    "n=25\n",
    "print(caplacizumab_seq)\n",
    "for i in generated_seqs[:n].itertuples():\n",
    "    print(helpers.format_cdrs(i.seq, cdrs))"
   ]
  },
  {
   "cell_type": "code",
   "execution_count": null,
   "id": "6e1fdb56-6de4-4af5-bc2e-d4db736b94e4",
   "metadata": {},
   "outputs": [],
   "source": [
    "generated_seqs"
   ]
  },
  {
   "cell_type": "markdown",
   "id": "560c4c46-46c3-4345-9580-08689615737a",
   "metadata": {},
   "source": [
    "### 3.2. Directed Evolution"
   ]
  },
  {
   "cell_type": "code",
   "execution_count": null,
   "id": "a0a2e23a-ea02-42b7-b422-d41347b175c9",
   "metadata": {
    "scrolled": true
   },
   "outputs": [],
   "source": [
    "# generated_seqs = helpers.run_evo_prot_grad(\n",
    "#     wt_protein=caplacizumab_seq,  # path to wild type fasta file\n",
    "#     output=\"all\",  # return best, last, all variants\n",
    "#     expert=\"esm\",  # list of experts to compose\n",
    "#     parallel_chains=10,  # number of parallel chains to run\n",
    "#     n_steps=20,  # number of MCMC steps per chain\n",
    "#     max_mutations=-1,  # maximum number of mutations per variant\n",
    "#     preserved_regions=preserved_regions,  # leave the framework regions unchanged\n",
    "# )['seq']\n",
    "\n",
    "# display(generated_seqs)"
   ]
  },
  {
   "cell_type": "code",
   "execution_count": null,
   "id": "fb49e1b6-a8a5-4308-ab0b-fa607b4e4c90",
   "metadata": {},
   "outputs": [],
   "source": []
  },
  {
   "cell_type": "markdown",
   "id": "d4f7eb2d-b6af-45cc-847a-2c56b7d9d830",
   "metadata": {},
   "source": [
    "---\n",
    "## 4. Select Samples\n",
    "\n",
    "![Identify candidates for lab testing using a selection model](img/select.png)"
   ]
  },
  {
   "cell_type": "code",
   "execution_count": null,
   "id": "32cecb03-806d-460e-b988-7948ebc1c0fd",
   "metadata": {},
   "outputs": [],
   "source": [
    "no_lab_data = generated_seqs[generated_seqs['lab_result'].isnull()]\n",
    "selected_seqs = no_lab_data.sample(100)\n",
    "selected_seqs"
   ]
  },
  {
   "cell_type": "markdown",
   "id": "98b3386d-6402-4e15-8626-a6e939412f4c",
   "metadata": {},
   "source": [
    "---\n",
    "## 5. Submit to Lab\n",
    "\n",
    "![Submit selected samples for experimental testing](img/lab.png)"
   ]
  },
  {
   "cell_type": "code",
   "execution_count": null,
   "id": "0a5ffd7a-442d-4191-93f0-7ecb31a626eb",
   "metadata": {
    "scrolled": true
   },
   "outputs": [],
   "source": [
    "lab_results = helpers.submit_seqs_to_lab(selected_seqs, delay=0)\n",
    "lab_results"
   ]
  },
  {
   "cell_type": "markdown",
   "id": "d13195cf-e65c-4504-ab57-fe0840f3bace",
   "metadata": {},
   "source": [
    "---\n",
    "## 6. Fine-Tune Scoring Model\n",
    "\n",
    "![Improve the scoring model using experimental results](img/ft.png)"
   ]
  },
  {
   "cell_type": "code",
   "execution_count": null,
   "id": "70dde8ce-bf58-415f-8e83-2d84686d90b3",
   "metadata": {},
   "outputs": [],
   "source": [
    "# lab_results"
   ]
  },
  {
   "cell_type": "markdown",
   "id": "9235eccc-e4e8-4db1-98b1-78a5968903bc",
   "metadata": {},
   "source": [
    "---\n",
    "## 7. Score\n",
    "\n",
    "![Predict high-performing variants using a scoring model](img/score.png)"
   ]
  },
  {
   "cell_type": "code",
   "execution_count": null,
   "id": "77af437c-abf7-4a42-b936-b57aa30ed8e7",
   "metadata": {},
   "outputs": [],
   "source": [
    "for result in lab_results.itertuples():\n",
    "    generated_seqs.loc[[result.Index],['lab_result']] = result.lab_result\n",
    "display(generated_seqs)"
   ]
  },
  {
   "cell_type": "code",
   "execution_count": null,
   "id": "87407f9a-f53e-4a63-9534-40abd6e95b45",
   "metadata": {},
   "outputs": [],
   "source": [
    "predicted_results = helpers.run_scoring_model(generated_seqs)"
   ]
  },
  {
   "cell_type": "code",
   "execution_count": null,
   "id": "e3f989df-866c-452e-972e-f456b13cca76",
   "metadata": {},
   "outputs": [],
   "source": [
    "for result in predicted_results.itertuples():\n",
    "    generated_seqs.loc[[result.Index],['last_prediction']] = result.prediction\n",
    "display(generated_seqs)"
   ]
  },
  {
   "cell_type": "markdown",
   "id": "1228763e-4475-4f89-9713-65f0c889e579",
   "metadata": {},
   "source": [
    "---\n",
    "## 8. Repeat"
   ]
  },
  {
   "cell_type": "code",
   "execution_count": null,
   "id": "92c8d608-b36d-40b9-96cb-17dcddf13470",
   "metadata": {},
   "outputs": [],
   "source": [
    "# Select another batch of samples without lab data\n",
    "selected_seqs = generated_seqs[generated_seqs['lab_result'].isnull()].sort_values(by='last_prediction', ascending=False)[:100]\n",
    "\n",
    "# Submit to lab\n",
    "lab_results = helpers.submit_seqs_to_lab(selected_seqs, delay=0)\n",
    "\n",
    "# Fine-Tune on new data\n",
    "#TBD\n",
    "\n",
    "# Score generated sequences\n",
    "for result in lab_results.itertuples():\n",
    "    generated_seqs.loc[[result.Index],['lab_result']] = result.lab_result\n",
    "\n",
    "for result in predicted_results.itertuples():\n",
    "    generated_seqs.loc[[result.Index],['last_prediction']] = result.prediction\n",
    "display(generated_seqs)\n",
    "\n",
    "generated_seqs.count()"
   ]
  },
  {
   "cell_type": "code",
   "execution_count": null,
   "id": "7512b053-841c-4804-b3fc-23c0d24a6d0c",
   "metadata": {},
   "outputs": [],
   "source": []
  }
 ],
 "metadata": {
  "kernelspec": {
   "display_name": "Python 3 (ipykernel)",
   "language": "python",
   "name": "python3"
  },
  "language_info": {
   "codemirror_mode": {
    "name": "ipython",
    "version": 3
   },
   "file_extension": ".py",
   "mimetype": "text/x-python",
   "name": "python",
   "nbconvert_exporter": "python",
   "pygments_lexer": "ipython3",
   "version": "3.11.9"
  }
 },
 "nbformat": 4,
 "nbformat_minor": 5
}
