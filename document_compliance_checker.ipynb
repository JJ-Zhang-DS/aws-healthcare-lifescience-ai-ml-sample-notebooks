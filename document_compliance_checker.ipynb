{
 "cells": [
  {
   "cell_type": "markdown",
   "id": "42e11828",
   "metadata": {},
   "source": [
    "# Document Compliance with Bedrock and Claude\n",
    "> *This notebook should work well with the **`Data Science 3.0`** kernel in SageMaker Studio*"
   ]
  },
  {
   "cell_type": "markdown",
   "id": "2ad4f5c4",
   "metadata": {},
   "source": [
    "## Introduction\n",
    "\n",
    "Pharmaceutical Manufacturing faces a complex regulatory and quality hurdle since there is a pressing need to ensure that manufacturing processes adhere to regulatory frameworks. Frequently, manual analysis of Standard Operating Procedures (SOPs) that govern Manufacturing Protocols is required.\n",
    "\n",
    "In this notebook, we will explore how Amazon Bedrock and Anthropic's Claude models can be used to detect compliance issues in documents and generate suggestions to remediate any problems. Compliance with regulations, policies, and best practices is crucial for many organizations, but manually reviewing documents is tedious and error-prone. AI assistants quickly built using Amazon Bedrock and using LLM's like the Claude models can automate parts of this process.\n",
    "\n",
    "We will walk through an example using a sample text document. Claude will analyze the document and highlight any compliance issues it detects. We will then request Claude to remediate the document to correct any problems and bring it into compliance.\n",
    "\n",
    "By the end of this notebook, you should have a good understanding of how to configure and use Amazon Bedrock, use a given model, in this case Claude, and integrate it into applications that require document compliance checking and assistance. The methods shown can be adapted to many different domains including legal contracts, financial reports, medical records, and more.\n",
    "\n",
    "You can learn more about [Bedrock here](https://aws.amazon.com/bedrock/).  Look here for details about the [Anthropic Claude Models and how to use them with Bedrock](https://aws.amazon.com/bedrock/claude/)\n",
    "\n",
    "#### Context\n",
    "Protocol documents and the rules to verify them (standard operating procedures) will be combined using a natural language prompt which instructs the LLM how to compare them and what to report back to the requestor. We'll experiment with two scenarios:\n",
    "1. Compare the protocol docuemnt against the standard operating procedure and __report__ any deviations.\n",
    "1. Compare the protocol document against the standard operating procedure and __correct__ any deviations.\n",
    "\n",
    "![](images/manufacturing_diagram.png)\n",
    "\n",
    "#### Pattern\n",
    "![](images/bedrock.jpg)"
   ]
  },
  {
   "cell_type": "code",
   "execution_count": 13,
   "id": "138804ac-2519-4484-a0b1-5e1d596e7954",
   "metadata": {
    "tags": []
   },
   "outputs": [
    {
     "name": "stdout",
     "output_type": "stream",
     "text": [
      "Collecting boto3\n",
      "  Obtaining dependency information for boto3 from https://files.pythonhosted.org/packages/17/a4/e161e777d445a5b1029eff4c4272896410d7dac55e17f2889bd9a3517eed/boto3-1.28.78-py3-none-any.whl.metadata\n",
      "  Downloading boto3-1.28.78-py3-none-any.whl.metadata (6.7 kB)\n",
      "Collecting botocore<1.32.0,>=1.31.78 (from boto3)\n",
      "  Obtaining dependency information for botocore<1.32.0,>=1.31.78 from https://files.pythonhosted.org/packages/64/93/d472917cc8000157d1220f18edf175e06b7f1ac92970e7cdb719d4405b5a/botocore-1.31.78-py3-none-any.whl.metadata\n",
      "  Downloading botocore-1.31.78-py3-none-any.whl.metadata (6.1 kB)\n",
      "Collecting jmespath<2.0.0,>=0.7.1 (from boto3)\n",
      "  Downloading jmespath-1.0.1-py3-none-any.whl (20 kB)\n",
      "Collecting s3transfer<0.8.0,>=0.7.0 (from boto3)\n",
      "  Obtaining dependency information for s3transfer<0.8.0,>=0.7.0 from https://files.pythonhosted.org/packages/5a/4b/fec9ce18f8874a96c5061422625ba86c3ee1e6587ccd92ff9f5bf7bd91b2/s3transfer-0.7.0-py3-none-any.whl.metadata\n",
      "  Downloading s3transfer-0.7.0-py3-none-any.whl.metadata (1.8 kB)\n",
      "Collecting python-dateutil<3.0.0,>=2.1 (from botocore<1.32.0,>=1.31.78->boto3)\n",
      "  Downloading python_dateutil-2.8.2-py2.py3-none-any.whl (247 kB)\n",
      "\u001b[2K     \u001b[90m━━━━━━━━━━━━━━━━━━━━━━━━━━━━━━━━━━━━━━━\u001b[0m \u001b[32m247.7/247.7 kB\u001b[0m \u001b[31m3.5 MB/s\u001b[0m eta \u001b[36m0:00:00\u001b[0m00:01\u001b[0m\n",
      "\u001b[?25hCollecting urllib3<2.1,>=1.25.4 (from botocore<1.32.0,>=1.31.78->boto3)\n",
      "  Obtaining dependency information for urllib3<2.1,>=1.25.4 from https://files.pythonhosted.org/packages/d2/b2/b157855192a68541a91ba7b2bbcb91f1b4faa51f8bae38d8005c034be524/urllib3-2.0.7-py3-none-any.whl.metadata\n",
      "  Downloading urllib3-2.0.7-py3-none-any.whl.metadata (6.6 kB)\n",
      "Collecting six>=1.5 (from python-dateutil<3.0.0,>=2.1->botocore<1.32.0,>=1.31.78->boto3)\n",
      "  Downloading six-1.16.0-py2.py3-none-any.whl (11 kB)\n",
      "Downloading boto3-1.28.78-py3-none-any.whl (135 kB)\n",
      "\u001b[2K   \u001b[90m━━━━━━━━━━━━━━━━━━━━━━━━━━━━━━━━━━━━━━━━\u001b[0m \u001b[32m135.8/135.8 kB\u001b[0m \u001b[31m2.3 MB/s\u001b[0m eta \u001b[36m0:00:00\u001b[0m:00:01\u001b[0m\n",
      "\u001b[?25hDownloading botocore-1.31.78-py3-none-any.whl (11.3 MB)\n",
      "\u001b[2K   \u001b[90m━━━━━━━━━━━━━━━━━━━━━━━━━━━━━━━━━━━━━━━━\u001b[0m \u001b[32m11.3/11.3 MB\u001b[0m \u001b[31m33.7 MB/s\u001b[0m eta \u001b[36m0:00:00\u001b[0m:00:01\u001b[0m0:01\u001b[0m\n",
      "\u001b[?25hDownloading s3transfer-0.7.0-py3-none-any.whl (79 kB)\n",
      "\u001b[2K   \u001b[90m━━━━━━━━━━━━━━━━━━━━━━━━━━━━━━━━━━━━━━━━\u001b[0m \u001b[32m79.8/79.8 kB\u001b[0m \u001b[31m1.4 MB/s\u001b[0m eta \u001b[36m0:00:00\u001b[0meta \u001b[36m0:00:01\u001b[0m\n",
      "\u001b[?25hDownloading urllib3-2.0.7-py3-none-any.whl (124 kB)\n",
      "\u001b[2K   \u001b[90m━━━━━━━━━━━━━━━━━━━━━━━━━━━━━━━━━━━━━━━━\u001b[0m \u001b[32m124.2/124.2 kB\u001b[0m \u001b[31m2.0 MB/s\u001b[0m eta \u001b[36m0:00:00\u001b[0m:00:01\u001b[0m\n",
      "\u001b[?25hInstalling collected packages: urllib3, six, jmespath, python-dateutil, botocore, s3transfer, boto3\n",
      "  Attempting uninstall: urllib3\n",
      "    Found existing installation: urllib3 1.26.18\n",
      "    Uninstalling urllib3-1.26.18:\n",
      "      Successfully uninstalled urllib3-1.26.18\n",
      "  Attempting uninstall: six\n",
      "    Found existing installation: six 1.16.0\n",
      "    Uninstalling six-1.16.0:\n",
      "      Successfully uninstalled six-1.16.0\n",
      "  Attempting uninstall: jmespath\n",
      "    Found existing installation: jmespath 0.10.0\n",
      "    Uninstalling jmespath-0.10.0:\n",
      "      Successfully uninstalled jmespath-0.10.0\n",
      "  Attempting uninstall: python-dateutil\n",
      "    Found existing installation: python-dateutil 2.8.2\n",
      "    Uninstalling python-dateutil-2.8.2:\n",
      "      Successfully uninstalled python-dateutil-2.8.2\n",
      "  Attempting uninstall: botocore\n",
      "    Found existing installation: botocore 1.31.42\n",
      "    Uninstalling botocore-1.31.42:\n",
      "      Successfully uninstalled botocore-1.31.42\n",
      "  Attempting uninstall: s3transfer\n",
      "    Found existing installation: s3transfer 0.6.0\n",
      "    Uninstalling s3transfer-0.6.0:\n",
      "      Successfully uninstalled s3transfer-0.6.0\n",
      "  Attempting uninstall: boto3\n",
      "    Found existing installation: boto3 1.28.42\n",
      "    Uninstalling boto3-1.28.42:\n",
      "      Successfully uninstalled boto3-1.28.42\n",
      "\u001b[31mERROR: pip's dependency resolver does not currently take into account all the packages that are installed. This behaviour is the source of the following dependency conflicts.\n",
      "spyder 5.3.3 requires pyqt5<5.16, which is not installed.\n",
      "spyder 5.3.3 requires pyqtwebengine<5.16, which is not installed.\n",
      "awscli 1.29.42 requires botocore==1.31.42, but you have botocore 1.31.78 which is incompatible.\n",
      "awscli 1.29.42 requires s3transfer<0.7.0,>=0.6.0, but you have s3transfer 0.7.0 which is incompatible.\n",
      "distributed 2022.7.0 requires tornado<6.2,>=6.0.3, but you have tornado 6.3.3 which is incompatible.\n",
      "jupyterlab 3.4.4 requires jupyter-server~=1.16, but you have jupyter-server 2.7.3 which is incompatible.\n",
      "jupyterlab-server 2.10.3 requires jupyter-server~=1.4, but you have jupyter-server 2.7.3 which is incompatible.\n",
      "notebook 6.5.5 requires jupyter-client<8,>=5.3.4, but you have jupyter-client 8.3.1 which is incompatible.\n",
      "notebook 6.5.5 requires pyzmq<25,>=17, but you have pyzmq 25.1.1 which is incompatible.\n",
      "panel 0.13.1 requires bokeh<2.5.0,>=2.4.0, but you have bokeh 3.2.2 which is incompatible.\n",
      "sagemaker-datawrangler 0.4.3 requires sagemaker-data-insights==0.4.0, but you have sagemaker-data-insights 0.3.3 which is incompatible.\n",
      "spyder 5.3.3 requires ipython<8.0.0,>=7.31.1, but you have ipython 8.15.0 which is incompatible.\n",
      "spyder 5.3.3 requires pylint<3.0,>=2.5.0, but you have pylint 3.0.0a7 which is incompatible.\n",
      "spyder-kernels 2.3.3 requires ipython<8,>=7.31.1; python_version >= \"3\", but you have ipython 8.15.0 which is incompatible.\n",
      "spyder-kernels 2.3.3 requires jupyter-client<8,>=7.3.4; python_version >= \"3\", but you have jupyter-client 8.3.1 which is incompatible.\u001b[0m\u001b[31m\n",
      "\u001b[0mSuccessfully installed boto3-1.28.78 botocore-1.31.78 jmespath-1.0.1 python-dateutil-2.8.2 s3transfer-0.7.0 six-1.16.0 urllib3-2.0.7\n",
      "\u001b[33mWARNING: Running pip as the 'root' user can result in broken permissions and conflicting behaviour with the system package manager. It is recommended to use a virtual environment instead: https://pip.pypa.io/warnings/venv\u001b[0m\u001b[33m\n",
      "\u001b[0m\n",
      "\u001b[1m[\u001b[0m\u001b[34;49mnotice\u001b[0m\u001b[1;39;49m]\u001b[0m\u001b[39;49m A new release of pip is available: \u001b[0m\u001b[31;49m23.2.1\u001b[0m\u001b[39;49m -> \u001b[0m\u001b[32;49m23.3.1\u001b[0m\n",
      "\u001b[1m[\u001b[0m\u001b[34;49mnotice\u001b[0m\u001b[1;39;49m]\u001b[0m\u001b[39;49m To update, run: \u001b[0m\u001b[32;49mpip install --upgrade pip\u001b[0m\n"
     ]
    }
   ],
   "source": [
    "!pip install  --force-reinstall boto3"
   ]
  },
  {
   "cell_type": "markdown",
   "id": "e1be4837",
   "metadata": {},
   "source": [
    "## Environment Setup\n",
    "### Import requried python libraries"
   ]
  },
  {
   "cell_type": "code",
   "execution_count": 1,
   "id": "dfa6287d-f48b-459a-91e5-1116b7c4c14e",
   "metadata": {
    "tags": []
   },
   "outputs": [],
   "source": [
    "import boto3        # AWS SDK for calling web services including Bedrock\n",
    "import json         # Tools for manipulating JS Object Notation (JSON) structures\n",
    "import time         # Python date/time library\n",
    "from pathlib import Path"
   ]
  },
  {
   "cell_type": "markdown",
   "id": "3ed11a93",
   "metadata": {},
   "source": [
    "### Create AWS Session \n",
    "#### SageMaker session\n",
    "This connection approach assumnes you're running on Amazon SageMaker. The only parameter we set is the region (us-east-1)"
   ]
  },
  {
   "cell_type": "code",
   "execution_count": 3,
   "id": "5439bf37",
   "metadata": {},
   "outputs": [],
   "source": [
    "awsSession = boto3.Session(region_name='us-east-1')"
   ]
  },
  {
   "cell_type": "markdown",
   "id": "5ef4d1aa",
   "metadata": {},
   "source": [
    "#### Standalone Session when running outside of Amazon SageMaker\n",
    "Comment out the above cell and uncomment the following cell.  The following cell assumes that you use a CSV file which contains your AWS Access Key ID and also your AWS Secret Access Key. These can be provided for you from your AWS Administrator for your account."
   ]
  },
  {
   "cell_type": "code",
   "execution_count": 4,
   "id": "d44c1f08",
   "metadata": {},
   "outputs": [],
   "source": [
    "# pathToCredentialsCSVFile = Path('/Users/peerboer/Documents/AWSAccounts/Personal/peer.boerner_accessKeys.csv')\n",
    "\n",
    "# with open(pathToCredentialsCSVFile,\"r\") as fileId:\n",
    "#    credReader = csv.reader(fileId)\n",
    "#    header = next(credReader)\n",
    "#    aws_access_key_id, aws_secret_access_key = next(credReader)\n",
    "\n",
    "# awsSession = boto3.Session(aws_access_key_id=aws_access_key_id,\n",
    "#                           aws_secret_access_key=aws_secret_access_key,\n",
    "#                           region_name='us-east-1')"
   ]
  },
  {
   "cell_type": "markdown",
   "id": "a51d07d9",
   "metadata": {},
   "source": [
    "Create an instance of the Bedrock Runtime client using the session"
   ]
  },
  {
   "cell_type": "code",
   "execution_count": 5,
   "id": "b8b24b5a",
   "metadata": {},
   "outputs": [],
   "source": [
    "# Connect to the Bedrock runtime client in us-east-1\n",
    "bedrock_runtime = awsSession.client(service_name='bedrock-runtime',\n",
    "                                    region_name='us-east-1')"
   ]
  },
  {
   "cell_type": "markdown",
   "id": "2f1a19b3",
   "metadata": {},
   "source": [
    "### Call LLM function\n",
    "The __callModel__ function will use the LLM model name and prompt to call Bedrock and return the results. Later on, you can call this function repeatedly as you experiment with different Claude LLMs, prompts and parameters.\n",
    "\n",
    "What's important to note here is the single call to invoke a Bedrock model:\n",
    "\n",
    "`bedrock_runtime.invoke_model()`"
   ]
  },
  {
   "cell_type": "code",
   "execution_count": 6,
   "id": "dac0a436-2655-404d-9919-80c81a86211f",
   "metadata": {
    "tags": []
   },
   "outputs": [],
   "source": [
    "def callModel(bedrockRunTime, llmName, thePrompt):\n",
    "    # Grab the value selected in the drop-down control above.\n",
    "    modelId = llmName\n",
    "    accept = 'application/json'\n",
    "    contentType = 'application/json'\n",
    "    \n",
    "    # Simply call Bedrock with the invoke_model method\n",
    "    response = bedrock_runtime.invoke_model(body=thePrompt, \n",
    "                                            modelId=modelId, \n",
    "                                            accept=accept, \n",
    "                                            contentType=contentType)\n",
    "    \n",
    "    # The response will contain lots of information about the Bedrock call. For this notebook example,\n",
    "    # we'll just use the body, which is the model's answer returned in JSON format. We'll load the response body \n",
    "    # into a Python dictionary making it easy to work with.\n",
    "    response_body = json.loads(response.get('body').read())\n",
    "\n",
    "    return response_body\n"
   ]
  },
  {
   "cell_type": "markdown",
   "id": "8d34dfa3",
   "metadata": {},
   "source": [
    "### Configure the LLM\n",
    "Below are 3 Claude models offered through Amazon Bedrock at the time of this notebook's writing. You can experiment with each of them by uncommenting the LLM statement you want to use and commenting out the rest. For this notebook, we begin with the claude-instant-v1 model, the smallest of their offering, which works very well for this task.\n"
   ]
  },
  {
   "cell_type": "code",
   "execution_count": 7,
   "id": "147ee716",
   "metadata": {},
   "outputs": [],
   "source": [
    "# Uncomment the model you want to use. We'll start with Claude instant\n",
    "llm = 'anthropic.claude-instant-v1'\n",
    "# llm = 'anthropic.claude-v1' \n",
    "# llm = 'anthropic.claude-v2'"
   ]
  },
  {
   "cell_type": "markdown",
   "id": "0f1147e6",
   "metadata": {},
   "source": [
    "### Configure the LLM parameters\n",
    "Below you can specify the various parameters that are used by the LLM. The available LLM parameters vary slightly by model provider. Here are common model parameters you can use with the Claude models. \n",
    "\n",
    "**Temperature (temperature in the prompt body)** – Large language models use probability to construct the words in a sequence. For any \n",
    "given next word, there is a probability distribution of options for the next word in the sequence. When \n",
    "you set the temperature closer to zero, the model tends to select the higher-probability words. When \n",
    "you set the temperature further away from zero, the model may select a lower-probability word.\n",
    "\n",
    "In technical terms, the temperature modulates the probability density function for the next tokens, \n",
    "implementing the temperature sampling technique. This parameter can deepen or flatten the density \n",
    "function curve. A lower value results in a steeper curve with more deterministic responses, and a higher \n",
    "value results in a flatter curve with more random responses.\n",
    "\n",
    "**Top K (top_k in the prompt body)** – Temperature defines the probability distribution of potential words, and Top K defines the cut \n",
    "off where the model no longer selects the words. For example, if K=50, the model selects from 50 of the \n",
    "most probable words that could be next in a given sequence. This reduces the probability that an unusual \n",
    "word gets selected next in a sequence.\n",
    "In technical terms, Top K is the number of the highest-probability vocabulary tokens to keep for Top-\n",
    "K-filtering - This limits the distribution of probable tokens, so the model chooses one of the highest-\n",
    "probability tokens.\n",
    "\n",
    "**Top P (top_p in the prompt body)** – Top P defines a cut off based on the sum of probabilities of the potential choices. If you set Top \n",
    "P below 1.0, the model considers the most probable options and ignores less probable ones. Top P is \n",
    "similar to Top K, but instead of capping the number of choices, it caps choices based on the sum of their \n",
    "probabilities.\n",
    "For the example prompt \"I hear the hoof beats of ,\" you may want the model to provide \"horses,\" \n",
    "\"zebras\" or \"unicorns\" as the next word. If you set the temperature to its maximum, without capping \n",
    "Top K or Top P, you increase the probability of getting unusual results such as \"unicorns.\" If you set the \n",
    "temperature to 0, you increase the probability of \"horses.\" If you set a high temperature and set Top K or \n",
    "Top P to the maximum, you increase the probability of \"horses\" or \"zebras,\" and decrease the probability \n",
    "of \"unicorns.\"\n",
    "\n",
    "**Max Tokens to Sample (max_tokens_to_sample in the prompt body)** – Configures the maximum number of tokens to use in the generated \n",
    "response.\n",
    "\n",
    "**Stop Sequences (stop_sequences as an array in the prompt body)** - Stop sequences tell the model when to stop scanning the input and are specified as a list in the prompt body. For Claude, the default stop sequence is \"\\n\\nHuman:\".\n",
    "\n",
    "After you run through this notebook the first time, you should experiment with different parameter values to see how the model responds.\n",
    "\n"
   ]
  },
  {
   "cell_type": "code",
   "execution_count": 8,
   "id": "bd6a3c65",
   "metadata": {},
   "outputs": [],
   "source": [
    "# Set a temperature value. We'll start with .5\n",
    "temperature =0.5\n",
    "\n",
    "# Set the maximum number of tokens to scan\n",
    "# Define a GUI slider for the maximum tokens to scan\n",
    "maxTokensToScan = 300"
   ]
  },
  {
   "cell_type": "markdown",
   "id": "f8260a91",
   "metadata": {},
   "source": [
    "## Pharmaceutical Manufacturing Documents\n",
    "Here we'll work with determining if a given manufacturing document complies with the related standard operating procedure.\n",
    "\n",
    "### Generate Manufacturing Document Prompt\n",
    "This function will return an LLM prompt to compare a manufacturing protocol against a standard operating procedure. The notebook will use this function to create prompts for a few manufacturing protocol examples later on."
   ]
  },
  {
   "cell_type": "code",
   "execution_count": 9,
   "id": "be78120c-2bf7-4fef-9eb5-5197a93525a1",
   "metadata": {
    "tags": []
   },
   "outputs": [],
   "source": [
    "\n",
    "def generateMfgDocPrompt(protocol, sop):\n",
    "    # Create a zero shot prompt with instructions to compare a document, in this case the \n",
    "    # manufacturing procedure, with rules, in this case represented by the Standard Operating \n",
    "    # Procedure.\n",
    "\n",
    "    return f'''\n",
    "    \\n\\nHuman: I want you to first read the following two passages. \n",
    "    The first passage, called \"Procedure\", contains manufacturing instructions for a pharmaceutical product.\n",
    "    The second passage, called \"Rules\", contains a list of rules that **regulate** manufacturing of the a pharmaceutical product.\n",
    "\n",
    "    After you read the Procedure and Rules passages, I want you to write a report that contains all the times that the Procedure\n",
    "    violate the Rules. Please include where specifically the Procedure and Rules are in conflict. I want you to think carefully about this, \n",
    "    noting even subtle contradictions.\n",
    "\n",
    "    Please note that there many not be any violations. In which case I want you to simply return \"no violations found\"\n",
    "\n",
    "    Procedure:\n",
    "\n",
    "    {protocol}\n",
    "\n",
    "    Rules:\n",
    "    {sop}\n",
    "\n",
    "    Assistant:\n",
    "    '''"
   ]
  },
  {
   "cell_type": "markdown",
   "id": "939fdae7",
   "metadata": {},
   "source": [
    "### Penicillin Manufacturing Protocol.\n",
    "The following text represents a document that explains how to manufacture Penicillin. "
   ]
  },
  {
   "cell_type": "code",
   "execution_count": 10,
   "id": "fb338c43",
   "metadata": {},
   "outputs": [],
   "source": [
    "penicillin_mfg_protocol = \\\n",
    "    '''\n",
    "    Penicillin Manufacturing Protocal \n",
    "\n",
    "    Materials: \n",
    "    - Penicillium chrysogenum mold strain (ATCC 48271 or equivalent)\n",
    "    - Growth medium:\n",
    "    -- Corn steep liquor (5-10% w/v) \n",
    "    -- Sucrose (2-5% w/v)\n",
    "    -- Ammonium sulfate (0.5-1% w/v) \n",
    "    -- Potassium phosphate (0.1-0.5% w/v)\n",
    "    -- Fermentation vessel (100-500L capacity)\n",
    "    -- Centrifuge\n",
    "    -- Rotary evaporator \n",
    "    -- Ion exchange resin (strongly acidic cation exchange resin)\n",
    "    -- Activated charcoal \n",
    "    -- Reverse osmosis system\n",
    "    -- Sterile 0.9% sodium chloride solution\n",
    "\n",
    "    Method:\n",
    "    1. Inoculate a slant or plate of P. chrysogenum and incubate at 25°C for 3-5 days until sporulation occurs.\n",
    "    2. Inoculate a starter culture of the growth medium with P. chrysogenum spores and incubate at 25°C for 2 days on a rotary shaker (200rpm) until a cell density of 1-5 x 107 CFU/mL is reached. \n",
    "    3. Inoculate the fermentation vessel with 10% v/v of the starter culture. \n",
    "    4. Incubate the fermentation vessel at 25°C for 5-7 days while aerating (1 vvm) and stirring (200rpm) until maximum penicillin titre is reached (100-500 IU/mL). \n",
    "    5. Centrifuge the fermentation broth at 10000xg for 20 minutes to remove cells and debris.\n",
    "    6. Concentrate the supernatant using a rotary evaporator to remove excess water.\n",
    "    7. Pass the concentrate through an ion exchange resin to remove impurities.\n",
    "    8. Pass the concentrate through activated charcoal to remove pigments and odorous compounds.\n",
    "    9. Concentrate and wash the product using a reverse osmosis system. \n",
    "    10. Re-suspend the product in sterile 0.9% sodium chloride solution to achieve a concentration of 100,000 IU penicillin G per mL.\n",
    "    11. Filter sterilize the product through a 0.22μm membrane and store at 2-8°C.\n",
    "    '''\n"
   ]
  },
  {
   "cell_type": "markdown",
   "id": "03b20e55",
   "metadata": {},
   "source": [
    "### Manufacturing SOP \n",
    "This is the Standard Operating Procedure (SOP) for manufacturing certain pharmaceuticals. This document will be used as the __rules__ to ensure a given protocol (like the one for Penicillin) are compliant."
   ]
  },
  {
   "cell_type": "code",
   "execution_count": 11,
   "id": "eaad16ae",
   "metadata": {},
   "outputs": [],
   "source": [
    "manufacturing_sop = \\\n",
    "'''\n",
    "    1. All incubations must be less than 2 days.  \n",
    "    2. All sodium chloride must be greater than .95% solutions\n",
    "    3. No batch can exceed 500 liters in volume. \n",
    "    4. All filtration must use 0.2 micron filters or smaller.\n",
    "    5. No raw material can be used after 6 months from receipt. \n",
    "    6. All equipment must be sterilized at 121°C for at least 15 minutes.\n",
    "    7. No more than 2 different products can be manufactured in the same facility. \n",
    "    8. All surfaces must be wiped down with 70% isopropyl alcohol. \n",
    "    9. No batch record can have more than 10 deviations noted.\n",
    "    10. All finished products must have at least 2 years of shelf life remaining at time of release.\n",
    "'''"
   ]
  },
  {
   "cell_type": "markdown",
   "id": "faad073b",
   "metadata": {},
   "source": [
    "Here we generate the prompt using the above protocol and sop."
   ]
  },
  {
   "cell_type": "code",
   "execution_count": 12,
   "id": "62479612",
   "metadata": {},
   "outputs": [],
   "source": [
    "penicillin_prompt = generateMfgDocPrompt(penicillin_mfg_protocol, manufacturing_sop)"
   ]
  },
  {
   "cell_type": "markdown",
   "id": "21a6609f",
   "metadata": {},
   "source": [
    "#### Inspect the Penicillin Prompt\n",
    "Here we display the Penicillin prompt which shows how it combines the __manufacturing protocol__ with the __sop__"
   ]
  },
  {
   "cell_type": "code",
   "execution_count": 13,
   "id": "4704657c",
   "metadata": {},
   "outputs": [
    {
     "name": "stdout",
     "output_type": "stream",
     "text": [
      "\n",
      "    \n",
      "\n",
      "Human: I want you to first read the following two passages. \n",
      "    The first passage, called \"Procedure\", contains manufacturing instructions for a pharmaceutical product.\n",
      "    The second passage, called \"Rules\", contains a list of rules that **regulate** manufacturing of the a pharmaceutical product.\n",
      "\n",
      "    After you read the Procedure and Rules passages, I want you to write a report that contains all the times that the Procedure\n",
      "    violate the Rules. Please include where specifically the Procedure and Rules are in conflict. I want you to think carefully about this, \n",
      "    noting even subtle contradictions.\n",
      "\n",
      "    Please note that there many not be any violations. In which case I want you to simply return \"no violations found\"\n",
      "\n",
      "    Procedure:\n",
      "\n",
      "    \n",
      "    Penicillin Manufacturing Protocal \n",
      "\n",
      "    Materials: \n",
      "    - Penicillium chrysogenum mold strain (ATCC 48271 or equivalent)\n",
      "    - Growth medium:\n",
      "    -- Corn steep liquor (5-10% w/v) \n",
      "    -- Sucrose (2-5% w/v)\n",
      "    -- Ammonium sulfate (0.5-1% w/v) \n",
      "    -- Potassium phosphate (0.1-0.5% w/v)\n",
      "    -- Fermentation vessel (100-500L capacity)\n",
      "    -- Centrifuge\n",
      "    -- Rotary evaporator \n",
      "    -- Ion exchange resin (strongly acidic cation exchange resin)\n",
      "    -- Activated charcoal \n",
      "    -- Reverse osmosis system\n",
      "    -- Sterile 0.9% sodium chloride solution\n",
      "\n",
      "    Method:\n",
      "    1. Inoculate a slant or plate of P. chrysogenum and incubate at 25°C for 3-5 days until sporulation occurs.\n",
      "    2. Inoculate a starter culture of the growth medium with P. chrysogenum spores and incubate at 25°C for 2 days on a rotary shaker (200rpm) until a cell density of 1-5 x 107 CFU/mL is reached. \n",
      "    3. Inoculate the fermentation vessel with 10% v/v of the starter culture. \n",
      "    4. Incubate the fermentation vessel at 25°C for 5-7 days while aerating (1 vvm) and stirring (200rpm) until maximum penicillin titre is reached (100-500 IU/mL). \n",
      "    5. Centrifuge the fermentation broth at 10000xg for 20 minutes to remove cells and debris.\n",
      "    6. Concentrate the supernatant using a rotary evaporator to remove excess water.\n",
      "    7. Pass the concentrate through an ion exchange resin to remove impurities.\n",
      "    8. Pass the concentrate through activated charcoal to remove pigments and odorous compounds.\n",
      "    9. Concentrate and wash the product using a reverse osmosis system. \n",
      "    10. Re-suspend the product in sterile 0.9% sodium chloride solution to achieve a concentration of 100,000 IU penicillin G per mL.\n",
      "    11. Filter sterilize the product through a 0.22μm membrane and store at 2-8°C.\n",
      "    \n",
      "\n",
      "    Rules:\n",
      "    \n",
      "    1. All incubations must be less than 2 days.  \n",
      "    2. All sodium chloride must be greater than .95% solutions\n",
      "    3. No batch can exceed 500 liters in volume. \n",
      "    4. All filtration must use 0.2 micron filters or smaller.\n",
      "    5. No raw material can be used after 6 months from receipt. \n",
      "    6. All equipment must be sterilized at 121°C for at least 15 minutes.\n",
      "    7. No more than 2 different products can be manufactured in the same facility. \n",
      "    8. All surfaces must be wiped down with 70% isopropyl alcohol. \n",
      "    9. No batch record can have more than 10 deviations noted.\n",
      "    10. All finished products must have at least 2 years of shelf life remaining at time of release.\n",
      "\n",
      "\n",
      "    Assistant:\n",
      "    \n"
     ]
    }
   ],
   "source": [
    "print(penicillin_prompt)"
   ]
  },
  {
   "cell_type": "markdown",
   "id": "2155d640",
   "metadata": {},
   "source": [
    "#### Set up the LLM prompt body and call the LLM\n",
    "Here we bring together the LLM parameters we set above (temperature and max tokens to sample) and the penicillin prompt we just created to create the payload we'll send to Claude.  Payloads are always encoded in JSON format."
   ]
  },
  {
   "cell_type": "code",
   "execution_count": 14,
   "id": "a42ae0e5",
   "metadata": {},
   "outputs": [],
   "source": [
    "\n",
    "modelPayload = json.dumps({\"prompt\": penicillin_prompt, \n",
    "                   \"temperature\": temperature,\n",
    "                    \"max_tokens_to_sample\": maxTokensToScan})"
   ]
  },
  {
   "cell_type": "markdown",
   "id": "6bfb4ab1",
   "metadata": {},
   "source": [
    "#### Call the LLM\n",
    "Now we call our callModel function to invoke the selected Claude LLM, where:\n",
    "\n",
    "- bedrock_runtime - Setup at the very beginning of this notebook.\n",
    "\n",
    "- llm - specifies the Claude model to use.\n",
    "\n",
    "- modelPayload - Contains the JSON formatted payload with the prompt and parameters."
   ]
  },
  {
   "cell_type": "markdown",
   "id": "3340ddac",
   "metadata": {},
   "source": []
  },
  {
   "cell_type": "code",
   "execution_count": 15,
   "id": "4bd83c46",
   "metadata": {},
   "outputs": [],
   "source": [
    "llmResponse = callModel(bedrock_runtime,llm, modelPayload)"
   ]
  },
  {
   "cell_type": "markdown",
   "id": "2e5b80ad",
   "metadata": {},
   "source": [
    "#### See the results Claude found"
   ]
  },
  {
   "cell_type": "code",
   "execution_count": 16,
   "id": "a3e4c87f",
   "metadata": {},
   "outputs": [
    {
     "name": "stdout",
     "output_type": "stream",
     "text": [
      " After reviewing the Procedure and Rules passages, I have found the following violations:\n",
      "\n",
      "1. In step 2 of the Procedure, the starter culture is incubated for 2 days, which violates Rule 1 that states all incubations must be less than 2 days. \n",
      "\n",
      "2. In step 10 of the Procedure, the product is re-suspended in sterile 0.9% sodium chloride solution, which violates Rule 2 that states all sodium chloride solutions must be greater than 0.95%.\n",
      "\n",
      "3. No other violations were found. The Procedure and Rules do not contradict in any other places based on the information provided.\n"
     ]
    }
   ],
   "source": [
    "print(llmResponse['completion'])"
   ]
  },
  {
   "cell_type": "markdown",
   "id": "61dda0fb",
   "metadata": {},
   "source": [
    "## Cell Culture\n",
    "Let's ask the LLM to compare the Cell Culture process with the manufacturing SOP like we did above for the Penicillin manufacturing process. Note that we'll use the same prompt template like we did for penicillin manufacturing like we did above.\n",
    "#### Cell Culture Manufacturing protocol\n",
    "Here the cell_culture_mfg_protocol represents the manufacturing rules document for creating a cell culture."
   ]
  },
  {
   "cell_type": "code",
   "execution_count": 17,
   "id": "5c0ecd07",
   "metadata": {},
   "outputs": [],
   "source": [
    "cell_culture_mfg_protocol = '''\n",
    "    1. Cell culture and expansion - The hybridoma cell line expressing the anti-HER2 antibody is expanded in cell culture using Dulbecco's Modified Eagle's Medium (DMEM) supplemented with 10% fetal bovine serum (FBS) and 1% penicillin-streptomycin. Cells are grown in T-flasks in a humidified 37°C incubator with 5% CO2. Once 70-80% confluent, cells are passaged to maintain cell density between 1-3 million cells/mL.  \n",
    "2. Bioreactor culture - Once sufficient cells have been expanded, they are transferred to a bioreactor for large-scale production of the antibody. Cells are cultured in a fed-batch bioreactor using a proprietary chemically defined culture medium. Critical parameters like pH, dissolved oxygen, temperature, and agitation are closely monitored and controlled. Growth factors and nutrients are added to sustain high cell viability and maximize antibody production.\n",
    "3. Clarification - Once maximum cell density and antibody titer have been achieved, the bioreactor harvest is clarified using depth filtration to remove cells and cellular debris. The clarified harvest is then concentrated using tangential flow filtration. \n",
    "4. Purification - The concentrated antibody solution is purified using affinity chromatography, ion exchange chromatography and size exclusion chromatography. The affinity resin specifically binds the Fc region of antibodies, separating them from other proteins. Ion exchange separates antibody charge variants. Size exclusion further purifies the antibody and also acts as a viral clearance step. \n",
    "5. Formulation and fill - The purified bulk antibody is buffer exchanged into a stabilizing formulation buffer and sterile filtered. It is then aseptically filled into sterile glass vials and stored for distribution.\n",
    "6. Quality control - Rigorous quality control testing is performed at multiple stages of the process including purity, potency, identity, safety, and stability. Only product that meets pre-determined specifications is released for clinical or commercial use.\n",
    "'''"
   ]
  },
  {
   "cell_type": "markdown",
   "id": "aa9b4193",
   "metadata": {},
   "source": [
    "Here we create the prompt a __different__ protocol for cell culture manufacturing but the __same__ standard operating procedures for manufacturing. We then display the whole prompt with the manufacturing rules and SOP."
   ]
  },
  {
   "cell_type": "code",
   "execution_count": 18,
   "id": "2348de77",
   "metadata": {},
   "outputs": [
    {
     "name": "stdout",
     "output_type": "stream",
     "text": [
      "\n",
      "    \n",
      "\n",
      "Human: I want you to first read the following two passages. \n",
      "    The first passage, called \"Procedure\", contains manufacturing instructions for a pharmaceutical product.\n",
      "    The second passage, called \"Rules\", contains a list of rules that **regulate** manufacturing of the a pharmaceutical product.\n",
      "\n",
      "    After you read the Procedure and Rules passages, I want you to write a report that contains all the times that the Procedure\n",
      "    violate the Rules. Please include where specifically the Procedure and Rules are in conflict. I want you to think carefully about this, \n",
      "    noting even subtle contradictions.\n",
      "\n",
      "    Please note that there many not be any violations. In which case I want you to simply return \"no violations found\"\n",
      "\n",
      "    Procedure:\n",
      "\n",
      "    \n",
      "    1. Cell culture and expansion - The hybridoma cell line expressing the anti-HER2 antibody is expanded in cell culture using Dulbecco's Modified Eagle's Medium (DMEM) supplemented with 10% fetal bovine serum (FBS) and 1% penicillin-streptomycin. Cells are grown in T-flasks in a humidified 37°C incubator with 5% CO2. Once 70-80% confluent, cells are passaged to maintain cell density between 1-3 million cells/mL.  \n",
      "2. Bioreactor culture - Once sufficient cells have been expanded, they are transferred to a bioreactor for large-scale production of the antibody. Cells are cultured in a fed-batch bioreactor using a proprietary chemically defined culture medium. Critical parameters like pH, dissolved oxygen, temperature, and agitation are closely monitored and controlled. Growth factors and nutrients are added to sustain high cell viability and maximize antibody production.\n",
      "3. Clarification - Once maximum cell density and antibody titer have been achieved, the bioreactor harvest is clarified using depth filtration to remove cells and cellular debris. The clarified harvest is then concentrated using tangential flow filtration. \n",
      "4. Purification - The concentrated antibody solution is purified using affinity chromatography, ion exchange chromatography and size exclusion chromatography. The affinity resin specifically binds the Fc region of antibodies, separating them from other proteins. Ion exchange separates antibody charge variants. Size exclusion further purifies the antibody and also acts as a viral clearance step. \n",
      "5. Formulation and fill - The purified bulk antibody is buffer exchanged into a stabilizing formulation buffer and sterile filtered. It is then aseptically filled into sterile glass vials and stored for distribution.\n",
      "6. Quality control - Rigorous quality control testing is performed at multiple stages of the process including purity, potency, identity, safety, and stability. Only product that meets pre-determined specifications is released for clinical or commercial use.\n",
      "\n",
      "\n",
      "    Rules:\n",
      "    \n",
      "    1. All incubations must be less than 2 days.  \n",
      "    2. All sodium chloride must be greater than .95% solutions\n",
      "    3. No batch can exceed 500 liters in volume. \n",
      "    4. All filtration must use 0.2 micron filters or smaller.\n",
      "    5. No raw material can be used after 6 months from receipt. \n",
      "    6. All equipment must be sterilized at 121°C for at least 15 minutes.\n",
      "    7. No more than 2 different products can be manufactured in the same facility. \n",
      "    8. All surfaces must be wiped down with 70% isopropyl alcohol. \n",
      "    9. No batch record can have more than 10 deviations noted.\n",
      "    10. All finished products must have at least 2 years of shelf life remaining at time of release.\n",
      "\n",
      "\n",
      "    Assistant:\n",
      "    \n"
     ]
    }
   ],
   "source": [
    "cell_culture_prompt = generateMfgDocPrompt(cell_culture_mfg_protocol, manufacturing_sop)\n",
    "print(cell_culture_prompt)"
   ]
  },
  {
   "cell_type": "markdown",
   "id": "a5be748a",
   "metadata": {},
   "source": [
    "Here we create a new model payload using the cell culture prompt we just created along with the same temperature and max tokens to sample parameters."
   ]
  },
  {
   "cell_type": "code",
   "execution_count": 19,
   "id": "c298b4aa",
   "metadata": {},
   "outputs": [],
   "source": [
    "modelPayload = json.dumps({\"prompt\": cell_culture_prompt, \n",
    "                   \"temperature\": temperature,\n",
    "                    \"max_tokens_to_sample\": maxTokensToScan})"
   ]
  },
  {
   "cell_type": "markdown",
   "id": "6623eff8",
   "metadata": {},
   "source": [
    "Call the LLM model with the payload we just created"
   ]
  },
  {
   "cell_type": "code",
   "execution_count": 20,
   "id": "fa2dd353",
   "metadata": {},
   "outputs": [],
   "source": [
    "llmResponse = callModel(bedrock_runtime,llm, modelPayload)"
   ]
  },
  {
   "cell_type": "markdown",
   "id": "78717bfb",
   "metadata": {},
   "source": [
    "Display the completion results. Notice how the LLM followed the directions and showed its logic."
   ]
  },
  {
   "cell_type": "code",
   "execution_count": 21,
   "id": "1562f323",
   "metadata": {},
   "outputs": [
    {
     "name": "stdout",
     "output_type": "stream",
     "text": [
      " After reviewing the Procedure and Rules passages, I did not find any violations. The steps outlined in the Procedure are consistent with the Rules that regulate pharmaceutical manufacturing. No contradictions or conflicts were observed.\n"
     ]
    }
   ],
   "source": [
    "print(llmResponse['completion'])"
   ]
  },
  {
   "cell_type": "markdown",
   "id": "bb942dfc",
   "metadata": {},
   "source": [
    "### Insulin Pump Manufacturing process\n",
    "Now we'll switch to manufacturing a medical device. Here we'll ask the LLM to compare the manufacturing process for an insulin pump against the SOP for manufacturing medical devices.  Note we'll use the __same__ prompt template like we did above, but __both__ the __process__ and __rules__ documents have changed."
   ]
  },
  {
   "cell_type": "code",
   "execution_count": 22,
   "id": "f29db87e",
   "metadata": {},
   "outputs": [],
   "source": [
    "insulin_pump_manfacturing_process = \\\n",
    "'''\n",
    "    Manufacturing Process for Insulin Pump Model XR7 \n",
    "\n",
    "1. Prepare polymer solution for pump casing\n",
    "- Mix 300g of polycarbonate resin with 400mL of dichloromethane solvent \n",
    "- Agitate solution at 600rpm for 30 minutes to ensure homogeneity\n",
    "- Degas solution under vacuum for 15 minutes to remove air bubbles\n",
    "\n",
    "2. Injection mold pump casing and components \n",
    "- Load polymer solution into injection molding machine hopper\n",
    "- Heat solution to 425°C to reach proper viscosity for molding \n",
    "- Inject solution into mold cavities for pump casing, control interface, and tubing ports \n",
    "- Once cooled, eject molded parts from mold. Inspect for defects and set aside\n",
    "\n",
    "3. Assemble electronic components\n",
    "- Solder circuit boards for control interface, processor, and batteries \n",
    "- Attach LCD display to control interface board \n",
    "- Connect all boards using ribbon cables and test for continuity and function\n",
    "- Seal boards in epoxy resin to waterproof components\n",
    "\n",
    "4. Attach molded parts and tubing  \n",
    "- Connect control interface to pump casing \n",
    "- Attach tubing ports to pump casing \n",
    "- Cut PVC tubing to required lengths and connect between tubing ports\n",
    "- Attach batteries to control interface and seal pump casing\n",
    "\n",
    "5. Calibrate and test device\n",
    "- Connect insulin reservoir and load pump with test fluid\n",
    "- Set control interface to deliver 1.5U/hour basal rate\n",
    "- Run pump for 30 minutes and verify proper fluid delivery rate \n",
    "- Make any final adjustments to device settings or tubing length\n",
    "- Package final product for shipping and inspect one more time for quality \n",
    "'''"
   ]
  },
  {
   "cell_type": "markdown",
   "id": "1cdc8c90",
   "metadata": {},
   "source": [
    "### Insulin Pump Standard Operating Procedure, the \"rules\" we'll use for comparison later"
   ]
  },
  {
   "cell_type": "code",
   "execution_count": 23,
   "id": "168b73f9",
   "metadata": {},
   "outputs": [],
   "source": [
    "insulin_pump_sop = \\\n",
    "'''\n",
    "Regulatory Specifications for Insulin Pump Manufacturing \n",
    "\n",
    "1. Materials \n",
    "1.1 All materials used in the construction of the insulin pump must be biocompatible per ISO 10993 standards and not leach any toxic, carcinogenic or biologically reactive compounds when in contact with interstitial insulin and tissue fluids. \n",
    "1.2 The housing and durable components shall be made of medical-grade stainless steel or titanium alloys to withstand a minimum of 3 years of continuous use.\n",
    "1.3 All tubing, gaskets, seals and disposable components must be made of medical-grade low-density polyethylene, polypropylene or other polymers that are compatible with insulin solutions.\n",
    "1.4 Pump must be tested for a total of 1 hour to ensure proper functioning.\n",
    "1.5 All electronic components must meet IPC-A-610 Class 2 standards for electronic assemblies.\n",
    "'''"
   ]
  },
  {
   "cell_type": "markdown",
   "id": "7a9bf9cd",
   "metadata": {},
   "source": [
    "Here we generate the prompt using the __same__ manufacturing prompt tempplate we defined above, but replacing the process document and sop for those for an insulin pump instead of penicillin."
   ]
  },
  {
   "cell_type": "code",
   "execution_count": 24,
   "id": "2c025d56",
   "metadata": {},
   "outputs": [],
   "source": [
    "insulin_pump_prompt = generateMfgDocPrompt(insulin_pump_manfacturing_process, insulin_pump_sop)"
   ]
  },
  {
   "cell_type": "markdown",
   "id": "1a75e5a8",
   "metadata": {},
   "source": [
    "Now let's use the LLM to check if the insulin pump manufacturing process is compliant with the standard operating procedure.\n",
    "\n",
    "First we create the body with the prompt and our parameters"
   ]
  },
  {
   "cell_type": "code",
   "execution_count": 25,
   "id": "7f7d0f5c",
   "metadata": {},
   "outputs": [],
   "source": [
    "modelPayload = json.dumps({\"prompt\": insulin_pump_prompt, \n",
    "                   \"max_tokens_to_sample\": maxTokensToScan,\n",
    "                   \"temperature\": temperature})"
   ]
  },
  {
   "cell_type": "markdown",
   "id": "a55de1e4",
   "metadata": {},
   "source": [
    "Now we call the LLM to perform the comparison"
   ]
  },
  {
   "cell_type": "code",
   "execution_count": 26,
   "id": "5acf4c8d",
   "metadata": {},
   "outputs": [],
   "source": [
    "llmResponse = callModel(bedrock_runtime,llm, modelPayload)"
   ]
  },
  {
   "cell_type": "markdown",
   "id": "62cca38e",
   "metadata": {},
   "source": [
    "Now let's see what the LLM thinks."
   ]
  },
  {
   "cell_type": "code",
   "execution_count": 27,
   "id": "e644d9f2",
   "metadata": {},
   "outputs": [
    {
     "name": "stdout",
     "output_type": "stream",
     "text": [
      " After reviewing the Procedure and Rules passages, I did not find any violations. The Procedure describes the manufacturing process for an insulin pump and does not appear to contradict any of the Rules that regulate insulin pump manufacturing. The Procedure uses biocompatible materials like polycarbonate resin, dichloromethane solvent, PVC tubing, epoxy resin that would meet the material requirements in the Rules. It also tests the device for over 30 minutes ensuring it meets the minimum 1 hour testing time outlined in the Rules. Therefore, I cannot identify any specific places where the Procedure and Rules are in conflict. My conclusion is:\n",
      "\n",
      "no violations found\n"
     ]
    }
   ],
   "source": [
    "print(llmResponse['completion'])"
   ]
  },
  {
   "cell_type": "markdown",
   "id": "a9eb546e",
   "metadata": {},
   "source": [
    "## Document Correction\n",
    "Not only can LLM's help you detect when a document does not conform to a rule specification, like an SOP, they can also help you correct non-compliant documents.\n",
    "\n",
    "### Ameliorate Document Prompt Template\n",
    "The following prompt template combines the a manufacturing protocol docuemnt with a rule document (like an SOP) and then fixes the source document if it's in violation of the rules. Edits suggested by Bedrock are inclosed in `**`."
   ]
  },
  {
   "cell_type": "code",
   "execution_count": 28,
   "id": "d5c8c6b0",
   "metadata": {},
   "outputs": [],
   "source": [
    "def ameliorationPromptTemplate(manufacturingProtocol,  sop):\n",
    "    return f'''\n",
    "    \\n\\nHuman: I want you to first read the following two passages. \n",
    "    The first passage, called \"Procedure\", contains manufacturing instructions for a pharmaceutical product.\n",
    "    The second passage, called \"Potential Violatations\", contains a list of potential violations of certain rules that regulate the procedures. \n",
    "\n",
    "    After you read the Procedure and Potential Violatations passages, I want you to re-write the Procedure, but make it so that the Procedure is now consistent with any Potential Violations. I want you to keep the Procedure as close as possible to the original, but fix any violations if they exist. I want you to put any changes you make in \"**\". For example, if you change 50 to 100, it should be **100**.\n",
    "\n",
    "    Please note that there many not be any violations. In which case I want you to simply return the procedure as is. \n",
    "\n",
    "    Procedure:\n",
    "\n",
    "    {manufacturingProtocol}\n",
    "\n",
    "    Rules:\n",
    "    {sop}\n",
    "\n",
    "    Assistant:\n",
    "    '''"
   ]
  },
  {
   "cell_type": "markdown",
   "id": "684fa078",
   "metadata": {},
   "source": [
    "Let's use the amelioration prompt template to create a prompt using the penicillin manufacutring process and penicillin manufacturing sop from the example above to bring the procedure document into compliance."
   ]
  },
  {
   "cell_type": "code",
   "execution_count": 29,
   "id": "a929e1e3",
   "metadata": {},
   "outputs": [],
   "source": [
    "ameliorationPrompt = ameliorationPromptTemplate(penicillin_mfg_protocol, manufacturing_sop)"
   ]
  },
  {
   "cell_type": "markdown",
   "id": "55ec7051",
   "metadata": {},
   "source": [
    "#### Here's the completed amelioration prompt"
   ]
  },
  {
   "cell_type": "code",
   "execution_count": 30,
   "id": "7a5013ea",
   "metadata": {},
   "outputs": [
    {
     "name": "stdout",
     "output_type": "stream",
     "text": [
      "\n",
      "    \n",
      "\n",
      "Human: I want you to first read the following two passages. \n",
      "    The first passage, called \"Procedure\", contains manufacturing instructions for a pharmaceutical product.\n",
      "    The second passage, called \"Potential Violatations\", contains a list of potential violations of certain rules that regulate the procedures. \n",
      "\n",
      "    After you read the Procedure and Potential Violatations passages, I want you to re-write the Procedure, but make it so that the Procedure is now consistent with any Potential Violations. I want you to keep the Procedure as close as possible to the original, but fix any violations if they exist. I want you to put any changes you make in \"**\". For example, if you change 50 to 100, it should be **100**.\n",
      "\n",
      "    Please note that there many not be any violations. In which case I want you to simply return the procedure as is. \n",
      "\n",
      "    Procedure:\n",
      "\n",
      "    \n",
      "    Penicillin Manufacturing Protocal \n",
      "\n",
      "    Materials: \n",
      "    - Penicillium chrysogenum mold strain (ATCC 48271 or equivalent)\n",
      "    - Growth medium:\n",
      "    -- Corn steep liquor (5-10% w/v) \n",
      "    -- Sucrose (2-5% w/v)\n",
      "    -- Ammonium sulfate (0.5-1% w/v) \n",
      "    -- Potassium phosphate (0.1-0.5% w/v)\n",
      "    -- Fermentation vessel (100-500L capacity)\n",
      "    -- Centrifuge\n",
      "    -- Rotary evaporator \n",
      "    -- Ion exchange resin (strongly acidic cation exchange resin)\n",
      "    -- Activated charcoal \n",
      "    -- Reverse osmosis system\n",
      "    -- Sterile 0.9% sodium chloride solution\n",
      "\n",
      "    Method:\n",
      "    1. Inoculate a slant or plate of P. chrysogenum and incubate at 25°C for 3-5 days until sporulation occurs.\n",
      "    2. Inoculate a starter culture of the growth medium with P. chrysogenum spores and incubate at 25°C for 2 days on a rotary shaker (200rpm) until a cell density of 1-5 x 107 CFU/mL is reached. \n",
      "    3. Inoculate the fermentation vessel with 10% v/v of the starter culture. \n",
      "    4. Incubate the fermentation vessel at 25°C for 5-7 days while aerating (1 vvm) and stirring (200rpm) until maximum penicillin titre is reached (100-500 IU/mL). \n",
      "    5. Centrifuge the fermentation broth at 10000xg for 20 minutes to remove cells and debris.\n",
      "    6. Concentrate the supernatant using a rotary evaporator to remove excess water.\n",
      "    7. Pass the concentrate through an ion exchange resin to remove impurities.\n",
      "    8. Pass the concentrate through activated charcoal to remove pigments and odorous compounds.\n",
      "    9. Concentrate and wash the product using a reverse osmosis system. \n",
      "    10. Re-suspend the product in sterile 0.9% sodium chloride solution to achieve a concentration of 100,000 IU penicillin G per mL.\n",
      "    11. Filter sterilize the product through a 0.22μm membrane and store at 2-8°C.\n",
      "    \n",
      "\n",
      "    Rules:\n",
      "    \n",
      "    1. All incubations must be less than 2 days.  \n",
      "    2. All sodium chloride must be greater than .95% solutions\n",
      "    3. No batch can exceed 500 liters in volume. \n",
      "    4. All filtration must use 0.2 micron filters or smaller.\n",
      "    5. No raw material can be used after 6 months from receipt. \n",
      "    6. All equipment must be sterilized at 121°C for at least 15 minutes.\n",
      "    7. No more than 2 different products can be manufactured in the same facility. \n",
      "    8. All surfaces must be wiped down with 70% isopropyl alcohol. \n",
      "    9. No batch record can have more than 10 deviations noted.\n",
      "    10. All finished products must have at least 2 years of shelf life remaining at time of release.\n",
      "\n",
      "\n",
      "    Assistant:\n",
      "    \n"
     ]
    }
   ],
   "source": [
    "print(ameliorationPrompt)"
   ]
  },
  {
   "cell_type": "markdown",
   "id": "9f446ab0",
   "metadata": {},
   "source": [
    "As before, we create a JSON string that contains the prompt just created along with the same LLM parameters we've been using for temperature and max tokens to sample."
   ]
  },
  {
   "cell_type": "code",
   "execution_count": 31,
   "id": "bad930e0",
   "metadata": {},
   "outputs": [],
   "source": [
    "modelPayload = json.dumps({\"prompt\": ameliorationPrompt, \n",
    "                   \"max_tokens_to_sample\": 500,\n",
    "                   \"temperature\":0})"
   ]
  },
  {
   "cell_type": "markdown",
   "id": "0e5db37f",
   "metadata": {},
   "source": [
    "Call the LLM "
   ]
  },
  {
   "cell_type": "code",
   "execution_count": 32,
   "id": "6c28429f",
   "metadata": {},
   "outputs": [],
   "source": [
    "llmResponse = callModel(bedrock_runtime,llm, modelPayload)"
   ]
  },
  {
   "cell_type": "markdown",
   "id": "41a049c6",
   "metadata": {},
   "source": [
    "Display the results"
   ]
  },
  {
   "cell_type": "code",
   "execution_count": 33,
   "id": "57beecea",
   "metadata": {},
   "outputs": [
    {
     "name": "stdout",
     "output_type": "stream",
     "text": [
      " Here are the passages you provided:\n",
      "\n",
      "Procedure:\n",
      "[The original procedure text is included unchanged]\n",
      "\n",
      "Potential Violations:\n",
      "1. The starter culture incubation time of 2 days (step 2) violates rule 1 which states that all incubations must be less than 2 days.\n",
      "2. The fermentation broth centrifugation step uses a 10000xg centrifugation force which could exceed 500L volume limit in rule 3.  \n",
      "3. The procedure does not specify sterilizing the equipment at 121C for 15 minutes as required by rule 6.\n",
      "4. The procedure does not specify wiping down surfaces with 70% isopropyl alcohol as required by rule 8.\n",
      "\n",
      "To address the potential violations:\n",
      "\n",
      "Procedure:\n",
      "\n",
      "\n",
      "Penicillin Manufacturing Protocal\n",
      "\n",
      "Materials:\n",
      "- Penicillium chrysogenum mold strain (ATCC 48271 or equivalent) \n",
      "- Growth medium:\n",
      "-- Corn steep liquor (5-10% w/v)\n",
      "-- Sucrose (2-5% w/v)\n",
      "-- Ammonium sulfate (0.5-1% w/v)\n",
      "-- Potassium phosphate (0.1-0.5% w/v)\n",
      "-- Fermentation vessel (100-500L capacity)\n",
      "-- Centrifuge\n",
      "-- Rotary evaporator\n",
      "-- Ion exchange resin (strongly acidic cation exchange resin)\n",
      "-- Activated charcoal\n",
      "-- Reverse osmosis system\n",
      "-- Sterile **0.95%** sodium chloride solution\n",
      "\n",
      "Method:\n",
      "1. Inoculate a slant or plate of P. chrysogenum and incubate at 25°C for 3-5 days until sporulation occurs.\n",
      "2. Inoculate a starter culture of the growth medium with P. chrysogenum spores and incubate at 25°C for **1** days on a rotary shaker (200rpm) until a cell density of 1-5 x 107 CFU/mL is reached.\n",
      "3. Inoculate the fermentation vessel with 10% v/v of the starter culture.\n",
      "4. Incubate the fermentation vessel at 25°C for 5-7 days while aerating (1 vvm) and stirring (200rpm) until maximum penicillin titre is reached (100-500 IU/mL).\n",
      "5. Centrifuge the fermentation broth at **8000**xg for 20 minutes to\n"
     ]
    }
   ],
   "source": [
    "print(llmResponse['completion'])"
   ]
  },
  {
   "cell_type": "markdown",
   "id": "6cf3900c",
   "metadata": {},
   "source": [
    "## Clean up"
   ]
  },
  {
   "cell_type": "markdown",
   "id": "a4da2da0",
   "metadata": {},
   "source": [
    "Normally at this point, you would shutdown any AWS resources used in the workbook.  However, since we're using Amazon Bedrock, there are no resources to decomission or stop. That's the beauty of fully managed, serverless offerings. There is nothing to clean up or consider. You only pay for the model invocations you make."
   ]
  },
  {
   "cell_type": "markdown",
   "id": "0f34876f",
   "metadata": {},
   "source": [
    "## Summary and Wrap up"
   ]
  },
  {
   "cell_type": "markdown",
   "id": "fbf578cc",
   "metadata": {},
   "source": [
    "Amazon Bedrock provides easy access to large language models (LLMs) like Claude without needing to provision any infrastructure. We loaded a manufacturing protocol document and standard operating procedure (SOP) into variables to construct a prompt which asked the Claude LLM to compare the documents and report any deviations from the SOP. Claude successfully identified issues with the manufacturing protocol not following the SOP. We then updated the prompt to ask Claude to not just flag deviations but also correct them. Claude was able to take the non-compliant protocol and rewrite it to align with the SOP. his demonstrates how Amazon Bedrock and Claude can be used to check documents for compliance to standards and even automatically remediate problems. Think about how this could save time for you and colleagues in your organization.\n",
    "\n",
    "Key benefits of using Amazon Bedrock are:\n",
    "1. No infrastructure to manage\n",
    "2. Pay-per-use pricing\n",
    "3. Easily use large language models for document analysis and remediation.\n",
    "\n",
    "The techniques shown could also be applied to legal contracts, financial reports, medical records, and more that need to adhere to rules, regulations, and best practices.\n",
    "\n",
    "Overall, this notebook provided a simple example of how Amazon Bedrock makes it easy to integrate large language models into applications to assist with document compliance."
   ]
  }
 ],
 "metadata": {
  "availableInstances": [
   {
    "_defaultOrder": 0,
    "_isFastLaunch": true,
    "category": "General purpose",
    "gpuNum": 0,
    "hideHardwareSpecs": false,
    "memoryGiB": 4,
    "name": "ml.t3.medium",
    "vcpuNum": 2
   },
   {
    "_defaultOrder": 1,
    "_isFastLaunch": false,
    "category": "General purpose",
    "gpuNum": 0,
    "hideHardwareSpecs": false,
    "memoryGiB": 8,
    "name": "ml.t3.large",
    "vcpuNum": 2
   },
   {
    "_defaultOrder": 2,
    "_isFastLaunch": false,
    "category": "General purpose",
    "gpuNum": 0,
    "hideHardwareSpecs": false,
    "memoryGiB": 16,
    "name": "ml.t3.xlarge",
    "vcpuNum": 4
   },
   {
    "_defaultOrder": 3,
    "_isFastLaunch": false,
    "category": "General purpose",
    "gpuNum": 0,
    "hideHardwareSpecs": false,
    "memoryGiB": 32,
    "name": "ml.t3.2xlarge",
    "vcpuNum": 8
   },
   {
    "_defaultOrder": 4,
    "_isFastLaunch": true,
    "category": "General purpose",
    "gpuNum": 0,
    "hideHardwareSpecs": false,
    "memoryGiB": 8,
    "name": "ml.m5.large",
    "vcpuNum": 2
   },
   {
    "_defaultOrder": 5,
    "_isFastLaunch": false,
    "category": "General purpose",
    "gpuNum": 0,
    "hideHardwareSpecs": false,
    "memoryGiB": 16,
    "name": "ml.m5.xlarge",
    "vcpuNum": 4
   },
   {
    "_defaultOrder": 6,
    "_isFastLaunch": false,
    "category": "General purpose",
    "gpuNum": 0,
    "hideHardwareSpecs": false,
    "memoryGiB": 32,
    "name": "ml.m5.2xlarge",
    "vcpuNum": 8
   },
   {
    "_defaultOrder": 7,
    "_isFastLaunch": false,
    "category": "General purpose",
    "gpuNum": 0,
    "hideHardwareSpecs": false,
    "memoryGiB": 64,
    "name": "ml.m5.4xlarge",
    "vcpuNum": 16
   },
   {
    "_defaultOrder": 8,
    "_isFastLaunch": false,
    "category": "General purpose",
    "gpuNum": 0,
    "hideHardwareSpecs": false,
    "memoryGiB": 128,
    "name": "ml.m5.8xlarge",
    "vcpuNum": 32
   },
   {
    "_defaultOrder": 9,
    "_isFastLaunch": false,
    "category": "General purpose",
    "gpuNum": 0,
    "hideHardwareSpecs": false,
    "memoryGiB": 192,
    "name": "ml.m5.12xlarge",
    "vcpuNum": 48
   },
   {
    "_defaultOrder": 10,
    "_isFastLaunch": false,
    "category": "General purpose",
    "gpuNum": 0,
    "hideHardwareSpecs": false,
    "memoryGiB": 256,
    "name": "ml.m5.16xlarge",
    "vcpuNum": 64
   },
   {
    "_defaultOrder": 11,
    "_isFastLaunch": false,
    "category": "General purpose",
    "gpuNum": 0,
    "hideHardwareSpecs": false,
    "memoryGiB": 384,
    "name": "ml.m5.24xlarge",
    "vcpuNum": 96
   },
   {
    "_defaultOrder": 12,
    "_isFastLaunch": false,
    "category": "General purpose",
    "gpuNum": 0,
    "hideHardwareSpecs": false,
    "memoryGiB": 8,
    "name": "ml.m5d.large",
    "vcpuNum": 2
   },
   {
    "_defaultOrder": 13,
    "_isFastLaunch": false,
    "category": "General purpose",
    "gpuNum": 0,
    "hideHardwareSpecs": false,
    "memoryGiB": 16,
    "name": "ml.m5d.xlarge",
    "vcpuNum": 4
   },
   {
    "_defaultOrder": 14,
    "_isFastLaunch": false,
    "category": "General purpose",
    "gpuNum": 0,
    "hideHardwareSpecs": false,
    "memoryGiB": 32,
    "name": "ml.m5d.2xlarge",
    "vcpuNum": 8
   },
   {
    "_defaultOrder": 15,
    "_isFastLaunch": false,
    "category": "General purpose",
    "gpuNum": 0,
    "hideHardwareSpecs": false,
    "memoryGiB": 64,
    "name": "ml.m5d.4xlarge",
    "vcpuNum": 16
   },
   {
    "_defaultOrder": 16,
    "_isFastLaunch": false,
    "category": "General purpose",
    "gpuNum": 0,
    "hideHardwareSpecs": false,
    "memoryGiB": 128,
    "name": "ml.m5d.8xlarge",
    "vcpuNum": 32
   },
   {
    "_defaultOrder": 17,
    "_isFastLaunch": false,
    "category": "General purpose",
    "gpuNum": 0,
    "hideHardwareSpecs": false,
    "memoryGiB": 192,
    "name": "ml.m5d.12xlarge",
    "vcpuNum": 48
   },
   {
    "_defaultOrder": 18,
    "_isFastLaunch": false,
    "category": "General purpose",
    "gpuNum": 0,
    "hideHardwareSpecs": false,
    "memoryGiB": 256,
    "name": "ml.m5d.16xlarge",
    "vcpuNum": 64
   },
   {
    "_defaultOrder": 19,
    "_isFastLaunch": false,
    "category": "General purpose",
    "gpuNum": 0,
    "hideHardwareSpecs": false,
    "memoryGiB": 384,
    "name": "ml.m5d.24xlarge",
    "vcpuNum": 96
   },
   {
    "_defaultOrder": 20,
    "_isFastLaunch": false,
    "category": "General purpose",
    "gpuNum": 0,
    "hideHardwareSpecs": true,
    "memoryGiB": 0,
    "name": "ml.geospatial.interactive",
    "supportedImageNames": [
     "sagemaker-geospatial-v1-0"
    ],
    "vcpuNum": 0
   },
   {
    "_defaultOrder": 21,
    "_isFastLaunch": true,
    "category": "Compute optimized",
    "gpuNum": 0,
    "hideHardwareSpecs": false,
    "memoryGiB": 4,
    "name": "ml.c5.large",
    "vcpuNum": 2
   },
   {
    "_defaultOrder": 22,
    "_isFastLaunch": false,
    "category": "Compute optimized",
    "gpuNum": 0,
    "hideHardwareSpecs": false,
    "memoryGiB": 8,
    "name": "ml.c5.xlarge",
    "vcpuNum": 4
   },
   {
    "_defaultOrder": 23,
    "_isFastLaunch": false,
    "category": "Compute optimized",
    "gpuNum": 0,
    "hideHardwareSpecs": false,
    "memoryGiB": 16,
    "name": "ml.c5.2xlarge",
    "vcpuNum": 8
   },
   {
    "_defaultOrder": 24,
    "_isFastLaunch": false,
    "category": "Compute optimized",
    "gpuNum": 0,
    "hideHardwareSpecs": false,
    "memoryGiB": 32,
    "name": "ml.c5.4xlarge",
    "vcpuNum": 16
   },
   {
    "_defaultOrder": 25,
    "_isFastLaunch": false,
    "category": "Compute optimized",
    "gpuNum": 0,
    "hideHardwareSpecs": false,
    "memoryGiB": 72,
    "name": "ml.c5.9xlarge",
    "vcpuNum": 36
   },
   {
    "_defaultOrder": 26,
    "_isFastLaunch": false,
    "category": "Compute optimized",
    "gpuNum": 0,
    "hideHardwareSpecs": false,
    "memoryGiB": 96,
    "name": "ml.c5.12xlarge",
    "vcpuNum": 48
   },
   {
    "_defaultOrder": 27,
    "_isFastLaunch": false,
    "category": "Compute optimized",
    "gpuNum": 0,
    "hideHardwareSpecs": false,
    "memoryGiB": 144,
    "name": "ml.c5.18xlarge",
    "vcpuNum": 72
   },
   {
    "_defaultOrder": 28,
    "_isFastLaunch": false,
    "category": "Compute optimized",
    "gpuNum": 0,
    "hideHardwareSpecs": false,
    "memoryGiB": 192,
    "name": "ml.c5.24xlarge",
    "vcpuNum": 96
   },
   {
    "_defaultOrder": 29,
    "_isFastLaunch": true,
    "category": "Accelerated computing",
    "gpuNum": 1,
    "hideHardwareSpecs": false,
    "memoryGiB": 16,
    "name": "ml.g4dn.xlarge",
    "vcpuNum": 4
   },
   {
    "_defaultOrder": 30,
    "_isFastLaunch": false,
    "category": "Accelerated computing",
    "gpuNum": 1,
    "hideHardwareSpecs": false,
    "memoryGiB": 32,
    "name": "ml.g4dn.2xlarge",
    "vcpuNum": 8
   },
   {
    "_defaultOrder": 31,
    "_isFastLaunch": false,
    "category": "Accelerated computing",
    "gpuNum": 1,
    "hideHardwareSpecs": false,
    "memoryGiB": 64,
    "name": "ml.g4dn.4xlarge",
    "vcpuNum": 16
   },
   {
    "_defaultOrder": 32,
    "_isFastLaunch": false,
    "category": "Accelerated computing",
    "gpuNum": 1,
    "hideHardwareSpecs": false,
    "memoryGiB": 128,
    "name": "ml.g4dn.8xlarge",
    "vcpuNum": 32
   },
   {
    "_defaultOrder": 33,
    "_isFastLaunch": false,
    "category": "Accelerated computing",
    "gpuNum": 4,
    "hideHardwareSpecs": false,
    "memoryGiB": 192,
    "name": "ml.g4dn.12xlarge",
    "vcpuNum": 48
   },
   {
    "_defaultOrder": 34,
    "_isFastLaunch": false,
    "category": "Accelerated computing",
    "gpuNum": 1,
    "hideHardwareSpecs": false,
    "memoryGiB": 256,
    "name": "ml.g4dn.16xlarge",
    "vcpuNum": 64
   },
   {
    "_defaultOrder": 35,
    "_isFastLaunch": false,
    "category": "Accelerated computing",
    "gpuNum": 1,
    "hideHardwareSpecs": false,
    "memoryGiB": 61,
    "name": "ml.p3.2xlarge",
    "vcpuNum": 8
   },
   {
    "_defaultOrder": 36,
    "_isFastLaunch": false,
    "category": "Accelerated computing",
    "gpuNum": 4,
    "hideHardwareSpecs": false,
    "memoryGiB": 244,
    "name": "ml.p3.8xlarge",
    "vcpuNum": 32
   },
   {
    "_defaultOrder": 37,
    "_isFastLaunch": false,
    "category": "Accelerated computing",
    "gpuNum": 8,
    "hideHardwareSpecs": false,
    "memoryGiB": 488,
    "name": "ml.p3.16xlarge",
    "vcpuNum": 64
   },
   {
    "_defaultOrder": 38,
    "_isFastLaunch": false,
    "category": "Accelerated computing",
    "gpuNum": 8,
    "hideHardwareSpecs": false,
    "memoryGiB": 768,
    "name": "ml.p3dn.24xlarge",
    "vcpuNum": 96
   },
   {
    "_defaultOrder": 39,
    "_isFastLaunch": false,
    "category": "Memory Optimized",
    "gpuNum": 0,
    "hideHardwareSpecs": false,
    "memoryGiB": 16,
    "name": "ml.r5.large",
    "vcpuNum": 2
   },
   {
    "_defaultOrder": 40,
    "_isFastLaunch": false,
    "category": "Memory Optimized",
    "gpuNum": 0,
    "hideHardwareSpecs": false,
    "memoryGiB": 32,
    "name": "ml.r5.xlarge",
    "vcpuNum": 4
   },
   {
    "_defaultOrder": 41,
    "_isFastLaunch": false,
    "category": "Memory Optimized",
    "gpuNum": 0,
    "hideHardwareSpecs": false,
    "memoryGiB": 64,
    "name": "ml.r5.2xlarge",
    "vcpuNum": 8
   },
   {
    "_defaultOrder": 42,
    "_isFastLaunch": false,
    "category": "Memory Optimized",
    "gpuNum": 0,
    "hideHardwareSpecs": false,
    "memoryGiB": 128,
    "name": "ml.r5.4xlarge",
    "vcpuNum": 16
   },
   {
    "_defaultOrder": 43,
    "_isFastLaunch": false,
    "category": "Memory Optimized",
    "gpuNum": 0,
    "hideHardwareSpecs": false,
    "memoryGiB": 256,
    "name": "ml.r5.8xlarge",
    "vcpuNum": 32
   },
   {
    "_defaultOrder": 44,
    "_isFastLaunch": false,
    "category": "Memory Optimized",
    "gpuNum": 0,
    "hideHardwareSpecs": false,
    "memoryGiB": 384,
    "name": "ml.r5.12xlarge",
    "vcpuNum": 48
   },
   {
    "_defaultOrder": 45,
    "_isFastLaunch": false,
    "category": "Memory Optimized",
    "gpuNum": 0,
    "hideHardwareSpecs": false,
    "memoryGiB": 512,
    "name": "ml.r5.16xlarge",
    "vcpuNum": 64
   },
   {
    "_defaultOrder": 46,
    "_isFastLaunch": false,
    "category": "Memory Optimized",
    "gpuNum": 0,
    "hideHardwareSpecs": false,
    "memoryGiB": 768,
    "name": "ml.r5.24xlarge",
    "vcpuNum": 96
   },
   {
    "_defaultOrder": 47,
    "_isFastLaunch": false,
    "category": "Accelerated computing",
    "gpuNum": 1,
    "hideHardwareSpecs": false,
    "memoryGiB": 16,
    "name": "ml.g5.xlarge",
    "vcpuNum": 4
   },
   {
    "_defaultOrder": 48,
    "_isFastLaunch": false,
    "category": "Accelerated computing",
    "gpuNum": 1,
    "hideHardwareSpecs": false,
    "memoryGiB": 32,
    "name": "ml.g5.2xlarge",
    "vcpuNum": 8
   },
   {
    "_defaultOrder": 49,
    "_isFastLaunch": false,
    "category": "Accelerated computing",
    "gpuNum": 1,
    "hideHardwareSpecs": false,
    "memoryGiB": 64,
    "name": "ml.g5.4xlarge",
    "vcpuNum": 16
   },
   {
    "_defaultOrder": 50,
    "_isFastLaunch": false,
    "category": "Accelerated computing",
    "gpuNum": 1,
    "hideHardwareSpecs": false,
    "memoryGiB": 128,
    "name": "ml.g5.8xlarge",
    "vcpuNum": 32
   },
   {
    "_defaultOrder": 51,
    "_isFastLaunch": false,
    "category": "Accelerated computing",
    "gpuNum": 1,
    "hideHardwareSpecs": false,
    "memoryGiB": 256,
    "name": "ml.g5.16xlarge",
    "vcpuNum": 64
   },
   {
    "_defaultOrder": 52,
    "_isFastLaunch": false,
    "category": "Accelerated computing",
    "gpuNum": 4,
    "hideHardwareSpecs": false,
    "memoryGiB": 192,
    "name": "ml.g5.12xlarge",
    "vcpuNum": 48
   },
   {
    "_defaultOrder": 53,
    "_isFastLaunch": false,
    "category": "Accelerated computing",
    "gpuNum": 4,
    "hideHardwareSpecs": false,
    "memoryGiB": 384,
    "name": "ml.g5.24xlarge",
    "vcpuNum": 96
   },
   {
    "_defaultOrder": 54,
    "_isFastLaunch": false,
    "category": "Accelerated computing",
    "gpuNum": 8,
    "hideHardwareSpecs": false,
    "memoryGiB": 768,
    "name": "ml.g5.48xlarge",
    "vcpuNum": 192
   },
   {
    "_defaultOrder": 55,
    "_isFastLaunch": false,
    "category": "Accelerated computing",
    "gpuNum": 8,
    "hideHardwareSpecs": false,
    "memoryGiB": 1152,
    "name": "ml.p4d.24xlarge",
    "vcpuNum": 96
   },
   {
    "_defaultOrder": 56,
    "_isFastLaunch": false,
    "category": "Accelerated computing",
    "gpuNum": 8,
    "hideHardwareSpecs": false,
    "memoryGiB": 1152,
    "name": "ml.p4de.24xlarge",
    "vcpuNum": 96
   }
  ],
  "instance_type": "ml.t3.medium",
  "kernelspec": {
   "display_name": "Python 3 (Data Science 3.0)",
   "language": "python",
   "name": "python3__SAGEMAKER_INTERNAL__arn:aws:sagemaker:us-east-1:081325390199:image/sagemaker-data-science-310-v1"
  },
  "language_info": {
   "codemirror_mode": {
    "name": "ipython",
    "version": 3
   },
   "file_extension": ".py",
   "mimetype": "text/x-python",
   "name": "python",
   "nbconvert_exporter": "python",
   "pygments_lexer": "ipython3",
   "version": "3.10.6"
  }
 },
 "nbformat": 4,
 "nbformat_minor": 5
}
