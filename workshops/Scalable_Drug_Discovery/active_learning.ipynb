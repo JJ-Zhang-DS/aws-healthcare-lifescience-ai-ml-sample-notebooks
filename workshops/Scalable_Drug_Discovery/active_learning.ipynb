{
 "cells": [
  {
   "cell_type": "markdown",
   "id": "a185306d-af9b-482d-9af6-0bfe83df0d00",
   "metadata": {},
   "source": [
    "# Building Scalable Drug Discovery Applications: Active Learning"
   ]
  },
  {
   "cell_type": "markdown",
   "id": "aa7e2c2f",
   "metadata": {},
   "source": [
    "![Active learning can accelerate DMTL cycles](img/active_learning.png)\n",
    "\n",
    "Active learning is an effective way to minizmize the amount of experimental data needed to obtain a R&D result. It involves measuring data for a small set of samples, using the results to train a model, then using that model to predict a value for all of the samples. Several rounds of this can identify top-scoring candidates more quickly and cheaply than measuring them all through the lab."
   ]
  },
  {
   "cell_type": "markdown",
   "id": "ee4416b4-ced1-4d1e-874d-cdaa4c1a7c3c",
   "metadata": {},
   "source": [
    "---\n",
    "## 1. Setup"
   ]
  },
  {
   "cell_type": "code",
   "execution_count": null,
   "id": "0271bc47-6681-4ee6-a59c-1dc13c0c6a20",
   "metadata": {},
   "outputs": [],
   "source": [
    "%pip install -U -r requirements.txt"
   ]
  },
  {
   "cell_type": "code",
   "execution_count": null,
   "id": "a8e04303-0640-45a5-a02c-fd8785d09fa8",
   "metadata": {},
   "outputs": [],
   "source": [
    "import biotite\n",
    "from biotite.structure.io import pdb\n",
    "from biotite.database import rcsb\n",
    "import helpers\n",
    "import numpy as np\n",
    "import py3Dmol\n",
    "\n",
    "import warnings\n",
    "\n",
    "warnings.simplefilter(action=\"ignore\", category=FutureWarning)\n",
    "\n",
    "LAB_SUBMISSION_SIZE = 1000"
   ]
  },
  {
   "cell_type": "markdown",
   "id": "6f4a5056-27e3-4bfe-87ac-67c8e0bb66a2",
   "metadata": {},
   "source": [
    "---\n",
    "## 2. View Nanobody sequence and structure\n",
    "\n",
    "First, we'll download the structure of an existing monoclonal antibody drug, caplacizumab. We'll use this as our template for new designs."
   ]
  },
  {
   "cell_type": "code",
   "execution_count": null,
   "id": "4b584896-0e4b-4f24-973d-10a264d07157",
   "metadata": {},
   "outputs": [],
   "source": [
    "pdb_id = \"7eow\"\n",
    "stack = biotite.structure.io.pdb.get_structure(\n",
    "    pdb.PDBFile.read(rcsb.fetch(pdb_id, \"pdb\"))\n",
    ")\n",
    "vf_factor = helpers.clean_structure(stack[0][stack.chain_id == \"A\"])\n",
    "caplacizumab = helpers.clean_structure(stack[0][stack.chain_id == \"B\"])\n",
    "\n",
    "caplacizumab_seq = biotite.structure.to_sequence(caplacizumab)[0][0]\n",
    "\n",
    "cdr1 = list(range(25, 32))\n",
    "cdr2 = list(range(51, 57))\n",
    "cdr3 = list(range(98, 117))\n",
    "cdrs = cdr1 + cdr2 + cdr3\n",
    "cdrs_1_base = [i + 1 for i in cdrs]\n",
    "\n",
    "preserved_regions = [\n",
    "    (0, cdr1[0]),\n",
    "    (cdr1[-1] + 1, cdr2[0]),\n",
    "    (cdr2[-1] + 1, cdr3[0]),\n",
    "    (cdr3[-1] + 1, len(caplacizumab_seq)),\n",
    "]\n",
    "\n",
    "print(caplacizumab_seq)\n",
    "print(helpers.format_cdrs(caplacizumab_seq, cdrs))"
   ]
  },
  {
   "cell_type": "code",
   "execution_count": null,
   "id": "472564b0-a647-4e85-a5d7-9dd38ca572af",
   "metadata": {},
   "outputs": [],
   "source": [
    "view = py3Dmol.view(width=600, height=600)\n",
    "view.addModel(helpers.to_pdb_string(vf_factor))\n",
    "view.addModel(helpers.to_pdb_string(caplacizumab))\n",
    "view.setStyle({\"chain\": \"A\"}, {\"cartoon\": {\"color\": \"orange\", \"opacity\": 0.6}})\n",
    "view.setStyle({\"chain\": \"B\"}, {\"cartoon\": {\"color\": \"blue\", \"opacity\": 0.6}})\n",
    "view.addStyle(\n",
    "    {\"chain\": \"B\", \"resi\": cdrs_1_base},\n",
    "    {\"cartoon\": {\"color\": \"#57C4F8\", \"opacity\": 1.0}},\n",
    ")\n",
    "view.zoomTo()\n",
    "view.show()"
   ]
  },
  {
   "cell_type": "markdown",
   "id": "58d48644-f8c7-4f36-b073-4bbc94b3589d",
   "metadata": {},
   "source": [
    "---\n",
    "## 3. Generate Sequence Variants\n",
    "\n",
    "![Generate sequence variants using directed evolution](img/gen.png)\n",
    "\n",
    "Next we'll generate random mutations in the CDRs for the caplacizumab sequence. We're not using any scientific logic to guide us here, the mutations are completely random!"
   ]
  },
  {
   "cell_type": "code",
   "execution_count": null,
   "id": "14174916-db2b-4d77-bfcc-3c493e268b0c",
   "metadata": {},
   "outputs": [],
   "source": [
    "generated_seqs = helpers.random_mutation(\n",
    "    wt_protein=str(caplacizumab_seq),\n",
    "    n_output_seqs=100000,\n",
    "    preserved_regions=preserved_regions,\n",
    "    max_mutations=10,\n",
    ")\n",
    "generated_seqs[\"lab_result\"] = np.NaN\n",
    "print(f\"Generated {len(generated_seqs)} sequences\")\n",
    "n_preview = 10\n",
    "print(caplacizumab_seq)\n",
    "for i in generated_seqs[:n_preview].itertuples():\n",
    "    print(helpers.format_cdrs(i.seq, i.mutation, mask=True))"
   ]
  },
  {
   "cell_type": "markdown",
   "id": "d4f7eb2d-b6af-45cc-847a-2c56b7d9d830",
   "metadata": {},
   "source": [
    "---\n",
    "## 4. Select Samples\n",
    "\n",
    "![Identify candidates for lab testing using a selection model](img/select.png)\n",
    "\n",
    "From our pool of randomly-generated candidates, we now select a batch to submit to the lab. "
   ]
  },
  {
   "cell_type": "code",
   "execution_count": null,
   "id": "32cecb03-806d-460e-b988-7948ebc1c0fd",
   "metadata": {},
   "outputs": [],
   "source": [
    "no_lab_data = generated_seqs[generated_seqs[\"lab_result\"].isnull()]\n",
    "selected_seqs = no_lab_data[[\"seq\"]][:LAB_SUBMISSION_SIZE]\n",
    "selected_seqs"
   ]
  },
  {
   "cell_type": "markdown",
   "id": "98b3386d-6402-4e15-8626-a6e939412f4c",
   "metadata": {},
   "source": [
    "---\n",
    "## 5. Submit to Lab\n",
    "\n",
    "![Submit selected samples for experimental testing](img/lab.png)"
   ]
  },
  {
   "cell_type": "code",
   "execution_count": null,
   "id": "0a5ffd7a-442d-4191-93f0-7ecb31a626eb",
   "metadata": {},
   "outputs": [],
   "source": [
    "lab_results = helpers.submit_seqs_to_lab(selected_seqs[\"seq\"])\n",
    "\n",
    "for result in lab_results.itertuples():\n",
    "    generated_seqs.loc[[result.Index], [\"lab_result\"]] = result.result\n",
    "\n",
    "display(generated_seqs)"
   ]
  },
  {
   "cell_type": "markdown",
   "id": "d13195cf-e65c-4504-ab57-fe0840f3bace",
   "metadata": {},
   "source": [
    "---\n",
    "## 6. Fine-Tune Scoring Model\n",
    "\n",
    "![Improve the scoring model using experimental results](img/ft.png)"
   ]
  },
  {
   "cell_type": "code",
   "execution_count": null,
   "id": "e9f50d1d-9b4f-47fa-8f8b-0172709f23ba",
   "metadata": {
    "scrolled": true
   },
   "outputs": [],
   "source": [
    "scoring_model = helpers.train_scoring_model(\n",
    "    lab_results,\n",
    "    sequence_column=\"seq\",\n",
    "    results_column=\"result\",\n",
    "    epochs=1,\n",
    "    model_name_or_path=\"facebook/esm2_t30_150M_UR50D\",\n",
    ")"
   ]
  },
  {
   "cell_type": "markdown",
   "id": "9235eccc-e4e8-4db1-98b1-78a5968903bc",
   "metadata": {},
   "source": [
    "---\n",
    "## 7. Score Samples with Regression Model\n",
    "\n",
    "![Predict high-performing variants using a scoring model](img/score.png)"
   ]
  },
  {
   "cell_type": "code",
   "execution_count": null,
   "id": "7be88ac0-9df9-4778-9b33-8dcd888317c5",
   "metadata": {
    "scrolled": true
   },
   "outputs": [],
   "source": [
    "predictions = helpers.run_scoring_model(scoring_model, generated_seqs)\n",
    "generated_seqs[\"prediction\"] = predictions\n",
    "generated_seqs.sort_values(by=\"prediction\", ascending=False)"
   ]
  },
  {
   "cell_type": "markdown",
   "id": "1228763e-4475-4f89-9713-65f0c889e579",
   "metadata": {},
   "source": [
    "---\n",
    "## 8. Your Turn"
   ]
  },
  {
   "cell_type": "code",
   "execution_count": null,
   "id": "0fd37a8b-5e37-4847-b57f-1c116956f946",
   "metadata": {},
   "outputs": [],
   "source": [
    "N_GENERATED_SEQS = 100000\n",
    "MAX_MUTATIONS = 10\n",
    "N_REPS = 3\n",
    "LAB_SUBMISSION_SIZE = 1000"
   ]
  },
  {
   "cell_type": "code",
   "execution_count": null,
   "id": "3b92671b-121f-4290-bffd-b628c221153b",
   "metadata": {},
   "outputs": [],
   "source": [
    "print(f\"Generating {N_GENERATED_SEQS} sequences\")\n",
    "generated_seqs = helpers.random_mutation(\n",
    "    wt_protein=str(caplacizumab_seq),\n",
    "    n_output_seqs=N_GENERATED_SEQS,\n",
    "    preserved_regions=preserved_regions,\n",
    "    max_mutations=MAX_MUTATIONS,\n",
    ")\n",
    "generated_seqs[\"lab_result\"] = np.NaN\n",
    "\n",
    "for rep in range(N_REPS):\n",
    "    print(\"#\" * 25 + \"\\n\" + f\"Starting rep {rep+1} of {N_REPS}\" + \"\\n\" + \"#\" * 25)\n",
    "\n",
    "    print(f\"Select a batch of {LAB_SUBMISSION_SIZE} samples without lab data\")\n",
    "    no_lab_data = generated_seqs[generated_seqs[\"lab_result\"].isnull()]\n",
    "    if rep == 0:\n",
    "        selected_seqs = no_lab_data[\"seq\"][:LAB_SUBMISSION_SIZE]\n",
    "    else:\n",
    "        print(\"Selecting samples with highest predicted values\")\n",
    "        selected_seqs = no_lab_data.sort_values(by=\"last_prediction\", ascending=False)[\n",
    "            \"seq\"\n",
    "        ][:LAB_SUBMISSION_SIZE]\n",
    "\n",
    "    print(\"Submitting samples for lab analysis\")\n",
    "    lab_results = helpers.submit_seqs_to_lab(selected_seqs, delay=0.01)\n",
    "    for result in lab_results.itertuples():\n",
    "        generated_seqs.loc[[result.Index], [\"lab_result\"]] = result.result\n",
    "\n",
    "    if rep+1 == N_REPS:\n",
    "        break\n",
    "\n",
    "    print(\"Training scoring model on lab results\")\n",
    "    scoring_model = helpers.train_scoring_model(\n",
    "        lab_results,\n",
    "        sequence_column=\"seq\",\n",
    "        results_column=\"result\",\n",
    "        epochs=1,\n",
    "        model_name_or_path=\"output\",\n",
    "    )\n",
    "\n",
    "    print(f\"Using model to score all {N_GENERATED_SEQS} sequences\")\n",
    "    predictions = helpers.run_scoring_model(scoring_model, generated_seqs)\n",
    "    generated_seqs[f\"last_prediction\"] = predictions\n",
    "\n",
    "    display(generated_seqs)\n",
    "    generated_seqs.count()\n",
    "\n",
    "print(\"Best candidates\")\n",
    "best = generated_seqs.sort_values(by=\"lab_result\", ascending=False)[:5]\n",
    "display(best)\n",
    "\n",
    "for i in best.itertuples():\n",
    "    print(\n",
    "        str(round(i.lab_result, 5)).rjust(5)\n",
    "        + \"\\t\"\n",
    "        + helpers.format_cdrs(i.seq, i.mutation, mask=True)\n",
    "    )\n",
    "print(\n",
    "    str(0.25609).rjust(5)\n",
    "    + \"\\t\"\n",
    "    + helpers.format_cdrs(str(caplacizumab_seq), cdrs, mask=False)\n",
    ")"
   ]
  },
  {
   "cell_type": "code",
   "execution_count": null,
   "id": "7fbd1358-5846-4f08-91e1-aa64f0793899",
   "metadata": {},
   "outputs": [],
   "source": []
  }
 ],
 "metadata": {
  "kernelspec": {
   "display_name": "Python 3 (ipykernel)",
   "language": "python",
   "name": "python3"
  },
  "language_info": {
   "codemirror_mode": {
    "name": "ipython",
    "version": 3
   },
   "file_extension": ".py",
   "mimetype": "text/x-python",
   "name": "python",
   "nbconvert_exporter": "python",
   "pygments_lexer": "ipython3",
   "version": "3.11.9"
  }
 },
 "nbformat": 4,
 "nbformat_minor": 5
}
