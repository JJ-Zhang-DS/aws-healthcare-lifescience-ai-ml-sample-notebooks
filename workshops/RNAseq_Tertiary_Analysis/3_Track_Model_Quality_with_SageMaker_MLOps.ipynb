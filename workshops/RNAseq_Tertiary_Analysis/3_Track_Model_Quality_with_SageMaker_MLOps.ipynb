{
 "cells": [
  {
   "cell_type": "markdown",
   "metadata": {},
   "source": [
    "# Notebook 3. Track Model Quality with SageMaker MLOps"
   ]
  },
  {
   "cell_type": "markdown",
   "metadata": {},
   "source": [
    "## Learning Objectives\n",
    "- Automate Machine Learning Operations (MLOps) with SageMaker Pipelines.\n",
    "- Track model versions with the SageMaker Model Registry.\n",
    "- Validate model performance using SageMaker Model Monitoring and Model Lineage."
   ]
  },
  {
   "cell_type": "markdown",
   "metadata": {},
   "source": [
    "## Environment Notes:\n",
    "This notebook was created and tested on an `ml.t3.medium (2 vCPU + 4 GiB)` notebook instance running the `Python 3 (Data Science)` kernel in SageMaker Studio."
   ]
  },
  {
   "cell_type": "markdown",
   "metadata": {},
   "source": [
    "## Table of Contents\n",
    "1. [Background](#1.-Background)\n",
    "    1. [Amazon SageMaker Model Building Pipelines](#1.A.-Amazon-SageMaker-Model-Building-Pipelines)\n",
    "    1. [Amazon SageMaker Model Registry](#1.B.-Amazon-SageMaker-Model-Registry)\n",
    "    1. [Amazon SageMaker Model Lineage](#1.D.-Amazon-SageMaker-Model-Lineage)\n",
    "1. [Create SageMaker MLOps Project](#2.-Create-SageMaker-MLOps-Project)\n",
    "    1. [Create a New Project Using the Build, Traing, and Deploy Template](#2.A.-Create-a-New-Project-Using-the-Build,-Traing,-and-Deploy-Template)\n",
    "    1. [Clone the New Git Repositories](#2.B.-Clone-the-New-Git-Repositories)\n",
    "    1. [Update the Build Repository](#2.C.-Update-the-Build-Repository)\n",
    "    1. [Approve the New Model Version](#2.D.-Approve-the-New-Model-Version)\n",
    "1. [Test the Model Inference Endpoint](#3.-Test-the-Model-Inference-Endpoint)\n",
    "    1. [Import Libraries and Create Clients](#3.A.-Import-Libraries-and-Create-Clients)\n",
    "    1. [Examine Model Training Reports](#3.B.-Examine-Model-Training-Reports)\n",
    "    1. [Invoke the Staging Model Endpoint](#3.C.-Invoke-the-Staging-Model-Endpoint)\n",
    "1. [Explore the Model Lineage](#4.-Explore-the-Model-Lineage)\n",
    "    1. [Visualize Lineage Entities as a Table](#4.A.-Visualize-Lineage-Entities-as-a-Table)\n",
    "    1. [Visualize Lineage Entities as a Graph](#4.B.-Visualize-Lineage-Entities-as-a-Graph)\n",
    "1. [Approve the Model Version for Release](#5.-Approve-the-Model-Version-for-Release)\n",
    "1. [Clean Up](#6.-Clean-Up)"
   ]
  },
  {
   "cell_type": "markdown",
   "metadata": {},
   "source": [
    "-----\n",
    "## 1. Background\n",
    "\n",
    "In Notebook 2 of this series, we demonstrated how SageMaker Processing, Training, and Hyperparameter Optimization (HPO) jobs can make the development of new machine learning (ML) models faster and more cost efficient. In this notebook, we'll look at some best practices for deploying and managing your models into production. Many of these practices fall into the category of \"Machine Learning Operations\", or \"MLOps\" and are increasingly a part of many [regulatory and quality requirements](https://www.fda.gov/files/medical%20devices/published/US-FDA-Artificial-Intelligence-and-Machine-Learning-Discussion-Paper.pdf).\n",
    "\n",
    "MLOps plays a key role in the **Model Deployment** and **Model Monitoring/Maintenance** phases of the Machine Learning Lifecycle. For more information, please refer to the [Machine Learning Best Practices in Healthcare and Life Sciences Whitepaper](https://d1.awsstatic.com/whitepapers/ML-best-practices-health-science.pdf?did=wp_card&trk=wp_card).\n",
    "\n",
    "![Machine Learning Life Cycle - Part 1](img/MLLC2.png \"ML Life Cycle - Part 1\")"
   ]
  },
  {
   "cell_type": "markdown",
   "metadata": {},
   "source": [
    "### 1.1. Amazon SageMaker Model Building Pipelines\n",
    "\n",
    "[Amazon SageMaker Model Building Pipelines](https://docs.aws.amazon.com/sagemaker/latest/dg/pipelines.html) is a tool for building machine learning pipelines that take advantage of direct SageMaker integration. Because of this integration, you can create a pipeline and set up SageMaker Projects for orchestration using a tool that handles much of the step creation and management for you. You can manage these pipelines in the SageMaker Studio UI and automatically capture data and model lineage.\n",
    "\n",
    "One of the challenges with deploying ML solutions is that their effectiveness can change over time.  For example, perhaps the distribution of your data shifts from year-to-year? Or the boundaries of a classification category? In these cases, you want to be able to quickly retrain and deploy new versions of your model, either on a schedule or in response to some event.\n",
    "\n",
    "Amazon SageMaker Pipelines allows us to define reproducible ML processes that we can trigger at will. In this example, we'll use the processing, training, and registration artifacts from above to create a pipeline and demonstrate how to execute it."
   ]
  },
  {
   "cell_type": "markdown",
   "metadata": {},
   "source": [
    "### 1.2. Amazon SageMaker Model Registry\n",
    "\n",
    "The [Amazon SageMaker Model Registry](https://docs.aws.amazon.com/sagemaker/latest/dg/model-registry.html) is a managed service that allows you to track model metadata, approve releases, and deploy new versions to production. It involves two concepts:\n",
    "\n",
    "- A **Model Package Group** is a group of models that share a common business goal. For example, you might create a model package group to track models for segmenting a specific kind of medical image.\n",
    "- A **Model Package** or **Model Version** is a member of a Model Package Group. It refers to the a specific implementation of a model with its own training artifact and/or inference container."
   ]
  },
  {
   "cell_type": "markdown",
   "metadata": {},
   "source": [
    "### 1.3. Amazon SageMaker Model Lineage\n",
    "\n",
    "[Amazon SageMaker Model Lineage](https://docs.aws.amazon.com/sagemaker/latest/dg/lineage-tracking.html) creates and stores information about the steps of a machine learning (ML) workflow from data preparation to model deployment. With the tracking information, you can reproduce the workflow steps, track model and dataset lineage, and establish model governance and audit standards."
   ]
  },
  {
   "cell_type": "markdown",
   "metadata": {},
   "source": [
    "-----\n",
    "## 2. Create SageMaker MLOps Project"
   ]
  },
  {
   "cell_type": "markdown",
   "metadata": {},
   "source": [
    "### 2.1. Create a New Project Using the Build, Traing, and Deploy Template\n",
    "\n",
    "1. From the SageMaker Studio left navigation panel, choose **Home > Deployments > Projects**.\n",
    "\n",
    "![Resources](img/project-1.png)\n",
    "\n",
    "3. Select **Create project**\n",
    "\n",
    "![Resources](img/project-2.png)\n",
    "\n",
    "4. In the **SageMaker project templates** view, select the **MLOps template for model building, training, and deployment** template and then **Select project template**.\n",
    "\n",
    "![Resources](img/project-3.png)\n",
    "\n",
    "5. Enter **her2-brca-classifier** in the **Name** field and then choose **Create Project**.\n",
    "\n",
    "![Resources](img/project-4.png)"
   ]
  },
  {
   "cell_type": "markdown",
   "metadata": {},
   "source": [
    "6. While the new project is starting, import some libraries and create clients"
   ]
  },
  {
   "cell_type": "code",
   "execution_count": 2,
   "metadata": {
    "tags": []
   },
   "outputs": [
    {
     "name": "stdout",
     "output_type": "stream",
     "text": [
      "\u001b[33mWARNING: Running pip as the 'root' user can result in broken permissions and conflicting behaviour with the system package manager. It is recommended to use a virtual environment instead: https://pip.pypa.io/warnings/venv\u001b[0m\u001b[33m\n",
      "\u001b[0mNote: you may need to restart the kernel to use updated packages.\n"
     ]
    }
   ],
   "source": [
    "%pip install --disable-pip-version-check -U -q -r requirements.txt"
   ]
  },
  {
   "cell_type": "code",
   "execution_count": null,
   "metadata": {
    "tags": []
   },
   "outputs": [],
   "source": [
    "import base64\n",
    "import boto3\n",
    "import jsonlines\n",
    "import os\n",
    "import pandas as pd\n",
    "import sagemaker\n",
    "from sagemaker.lineage.context import Context, EndpointContext\n",
    "from sagemaker.lineage.lineage_trial_component import LineageTrialComponent\n",
    "from sagemaker.lineage.visualizer import LineageTableVisualizer\n",
    "from sagemaker.predictor import Predictor\n",
    "import shutil\n",
    "from time import sleep\n",
    "from visualizer.visualizer import Visualizer\n",
    "\n",
    "boto_session = boto3.session.Session()\n",
    "region = boto_session.region_name\n",
    "sagemaker_session = sagemaker.session.Session(boto_session)\n",
    "sagemaker_execution_role = sagemaker.session.get_execution_role(sagemaker_session)\n",
    "sagemaker_boto_client = boto_session.client(\"sagemaker\")\n",
    "s3_boto_client = boto_session.client(\"s3\")\n",
    "account_id = boto_session.client(\"sts\").get_caller_identity().get(\"Account\")\n",
    "print(f\"Assumed SageMaker role is {sagemaker_execution_role}\")"
   ]
  },
  {
   "cell_type": "markdown",
   "metadata": {},
   "source": [
    "7. Capture some information associated with your new project."
   ]
  },
  {
   "cell_type": "code",
   "execution_count": 4,
   "metadata": {
    "tags": []
   },
   "outputs": [],
   "source": [
    "# NOTE If you use a different name for your project, please update this variable:\n",
    "project_name = \"her2-brca-classifier\""
   ]
  },
  {
   "cell_type": "code",
   "execution_count": 5,
   "metadata": {
    "tags": []
   },
   "outputs": [
    {
     "name": "stdout",
     "output_type": "stream",
     "text": [
      "SageMaker project name is her2-brca-classifier\n",
      "SageMaker project ID is p-yydhztstjuw5\n",
      "Pipeline name is her2-brca-classifier-p-yydhztstjuw5\n"
     ]
    }
   ],
   "source": [
    "project_id = sagemaker_boto_client.describe_project(ProjectName=project_name).get(\n",
    "    \"ProjectId\"\n",
    ")\n",
    "print(f\"SageMaker project name is {project_name}\")\n",
    "print(f\"SageMaker project ID is {project_id}\")\n",
    "\n",
    "s3_bucket = f\"sagemaker-project-{project_id}\"\n",
    "pipeline_name = f\"{project_name.lower()}-{project_id}\"\n",
    "print(f\"Pipeline name is {pipeline_name}\")\n",
    "staging_endpoint_name = f\"{project_name}-staging\"\n",
    "prod_endpoint_name = f\"{project_name}-prod\"\n",
    "build_code_path = f\"/root/{pipeline_name}/sagemaker-{pipeline_name}-modelbuild\"\n",
    "deploy_code_path = f\"/root/{pipeline_name}/sagemaker-{pipeline_name}-modeldeploy\""
   ]
  },
  {
   "cell_type": "markdown",
   "metadata": {},
   "source": [
    "8. SageMaker will automatically create and run a default \"abalone\" template when it creates the new project, which can take as long as 15 minutes to finish. To speed things up, run the following cell to stop this pipeline execution."
   ]
  },
  {
   "cell_type": "code",
   "execution_count": 6,
   "metadata": {
    "tags": []
   },
   "outputs": [
    {
     "data": {
      "text/plain": [
       "{'pipelineExecutionId': 'ee247ff8-22f6-426e-a341-648925173d94',\n",
       " 'ResponseMetadata': {'RequestId': 'dfaaeaf8-2192-4114-b50d-989958550c48',\n",
       "  'HTTPStatusCode': 200,\n",
       "  'HTTPHeaders': {'x-amzn-requestid': 'dfaaeaf8-2192-4114-b50d-989958550c48',\n",
       "   'date': 'Fri, 16 Dec 2022 15:34:41 GMT',\n",
       "   'content-type': 'application/x-amz-json-1.1',\n",
       "   'content-length': '62'},\n",
       "  'RetryAttempts': 0}}"
      ]
     },
     "execution_count": 6,
     "metadata": {},
     "output_type": "execute_result"
    }
   ],
   "source": [
    "# Halt execution of default \"Abalone\" pipeline\n",
    "codepipeline_boto_client = boto3.client(\"codepipeline\")\n",
    "codepipeline_name_build = f\"sagemaker-{pipeline_name}-modelbuild\"\n",
    "pipelineExecutionId = codepipeline_boto_client.list_pipeline_executions(\n",
    "    pipelineName=codepipeline_name_build\n",
    ")[\"pipelineExecutionSummaries\"][-1][\"pipelineExecutionId\"]\n",
    "\n",
    "codepipeline_boto_client.stop_pipeline_execution(\n",
    "    pipelineName=codepipeline_name_build,\n",
    "    pipelineExecutionId=pipelineExecutionId,\n",
    "    abandon=True,\n",
    ")"
   ]
  },
  {
   "cell_type": "markdown",
   "metadata": {},
   "source": [
    "Here's an overview of the services created by the project pipeline:"
   ]
  },
  {
   "cell_type": "markdown",
   "metadata": {},
   "source": [
    "**Model Building and Training Stack**"
   ]
  },
  {
   "cell_type": "markdown",
   "metadata": {},
   "source": [
    "![Model Building and Training Stack](img/template_build.jpg)"
   ]
  },
  {
   "cell_type": "markdown",
   "metadata": {},
   "source": [
    "**Model Deployment Stack**"
   ]
  },
  {
   "cell_type": "markdown",
   "metadata": {},
   "source": [
    "![Model Deployment Stack](img/template_deploy.jpg)"
   ]
  },
  {
   "cell_type": "markdown",
   "metadata": {},
   "source": [
    "### 2.2. Clone the New Git Repositories\n",
    "1. Once the project has successfully been created, navigate to the **Repositories** tab in the project view.\n",
    "\n",
    "![Repositories](img/repositories.png)\n",
    "\n",
    "2. Select the **clone repo...** link for the first repository and then **Clone Repository** with the default options on the next view.\n",
    "\n",
    "![Default Repo Settings](img/repo_defaults.png)\n",
    "\n",
    "3. Repeat for the second repository.\n",
    "4. Choose **File Browser** grom the SageMaker Studio left navigation panel.\n",
    "5. Verify that there is a new folder in your home directory named`\"her2-brca-classifier-\"`, followed by the project ID. There should also be two subfolders, one for the model build steps and another for the model deploy steps.\n",
    "\n",
    "![Default Repo Settings](img/cloned_folders.png)\n",
    "\n",
    "<!-- 6. Within the build subfolder (It will be named something like `sagemaker-her2-brca-classifier-[PROJECT ID]-modelbuild`) navigate to `pipelines/abalone`. This folder will contain three files:\n",
    "- `evaluate.py`: A Python module for measuring model performance.\n",
    "- `pipeline.py`: A Python module that defines a SageMaker Pipelines model building workflow.\n",
    "- `preprocess.py`: A Python module for running a data processing job.\n",
    "\n",
    "Each of these files contains placeholder code for now. We'll update them with our own code in the next section. -->"
   ]
  },
  {
   "cell_type": "markdown",
   "metadata": {},
   "source": [
    "### 2.3. Update the Build Repository"
   ]
  },
  {
   "cell_type": "markdown",
   "metadata": {},
   "source": [
    "Run the following cells to update your cloned repository with custom pipeline code and push the changes to CodeCommit. This will restart the MLOps process and build a new version of your pipeline with your custom model training code."
   ]
  },
  {
   "cell_type": "code",
   "execution_count": 7,
   "metadata": {
    "tags": []
   },
   "outputs": [
    {
     "name": "stdout",
     "output_type": "stream",
     "text": [
      "[main 824ef37] Update pipeline code\n",
      " 5 files changed, 523 insertions(+), 1 deletion(-)\n",
      " create mode 100644 pipelines/her2pipeline/__init__.py\n",
      " create mode 100644 pipelines/her2pipeline/evaluate.py\n",
      " create mode 100644 pipelines/her2pipeline/pipeline.py\n",
      " create mode 100644 pipelines/her2pipeline/preprocess.py\n"
     ]
    },
    {
     "name": "stderr",
     "output_type": "stream",
     "text": [
      "remote: Validating objects: 100%        \n",
      "To https://git-codecommit.us-west-2.amazonaws.com/v1/repos/sagemaker-her2-brca-classifier-p-yydhztstjuw5-modelbuild\n",
      "   9f70d8d..824ef37  main -> main\n"
     ]
    },
    {
     "name": "stdout",
     "output_type": "stream",
     "text": [
      "Branch 'main' set up to track remote branch 'main' from 'origin'.\n"
     ]
    }
   ],
   "source": [
    "%%bash -s \"$build_code_path\" \n",
    "cp -r scripts/pipelines/her2pipeline $1/pipelines/her2pipeline\n",
    "cp scripts/pipelines/codebuild-buildspec.yml $1\n",
    "cd $1\n",
    "git config --global user.email \"awsuser@amazon.com\"\n",
    "git config --global user.name \"AWS User\"\n",
    "git add .\n",
    "git commit -a -m \"Update pipeline code\"\n",
    "git config --global credential.helper '!aws codecommit credential-helper $@'\n",
    "git config --global credential.UseHttpPath true\n",
    "git push -u origin"
   ]
  },
  {
   "cell_type": "markdown",
   "metadata": {},
   "source": [
    "It will take approximately 15 minutes to rebuild and execute the pipeline. You can track the progress either on the **Pipelines** tab of the project view or on the AWS **CodeBuild** console.\n",
    "\n",
    "![Pipeline Execution](img/pipeline_execution.png)"
   ]
  },
  {
   "cell_type": "markdown",
   "metadata": {},
   "source": [
    "### 2.4. Approve the New Model Version\n",
    "1. Navigate back to the project view.\n",
    "2. Select the **Model groups** tab.\n",
    "3. Double-click on the model group name (e.g. `her2-brca-classifier-[PROJECT ID]`) to view the available model versions.\n",
    "4. Double-click on the newest model version to view its details.\n",
    "5. Navigate between the **Activity**, **Model quality**, and **Settings** tabs to view information about the model inference endpoint.\n",
    "6. Select the orange **Update Status** button in the upper-right corner of the model registry view.\n",
    "7. Update the **Approved** status and (optionally) add a comment.\n",
    "\n",
    "![Update the model status](img/update-status.png \"Update the model status\")\n",
    "\n",
    "8. Wait several minutes for the \"Staging\" endpoint appear in the Endpoints tab."
   ]
  },
  {
   "cell_type": "markdown",
   "metadata": {},
   "source": [
    "## 3. Test the Model Inference Endpoint"
   ]
  },
  {
   "cell_type": "markdown",
   "metadata": {},
   "source": [
    "Real-time inference endpoints are deployed to a persistent EC2 instance. This allows them to respond quickly to requests and support a wide range of custom properties. It's a good choice for models with steady usage. However, there are other ways to deploy a model on SageMaker as well.\n",
    "\n",
    "![alt text](img/deployment_options.png \"SageMaker Model Deployment Options\")"
   ]
  },
  {
   "cell_type": "markdown",
   "metadata": {},
   "source": [
    "### 3.1. Examine Model Training Reports"
   ]
  },
  {
   "cell_type": "code",
   "execution_count": 8,
   "metadata": {
    "tags": []
   },
   "outputs": [
    {
     "name": "stdout",
     "output_type": "stream",
     "text": [
      "Downloading training reports from s3://sagemaker-project-p-yydhztstjuw5/pipelines-75zidnfktuxm-TrainHER2Model-vDc7dOo9pj/rule-output\n"
     ]
    }
   ],
   "source": [
    "# Download training reports\n",
    "last_training_job_name = (\n",
    "    sagemaker_boto_client.list_training_jobs()\n",
    "    .get(\"TrainingJobSummaries\")[0]\n",
    "    .get(\"TrainingJobName\")\n",
    ")\n",
    "rule_output_path = (\n",
    "    f\"s3://sagemaker-project-{project_id}/{last_training_job_name}/rule-output\"\n",
    ")\n",
    "print(f\"Downloading training reports from {rule_output_path}\")\n",
    "sagemaker.s3.S3Downloader.download(\n",
    "    s3_uri=rule_output_path, local_path=\"training_reports/\"\n",
    ")"
   ]
  },
  {
   "cell_type": "markdown",
   "metadata": {},
   "source": [
    "-----\n",
    "### 3.2. Invoke the Staging Model Endpoint"
   ]
  },
  {
   "cell_type": "code",
   "execution_count": 9,
   "metadata": {
    "tags": []
   },
   "outputs": [
    {
     "name": "stdout",
     "output_type": "stream",
     "text": [
      "Sending test traffic to the endpoint her2-brca-classifier-staging. \n",
      "Please wait...\n",
      "[Actual | predicted] labels for record 120 are [0.0 | 0.004]\n",
      "[Actual | predicted] labels for record 113 are [0.0 | 0.006]\n",
      "[Actual | predicted] labels for record   5 are [1.0 | 0.968]\n",
      "[Actual | predicted] labels for record 103 are [0.0 | 0.003]\n",
      "[Actual | predicted] labels for record   2 are [0.0 | 0.025]\n",
      "[Actual | predicted] labels for record  93 are [0.0 | 0.018]\n",
      "[Actual | predicted] labels for record  50 are [0.0 | 0.009]\n",
      "[Actual | predicted] labels for record  32 are [0.0 | 0.012]\n",
      "[Actual | predicted] labels for record  25 are [0.0 | 0.251]\n",
      "[Actual | predicted] labels for record 117 are [0.0 | 0.003]\n",
      "[Actual | predicted] labels for record  92 are [0.0 | 0.064]\n",
      "[Actual | predicted] labels for record  76 are [0.0 | 0.002]\n",
      "[Actual | predicted] labels for record  16 are [0.0 | 0.024]\n",
      "[Actual | predicted] labels for record 105 are [0.0 | 0.009]\n",
      "[Actual | predicted] labels for record  27 are [0.0 | 0.010]\n",
      "[Actual | predicted] labels for record  41 are [1.0 | 0.970]\n",
      "[Actual | predicted] labels for record  62 are [0.0 | 0.011]\n",
      "[Actual | predicted] labels for record  56 are [0.0 | 0.992]\n",
      "[Actual | predicted] labels for record  61 are [0.0 | 0.003]\n",
      "[Actual | predicted] labels for record  94 are [0.0 | 0.278]\n",
      "[Actual | predicted] labels for record 118 are [0.0 | 0.014]\n",
      "[Actual | predicted] labels for record  57 are [0.0 | 0.010]\n",
      "[Actual | predicted] labels for record  15 are [0.0 | 0.017]\n",
      "[Actual | predicted] labels for record  22 are [0.0 | 0.005]\n",
      "[Actual | predicted] labels for record  77 are [0.0 | 0.009]\n"
     ]
    }
   ],
   "source": [
    "# Download test data\n",
    "recent_test_data_uri = sagemaker.s3.parse_s3_url(\n",
    "    sagemaker_boto_client.describe_processing_job(\n",
    "        ProcessingJobName=sagemaker_boto_client.list_processing_jobs(\n",
    "            NameContains=\"PreprocessHER2Data\"\n",
    "        )[\"ProcessingJobSummaries\"][-1][\"ProcessingJobName\"]\n",
    "    )[\"ProcessingOutputConfig\"][\"Outputs\"][-1][\"S3Output\"][\"S3Uri\"]\n",
    ")\n",
    "sagemaker_session.download_data(\n",
    "    f\"data/output/test\",\n",
    "    bucket=recent_test_data_uri[0],\n",
    "    key_prefix=f\"{recent_test_data_uri[1]}/test.csv\",\n",
    ")\n",
    "\n",
    "# Create a Predictor object for testing\n",
    "predictor = Predictor(\n",
    "    endpoint_name=staging_endpoint_name,\n",
    "    sagemaker_session=sagemaker_session,\n",
    "    serializer=sagemaker.serializers.CSVSerializer(),\n",
    "    deserializer=sagemaker.deserializers.JSONDeserializer(),\n",
    ")\n",
    "\n",
    "# Load a random sample of 10 records from the test data\n",
    "test_df = pd.read_csv(\"data/output/test/test.csv\").sample(n=25)\n",
    "\n",
    "# Submit the 10 samples to the inference endpoint and compare the actual and predicted values\n",
    "print(\n",
    "    \"Sending test traffic to the endpoint {}. \\nPlease wait...\".format(\n",
    "        staging_endpoint_name\n",
    "    )\n",
    ")\n",
    "\n",
    "for i, row in test_df.iterrows():\n",
    "    print(\n",
    "        f\"[Actual | predicted] labels for record {i:3} are [{row[0]} | {predictor.predict(row.iloc[1:]):.3f}]\"\n",
    "    )\n",
    "    sleep(0.1)"
   ]
  },
  {
   "cell_type": "markdown",
   "metadata": {},
   "source": [
    "Wait for the monitoring data to finish processing. This will take about a minute to complete."
   ]
  },
  {
   "cell_type": "code",
   "execution_count": 10,
   "metadata": {
    "tags": []
   },
   "outputs": [
    {
     "name": "stdout",
     "output_type": "stream",
     "text": [
      "Waiting for endpoint monitoring data to populate...\n",
      "Waiting for endpoint monitoring data to populate...\n",
      "Waiting for endpoint monitoring data to populate...\n",
      "Waiting for endpoint monitoring data to populate...\n",
      "Waiting for endpoint monitoring data to populate...\n",
      "Waiting for endpoint monitoring data to populate...\n",
      "Waiting for endpoint monitoring data to populate...\n",
      "Found Capture Files:\n",
      "datacapture-staging/her2-brca-classifier-staging/AllTraffic/2022/12/16/16/01-05-660-39259069-db59-4a9d-b509-e6ba24c6e0f7.jsonl\n"
     ]
    }
   ],
   "source": [
    "# Watch the S3 bucket we specified above for storing monitoring data\n",
    "endpoint_capture_uri = (\n",
    "    sagemaker_boto_client.describe_endpoint(EndpointName=staging_endpoint_name)\n",
    "    .get(\"DataCaptureConfig\")\n",
    "    .get(\"DestinationS3Uri\")\n",
    ")\n",
    "endpoint_capture_bucket = sagemaker.s3.parse_s3_url(endpoint_capture_uri)[0]\n",
    "endpoint_capture_prefix = sagemaker.s3.parse_s3_url(endpoint_capture_uri)[1]\n",
    "result = {}\n",
    "while result.get(\"Contents\") is None:\n",
    "    print(\"Waiting for endpoint monitoring data to populate...\")\n",
    "    result = s3_boto_client.list_objects(\n",
    "        Bucket=endpoint_capture_bucket, Prefix=endpoint_capture_prefix\n",
    "    )\n",
    "    sleep(10)\n",
    "capture_files = [capture_file.get(\"Key\") for capture_file in result.get(\"Contents\")]\n",
    "print(\"Found Capture Files:\")\n",
    "print(\"\\n \".join(capture_files))"
   ]
  },
  {
   "cell_type": "markdown",
   "metadata": {},
   "source": [
    "Examine the contents of the first data capture file"
   ]
  },
  {
   "cell_type": "code",
   "execution_count": 12,
   "metadata": {
    "tags": []
   },
   "outputs": [
    {
     "name": "stdout",
     "output_type": "stream",
     "text": [
      "Number of runs captured in file: 25\n",
      "First event metadata: {'eventId': 'd8e875a8-ac87-43f9-a045-0659d91fc5cc', 'inferenceTime': '2022-12-16T16:01:05Z'}\n",
      "First event input: 0.356107530238,-0.161326336325,-0.531035005853,0.2524280140459999,0.214721865002,-0.355009910261,-0.290494490831,-0.0095456574327,-0.423399406945,-0.0351715411627,-0.491289285993,-0.543084120172,-0.213453827546,-1.10468715568,0.970797471713,-0.0195584783457,-0.2746476004679999,-0.7729490440889999,0.41949523215,0.313739547405,-0.102098899727,0.0865788216933999,-0.514371065158,-0.5364139055789999,-0.808153445181,-0.597788646118,0.493706141241,0.233275965665,0.703933733906,2.01120238002,1.3749393445200002,-0.460804424503,0.1362996410459999,0.661031353882,-1.1203060398,-0.202405922747,-0.865015107296,2.35963272727,-0.0490399375732,-1.86818274678,5.42486107686,-0.0118447132267,0.617314053843,0.6807356301209999,2.09386880218,0.0129348809987999,-1.65111706594,0.797826656262,0.789629504487,2.28283943036,1.18564125634,0.8663248848999999,-0.0748146156848,2.43100525946,0.7463269762000001,-1.1337039563,-0.0904087787748999,0.157248958252,0.172898088178,-0.456725610613,0.175357932111,-0.295003136949,-0.1638903394459999,-0.406282270776,0.214340842762,3.05045191572,0.117343870464,0.707988310574,2.56034532969,-0.7028613733910001,-0.154937182989,-0.5175867499019999,0.414196067109,0.0259262973077999,-0.4042950136559999,0.362995723761,0.541924923917,1.77743296918,0.998780593055,-0.341981701131,-1.13940050722,-0.524800452595,-0.127357104955,1.72725271947,1.4025607803400002,1.11600530628,-0.324873273508,0.201619602029,0.371446429965,0.320504892704,1.09408333984,-0.197030042918,-0.1558586812329999,0.321228123293,-0.333029652751,1.00670024971,0.509427959423,1.56832406555,-0.526789699571,0.13304009364,-1.45248400312,-0.720350682794,-0.213285680843,-2.24974835739,-0.319439750293,1.86329861881,-0.7002984861489999,-0.8760185641830001,0.3564438548579999,-0.4215067655089999,-0.956172867733,0.0614100195084,0.279428903629,3.16153196254,-1.32245102614,0.600168412017,0.389209644947,-0.780927545845,0.938739742489,0.144003300819,-0.765672204448,3.99555816621,2.31912859149,0.673813570035,4.290288310569...\n",
      "First event output: 0.00448567746207118\n"
     ]
    }
   ],
   "source": [
    "# Download the monitoring data from S3\n",
    "sagemaker_session.download_data(\n",
    "    \"data\", bucket=endpoint_capture_bucket, key_prefix=capture_files[0]\n",
    ")\n",
    "runs = []\n",
    "\n",
    "# Open the jsonlines file and summarize the contents\n",
    "with jsonlines.open(f\"data/{os.path.basename(capture_files[0])}\") as reader:\n",
    "    [runs.append(obj) for obj in reader]\n",
    "\n",
    "print(f\"Number of runs captured in file: {len(runs)}\")\n",
    "print(f\"First event metadata: {runs[0]['eventMetadata']}\")\n",
    "\n",
    "first_request = runs[0][\"captureData\"][\"endpointInput\"][\"data\"]\n",
    "print(f\"First event input: {first_request[:2000]}...\")\n",
    "\n",
    "first_response = runs[0][\"captureData\"][\"endpointOutput\"][\"data\"]\n",
    "\n",
    "print(f\"First event output: {first_response}\")"
   ]
  },
  {
   "cell_type": "markdown",
   "metadata": {},
   "source": [
    "Resubmit the data from the first prediction"
   ]
  },
  {
   "cell_type": "code",
   "execution_count": 13,
   "metadata": {
    "tags": []
   },
   "outputs": [
    {
     "data": {
      "text/plain": [
       "0.00448567746207118"
      ]
     },
     "execution_count": 13,
     "metadata": {},
     "output_type": "execute_result"
    }
   ],
   "source": [
    "predictor.predict(first_request)"
   ]
  },
  {
   "cell_type": "markdown",
   "metadata": {},
   "source": [
    "-----\n",
    "## 4. Explore the Model Lineage\n",
    "\n",
    "Effective model governance requires a detailed understanding of the data and data transformations used in the modeling process, in addition to nearly continuous tracking of all model development iterations. It is important to keep track of which dataset was used, what transformations were applied to the data, where the dataset was stored, and what type of model was built. This metadata that tracks the relationships between various entities in your ML workflows is called the \"lineage\".\n",
    "\n",
    "In this section, we'll explore the model artifacts and events that Amazon SageMaker ML Lineage Tracking creates for us automatically. We'll also see how to expand the lineage by manually adding additional artifacts."
   ]
  },
  {
   "cell_type": "markdown",
   "metadata": {},
   "source": [
    "### 4.1. Visualize Lineage Entities as a Table"
   ]
  },
  {
   "cell_type": "markdown",
   "metadata": {},
   "source": [
    "Amazon SageMaker automatically creates tracking entities for SageMaker jobs, models, model packages, and endpoints if the data is available."
   ]
  },
  {
   "cell_type": "code",
   "execution_count": 14,
   "metadata": {
    "tags": []
   },
   "outputs": [
    {
     "name": "stdout",
     "output_type": "stream",
     "text": [
      "PreprocessHER2Data\n"
     ]
    },
    {
     "data": {
      "text/html": [
       "<div>\n",
       "<style scoped>\n",
       "    .dataframe tbody tr th:only-of-type {\n",
       "        vertical-align: middle;\n",
       "    }\n",
       "\n",
       "    .dataframe tbody tr th {\n",
       "        vertical-align: top;\n",
       "    }\n",
       "\n",
       "    .dataframe thead th {\n",
       "        text-align: right;\n",
       "    }\n",
       "</style>\n",
       "<table border=\"1\" class=\"dataframe\">\n",
       "  <thead>\n",
       "    <tr style=\"text-align: right;\">\n",
       "      <th></th>\n",
       "      <th>Name/Source</th>\n",
       "      <th>Direction</th>\n",
       "      <th>Type</th>\n",
       "      <th>Association Type</th>\n",
       "      <th>Lineage Type</th>\n",
       "    </tr>\n",
       "  </thead>\n",
       "  <tbody>\n",
       "    <tr>\n",
       "      <th>0</th>\n",
       "      <td>s3://...1c0ab34be957f01/input/code/preprocess.py</td>\n",
       "      <td>Input</td>\n",
       "      <td>DataSet</td>\n",
       "      <td>ContributedTo</td>\n",
       "      <td>artifact</td>\n",
       "    </tr>\n",
       "    <tr>\n",
       "      <th>1</th>\n",
       "      <td>24661...om/sagemaker-scikit-learn:0.23-1-cpu-py3</td>\n",
       "      <td>Input</td>\n",
       "      <td>Image</td>\n",
       "      <td>ContributedTo</td>\n",
       "      <td>artifact</td>\n",
       "    </tr>\n",
       "    <tr>\n",
       "      <th>2</th>\n",
       "      <td>s3://...debc8ba71f68d1c0ab34be957f01/output/test</td>\n",
       "      <td>Output</td>\n",
       "      <td>DataSet</td>\n",
       "      <td>Produced</td>\n",
       "      <td>artifact</td>\n",
       "    </tr>\n",
       "    <tr>\n",
       "      <th>3</th>\n",
       "      <td>s3://...a71f68d1c0ab34be957f01/output/validation</td>\n",
       "      <td>Output</td>\n",
       "      <td>DataSet</td>\n",
       "      <td>Produced</td>\n",
       "      <td>artifact</td>\n",
       "    </tr>\n",
       "    <tr>\n",
       "      <th>4</th>\n",
       "      <td>s3://...ebc8ba71f68d1c0ab34be957f01/output/train</td>\n",
       "      <td>Output</td>\n",
       "      <td>DataSet</td>\n",
       "      <td>Produced</td>\n",
       "      <td>artifact</td>\n",
       "    </tr>\n",
       "  </tbody>\n",
       "</table>\n",
       "</div>"
      ],
      "text/plain": [
       "                                        Name/Source Direction     Type  \\\n",
       "0  s3://...1c0ab34be957f01/input/code/preprocess.py     Input  DataSet   \n",
       "1  24661...om/sagemaker-scikit-learn:0.23-1-cpu-py3     Input    Image   \n",
       "2  s3://...debc8ba71f68d1c0ab34be957f01/output/test    Output  DataSet   \n",
       "3  s3://...a71f68d1c0ab34be957f01/output/validation    Output  DataSet   \n",
       "4  s3://...ebc8ba71f68d1c0ab34be957f01/output/train    Output  DataSet   \n",
       "\n",
       "  Association Type Lineage Type  \n",
       "0    ContributedTo     artifact  \n",
       "1    ContributedTo     artifact  \n",
       "2         Produced     artifact  \n",
       "3         Produced     artifact  \n",
       "4         Produced     artifact  "
      ]
     },
     "metadata": {},
     "output_type": "display_data"
    },
    {
     "name": "stdout",
     "output_type": "stream",
     "text": [
      "TrainHER2Model\n"
     ]
    },
    {
     "data": {
      "text/html": [
       "<div>\n",
       "<style scoped>\n",
       "    .dataframe tbody tr th:only-of-type {\n",
       "        vertical-align: middle;\n",
       "    }\n",
       "\n",
       "    .dataframe tbody tr th {\n",
       "        vertical-align: top;\n",
       "    }\n",
       "\n",
       "    .dataframe thead th {\n",
       "        text-align: right;\n",
       "    }\n",
       "</style>\n",
       "<table border=\"1\" class=\"dataframe\">\n",
       "  <thead>\n",
       "    <tr style=\"text-align: right;\">\n",
       "      <th></th>\n",
       "      <th>Name/Source</th>\n",
       "      <th>Direction</th>\n",
       "      <th>Type</th>\n",
       "      <th>Association Type</th>\n",
       "      <th>Lineage Type</th>\n",
       "    </tr>\n",
       "  </thead>\n",
       "  <tbody>\n",
       "    <tr>\n",
       "      <th>0</th>\n",
       "      <td>s3://...a71f68d1c0ab34be957f01/output/validation</td>\n",
       "      <td>Input</td>\n",
       "      <td>DataSet</td>\n",
       "      <td>ContributedTo</td>\n",
       "      <td>artifact</td>\n",
       "    </tr>\n",
       "    <tr>\n",
       "      <th>1</th>\n",
       "      <td>s3://...ebc8ba71f68d1c0ab34be957f01/output/train</td>\n",
       "      <td>Input</td>\n",
       "      <td>DataSet</td>\n",
       "      <td>ContributedTo</td>\n",
       "      <td>artifact</td>\n",
       "    </tr>\n",
       "    <tr>\n",
       "      <th>2</th>\n",
       "      <td>24661...-2.amazonaws.com/sagemaker-xgboost:1.2-1</td>\n",
       "      <td>Input</td>\n",
       "      <td>Image</td>\n",
       "      <td>ContributedTo</td>\n",
       "      <td>artifact</td>\n",
       "    </tr>\n",
       "    <tr>\n",
       "      <th>3</th>\n",
       "      <td>s3://...HER2Model-vDc7dOo9pj/output/model.tar.gz</td>\n",
       "      <td>Output</td>\n",
       "      <td>Model</td>\n",
       "      <td>Produced</td>\n",
       "      <td>artifact</td>\n",
       "    </tr>\n",
       "  </tbody>\n",
       "</table>\n",
       "</div>"
      ],
      "text/plain": [
       "                                        Name/Source Direction     Type  \\\n",
       "0  s3://...a71f68d1c0ab34be957f01/output/validation     Input  DataSet   \n",
       "1  s3://...ebc8ba71f68d1c0ab34be957f01/output/train     Input  DataSet   \n",
       "2  24661...-2.amazonaws.com/sagemaker-xgboost:1.2-1     Input    Image   \n",
       "3  s3://...HER2Model-vDc7dOo9pj/output/model.tar.gz    Output    Model   \n",
       "\n",
       "  Association Type Lineage Type  \n",
       "0    ContributedTo     artifact  \n",
       "1    ContributedTo     artifact  \n",
       "2    ContributedTo     artifact  \n",
       "3         Produced     artifact  "
      ]
     },
     "metadata": {},
     "output_type": "display_data"
    },
    {
     "name": "stdout",
     "output_type": "stream",
     "text": [
      "EvaluateHER2Model\n"
     ]
    },
    {
     "data": {
      "text/html": [
       "<div>\n",
       "<style scoped>\n",
       "    .dataframe tbody tr th:only-of-type {\n",
       "        vertical-align: middle;\n",
       "    }\n",
       "\n",
       "    .dataframe tbody tr th {\n",
       "        vertical-align: top;\n",
       "    }\n",
       "\n",
       "    .dataframe thead th {\n",
       "        text-align: right;\n",
       "    }\n",
       "</style>\n",
       "<table border=\"1\" class=\"dataframe\">\n",
       "  <thead>\n",
       "    <tr style=\"text-align: right;\">\n",
       "      <th></th>\n",
       "      <th>Name/Source</th>\n",
       "      <th>Direction</th>\n",
       "      <th>Type</th>\n",
       "      <th>Association Type</th>\n",
       "      <th>Lineage Type</th>\n",
       "    </tr>\n",
       "  </thead>\n",
       "  <tbody>\n",
       "    <tr>\n",
       "      <th>0</th>\n",
       "      <td>s3://...822ed2340783467cb/input/code/evaluate.py</td>\n",
       "      <td>Input</td>\n",
       "      <td>DataSet</td>\n",
       "      <td>ContributedTo</td>\n",
       "      <td>artifact</td>\n",
       "    </tr>\n",
       "    <tr>\n",
       "      <th>1</th>\n",
       "      <td>s3://...debc8ba71f68d1c0ab34be957f01/output/test</td>\n",
       "      <td>Input</td>\n",
       "      <td>DataSet</td>\n",
       "      <td>ContributedTo</td>\n",
       "      <td>artifact</td>\n",
       "    </tr>\n",
       "    <tr>\n",
       "      <th>2</th>\n",
       "      <td>s3://...HER2Model-vDc7dOo9pj/output/model.tar.gz</td>\n",
       "      <td>Input</td>\n",
       "      <td>Model</td>\n",
       "      <td>ContributedTo</td>\n",
       "      <td>artifact</td>\n",
       "    </tr>\n",
       "    <tr>\n",
       "      <th>3</th>\n",
       "      <td>24661...-2.amazonaws.com/sagemaker-xgboost:1.2-1</td>\n",
       "      <td>Input</td>\n",
       "      <td>Image</td>\n",
       "      <td>ContributedTo</td>\n",
       "      <td>artifact</td>\n",
       "    </tr>\n",
       "    <tr>\n",
       "      <th>4</th>\n",
       "      <td>s3://...3dc3f822ed2340783467cb/output/evaluation</td>\n",
       "      <td>Output</td>\n",
       "      <td>DataSet</td>\n",
       "      <td>Produced</td>\n",
       "      <td>artifact</td>\n",
       "    </tr>\n",
       "  </tbody>\n",
       "</table>\n",
       "</div>"
      ],
      "text/plain": [
       "                                        Name/Source Direction     Type  \\\n",
       "0  s3://...822ed2340783467cb/input/code/evaluate.py     Input  DataSet   \n",
       "1  s3://...debc8ba71f68d1c0ab34be957f01/output/test     Input  DataSet   \n",
       "2  s3://...HER2Model-vDc7dOo9pj/output/model.tar.gz     Input    Model   \n",
       "3  24661...-2.amazonaws.com/sagemaker-xgboost:1.2-1     Input    Image   \n",
       "4  s3://...3dc3f822ed2340783467cb/output/evaluation    Output  DataSet   \n",
       "\n",
       "  Association Type Lineage Type  \n",
       "0    ContributedTo     artifact  \n",
       "1    ContributedTo     artifact  \n",
       "2    ContributedTo     artifact  \n",
       "3    ContributedTo     artifact  \n",
       "4         Produced     artifact  "
      ]
     },
     "metadata": {},
     "output_type": "display_data"
    },
    {
     "name": "stdout",
     "output_type": "stream",
     "text": [
      "CheckHER2Evaluation\n"
     ]
    },
    {
     "data": {
      "text/plain": [
       "None"
      ]
     },
     "metadata": {},
     "output_type": "display_data"
    },
    {
     "name": "stdout",
     "output_type": "stream",
     "text": [
      "RegisterHER2Model\n"
     ]
    },
    {
     "data": {
      "text/html": [
       "<div>\n",
       "<style scoped>\n",
       "    .dataframe tbody tr th:only-of-type {\n",
       "        vertical-align: middle;\n",
       "    }\n",
       "\n",
       "    .dataframe tbody tr th {\n",
       "        vertical-align: top;\n",
       "    }\n",
       "\n",
       "    .dataframe thead th {\n",
       "        text-align: right;\n",
       "    }\n",
       "</style>\n",
       "<table border=\"1\" class=\"dataframe\">\n",
       "  <thead>\n",
       "    <tr style=\"text-align: right;\">\n",
       "      <th></th>\n",
       "      <th>Name/Source</th>\n",
       "      <th>Direction</th>\n",
       "      <th>Type</th>\n",
       "      <th>Association Type</th>\n",
       "      <th>Lineage Type</th>\n",
       "    </tr>\n",
       "  </thead>\n",
       "  <tbody>\n",
       "    <tr>\n",
       "      <th>0</th>\n",
       "      <td>her2-brca-classifier-p-yydhztstjuw5-2-Approved...</td>\n",
       "      <td>Input</td>\n",
       "      <td>Approval</td>\n",
       "      <td>ContributedTo</td>\n",
       "      <td>action</td>\n",
       "    </tr>\n",
       "    <tr>\n",
       "      <th>1</th>\n",
       "      <td>s3://...HER2Model-vDc7dOo9pj/output/model.tar.gz</td>\n",
       "      <td>Input</td>\n",
       "      <td>Model</td>\n",
       "      <td>ContributedTo</td>\n",
       "      <td>artifact</td>\n",
       "    </tr>\n",
       "    <tr>\n",
       "      <th>2</th>\n",
       "      <td>24661...-2.amazonaws.com/sagemaker-xgboost:1.2-1</td>\n",
       "      <td>Input</td>\n",
       "      <td>Image</td>\n",
       "      <td>ContributedTo</td>\n",
       "      <td>artifact</td>\n",
       "    </tr>\n",
       "    <tr>\n",
       "      <th>3</th>\n",
       "      <td>her2-brca-classifier-p-yydhztstjuw5-2-PendingM...</td>\n",
       "      <td>Input</td>\n",
       "      <td>Approval</td>\n",
       "      <td>ContributedTo</td>\n",
       "      <td>action</td>\n",
       "    </tr>\n",
       "    <tr>\n",
       "      <th>4</th>\n",
       "      <td>her2-brca-classifier-staging-1671206276-1-aws-...</td>\n",
       "      <td>Output</td>\n",
       "      <td>ModelDeployment</td>\n",
       "      <td>ContributedTo</td>\n",
       "      <td>action</td>\n",
       "    </tr>\n",
       "    <tr>\n",
       "      <th>5</th>\n",
       "      <td>her2-brca-classifier-p-yydhztstjuw5-1671205336...</td>\n",
       "      <td>Output</td>\n",
       "      <td>ModelGroup</td>\n",
       "      <td>AssociatedWith</td>\n",
       "      <td>context</td>\n",
       "    </tr>\n",
       "  </tbody>\n",
       "</table>\n",
       "</div>"
      ],
      "text/plain": [
       "                                         Name/Source Direction  \\\n",
       "0  her2-brca-classifier-p-yydhztstjuw5-2-Approved...     Input   \n",
       "1   s3://...HER2Model-vDc7dOo9pj/output/model.tar.gz     Input   \n",
       "2   24661...-2.amazonaws.com/sagemaker-xgboost:1.2-1     Input   \n",
       "3  her2-brca-classifier-p-yydhztstjuw5-2-PendingM...     Input   \n",
       "4  her2-brca-classifier-staging-1671206276-1-aws-...    Output   \n",
       "5  her2-brca-classifier-p-yydhztstjuw5-1671205336...    Output   \n",
       "\n",
       "              Type Association Type Lineage Type  \n",
       "0         Approval    ContributedTo       action  \n",
       "1            Model    ContributedTo     artifact  \n",
       "2            Image    ContributedTo     artifact  \n",
       "3         Approval    ContributedTo       action  \n",
       "4  ModelDeployment    ContributedTo       action  \n",
       "5       ModelGroup   AssociatedWith      context  "
      ]
     },
     "metadata": {},
     "output_type": "display_data"
    }
   ],
   "source": [
    "from sagemaker.workflow import pipeline\n",
    "\n",
    "pipeline_execution_arn = (\n",
    "    sagemaker_boto_client.list_pipeline_executions(PipelineName=pipeline_name)\n",
    "    .get(\"PipelineExecutionSummaries\")[0]\n",
    "    .get(\"PipelineExecutionArn\")\n",
    ")\n",
    "\n",
    "execution = sagemaker.workflow.pipeline._PipelineExecution(arn=pipeline_execution_arn)\n",
    "table_viz = LineageTableVisualizer(sagemaker_session=sagemaker_session)\n",
    "for execution_step in reversed(execution.list_steps()):\n",
    "    print(execution_step.get(\"StepName\"))\n",
    "    display(table_viz.show(pipeline_execution_step=execution_step))\n",
    "    sleep(1)"
   ]
  },
  {
   "cell_type": "markdown",
   "metadata": {},
   "source": [
    "### 4.2. Visualize Lineage Entities as a Graph"
   ]
  },
  {
   "cell_type": "markdown",
   "metadata": {},
   "source": [
    "We can also visualize the ML lineage as a graph."
   ]
  },
  {
   "cell_type": "code",
   "execution_count": 15,
   "metadata": {
    "tags": []
   },
   "outputs": [
    {
     "name": "stdout",
     "output_type": "stream",
     "text": [
      "Endpoint Name: her2-brca-classifier-staging\n",
      "Querying lineage for context her2-brca-classifier-staging-1671206276-aws-endpoint\n",
      "Local cdn resources have problems on chrome/safari when used in jupyter-notebook. \n"
     ]
    },
    {
     "data": {
      "text/html": [
       "\n",
       "        <iframe\n",
       "            width=\"100%\"\n",
       "            height=\"800px\"\n",
       "            src=\"generated/Endpoint.html\"\n",
       "            frameborder=\"0\"\n",
       "            allowfullscreen\n",
       "            \n",
       "        ></iframe>\n",
       "        "
      ],
      "text/plain": [
       "<IPython.lib.display.IFrame at 0x7f559de53730>"
      ]
     },
     "execution_count": 15,
     "metadata": {},
     "output_type": "execute_result"
    }
   ],
   "source": [
    "endpoint_info = sagemaker_boto_client.describe_endpoint(\n",
    "    EndpointName=staging_endpoint_name\n",
    ")\n",
    "endpoint_arn = endpoint_info[\"EndpointArn\"]\n",
    "print(f\"Endpoint Name: {endpoint_info['EndpointName']}\")\n",
    "\n",
    "# Get the endpoint context for querying the lineage graph\n",
    "contexts = Context.list(source_uri=endpoint_arn, sagemaker_session=sagemaker_session)\n",
    "context_name = list(contexts)[0].context_name\n",
    "\n",
    "viz = Visualizer()\n",
    "print(\"Querying lineage for context\", context_name)\n",
    "endpoint_context = EndpointContext.load(\n",
    "    context_name=context_name, sagemaker_session=sagemaker_session\n",
    ")\n",
    "query_response = sagemaker_boto_client.query_lineage(\n",
    "    StartArns=[endpoint_context.context_arn],\n",
    "    Direction=\"Ascendants\",\n",
    "    IncludeEdges=True,\n",
    ")\n",
    "viz.render(query_response, \"Endpoint\", sagemaker_session=sagemaker_session)"
   ]
  },
  {
   "cell_type": "markdown",
   "metadata": {},
   "source": [
    "## 5. (Optional) Deploy to Production\n",
    "1. In the AWS Console, search for and select **CodePipeline**.\n",
    "\n",
    "![Search for CodePipeline](img/code-pipeline.png)\n",
    "\n",
    "2. Navigate to **Pipeline > Pipelines** and select the model deploy pipeline already in progress.\n",
    "\n",
    "![Find Prod Deploy Pipeline](img/find-prod-deploy.png)\n",
    "\n",
    "3. Scroll down to the **DeployStaging** stage and select Review.\n",
    "\n",
    "![Select Review](img/deploy-stage.png)\n",
    "\n",
    "4. Select **Approve** in the Review view.\n",
    "\n",
    "![Approve Prod Deployment](img/approve-prod.png)\n",
    "\n",
    "5. Navigate back to the SageMaker Project view. After several minutes, a second \"prod\" endpoint will appear.\n",
    "\n",
    "![Second Endpoint](img/second-endpoint.png)\n"
   ]
  },
  {
   "cell_type": "markdown",
   "metadata": {},
   "source": [
    "## 6. Clean Up"
   ]
  },
  {
   "cell_type": "code",
   "execution_count": null,
   "metadata": {
    "tags": []
   },
   "outputs": [],
   "source": [
    "# Delete model registry records\n",
    "for package in sagemaker_boto_client.list_model_packages(\n",
    "    ModelPackageGroupName=pipeline_name\n",
    ").get(\"ModelPackageSummaryList\"):\n",
    "    print(package)\n",
    "    sagemaker_boto_client.delete_model_package(\n",
    "        ModelPackageName=package.get(\"ModelPackageArn\")\n",
    "    )\n",
    "sagemaker_boto_client.delete_model_package_group(ModelPackageGroupName=pipeline_name)\n",
    "\n",
    "# Delete endpoint\n",
    "predictor.delete_endpoint()\n",
    "\n",
    "# Delete pipeline\n",
    "sagemaker_boto_client.delete_pipeline(PipelineName=pipeline_name)\n",
    "\n",
    "# Delete all S3 objects\n",
    "bucket = boto_session.resource(\"s3\").Bucket(s3_bucket)\n",
    "bucket.objects.filter().delete()\n",
    "bucket.delete()\n",
    "\n",
    "# Delete Project\n",
    "sagemaker_boto_client.delete_project(ProjectName=project_name)\n",
    "\n",
    "# Delete deployment infrastructure\n",
    "cfn = boto3.client(\"cloudformation\")\n",
    "cfn.delete_stack(StackName=f\"sagemaker-{project_name}-{project_id}-deploy-staging\")\n",
    "cfn.delete_stack(StackName=f\"sagemaker-{project_name}-{project_id}-deploy-prod\")\n",
    "\n",
    "# Delete local  objects\n",
    "os.system(f\"rm -rf ~/{project_name}-{project_id}\")\n",
    "os.system(\"rm -rf data models generated training_reports\")"
   ]
  },
  {
   "cell_type": "code",
   "execution_count": null,
   "metadata": {},
   "outputs": [],
   "source": []
  }
 ],
 "metadata": {
  "instance_type": "ml.t3.medium",
  "interpreter": {
   "hash": "fcd20795596b30c7734a8efd08df92d501ca130112f67abeee93ccff645bf25b"
  },
  "kernelspec": {
   "display_name": "Python 3 (Data Science 3.0)",
   "language": "python",
   "name": "python3__SAGEMAKER_INTERNAL__arn:aws:sagemaker:us-west-2:236514542706:image/sagemaker-data-science-310-v1"
  },
  "language_info": {
   "codemirror_mode": {
    "name": "ipython",
    "version": 3
   },
   "file_extension": ".py",
   "mimetype": "text/x-python",
   "name": "python",
   "nbconvert_exporter": "python",
   "pygments_lexer": "ipython3",
   "version": "3.10.6"
  }
 },
 "nbformat": 4,
 "nbformat_minor": 4
}
