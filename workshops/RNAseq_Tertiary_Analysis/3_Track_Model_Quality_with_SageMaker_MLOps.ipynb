{
 "cells": [
  {
   "cell_type": "markdown",
   "metadata": {},
   "source": [
    "# Notebook 3. Track Model Quality with SageMaker MLOps"
   ]
  },
  {
   "cell_type": "markdown",
   "metadata": {},
   "source": [
    "## Learning Objectives\n",
    "- Automate Machine Learning Operations (MLOps) with SageMaker Pipelines.\n",
    "- Track model versions with the SageMaker Model Registry.\n",
    "- Validate model performance using SageMaker Model Monitoring and Model Lineage."
   ]
  },
  {
   "cell_type": "markdown",
   "metadata": {},
   "source": [
    "## Environment Notes:\n",
    "This notebook was created and tested on an `ml.t3.medium (2 vCPU + 4 GiB)` notebook instance running the `Python 3 (Data Science)` kernel in SageMaker Studio."
   ]
  },
  {
   "cell_type": "markdown",
   "metadata": {},
   "source": [
    "## Table of Contents\n",
    "1. [Background](#1.-Background)\n",
    "    1. [Amazon SageMaker Model Building Pipelines](#1.A.-Amazon-SageMaker-Model-Building-Pipelines)\n",
    "    1. [Amazon SageMaker Model Registry](#1.B.-Amazon-SageMaker-Model-Registry)\n",
    "    1. [Amazon SageMaker Model Lineage](#1.D.-Amazon-SageMaker-Model-Lineage)\n",
    "1. [Create SageMaker MLOps Project](#2.-Create-SageMaker-MLOps-Project)\n",
    "    1. [Create a New Project Using the Build, Traing, and Deploy Template](#2.A.-Create-a-New-Project-Using-the-Build,-Traing,-and-Deploy-Template)\n",
    "    1. [Clone the New Git Repositories](#2.B.-Clone-the-New-Git-Repositories)\n",
    "    1. [Update the Build Repository](#2.C.-Update-the-Build-Repository)\n",
    "    1. [Approve the New Model Version](#2.D.-Approve-the-New-Model-Version)\n",
    "1. [Test the Model Inference Endpoint](#3.-Test-the-Model-Inference-Endpoint)\n",
    "    1. [Import Libraries and Create Clients](#3.A.-Import-Libraries-and-Create-Clients)\n",
    "    1. [Examine Model Training Reports](#3.B.-Examine-Model-Training-Reports)\n",
    "    1. [Invoke the Staging Model Endpoint](#3.C.-Invoke-the-Staging-Model-Endpoint)\n",
    "1. [Explore the Model Lineage](#4.-Explore-the-Model-Lineage)\n",
    "    1. [Visualize Lineage Entities as a Table](#4.A.-Visualize-Lineage-Entities-as-a-Table)\n",
    "    1. [Visualize Lineage Entities as a Graph](#4.B.-Visualize-Lineage-Entities-as-a-Graph)\n",
    "1. [Approve the Model Version for Release](#5.-Approve-the-Model-Version-for-Release)\n",
    "1. [Clean Up](#6.-Clean-Up)"
   ]
  },
  {
   "cell_type": "markdown",
   "metadata": {},
   "source": [
    "-----\n",
    "## 1. Background\n",
    "\n",
    "In Notebook 2 of this series, we demonstrated how SageMaker Processing, Training, and Hyperparameter Optimization (HPO) jobs can make the development of new machine learning (ML) models faster and more cost efficient. In this notebook, we'll look at some best practices for deploying and managing your models into production. Many of these practices fall into the category of \"Machine Learning Operations\", or \"MLOps\" and are increasingly a part of many [regulatory and quality requirements](https://www.fda.gov/files/medical%20devices/published/US-FDA-Artificial-Intelligence-and-Machine-Learning-Discussion-Paper.pdf).\n",
    "\n",
    "MLOps plays a key role in the **Model Deployment** and **Model Monitoring/Maintenance** phases of the Machine Learning Lifecycle. For more information, please refer to the [Machine Learning Best Practices in Healthcare and Life Sciences Whitepaper](https://d1.awsstatic.com/whitepapers/ML-best-practices-health-science.pdf?did=wp_card&trk=wp_card).\n",
    "\n",
    "![Machine Learning Life Cycle - Part 1](img/MLLC2.png \"ML Life Cycle - Part 1\")"
   ]
  },
  {
   "cell_type": "markdown",
   "metadata": {},
   "source": [
    "### 1.A. Amazon SageMaker Model Building Pipelines\n",
    "\n",
    "[Amazon SageMaker Model Building Pipelines](https://docs.aws.amazon.com/sagemaker/latest/dg/pipelines.html) is a tool for building machine learning pipelines that take advantage of direct SageMaker integration. Because of this integration, you can create a pipeline and set up SageMaker Projects for orchestration using a tool that handles much of the step creation and management for you. You can manage these pipelines in the SageMaker Studio UI and automatically capture data and model lineage.\n",
    "\n",
    "One of the challenges with deploying ML solutions is that their effectiveness can change over time.  For example, perhaps the distribution of your data shifts from year-to-year? Or the boundaries of a classification category? In these cases, you want to be able to quickly retrain and deploy new versions of your model, either on a schedule or in response to some event.\n",
    "\n",
    "Amazon SageMaker Pipelines allows us to define reproducible ML processes that we can trigger at will. In this example, we'll use the processing, training, and registration artifacts from above to create a pipeline and demonstrate how to execute it."
   ]
  },
  {
   "cell_type": "markdown",
   "metadata": {},
   "source": [
    "### 1.B. Amazon SageMaker Model Registry\n",
    "\n",
    "The [Amazon SageMaker Model Registry](https://docs.aws.amazon.com/sagemaker/latest/dg/model-registry.html) is a managed service that allows you to track model metadata, approve releases, and deploy new versions to production. It involves two concepts:\n",
    "\n",
    "- A **Model Package Group** is a group of models that share a common business goal. For example, you might create a model package group to track models for segmenting a specific kind of medical image.\n",
    "- A **Model Package** or **Model Version** is a member of a Model Package Group. It refers to the a specific implementation of a model with its own training artifact and/or inference container."
   ]
  },
  {
   "cell_type": "markdown",
   "metadata": {},
   "source": [
    "### 1.C. Amazon SageMaker Model Lineage\n",
    "\n",
    "[Amazon SageMaker Model Lineage](https://docs.aws.amazon.com/sagemaker/latest/dg/lineage-tracking.html) creates and stores information about the steps of a machine learning (ML) workflow from data preparation to model deployment. With the tracking information, you can reproduce the workflow steps, track model and dataset lineage, and establish model governance and audit standards."
   ]
  },
  {
   "cell_type": "markdown",
   "metadata": {},
   "source": [
    "-----\n",
    "## 2. Create SageMaker MLOps Project"
   ]
  },
  {
   "cell_type": "markdown",
   "metadata": {},
   "source": [
    "### 2.A. Create a New Project Using the Build, Traing, and Deploy Template\n",
    "\n",
    "1. From the SageMaker Studio sidebar, select the SageMaker Resources icon.\n",
    "\n",
    "![Resources](img/resources.png)\n",
    "\n",
    "2. Select **Projects** from the resources menu.\n",
    "3. Select **Create project**\n",
    "4. In the **SageMaker project templates** view, select the **MLOps template for model building, training, and deployment** template and then **Select Template**.\n",
    "\n",
    "![Create Project](img/create_project.png)\n",
    "\n",
    "5. In the **Project details** view, type `her2-brca-classifier` in the **Name** field and select **Create Project**.\n",
    "\n",
    "![Create Project](img/name_project.png)\n",
    "\n",
    "6. Wait approximately 2 minutes for the CloudFormation templation template associated with the project to finish deployment."
   ]
  },
  {
   "cell_type": "markdown",
   "metadata": {},
   "source": [
    "### 2.B. Clone the New Git Repositories\n",
    "1. Once the project has successfully been created, navigate to the **Repositories** tab in the project view.\n",
    "\n",
    "![Repositories](img/repositories.png)\n",
    "\n",
    "2. Select the **clone repo...** link for the first repository and then **Clone Repository** with the default options on the next view.\n",
    "\n",
    "![Default Repo Settings](img/repo_defaults.png)\n",
    "\n",
    "3. Repeat for the second repository.\n",
    "4. From the SageMaker Studio sidebar, select the **File Browser** icon.\n",
    "5. Verify that there is a new folder in your home directory named `her2-brca-classifier`, followed by the project ID. There should also be two subfolders, one for the model build steps and another for the model deploy steps.\n",
    "\n",
    "![Default Repo Settings](img/cloned_folders.png)\n",
    "\n",
    "6. Within the build subfolder (It will be named something like `sagemaker-her2-brca-classifier-[PROJECT ID]-modelbuild`) navigate to `pipelines/abalone`. This folder will contain three files:\n",
    "- `evaluate.py`: A Python module for measuring model performance.\n",
    "- `pipeline.py`: A Python module that defines a SageMaker Pipelines model building workflow.\n",
    "- `preprocess.py`: A Python module for running a data processing job.\n",
    "\n",
    "Each of these files contains placeholder code for now. We'll update them with our own code in the next section."
   ]
  },
  {
   "cell_type": "markdown",
   "metadata": {},
   "source": [
    "### 2.C. Update the Build Repository\n",
    "1. Navigate to the workshop folder (i.e. the one holding this notebook) in the File Browser.\n",
    "1. Right-click on the \"abalone\" folder and select **Cut**.\n",
    "1. Navigate back to the model build pipeline folder (e.g. `~/her2-brca-classifier-[PROJECT ID]/sagemaker-her2-brca-classifier-[PROJECT ID]-modelbuild/pipelines`), right-click, and select **Paste**. This will overwrite the existing `abalone` folder with the custom one.\n",
    "1. From the SageMaker Studio sidebar, select the **Git** icon. The **evaluate**, **pipeline.py**, **preprocess.py** files should all appear in the **Changed** section of the **Changes** tag. Click on the `+` symbol on the section header to stage all changes. Write a short summary of the changes and then select **Commit**\n",
    "1. Select **Push committed changes** (The cloud with an up arrow icon) from the top of the Git view to push your changes to CodeCommit. This will restart the MLOps process and build a new version of your pipeline and model.\n",
    "1. It will take approximately 15 minutes to rebuild and execute the pipeline. You can track the progress either on the **Pipelines** tab of the project view or on the AWS **CodeBuild** console.\n",
    "\n",
    "![Pipeline Execution](img/pipeline_execution.png)"
   ]
  },
  {
   "cell_type": "markdown",
   "metadata": {},
   "source": [
    "### 2.D. Approve the New Model Version\n",
    "1. Navigate back to the project view.\n",
    "2. Select the **Model groups** tab.\n",
    "3. Double-click on the model group name (e.g. `her2-brca-classifier-[PROJECT ID]`) to view the available model versions.\n",
    "4. Double-click on model version 2 to view its details.\n",
    "5. Navigate between the **Activity**, **Model quality**, and **Settings** tabs to view information about the model inference endpoint.\n",
    "6. Select the orange **Update Status** button in the upper-right corner of the model registry view.\n",
    "7. Update the **Approved** status and (optionally) add a comment.\n",
    "\n",
    "![Update the model status](img/update-status.png \"Update the model status\")\n",
    "\n",
    "8. Wait several minutes for the \"Staging\" endpoint appear in the Endpoints tab."
   ]
  },
  {
   "cell_type": "markdown",
   "metadata": {},
   "source": [
    "## 3. Test the Model Inference Endpoint"
   ]
  },
  {
   "cell_type": "markdown",
   "metadata": {},
   "source": [
    "### 3.A. Import Libraries and Create Clients"
   ]
  },
  {
   "cell_type": "code",
   "execution_count": 9,
   "metadata": {},
   "outputs": [
    {
     "name": "stdout",
     "output_type": "stream",
     "text": [
      "/opt/conda/lib/python3.7/site-packages/secretstorage/dhcrypto.py:16: CryptographyDeprecationWarning: int_from_bytes is deprecated, use int.from_bytes instead\n",
      "  from cryptography.utils import int_from_bytes\n",
      "/opt/conda/lib/python3.7/site-packages/secretstorage/util.py:25: CryptographyDeprecationWarning: int_from_bytes is deprecated, use int.from_bytes instead\n",
      "  from cryptography.utils import int_from_bytes\n",
      "Note: you may need to restart the kernel to use updated packages.\n",
      "/opt/conda/lib/python3.7/site-packages/secretstorage/dhcrypto.py:16: CryptographyDeprecationWarning: int_from_bytes is deprecated, use int.from_bytes instead\n",
      "  from cryptography.utils import int_from_bytes\n",
      "/opt/conda/lib/python3.7/site-packages/secretstorage/util.py:25: CryptographyDeprecationWarning: int_from_bytes is deprecated, use int.from_bytes instead\n",
      "  from cryptography.utils import int_from_bytes\n",
      "Note: you may need to restart the kernel to use updated packages.\n"
     ]
    }
   ],
   "source": [
    "# %pip install -r ../requirements.txt -q -q\n",
    "%pip install --disable-pip-version-check setuptools==59.5.0 -q -q\n",
    "%pip install --disable-pip-version-check -U sagemaker jsonlines pyvis -q -q"
   ]
  },
  {
   "cell_type": "code",
   "execution_count": 17,
   "metadata": {},
   "outputs": [
    {
     "name": "stdout",
     "output_type": "stream",
     "text": [
      "Assumed SageMaker role is arn:aws:iam::167428594774:role/service-role/AmazonSageMaker-ExecutionRole-20220126T100392\n",
      "SageMaker project ID is p-k8h7hzoq80hg\n"
     ]
    }
   ],
   "source": [
    "import base64\n",
    "import boto3\n",
    "import jsonlines\n",
    "import os\n",
    "import pandas as pd\n",
    "import sagemaker\n",
    "from sagemaker.lineage.context import Context, EndpointContext\n",
    "from sagemaker.lineage.lineage_trial_component import LineageTrialComponent\n",
    "from sagemaker.lineage.visualizer import LineageTableVisualizer\n",
    "from sagemaker.predictor import Predictor\n",
    "from time import strftime, sleep\n",
    "from visualizer.visualizer import Visualizer\n",
    "\n",
    "boto_session = boto3.session.Session()\n",
    "region = boto_session.region_name\n",
    "sagemaker_session = sagemaker.session.Session(boto_session)\n",
    "sagemaker_execution_role = sagemaker.session.get_execution_role(sagemaker_session)\n",
    "sagemaker_boto_client = boto_session.client(\"sagemaker\")\n",
    "s3_boto_client = boto_session.client(\"s3\")\n",
    "account_id = boto_session.client(\"sts\").get_caller_identity().get(\"Account\")\n",
    "print(f\"Assumed SageMaker role is {sagemaker_execution_role}\")\n",
    "\n",
    "project_name = \"her2-brca-classifier\" #Change this if you named your project something else\n",
    "project_name = \"brca-classification\" #Change this if you named your project something else\n",
    "project_id = sagemaker_boto_client.describe_project(ProjectName=project_name).get('ProjectId')\n",
    "print(f\"SageMaker project ID is {project_id}\")\n",
    "\n",
    "s3_bucket = f\"sagemaker-project-{project_id}\"\n",
    "pipeline_name = model_package_group_name = f\"{project_name}-{project_id}\"\n",
    "staging_endpoint_name=f\"{project_name}-staging\"\n",
    "prod_endpoint_name=f\"{project_name}-prod\""
   ]
  },
  {
   "cell_type": "markdown",
   "metadata": {},
   "source": [
    "### 3.B. Examine Model Training Reports"
   ]
  },
  {
   "cell_type": "code",
   "execution_count": 18,
   "metadata": {},
   "outputs": [
    {
     "name": "stdout",
     "output_type": "stream",
     "text": [
      "Downloading training reports from s3://sagemaker-project-p-k8h7hzoq80hg/pipelines-s7sjppjkseso-TrainHER2Model-oAVf2ME1ES/rule-output\n"
     ]
    }
   ],
   "source": [
    "# Download training reports\n",
    "last_training_job_name = sagemaker_boto_client.list_training_jobs().get(\"TrainingJobSummaries\")[0].get(\"TrainingJobName\")\n",
    "rule_output_path = f\"s3://sagemaker-project-{project_id}/{last_training_job_name}/rule-output\"\n",
    "print(f\"Downloading training reports from {rule_output_path}\")\n",
    "sagemaker.s3.S3Downloader.download(s3_uri=rule_output_path, local_path=\"training_reports/\")"
   ]
  },
  {
   "cell_type": "markdown",
   "metadata": {},
   "source": [
    "-----\n",
    "### 3.C. Invoke the Staging Model Endpoint"
   ]
  },
  {
   "cell_type": "code",
   "execution_count": 23,
   "metadata": {},
   "outputs": [
    {
     "name": "stdout",
     "output_type": "stream",
     "text": [
      "Sending test traffic to the endpoint brca-classification-staging. \n",
      "Please wait...\n",
      "[Actual | predicted] labels for record  17 are [0.0 | 0.004]\n",
      "[Actual | predicted] labels for record  65 are [0.0 | 0.001]\n",
      "[Actual | predicted] labels for record  78 are [0.0 | 0.207]\n",
      "[Actual | predicted] labels for record  94 are [0.0 | 0.021]\n",
      "[Actual | predicted] labels for record  75 are [0.0 | 0.009]\n",
      "[Actual | predicted] labels for record 114 are [0.0 | 0.003]\n",
      "[Actual | predicted] labels for record  27 are [0.0 | 0.026]\n",
      "[Actual | predicted] labels for record  62 are [0.0 | 0.001]\n",
      "[Actual | predicted] labels for record 100 are [0.0 | 0.003]\n",
      "[Actual | predicted] labels for record  84 are [0.0 | 0.003]\n",
      "[Actual | predicted] labels for record  71 are [0.0 | 0.010]\n",
      "[Actual | predicted] labels for record  93 are [0.0 | 0.003]\n",
      "[Actual | predicted] labels for record  23 are [1.0 | 0.986]\n",
      "[Actual | predicted] labels for record 120 are [0.0 | 0.001]\n",
      "[Actual | predicted] labels for record 117 are [0.0 | 0.009]\n",
      "[Actual | predicted] labels for record  72 are [0.0 | 0.046]\n",
      "[Actual | predicted] labels for record  92 are [0.0 | 0.029]\n",
      "[Actual | predicted] labels for record  24 are [0.0 | 0.126]\n",
      "[Actual | predicted] labels for record 113 are [0.0 | 0.013]\n",
      "[Actual | predicted] labels for record  70 are [0.0 | 0.124]\n",
      "[Actual | predicted] labels for record  85 are [0.0 | 0.003]\n",
      "[Actual | predicted] labels for record   8 are [1.0 | 0.993]\n",
      "[Actual | predicted] labels for record  56 are [0.0 | 0.005]\n",
      "[Actual | predicted] labels for record 108 are [0.0 | 0.078]\n",
      "[Actual | predicted] labels for record   4 are [0.0 | 0.009]\n"
     ]
    }
   ],
   "source": [
    "# Create a Predictor object for testing\n",
    "predictor = Predictor(\n",
    "    endpoint_name=staging_endpoint_name,\n",
    "    sagemaker_session=sagemaker_session,\n",
    "    serializer=sagemaker.serializers.CSVSerializer(),\n",
    "    deserializer=sagemaker.deserializers.JSONDeserializer(),\n",
    ")\n",
    "\n",
    "# Load a random sample of 10 records from the validation data\n",
    "test_df = pd.read_csv(\"data/output/test/test.csv\").sample(n=25)\n",
    "\n",
    "# Submit the 10 samples to the inference endpoint and compare the actual and predicted values\n",
    "print(\"Sending test traffic to the endpoint {}. \\nPlease wait...\".format(staging_endpoint_name))\n",
    "\n",
    "for i, row in test_df.iterrows():    \n",
    "    print(f\"[Actual | predicted] labels for record {i:3} are [{row[0]} | {predictor.predict(row.iloc[1:]):.3f}]\")\n",
    "    sleep(0.1)    "
   ]
  },
  {
   "cell_type": "markdown",
   "metadata": {},
   "source": [
    "Wait for the monitoring data to finish processing. This will take about a minute to complete."
   ]
  },
  {
   "cell_type": "code",
   "execution_count": 25,
   "metadata": {},
   "outputs": [
    {
     "name": "stdout",
     "output_type": "stream",
     "text": [
      "Waiting for endpoint monitoring data to populate...\n",
      "Found Capture Files:\n",
      "datacapture-staging/brca-classification-staging/AllTraffic/2022/04/27/20/59-31-021-b47ddd47-be52-47ce-8679-b8703946492b.jsonl\n",
      " datacapture-staging/brca-classification-staging/AllTraffic/2022/04/27/20/59-57-331-02589d90-cf16-47f7-9cd0-b729091e424b.jsonl\n"
     ]
    }
   ],
   "source": [
    "# Watch the S3 bucket we specified above for storing monitoring data\n",
    "endpoint_capture_uri = sagemaker_boto_client.describe_endpoint(EndpointName=staging_endpoint_name).get('DataCaptureConfig').get('DestinationS3Uri')\n",
    "endpoint_capture_bucket = sagemaker.s3.parse_s3_url(endpoint_capture_uri)[0]\n",
    "endpoint_capture_prefix = sagemaker.s3.parse_s3_url(endpoint_capture_uri)[1]\n",
    "result = {}\n",
    "while result.get(\"Contents\") is None:\n",
    "    print(\"Waiting for endpoint monitoring data to populate...\")\n",
    "    result = s3_boto_client.list_objects(\n",
    "        Bucket=endpoint_capture_bucket, \n",
    "        Prefix=endpoint_capture_prefix\n",
    "    )\n",
    "    sleep(10)\n",
    "capture_files = [capture_file.get(\"Key\") for capture_file in result.get(\"Contents\")]\n",
    "print(\"Found Capture Files:\")\n",
    "print(\"\\n \".join(capture_files))"
   ]
  },
  {
   "cell_type": "markdown",
   "metadata": {},
   "source": [
    "Examine the contents of the first data capture file"
   ]
  },
  {
   "cell_type": "code",
   "execution_count": 26,
   "metadata": {},
   "outputs": [
    {
     "name": "stdout",
     "output_type": "stream",
     "text": [
      "Number of runs captured in file: 24\n",
      "First event metadata: {'eventId': '8bc7e4fa-b45d-4a47-a369-7e6eeaea877e', 'inferenceTime': '2022-04-27T20:59:31Z'}\n",
      "First event input: 0.470007530238,-4.49192633632,-0.531035005853,0.404428014046,-0.592278134998,-0.654309910261,-0.425694490831,0.779354342567,0.023400593055,0.680028458837,1.37491071401,-0.543084120172,-1.29535382755,-0.07248715567689999,-0.979302528287,0.252941521654,0.7041523995319999,-3.3786490440900003,-0.5059047678499999,-0.101760452595,-0.404498899727,0.050978821693400005,-0.479071065158,-2.49481390558,0.442446554819,1.07251135388,1.5930061412399998,0.948075965665,1.28373373391,0.0194023800234,-2.54176065548,0.601995575497,-0.126100358954,-0.221068646118,2.1133939602000003,-0.442505922747,-1.9531151073,1.92173272727,1.49256006243,-2.67788274678,5.26076107686,-0.0118447132267,-0.512985946157,0.023835630121,1.7993688021799998,0.158434880999,-1.65111706594,-0.7524733437379999,0.231829504487,-0.7076605696449999,0.51994125634,-2.8828751151,0.3987853843150001,-1.9838947405400005,-0.4718730238,-2.2241039563,0.297391221225,-2.88275104175,0.08669808817789999,-0.8908256106129999,-0.673942067889,0.124096863051,0.939309660554,-0.286882270776,-1.3197591572399998,3.1638519157200005,1.42554387046,1.16658831057,2.7501453296900005,0.907238626609,-0.615837182989,0.315513250098,-0.224003932891,0.191026297308,-0.510595013656,-0.0621042762388,-2.57247507608,-2.69376703082,-2.43561940694,-0.417581701131,-1.77980050722,1.31859954741,-1.93645710496,1.2099527194700002,-1.6516392196599998,-1.15149469372,-0.590873273508,-2.66248039797,-0.548153570035,-0.692995107296,-0.467116660164,-0.197030042918,1.07054131877,-1.7964718767099996,-0.639929652751,-0.496799750293,-1.50707204058,-2.20707593445,0.264110300429,0.31954009364,0.915215996879,0.350549317206,1.34321431916,-2.1467483573900004,1.06596024971,0.0746986188061,1.15080151385,1.87068143582,-0.658756145142,-0.483906765509,2.31832713227,0.913710019508,-0.179771096371,2.80713196254,-0.198751026141,1.9093684120200003,-0.0766903550527,-0.780927545845,-4.18046025751,1.5523033008200002,1.7332277955500002,0.441158166211,5.766328591490001,2.02291357004,2.09438831...\n",
      "First event output: 0.003618627553805709\n"
     ]
    }
   ],
   "source": [
    "# Download the monitoring data from S3\n",
    "sagemaker_session.download_data(\"data\", bucket=endpoint_capture_bucket, key_prefix=capture_files[0])\n",
    "runs = []\n",
    "\n",
    "# Open the jsonlines file and summarize the contents\n",
    "with jsonlines.open(f\"data/{os.path.basename(capture_files[0])}\") as reader:\n",
    "    [runs.append(obj) for obj in reader]\n",
    "\n",
    "print(f\"Number of runs captured in file: {len(runs)}\")\n",
    "print(f\"First event metadata: {runs[0]['eventMetadata']}\")\n",
    "\n",
    "first_request = runs[0]['captureData']['endpointInput']['data']\n",
    "decoded_first_request = base64.b64decode(first_request).decode('ascii')\n",
    "print(f\"First event input: {decoded_first_request[:2000]}...\")\n",
    "\n",
    "first_response = runs[0]['captureData']['endpointOutput']['data']\n",
    "decoded_first_response = base64.b64decode(first_response).decode('ascii')\n",
    "\n",
    "print(f\"First event output: {decoded_first_response}\")"
   ]
  },
  {
   "cell_type": "markdown",
   "metadata": {},
   "source": [
    "Resubmit the data from the first prediction"
   ]
  },
  {
   "cell_type": "code",
   "execution_count": 27,
   "metadata": {},
   "outputs": [
    {
     "data": {
      "text/plain": [
       "0.003618627553805709"
      ]
     },
     "execution_count": 27,
     "metadata": {},
     "output_type": "execute_result"
    }
   ],
   "source": [
    "predictor.predict(decoded_first_request)"
   ]
  },
  {
   "cell_type": "markdown",
   "metadata": {},
   "source": [
    "-----\n",
    "## 4. Explore the Model Lineage\n",
    "\n",
    "Effective model governance requires a detailed understanding of the data and data transformations used in the modeling process, in addition to nearly continuous tracking of all model development iterations. It is important to keep track of which dataset was used, what transformations were applied to the data, where the dataset was stored, and what type of model was built. This metadata that tracks the relationships between various entities in your ML workflows is called the \"lineage\".\n",
    "\n",
    "In this section, we'll explore the model artifacts and events that Amazon SageMaker ML Lineage Tracking creates for us automatically. We'll also see how to expand the lineage by manually adding additional artifacts."
   ]
  },
  {
   "cell_type": "markdown",
   "metadata": {},
   "source": [
    "### 4.A. Visualize Lineage Entities as a Table"
   ]
  },
  {
   "cell_type": "markdown",
   "metadata": {},
   "source": [
    "Amazon SageMaker automatically creates tracking entities for SageMaker jobs, models, model packages, and endpoints if the data is available."
   ]
  },
  {
   "cell_type": "code",
   "execution_count": 28,
   "metadata": {},
   "outputs": [
    {
     "name": "stdout",
     "output_type": "stream",
     "text": [
      "PreprocessHER2Data\n"
     ]
    },
    {
     "data": {
      "text/html": [
       "<div>\n",
       "<style scoped>\n",
       "    .dataframe tbody tr th:only-of-type {\n",
       "        vertical-align: middle;\n",
       "    }\n",
       "\n",
       "    .dataframe tbody tr th {\n",
       "        vertical-align: top;\n",
       "    }\n",
       "\n",
       "    .dataframe thead th {\n",
       "        text-align: right;\n",
       "    }\n",
       "</style>\n",
       "<table border=\"1\" class=\"dataframe\">\n",
       "  <thead>\n",
       "    <tr style=\"text-align: right;\">\n",
       "      <th></th>\n",
       "      <th>Name/Source</th>\n",
       "      <th>Direction</th>\n",
       "      <th>Type</th>\n",
       "      <th>Association Type</th>\n",
       "      <th>Lineage Type</th>\n",
       "    </tr>\n",
       "  </thead>\n",
       "  <tbody>\n",
       "    <tr>\n",
       "      <th>0</th>\n",
       "      <td>s3://...8811b0b83bbf1af/input/code/preprocess.py</td>\n",
       "      <td>Input</td>\n",
       "      <td>DataSet</td>\n",
       "      <td>ContributedTo</td>\n",
       "      <td>artifact</td>\n",
       "    </tr>\n",
       "    <tr>\n",
       "      <th>1</th>\n",
       "      <td>25775...om/sagemaker-scikit-learn:0.23-1-cpu-py3</td>\n",
       "      <td>Input</td>\n",
       "      <td>Image</td>\n",
       "      <td>ContributedTo</td>\n",
       "      <td>artifact</td>\n",
       "    </tr>\n",
       "    <tr>\n",
       "      <th>2</th>\n",
       "      <td>s3://...1aa62c930b0568811b0b83bbf1af/output/test</td>\n",
       "      <td>Output</td>\n",
       "      <td>DataSet</td>\n",
       "      <td>Produced</td>\n",
       "      <td>artifact</td>\n",
       "    </tr>\n",
       "    <tr>\n",
       "      <th>3</th>\n",
       "      <td>s3://...930b0568811b0b83bbf1af/output/validation</td>\n",
       "      <td>Output</td>\n",
       "      <td>DataSet</td>\n",
       "      <td>Produced</td>\n",
       "      <td>artifact</td>\n",
       "    </tr>\n",
       "    <tr>\n",
       "      <th>4</th>\n",
       "      <td>s3://...aa62c930b0568811b0b83bbf1af/output/train</td>\n",
       "      <td>Output</td>\n",
       "      <td>DataSet</td>\n",
       "      <td>Produced</td>\n",
       "      <td>artifact</td>\n",
       "    </tr>\n",
       "  </tbody>\n",
       "</table>\n",
       "</div>"
      ],
      "text/plain": [
       "                                        Name/Source Direction     Type  \\\n",
       "0  s3://...8811b0b83bbf1af/input/code/preprocess.py     Input  DataSet   \n",
       "1  25775...om/sagemaker-scikit-learn:0.23-1-cpu-py3     Input    Image   \n",
       "2  s3://...1aa62c930b0568811b0b83bbf1af/output/test    Output  DataSet   \n",
       "3  s3://...930b0568811b0b83bbf1af/output/validation    Output  DataSet   \n",
       "4  s3://...aa62c930b0568811b0b83bbf1af/output/train    Output  DataSet   \n",
       "\n",
       "  Association Type Lineage Type  \n",
       "0    ContributedTo     artifact  \n",
       "1    ContributedTo     artifact  \n",
       "2         Produced     artifact  \n",
       "3         Produced     artifact  \n",
       "4         Produced     artifact  "
      ]
     },
     "metadata": {},
     "output_type": "display_data"
    },
    {
     "name": "stdout",
     "output_type": "stream",
     "text": [
      "TrainHER2Model\n"
     ]
    },
    {
     "data": {
      "text/html": [
       "<div>\n",
       "<style scoped>\n",
       "    .dataframe tbody tr th:only-of-type {\n",
       "        vertical-align: middle;\n",
       "    }\n",
       "\n",
       "    .dataframe tbody tr th {\n",
       "        vertical-align: top;\n",
       "    }\n",
       "\n",
       "    .dataframe thead th {\n",
       "        text-align: right;\n",
       "    }\n",
       "</style>\n",
       "<table border=\"1\" class=\"dataframe\">\n",
       "  <thead>\n",
       "    <tr style=\"text-align: right;\">\n",
       "      <th></th>\n",
       "      <th>Name/Source</th>\n",
       "      <th>Direction</th>\n",
       "      <th>Type</th>\n",
       "      <th>Association Type</th>\n",
       "      <th>Lineage Type</th>\n",
       "    </tr>\n",
       "  </thead>\n",
       "  <tbody>\n",
       "    <tr>\n",
       "      <th>0</th>\n",
       "      <td>s3://...930b0568811b0b83bbf1af/output/validation</td>\n",
       "      <td>Input</td>\n",
       "      <td>DataSet</td>\n",
       "      <td>ContributedTo</td>\n",
       "      <td>artifact</td>\n",
       "    </tr>\n",
       "    <tr>\n",
       "      <th>1</th>\n",
       "      <td>s3://...aa62c930b0568811b0b83bbf1af/output/train</td>\n",
       "      <td>Input</td>\n",
       "      <td>DataSet</td>\n",
       "      <td>ContributedTo</td>\n",
       "      <td>artifact</td>\n",
       "    </tr>\n",
       "    <tr>\n",
       "      <th>2</th>\n",
       "      <td>25775...-2.amazonaws.com/sagemaker-xgboost:1.2-1</td>\n",
       "      <td>Input</td>\n",
       "      <td>Image</td>\n",
       "      <td>ContributedTo</td>\n",
       "      <td>artifact</td>\n",
       "    </tr>\n",
       "    <tr>\n",
       "      <th>3</th>\n",
       "      <td>s3://...HER2Model-oAVf2ME1ES/output/model.tar.gz</td>\n",
       "      <td>Output</td>\n",
       "      <td>Model</td>\n",
       "      <td>Produced</td>\n",
       "      <td>artifact</td>\n",
       "    </tr>\n",
       "  </tbody>\n",
       "</table>\n",
       "</div>"
      ],
      "text/plain": [
       "                                        Name/Source Direction     Type  \\\n",
       "0  s3://...930b0568811b0b83bbf1af/output/validation     Input  DataSet   \n",
       "1  s3://...aa62c930b0568811b0b83bbf1af/output/train     Input  DataSet   \n",
       "2  25775...-2.amazonaws.com/sagemaker-xgboost:1.2-1     Input    Image   \n",
       "3  s3://...HER2Model-oAVf2ME1ES/output/model.tar.gz    Output    Model   \n",
       "\n",
       "  Association Type Lineage Type  \n",
       "0    ContributedTo     artifact  \n",
       "1    ContributedTo     artifact  \n",
       "2    ContributedTo     artifact  \n",
       "3         Produced     artifact  "
      ]
     },
     "metadata": {},
     "output_type": "display_data"
    },
    {
     "name": "stdout",
     "output_type": "stream",
     "text": [
      "EvaluateHER2Model\n"
     ]
    },
    {
     "data": {
      "text/html": [
       "<div>\n",
       "<style scoped>\n",
       "    .dataframe tbody tr th:only-of-type {\n",
       "        vertical-align: middle;\n",
       "    }\n",
       "\n",
       "    .dataframe tbody tr th {\n",
       "        vertical-align: top;\n",
       "    }\n",
       "\n",
       "    .dataframe thead th {\n",
       "        text-align: right;\n",
       "    }\n",
       "</style>\n",
       "<table border=\"1\" class=\"dataframe\">\n",
       "  <thead>\n",
       "    <tr style=\"text-align: right;\">\n",
       "      <th></th>\n",
       "      <th>Name/Source</th>\n",
       "      <th>Direction</th>\n",
       "      <th>Type</th>\n",
       "      <th>Association Type</th>\n",
       "      <th>Lineage Type</th>\n",
       "    </tr>\n",
       "  </thead>\n",
       "  <tbody>\n",
       "    <tr>\n",
       "      <th>0</th>\n",
       "      <td>s3://...eb0c265f465a8ce8b/input/code/evaluate.py</td>\n",
       "      <td>Input</td>\n",
       "      <td>DataSet</td>\n",
       "      <td>ContributedTo</td>\n",
       "      <td>artifact</td>\n",
       "    </tr>\n",
       "    <tr>\n",
       "      <th>1</th>\n",
       "      <td>s3://...1aa62c930b0568811b0b83bbf1af/output/test</td>\n",
       "      <td>Input</td>\n",
       "      <td>DataSet</td>\n",
       "      <td>ContributedTo</td>\n",
       "      <td>artifact</td>\n",
       "    </tr>\n",
       "    <tr>\n",
       "      <th>2</th>\n",
       "      <td>s3://...HER2Model-oAVf2ME1ES/output/model.tar.gz</td>\n",
       "      <td>Input</td>\n",
       "      <td>Model</td>\n",
       "      <td>ContributedTo</td>\n",
       "      <td>artifact</td>\n",
       "    </tr>\n",
       "    <tr>\n",
       "      <th>3</th>\n",
       "      <td>25775...-2.amazonaws.com/sagemaker-xgboost:1.2-1</td>\n",
       "      <td>Input</td>\n",
       "      <td>Image</td>\n",
       "      <td>ContributedTo</td>\n",
       "      <td>artifact</td>\n",
       "    </tr>\n",
       "    <tr>\n",
       "      <th>4</th>\n",
       "      <td>s3://...c8346eb0c265f465a8ce8b/output/evaluation</td>\n",
       "      <td>Output</td>\n",
       "      <td>DataSet</td>\n",
       "      <td>Produced</td>\n",
       "      <td>artifact</td>\n",
       "    </tr>\n",
       "  </tbody>\n",
       "</table>\n",
       "</div>"
      ],
      "text/plain": [
       "                                        Name/Source Direction     Type  \\\n",
       "0  s3://...eb0c265f465a8ce8b/input/code/evaluate.py     Input  DataSet   \n",
       "1  s3://...1aa62c930b0568811b0b83bbf1af/output/test     Input  DataSet   \n",
       "2  s3://...HER2Model-oAVf2ME1ES/output/model.tar.gz     Input    Model   \n",
       "3  25775...-2.amazonaws.com/sagemaker-xgboost:1.2-1     Input    Image   \n",
       "4  s3://...c8346eb0c265f465a8ce8b/output/evaluation    Output  DataSet   \n",
       "\n",
       "  Association Type Lineage Type  \n",
       "0    ContributedTo     artifact  \n",
       "1    ContributedTo     artifact  \n",
       "2    ContributedTo     artifact  \n",
       "3    ContributedTo     artifact  \n",
       "4         Produced     artifact  "
      ]
     },
     "metadata": {},
     "output_type": "display_data"
    },
    {
     "name": "stdout",
     "output_type": "stream",
     "text": [
      "CheckHER2Evaluation\n"
     ]
    },
    {
     "data": {
      "text/plain": [
       "None"
      ]
     },
     "metadata": {},
     "output_type": "display_data"
    },
    {
     "name": "stdout",
     "output_type": "stream",
     "text": [
      "RegisterHER2Model\n"
     ]
    },
    {
     "data": {
      "text/html": [
       "<div>\n",
       "<style scoped>\n",
       "    .dataframe tbody tr th:only-of-type {\n",
       "        vertical-align: middle;\n",
       "    }\n",
       "\n",
       "    .dataframe tbody tr th {\n",
       "        vertical-align: top;\n",
       "    }\n",
       "\n",
       "    .dataframe thead th {\n",
       "        text-align: right;\n",
       "    }\n",
       "</style>\n",
       "<table border=\"1\" class=\"dataframe\">\n",
       "  <thead>\n",
       "    <tr style=\"text-align: right;\">\n",
       "      <th></th>\n",
       "      <th>Name/Source</th>\n",
       "      <th>Direction</th>\n",
       "      <th>Type</th>\n",
       "      <th>Association Type</th>\n",
       "      <th>Lineage Type</th>\n",
       "    </tr>\n",
       "  </thead>\n",
       "  <tbody>\n",
       "    <tr>\n",
       "      <th>0</th>\n",
       "      <td>brca-classification-p-k8h7hzoq80hg-2-Approved-...</td>\n",
       "      <td>Input</td>\n",
       "      <td>Approval</td>\n",
       "      <td>ContributedTo</td>\n",
       "      <td>action</td>\n",
       "    </tr>\n",
       "    <tr>\n",
       "      <th>1</th>\n",
       "      <td>s3://...HER2Model-oAVf2ME1ES/output/model.tar.gz</td>\n",
       "      <td>Input</td>\n",
       "      <td>Model</td>\n",
       "      <td>ContributedTo</td>\n",
       "      <td>artifact</td>\n",
       "    </tr>\n",
       "    <tr>\n",
       "      <th>2</th>\n",
       "      <td>25775...-2.amazonaws.com/sagemaker-xgboost:1.2-1</td>\n",
       "      <td>Input</td>\n",
       "      <td>Image</td>\n",
       "      <td>ContributedTo</td>\n",
       "      <td>artifact</td>\n",
       "    </tr>\n",
       "    <tr>\n",
       "      <th>3</th>\n",
       "      <td>brca-classification-p-k8h7hzoq80hg-2-PendingMa...</td>\n",
       "      <td>Input</td>\n",
       "      <td>Approval</td>\n",
       "      <td>ContributedTo</td>\n",
       "      <td>action</td>\n",
       "    </tr>\n",
       "    <tr>\n",
       "      <th>4</th>\n",
       "      <td>brca-classification-staging-1651092533-1-aws-e...</td>\n",
       "      <td>Output</td>\n",
       "      <td>ModelDeployment</td>\n",
       "      <td>ContributedTo</td>\n",
       "      <td>action</td>\n",
       "    </tr>\n",
       "    <tr>\n",
       "      <th>5</th>\n",
       "      <td>brca-classification-p-k8h7hzoq80hg-1651085910-...</td>\n",
       "      <td>Output</td>\n",
       "      <td>ModelGroup</td>\n",
       "      <td>AssociatedWith</td>\n",
       "      <td>context</td>\n",
       "    </tr>\n",
       "  </tbody>\n",
       "</table>\n",
       "</div>"
      ],
      "text/plain": [
       "                                         Name/Source Direction  \\\n",
       "0  brca-classification-p-k8h7hzoq80hg-2-Approved-...     Input   \n",
       "1   s3://...HER2Model-oAVf2ME1ES/output/model.tar.gz     Input   \n",
       "2   25775...-2.amazonaws.com/sagemaker-xgboost:1.2-1     Input   \n",
       "3  brca-classification-p-k8h7hzoq80hg-2-PendingMa...     Input   \n",
       "4  brca-classification-staging-1651092533-1-aws-e...    Output   \n",
       "5  brca-classification-p-k8h7hzoq80hg-1651085910-...    Output   \n",
       "\n",
       "              Type Association Type Lineage Type  \n",
       "0         Approval    ContributedTo       action  \n",
       "1            Model    ContributedTo     artifact  \n",
       "2            Image    ContributedTo     artifact  \n",
       "3         Approval    ContributedTo       action  \n",
       "4  ModelDeployment    ContributedTo       action  \n",
       "5       ModelGroup   AssociatedWith      context  "
      ]
     },
     "metadata": {},
     "output_type": "display_data"
    }
   ],
   "source": [
    "from sagemaker.workflow import pipeline\n",
    "pipeline_execution_arn = sagemaker_boto_client.list_pipeline_executions(\n",
    "    PipelineName=pipeline_name\n",
    "    ).get('PipelineExecutionSummaries')[0].get('PipelineExecutionArn')\n",
    "\n",
    "execution = sagemaker.workflow.pipeline._PipelineExecution(arn=pipeline_execution_arn)\n",
    "table_viz = LineageTableVisualizer(sagemaker_session=sagemaker_session)\n",
    "for execution_step in reversed(execution.list_steps()):\n",
    "    print(execution_step.get('StepName'))\n",
    "    display(table_viz.show(pipeline_execution_step=execution_step))\n",
    "    sleep(1)"
   ]
  },
  {
   "cell_type": "markdown",
   "metadata": {},
   "source": [
    "### 4.B. Visualize Lineage Entities as a Graph"
   ]
  },
  {
   "cell_type": "markdown",
   "metadata": {},
   "source": [
    "We can also visualize the ML lineage as a graph."
   ]
  },
  {
   "cell_type": "code",
   "execution_count": 30,
   "metadata": {},
   "outputs": [
    {
     "name": "stdout",
     "output_type": "stream",
     "text": [
      "Endpoint Name: brca-classification-staging\n",
      "Querying lineage for context brca-classification-staging-1651092533-aws-endpoint\n"
     ]
    },
    {
     "data": {
      "text/html": [
       "\n",
       "        <iframe\n",
       "            width=\"100%\"\n",
       "            height=\"800px\"\n",
       "            src=\"generated/Endpoint.html\"\n",
       "            frameborder=\"0\"\n",
       "            allowfullscreen\n",
       "            \n",
       "        ></iframe>\n",
       "        "
      ],
      "text/plain": [
       "<IPython.lib.display.IFrame at 0x7ff7e116d610>"
      ]
     },
     "execution_count": 30,
     "metadata": {},
     "output_type": "execute_result"
    }
   ],
   "source": [
    "endpoint_info = sagemaker_boto_client.describe_endpoint(EndpointName=staging_endpoint_name)\n",
    "endpoint_arn = endpoint_info[\"EndpointArn\"]\n",
    "print(f\"Endpoint Name: {endpoint_info['EndpointName']}\")\n",
    "\n",
    "# Get the endpoint context for querying the lineage graph\n",
    "contexts = Context.list(source_uri=endpoint_arn, sagemaker_session=sagemaker_session)\n",
    "context_name = list(contexts)[0].context_name\n",
    "\n",
    "viz = Visualizer()\n",
    "print(\"Querying lineage for context\", context_name)\n",
    "endpoint_context = EndpointContext.load(\n",
    "    context_name=context_name, sagemaker_session=sagemaker_session\n",
    ")\n",
    "query_response = sagemaker_boto_client.query_lineage(\n",
    "    StartArns=[endpoint_context.context_arn],\n",
    "    Direction=\"Ascendants\",\n",
    "    IncludeEdges=True,\n",
    ")\n",
    "viz.render(query_response, \"Endpoint\", sagemaker_session=sagemaker_session)"
   ]
  },
  {
   "cell_type": "markdown",
   "metadata": {},
   "source": [
    "## 5. (Optional) Deploy to Production\n",
    "1. In the AWS Console, search for and select **CodePipeline**.\n",
    "\n",
    "![Search for CodePipeline](img/code-pipeline.png)\n",
    "\n",
    "2. Navigate to **Pipeline > Pipelines** and select the model deploy pipeline already in progress.\n",
    "\n",
    "![Find Prod Deploy Pipeline](img/find-prod-deploy.png)\n",
    "\n",
    "3. Scroll down to the **DeployStaging** stage and select Review.\n",
    "\n",
    "![Select Review](img/deploy-stage.png)\n",
    "\n",
    "4. Select **Approve** in the Review view.\n",
    "\n",
    "![Approve Prod Deployment](img/approve-prod.png)\n",
    "\n",
    "5. Navigate back to the SageMaker Project view. After several minutes, a second \"prod\" endpoint will appear.\n",
    "\n",
    "![Second Endpoint](img/second-endpoint.png)\n"
   ]
  },
  {
   "cell_type": "markdown",
   "metadata": {},
   "source": [
    "## 6. Clean Up"
   ]
  },
  {
   "cell_type": "code",
   "execution_count": 33,
   "metadata": {},
   "outputs": [],
   "source": [
    "if False: # Switch this to True and run the cell to delete resources\n",
    "    # Delete model registry records\n",
    "    for package in sagemaker_boto_client.list_model_packages(ModelPackageGroupName=model_package_group_name).get(\"ModelPackageSummaryList\"):\n",
    "        print(package)\n",
    "        sagemaker_boto_client.delete_model_package(ModelPackageName=package.get(\"ModelPackageArn\"))\n",
    "    sagemaker_boto_client.delete_model_package_group(ModelPackageGroupName=model_package_group_name)\n",
    "\n",
    "    # Delete endpoint\n",
    "    predictor.delete_endpoint()\n",
    "\n",
    "    # Delete pipeline\n",
    "    sagemaker_boto_client.delete_pipeline(PipelineName=pipeline_name)\n",
    "\n",
    "    # Delete all S3 objects\n",
    "    bucket = boto_session.resource(\"s3\").Bucket(s3_bucket)\n",
    "    bucket.objects.filter().delete()\n",
    "    bucket.delete()\n",
    "    \n",
    "    # Delete Project\n",
    "    sagemaker_boto_client.delete_project(ProjectName=project_name)\n",
    "    \n",
    "    # Delete deployment infrastructure\n",
    "    cfn = boto3.client('cloudformation')\n",
    "    cfn.delete_stack(StackName=f\"sagemaker-{project_name}-{project_id}-deploy-staging\")\n",
    "    cfn.delete_stack(StackName=f\"sagemaker-{project_name}-{project_id}-deploy-prod\")    \n",
    "    \n",
    "    # Delete local  objects\n",
    "    os.system(f\"rm -rf ~/{project_name}-{project_id}\")\n",
    "    os.system(\"rm -rf data models generated training_reports\")"
   ]
  },
  {
   "cell_type": "code",
   "execution_count": null,
   "metadata": {},
   "outputs": [],
   "source": []
  }
 ],
 "metadata": {
  "instance_type": "ml.t3.medium",
  "interpreter": {
   "hash": "fcd20795596b30c7734a8efd08df92d501ca130112f67abeee93ccff645bf25b"
  },
  "kernelspec": {
   "display_name": "Python 3 (Data Science)",
   "language": "python",
   "name": "python3__SAGEMAKER_INTERNAL__arn:aws:sagemaker:us-east-2:429704687514:image/datascience-1.0"
  },
  "language_info": {
   "codemirror_mode": {
    "name": "ipython",
    "version": 3
   },
   "file_extension": ".py",
   "mimetype": "text/x-python",
   "name": "python",
   "nbconvert_exporter": "python",
   "pygments_lexer": "ipython3",
   "version": "3.7.10"
  }
 },
 "nbformat": 4,
 "nbformat_minor": 4
}
