{
 "cells": [
  {
   "cell_type": "markdown",
   "id": "3719c35c",
   "metadata": {},
   "source": [
    "# III. Building Scalable Drug Discovery Applications: ML-Guided Directed Evolution\n",
    "\n",
    "Note: This notebook was last tested on and Amazon SageMaker Studio JupyterLab space on a ml.g4dn.xlarge instance.\n",
    "\n",
    "In notebook two, we used directed evolution to generate successive rounds of candidates with ever-improving properties. However, we still had to do a lot of filtering after the fact. Wouldn't it be great if we could take the predicted properties into account during the generation step itself?\n",
    "\n",
    "[EvoProtGrad](https://github.com/NREL/EvoProtGrad) is a framework developed by the National Renewable Energy Laboratory that uses multiple ML models in a \"plug and play\" fashion to intelligently guide directed evolution campaigns. In this notebook, we'll explore how to use it in our design effort."
   ]
  },
  {
   "cell_type": "code",
   "execution_count": null,
   "id": "1c4a51a7-afad-48e0-8f99-0597b2ed4302",
   "metadata": {},
   "outputs": [],
   "source": [
    "%pip install EvoProtGrad/"
   ]
  },
  {
   "cell_type": "code",
   "execution_count": null,
   "id": "9b6fe8c4-5e88-44fc-9bde-8c5f04895301",
   "metadata": {},
   "outputs": [],
   "source": [
    "import helpers\n",
    "import pandas as pd\n",
    "import warnings\n",
    "import evo_prot_grad\n",
    "from transformers import AutoModelForSequenceClassification, AutoTokenizer, AutoModel\n",
    "\n",
    "warnings.simplefilter(action=\"ignore\", category=FutureWarning)\n",
    "\n",
    "SEQ_GENERATION_SIZE = 1000\n",
    "LAB_SUBMISSION_SIZE = 1000\n",
    "\n",
    "caplacizumab_seq = \"EVQLVESGGGLVQPGGSLRLSCAASGRTFSYNPMGWFRQAPGKGRELVAAISRTGGSTYYPDSVEGRFTISRDNAKRMVYLQMNSLRAEDTAVYYCAAAGVRAEDGRVRTLPSEYTFWGQGTQVTVSS\"\n",
    "cdrs = list(range(25, 32)) + list(range(51, 57)) + list(range(98, 117))\n",
    "preserved_regions = [(0, 25), (32, 51), (57, 98), (117, 128)]"
   ]
  },
  {
   "cell_type": "code",
   "execution_count": null,
   "id": "b4854bce-056c-42e9-9a2a-d6dd3f3befe5",
   "metadata": {
    "scrolled": true
   },
   "outputs": [],
   "source": [
    "amplify_expert = evo_prot_grad.get_expert(\n",
    "    \"amplify\", \"mutant_marginal\", temperature=1.0, device=\"cuda:0\"\n",
    ")\n",
    "\n",
    "regression_expert = evo_prot_grad.get_expert(\n",
    "    \"esm_downstream_regression\",\n",
    "    \"attribute_value\",\n",
    "    temperature=1.0,\n",
    "    model=AutoModelForSequenceClassification.from_pretrained(\n",
    "        \"output\", trust_remote_code=True\n",
    "    ),\n",
    "    tokenizer=AutoTokenizer.from_pretrained(\"output\", trust_remote_code=True),\n",
    "    device=\"cuda\",\n",
    ")\n",
    "\n",
    "variants, scores = evo_prot_grad.DirectedEvolution(\n",
    "    wt_protein=caplacizumab_seq,\n",
    "    output=\"all\",\n",
    "    experts=[amplify_expert, regression_expert],\n",
    "    parallel_chains=4,\n",
    "    n_steps=20,\n",
    "    max_mutations=15,\n",
    "    verbose=True,\n",
    "    preserved_regions=preserved_regions,\n",
    ")()"
   ]
  },
  {
   "cell_type": "code",
   "execution_count": null,
   "id": "cae64f6b-19f8-4e86-91d4-851b30b4dfa3",
   "metadata": {},
   "outputs": [],
   "source": [
    "generated_seqs = pd.DataFrame.from_dict(\n",
    "    {\n",
    "        \"seq\": [x.replace(\" \", \"\") for xs in variants for x in xs],\n",
    "        \"scores\": scores.flatten(),\n",
    "    }\n",
    ").sort_values(by=\"scores\", ascending=False)"
   ]
  },
  {
   "cell_type": "code",
   "execution_count": null,
   "id": "349e3813-f28c-4e9d-bbb5-4c40d50fd603",
   "metadata": {},
   "outputs": [],
   "source": [
    "lab_results = helpers.submit_seqs_to_lab(generated_seqs[\"seq\"], delay=0)\n",
    "\n",
    "for result in lab_results.itertuples():\n",
    "    generated_seqs.loc[[result.Index], [\"lab_result\"]] = result.result\n",
    "\n",
    "display(lab_results.sort_values(by=\"result\", ascending=False))"
   ]
  }
 ],
 "metadata": {
  "kernelspec": {
   "display_name": "Python 3 (ipykernel)",
   "language": "python",
   "name": "python3"
  },
  "language_info": {
   "codemirror_mode": {
    "name": "ipython",
    "version": 3
   },
   "file_extension": ".py",
   "mimetype": "text/x-python",
   "name": "python",
   "nbconvert_exporter": "python",
   "pygments_lexer": "ipython3",
   "version": "3.11.10"
  }
 },
 "nbformat": 4,
 "nbformat_minor": 5
}
